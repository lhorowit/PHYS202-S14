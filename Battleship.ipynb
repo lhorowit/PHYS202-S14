{
 "metadata": {
  "name": "",
  "signature": "sha256:9bd0ea65e6241d251c34a4c5f2d6ad673d715dbcc19fdb6827425e6cd80881a1"
 },
 "nbformat": 3,
 "nbformat_minor": 0,
 "worksheets": [
  {
   "cells": [
    {
     "cell_type": "heading",
     "level": 1,
     "metadata": {},
     "source": [
      "Battleship... with Blocks"
     ]
    },
    {
     "cell_type": "markdown",
     "metadata": {},
     "source": [
      "Welcome to Battleship. Run the code below to begin. Please use positive integers for all inputs.\n",
      "\n",
      "\n",
      "Possible Outcomes: 3 distint hits and you win. Run out of turns and you lose.\n",
      "\n",
      "\n",
      "Make sure you give yourself enough turns ;)"
     ]
    },
    {
     "cell_type": "code",
     "collapsed": false,
     "input": [
      "from random import randint\n",
      "from ipythonblocks import BlockGrid\n",
      "from ipythonblocks import colors\n",
      "grid = BlockGrid(7, 7, fill=(173, 216, 230))    # The Game Board\n",
      "\n",
      "\n",
      "def random_row(grid):                  # The row that the ship will reside in. All ships \n",
      "    return randint(1, grid.height-1)   # will be along a distint row\n",
      "\n",
      "def random_col(grid):                  # The column that the ship will start on. It will extend \n",
      "    return randint(1, grid.width-4)    # to the right for a total of 3 blocks length\n",
      "\n",
      "ship_row = random_row(grid)-1 \n",
      "ship_col = random_col(grid)-1\n",
      "\n",
      "\n",
      "number_of_turns = int(raw_input(\"How many turns do you want? Please input an integer. number_of_turns = \"))   \n",
      "                                    # Asks user how many turns they would like to have\n",
      "rng = range(number_of_turns+1)\n",
      "\n",
      "\n",
      "print \"Let's play Battleship!\"\n",
      "\n",
      "\n",
      "grid.show() \n",
      "number_of_hits = 0         # When this = 3, User wins\n",
      "turn = 0  \n",
      "turns_left = number_of_turns\n",
      "while turn <= number_of_turns:     # Limits game by number of turns\n",
      "    \n",
      "        guess_row = int(raw_input(\"Guess Row (1-7):\"))-1     # User imputs\n",
      "        guess_col = int(raw_input(\"Guess Col (1-7):\"))-1\n",
      "        \n",
      "        \n",
      "            \n",
      "        if turns_left == 0:                     # Loss message and ship reveal\n",
      "            print \"You Lose.\"\n",
      "            ship = grid[ship_row, ship_col:ship_col+3]\n",
      "            for block in ship:\n",
      "                block.set_colors(165, 42, 42) \n",
      "            grid.show()    \n",
      "            break\n",
      "            \n",
      "        if (guess_row < 0 or guess_row > grid.height) or (guess_col < 0 or guess_col > grid.width):\n",
      "                print \"Oops, that's not even in the ocean.\"\n",
      "                turn = turn + 1                  # ^^^ Checks if  guess is on the board\n",
      "                turns_left = turns_left - 1\n",
      "                print \"Turns left\", turns_left   # shows # of turns left\n",
      "                grid.show()    \n",
      "    \n",
      "        elif grid[guess_row, guess_col].rgb == (255, 0, 0):\n",
      "            print \"You already hit this spot...\" # Checks if ship was already hit here\n",
      "            turn = turn + 1\n",
      "            turns_left = turns_left - 1   # Counts down the number of turns\n",
      "            print \"Turns left\", turns_left\n",
      "        \n",
      "        elif (guess_row == ship_row) and (guess_col in range(ship_col,ship_col+3)):\n",
      "            print \"Congratulations! You hit my battleship!\"   # ^^^ Checks for a hit\n",
      "            grid[guess_row, guess_col] = (255, 0, 0)   # Hits set to red\n",
      "            turn = turn + 1\n",
      "            turns_left = turns_left - 1\n",
      "            number_of_hits = number_of_hits + 1\n",
      "            print \"Turns left\", turns_left \n",
      "            grid.show()\n",
      "            \n",
      "        if number_of_hits == 3:          # Win message\n",
      "            print \"Congratulations! You sunk my battleship!\"\n",
      "            break        \n",
      "       \n",
      "        \n",
      "        else:\n",
      "            if (guess_row < 0 or guess_row > grid.height) or (guess_col < 0 or guess_col > grid.width):\n",
      "                print \"\"     # Checks if guess was on the game board\n",
      "            \n",
      "            elif (grid[guess_row, guess_col].rgb == (0, 0, 0)):\n",
      "                print \"You guessed that one already.\"\n",
      "                turn = turn + 1      #^^^ Checks if incorrect guess was entered again\n",
      "                turns_left = turns_left - 1\n",
      "                print \"Turns left\", turns_left\n",
      "                grid.show()\n",
      "                \n",
      "            elif (guess_row != ship_row) or (guess_col not in range(ship_col,ship_col+3)):\n",
      "                print \"You missed my battleship!\"     # Anything else is a miss\n",
      "                grid[guess_row, guess_col] = (0,0,0)  # Misses set to black   \n",
      "                turn = turn + 1            \n",
      "                turns_left = turns_left - 1\n",
      "                print \"Turns left\", turns_left\n",
      "                grid.show()\n",
      "            "
     ],
     "language": "python",
     "metadata": {},
     "outputs": [
      {
       "name": "stdout",
       "output_type": "stream",
       "stream": "stdout",
       "text": [
        "How many turns do you want? Please input an integer. number_of_turns = 5\n"
       ]
      },
      {
       "output_type": "stream",
       "stream": "stdout",
       "text": [
        "Let's play Battleship!\n"
       ]
      },
      {
       "html": [
        "<style type=\"text/css\">table.blockgrid {border: none;} .blockgrid tr {border: none;} .blockgrid td {padding: 0px;} #blocks8ee68f1a-ad1d-4a96-b15c-52ce99965cbb td {border: 1px solid white;}</style><table id=\"blocks8ee68f1a-ad1d-4a96-b15c-52ce99965cbb\" class=\"blockgrid\"><tbody><tr><td title=\"Index: [0, 0]&#10;Color: (173, 216, 230)\" style=\"width: 20px; height: 20px;background-color: rgb(173, 216, 230);\"></td><td title=\"Index: [0, 1]&#10;Color: (173, 216, 230)\" style=\"width: 20px; height: 20px;background-color: rgb(173, 216, 230);\"></td><td title=\"Index: [0, 2]&#10;Color: (173, 216, 230)\" style=\"width: 20px; height: 20px;background-color: rgb(173, 216, 230);\"></td><td title=\"Index: [0, 3]&#10;Color: (173, 216, 230)\" style=\"width: 20px; height: 20px;background-color: rgb(173, 216, 230);\"></td><td title=\"Index: [0, 4]&#10;Color: (173, 216, 230)\" style=\"width: 20px; height: 20px;background-color: rgb(173, 216, 230);\"></td><td title=\"Index: [0, 5]&#10;Color: (173, 216, 230)\" style=\"width: 20px; height: 20px;background-color: rgb(173, 216, 230);\"></td><td title=\"Index: [0, 6]&#10;Color: (173, 216, 230)\" style=\"width: 20px; height: 20px;background-color: rgb(173, 216, 230);\"></td></tr><tr><td title=\"Index: [1, 0]&#10;Color: (173, 216, 230)\" style=\"width: 20px; height: 20px;background-color: rgb(173, 216, 230);\"></td><td title=\"Index: [1, 1]&#10;Color: (173, 216, 230)\" style=\"width: 20px; height: 20px;background-color: rgb(173, 216, 230);\"></td><td title=\"Index: [1, 2]&#10;Color: (173, 216, 230)\" style=\"width: 20px; height: 20px;background-color: rgb(173, 216, 230);\"></td><td title=\"Index: [1, 3]&#10;Color: (173, 216, 230)\" style=\"width: 20px; height: 20px;background-color: rgb(173, 216, 230);\"></td><td title=\"Index: [1, 4]&#10;Color: (173, 216, 230)\" style=\"width: 20px; height: 20px;background-color: rgb(173, 216, 230);\"></td><td title=\"Index: [1, 5]&#10;Color: (173, 216, 230)\" style=\"width: 20px; height: 20px;background-color: rgb(173, 216, 230);\"></td><td title=\"Index: [1, 6]&#10;Color: (173, 216, 230)\" style=\"width: 20px; height: 20px;background-color: rgb(173, 216, 230);\"></td></tr><tr><td title=\"Index: [2, 0]&#10;Color: (173, 216, 230)\" style=\"width: 20px; height: 20px;background-color: rgb(173, 216, 230);\"></td><td title=\"Index: [2, 1]&#10;Color: (173, 216, 230)\" style=\"width: 20px; height: 20px;background-color: rgb(173, 216, 230);\"></td><td title=\"Index: [2, 2]&#10;Color: (173, 216, 230)\" style=\"width: 20px; height: 20px;background-color: rgb(173, 216, 230);\"></td><td title=\"Index: [2, 3]&#10;Color: (173, 216, 230)\" style=\"width: 20px; height: 20px;background-color: rgb(173, 216, 230);\"></td><td title=\"Index: [2, 4]&#10;Color: (173, 216, 230)\" style=\"width: 20px; height: 20px;background-color: rgb(173, 216, 230);\"></td><td title=\"Index: [2, 5]&#10;Color: (173, 216, 230)\" style=\"width: 20px; height: 20px;background-color: rgb(173, 216, 230);\"></td><td title=\"Index: [2, 6]&#10;Color: (173, 216, 230)\" style=\"width: 20px; height: 20px;background-color: rgb(173, 216, 230);\"></td></tr><tr><td title=\"Index: [3, 0]&#10;Color: (173, 216, 230)\" style=\"width: 20px; height: 20px;background-color: rgb(173, 216, 230);\"></td><td title=\"Index: [3, 1]&#10;Color: (173, 216, 230)\" style=\"width: 20px; height: 20px;background-color: rgb(173, 216, 230);\"></td><td title=\"Index: [3, 2]&#10;Color: (173, 216, 230)\" style=\"width: 20px; height: 20px;background-color: rgb(173, 216, 230);\"></td><td title=\"Index: [3, 3]&#10;Color: (173, 216, 230)\" style=\"width: 20px; height: 20px;background-color: rgb(173, 216, 230);\"></td><td title=\"Index: [3, 4]&#10;Color: (173, 216, 230)\" style=\"width: 20px; height: 20px;background-color: rgb(173, 216, 230);\"></td><td title=\"Index: [3, 5]&#10;Color: (173, 216, 230)\" style=\"width: 20px; height: 20px;background-color: rgb(173, 216, 230);\"></td><td title=\"Index: [3, 6]&#10;Color: (173, 216, 230)\" style=\"width: 20px; height: 20px;background-color: rgb(173, 216, 230);\"></td></tr><tr><td title=\"Index: [4, 0]&#10;Color: (173, 216, 230)\" style=\"width: 20px; height: 20px;background-color: rgb(173, 216, 230);\"></td><td title=\"Index: [4, 1]&#10;Color: (173, 216, 230)\" style=\"width: 20px; height: 20px;background-color: rgb(173, 216, 230);\"></td><td title=\"Index: [4, 2]&#10;Color: (173, 216, 230)\" style=\"width: 20px; height: 20px;background-color: rgb(173, 216, 230);\"></td><td title=\"Index: [4, 3]&#10;Color: (173, 216, 230)\" style=\"width: 20px; height: 20px;background-color: rgb(173, 216, 230);\"></td><td title=\"Index: [4, 4]&#10;Color: (173, 216, 230)\" style=\"width: 20px; height: 20px;background-color: rgb(173, 216, 230);\"></td><td title=\"Index: [4, 5]&#10;Color: (173, 216, 230)\" style=\"width: 20px; height: 20px;background-color: rgb(173, 216, 230);\"></td><td title=\"Index: [4, 6]&#10;Color: (173, 216, 230)\" style=\"width: 20px; height: 20px;background-color: rgb(173, 216, 230);\"></td></tr><tr><td title=\"Index: [5, 0]&#10;Color: (173, 216, 230)\" style=\"width: 20px; height: 20px;background-color: rgb(173, 216, 230);\"></td><td title=\"Index: [5, 1]&#10;Color: (173, 216, 230)\" style=\"width: 20px; height: 20px;background-color: rgb(173, 216, 230);\"></td><td title=\"Index: [5, 2]&#10;Color: (173, 216, 230)\" style=\"width: 20px; height: 20px;background-color: rgb(173, 216, 230);\"></td><td title=\"Index: [5, 3]&#10;Color: (173, 216, 230)\" style=\"width: 20px; height: 20px;background-color: rgb(173, 216, 230);\"></td><td title=\"Index: [5, 4]&#10;Color: (173, 216, 230)\" style=\"width: 20px; height: 20px;background-color: rgb(173, 216, 230);\"></td><td title=\"Index: [5, 5]&#10;Color: (173, 216, 230)\" style=\"width: 20px; height: 20px;background-color: rgb(173, 216, 230);\"></td><td title=\"Index: [5, 6]&#10;Color: (173, 216, 230)\" style=\"width: 20px; height: 20px;background-color: rgb(173, 216, 230);\"></td></tr><tr><td title=\"Index: [6, 0]&#10;Color: (173, 216, 230)\" style=\"width: 20px; height: 20px;background-color: rgb(173, 216, 230);\"></td><td title=\"Index: [6, 1]&#10;Color: (173, 216, 230)\" style=\"width: 20px; height: 20px;background-color: rgb(173, 216, 230);\"></td><td title=\"Index: [6, 2]&#10;Color: (173, 216, 230)\" style=\"width: 20px; height: 20px;background-color: rgb(173, 216, 230);\"></td><td title=\"Index: [6, 3]&#10;Color: (173, 216, 230)\" style=\"width: 20px; height: 20px;background-color: rgb(173, 216, 230);\"></td><td title=\"Index: [6, 4]&#10;Color: (173, 216, 230)\" style=\"width: 20px; height: 20px;background-color: rgb(173, 216, 230);\"></td><td title=\"Index: [6, 5]&#10;Color: (173, 216, 230)\" style=\"width: 20px; height: 20px;background-color: rgb(173, 216, 230);\"></td><td title=\"Index: [6, 6]&#10;Color: (173, 216, 230)\" style=\"width: 20px; height: 20px;background-color: rgb(173, 216, 230);\"></td></tr></tbody></table>"
       ],
       "metadata": {},
       "output_type": "display_data",
       "text": [
        "<IPython.core.display.HTML at 0x2afbcd0>"
       ]
      },
      {
       "name": "stdout",
       "output_type": "stream",
       "stream": "stdout",
       "text": [
        "Guess Row (1-7):1\n"
       ]
      },
      {
       "name": "stdout",
       "output_type": "stream",
       "stream": "stdout",
       "text": [
        "Guess Col (1-7):1\n"
       ]
      },
      {
       "output_type": "stream",
       "stream": "stdout",
       "text": [
        "Congratulations! You hit my battleship!\n",
        "Turns left 4\n"
       ]
      },
      {
       "html": [
        "<style type=\"text/css\">table.blockgrid {border: none;} .blockgrid tr {border: none;} .blockgrid td {padding: 0px;} #blocks870cedec-ed09-4d16-bd5f-db0b3669dd71 td {border: 1px solid white;}</style><table id=\"blocks870cedec-ed09-4d16-bd5f-db0b3669dd71\" class=\"blockgrid\"><tbody><tr><td title=\"Index: [0, 0]&#10;Color: (255, 0, 0)\" style=\"width: 20px; height: 20px;background-color: rgb(255, 0, 0);\"></td><td title=\"Index: [0, 1]&#10;Color: (173, 216, 230)\" style=\"width: 20px; height: 20px;background-color: rgb(173, 216, 230);\"></td><td title=\"Index: [0, 2]&#10;Color: (173, 216, 230)\" style=\"width: 20px; height: 20px;background-color: rgb(173, 216, 230);\"></td><td title=\"Index: [0, 3]&#10;Color: (173, 216, 230)\" style=\"width: 20px; height: 20px;background-color: rgb(173, 216, 230);\"></td><td title=\"Index: [0, 4]&#10;Color: (173, 216, 230)\" style=\"width: 20px; height: 20px;background-color: rgb(173, 216, 230);\"></td><td title=\"Index: [0, 5]&#10;Color: (173, 216, 230)\" style=\"width: 20px; height: 20px;background-color: rgb(173, 216, 230);\"></td><td title=\"Index: [0, 6]&#10;Color: (173, 216, 230)\" style=\"width: 20px; height: 20px;background-color: rgb(173, 216, 230);\"></td></tr><tr><td title=\"Index: [1, 0]&#10;Color: (173, 216, 230)\" style=\"width: 20px; height: 20px;background-color: rgb(173, 216, 230);\"></td><td title=\"Index: [1, 1]&#10;Color: (173, 216, 230)\" style=\"width: 20px; height: 20px;background-color: rgb(173, 216, 230);\"></td><td title=\"Index: [1, 2]&#10;Color: (173, 216, 230)\" style=\"width: 20px; height: 20px;background-color: rgb(173, 216, 230);\"></td><td title=\"Index: [1, 3]&#10;Color: (173, 216, 230)\" style=\"width: 20px; height: 20px;background-color: rgb(173, 216, 230);\"></td><td title=\"Index: [1, 4]&#10;Color: (173, 216, 230)\" style=\"width: 20px; height: 20px;background-color: rgb(173, 216, 230);\"></td><td title=\"Index: [1, 5]&#10;Color: (173, 216, 230)\" style=\"width: 20px; height: 20px;background-color: rgb(173, 216, 230);\"></td><td title=\"Index: [1, 6]&#10;Color: (173, 216, 230)\" style=\"width: 20px; height: 20px;background-color: rgb(173, 216, 230);\"></td></tr><tr><td title=\"Index: [2, 0]&#10;Color: (173, 216, 230)\" style=\"width: 20px; height: 20px;background-color: rgb(173, 216, 230);\"></td><td title=\"Index: [2, 1]&#10;Color: (173, 216, 230)\" style=\"width: 20px; height: 20px;background-color: rgb(173, 216, 230);\"></td><td title=\"Index: [2, 2]&#10;Color: (173, 216, 230)\" style=\"width: 20px; height: 20px;background-color: rgb(173, 216, 230);\"></td><td title=\"Index: [2, 3]&#10;Color: (173, 216, 230)\" style=\"width: 20px; height: 20px;background-color: rgb(173, 216, 230);\"></td><td title=\"Index: [2, 4]&#10;Color: (173, 216, 230)\" style=\"width: 20px; height: 20px;background-color: rgb(173, 216, 230);\"></td><td title=\"Index: [2, 5]&#10;Color: (173, 216, 230)\" style=\"width: 20px; height: 20px;background-color: rgb(173, 216, 230);\"></td><td title=\"Index: [2, 6]&#10;Color: (173, 216, 230)\" style=\"width: 20px; height: 20px;background-color: rgb(173, 216, 230);\"></td></tr><tr><td title=\"Index: [3, 0]&#10;Color: (173, 216, 230)\" style=\"width: 20px; height: 20px;background-color: rgb(173, 216, 230);\"></td><td title=\"Index: [3, 1]&#10;Color: (173, 216, 230)\" style=\"width: 20px; height: 20px;background-color: rgb(173, 216, 230);\"></td><td title=\"Index: [3, 2]&#10;Color: (173, 216, 230)\" style=\"width: 20px; height: 20px;background-color: rgb(173, 216, 230);\"></td><td title=\"Index: [3, 3]&#10;Color: (173, 216, 230)\" style=\"width: 20px; height: 20px;background-color: rgb(173, 216, 230);\"></td><td title=\"Index: [3, 4]&#10;Color: (173, 216, 230)\" style=\"width: 20px; height: 20px;background-color: rgb(173, 216, 230);\"></td><td title=\"Index: [3, 5]&#10;Color: (173, 216, 230)\" style=\"width: 20px; height: 20px;background-color: rgb(173, 216, 230);\"></td><td title=\"Index: [3, 6]&#10;Color: (173, 216, 230)\" style=\"width: 20px; height: 20px;background-color: rgb(173, 216, 230);\"></td></tr><tr><td title=\"Index: [4, 0]&#10;Color: (173, 216, 230)\" style=\"width: 20px; height: 20px;background-color: rgb(173, 216, 230);\"></td><td title=\"Index: [4, 1]&#10;Color: (173, 216, 230)\" style=\"width: 20px; height: 20px;background-color: rgb(173, 216, 230);\"></td><td title=\"Index: [4, 2]&#10;Color: (173, 216, 230)\" style=\"width: 20px; height: 20px;background-color: rgb(173, 216, 230);\"></td><td title=\"Index: [4, 3]&#10;Color: (173, 216, 230)\" style=\"width: 20px; height: 20px;background-color: rgb(173, 216, 230);\"></td><td title=\"Index: [4, 4]&#10;Color: (173, 216, 230)\" style=\"width: 20px; height: 20px;background-color: rgb(173, 216, 230);\"></td><td title=\"Index: [4, 5]&#10;Color: (173, 216, 230)\" style=\"width: 20px; height: 20px;background-color: rgb(173, 216, 230);\"></td><td title=\"Index: [4, 6]&#10;Color: (173, 216, 230)\" style=\"width: 20px; height: 20px;background-color: rgb(173, 216, 230);\"></td></tr><tr><td title=\"Index: [5, 0]&#10;Color: (173, 216, 230)\" style=\"width: 20px; height: 20px;background-color: rgb(173, 216, 230);\"></td><td title=\"Index: [5, 1]&#10;Color: (173, 216, 230)\" style=\"width: 20px; height: 20px;background-color: rgb(173, 216, 230);\"></td><td title=\"Index: [5, 2]&#10;Color: (173, 216, 230)\" style=\"width: 20px; height: 20px;background-color: rgb(173, 216, 230);\"></td><td title=\"Index: [5, 3]&#10;Color: (173, 216, 230)\" style=\"width: 20px; height: 20px;background-color: rgb(173, 216, 230);\"></td><td title=\"Index: [5, 4]&#10;Color: (173, 216, 230)\" style=\"width: 20px; height: 20px;background-color: rgb(173, 216, 230);\"></td><td title=\"Index: [5, 5]&#10;Color: (173, 216, 230)\" style=\"width: 20px; height: 20px;background-color: rgb(173, 216, 230);\"></td><td title=\"Index: [5, 6]&#10;Color: (173, 216, 230)\" style=\"width: 20px; height: 20px;background-color: rgb(173, 216, 230);\"></td></tr><tr><td title=\"Index: [6, 0]&#10;Color: (173, 216, 230)\" style=\"width: 20px; height: 20px;background-color: rgb(173, 216, 230);\"></td><td title=\"Index: [6, 1]&#10;Color: (173, 216, 230)\" style=\"width: 20px; height: 20px;background-color: rgb(173, 216, 230);\"></td><td title=\"Index: [6, 2]&#10;Color: (173, 216, 230)\" style=\"width: 20px; height: 20px;background-color: rgb(173, 216, 230);\"></td><td title=\"Index: [6, 3]&#10;Color: (173, 216, 230)\" style=\"width: 20px; height: 20px;background-color: rgb(173, 216, 230);\"></td><td title=\"Index: [6, 4]&#10;Color: (173, 216, 230)\" style=\"width: 20px; height: 20px;background-color: rgb(173, 216, 230);\"></td><td title=\"Index: [6, 5]&#10;Color: (173, 216, 230)\" style=\"width: 20px; height: 20px;background-color: rgb(173, 216, 230);\"></td><td title=\"Index: [6, 6]&#10;Color: (173, 216, 230)\" style=\"width: 20px; height: 20px;background-color: rgb(173, 216, 230);\"></td></tr></tbody></table>"
       ],
       "metadata": {},
       "output_type": "display_data",
       "text": [
        "<IPython.core.display.HTML at 0x7fdc46781110>"
       ]
      },
      {
       "name": "stdout",
       "output_type": "stream",
       "stream": "stdout",
       "text": [
        "Guess Row (1-7):1\n"
       ]
      },
      {
       "name": "stdout",
       "output_type": "stream",
       "stream": "stdout",
       "text": [
        "Guess Col (1-7):2\n"
       ]
      },
      {
       "output_type": "stream",
       "stream": "stdout",
       "text": [
        "Congratulations! You hit my battleship!\n",
        "Turns left 3\n"
       ]
      },
      {
       "html": [
        "<style type=\"text/css\">table.blockgrid {border: none;} .blockgrid tr {border: none;} .blockgrid td {padding: 0px;} #blocks0e5712d0-7071-4a7b-846c-7a4bff966365 td {border: 1px solid white;}</style><table id=\"blocks0e5712d0-7071-4a7b-846c-7a4bff966365\" class=\"blockgrid\"><tbody><tr><td title=\"Index: [0, 0]&#10;Color: (255, 0, 0)\" style=\"width: 20px; height: 20px;background-color: rgb(255, 0, 0);\"></td><td title=\"Index: [0, 1]&#10;Color: (255, 0, 0)\" style=\"width: 20px; height: 20px;background-color: rgb(255, 0, 0);\"></td><td title=\"Index: [0, 2]&#10;Color: (173, 216, 230)\" style=\"width: 20px; height: 20px;background-color: rgb(173, 216, 230);\"></td><td title=\"Index: [0, 3]&#10;Color: (173, 216, 230)\" style=\"width: 20px; height: 20px;background-color: rgb(173, 216, 230);\"></td><td title=\"Index: [0, 4]&#10;Color: (173, 216, 230)\" style=\"width: 20px; height: 20px;background-color: rgb(173, 216, 230);\"></td><td title=\"Index: [0, 5]&#10;Color: (173, 216, 230)\" style=\"width: 20px; height: 20px;background-color: rgb(173, 216, 230);\"></td><td title=\"Index: [0, 6]&#10;Color: (173, 216, 230)\" style=\"width: 20px; height: 20px;background-color: rgb(173, 216, 230);\"></td></tr><tr><td title=\"Index: [1, 0]&#10;Color: (173, 216, 230)\" style=\"width: 20px; height: 20px;background-color: rgb(173, 216, 230);\"></td><td title=\"Index: [1, 1]&#10;Color: (173, 216, 230)\" style=\"width: 20px; height: 20px;background-color: rgb(173, 216, 230);\"></td><td title=\"Index: [1, 2]&#10;Color: (173, 216, 230)\" style=\"width: 20px; height: 20px;background-color: rgb(173, 216, 230);\"></td><td title=\"Index: [1, 3]&#10;Color: (173, 216, 230)\" style=\"width: 20px; height: 20px;background-color: rgb(173, 216, 230);\"></td><td title=\"Index: [1, 4]&#10;Color: (173, 216, 230)\" style=\"width: 20px; height: 20px;background-color: rgb(173, 216, 230);\"></td><td title=\"Index: [1, 5]&#10;Color: (173, 216, 230)\" style=\"width: 20px; height: 20px;background-color: rgb(173, 216, 230);\"></td><td title=\"Index: [1, 6]&#10;Color: (173, 216, 230)\" style=\"width: 20px; height: 20px;background-color: rgb(173, 216, 230);\"></td></tr><tr><td title=\"Index: [2, 0]&#10;Color: (173, 216, 230)\" style=\"width: 20px; height: 20px;background-color: rgb(173, 216, 230);\"></td><td title=\"Index: [2, 1]&#10;Color: (173, 216, 230)\" style=\"width: 20px; height: 20px;background-color: rgb(173, 216, 230);\"></td><td title=\"Index: [2, 2]&#10;Color: (173, 216, 230)\" style=\"width: 20px; height: 20px;background-color: rgb(173, 216, 230);\"></td><td title=\"Index: [2, 3]&#10;Color: (173, 216, 230)\" style=\"width: 20px; height: 20px;background-color: rgb(173, 216, 230);\"></td><td title=\"Index: [2, 4]&#10;Color: (173, 216, 230)\" style=\"width: 20px; height: 20px;background-color: rgb(173, 216, 230);\"></td><td title=\"Index: [2, 5]&#10;Color: (173, 216, 230)\" style=\"width: 20px; height: 20px;background-color: rgb(173, 216, 230);\"></td><td title=\"Index: [2, 6]&#10;Color: (173, 216, 230)\" style=\"width: 20px; height: 20px;background-color: rgb(173, 216, 230);\"></td></tr><tr><td title=\"Index: [3, 0]&#10;Color: (173, 216, 230)\" style=\"width: 20px; height: 20px;background-color: rgb(173, 216, 230);\"></td><td title=\"Index: [3, 1]&#10;Color: (173, 216, 230)\" style=\"width: 20px; height: 20px;background-color: rgb(173, 216, 230);\"></td><td title=\"Index: [3, 2]&#10;Color: (173, 216, 230)\" style=\"width: 20px; height: 20px;background-color: rgb(173, 216, 230);\"></td><td title=\"Index: [3, 3]&#10;Color: (173, 216, 230)\" style=\"width: 20px; height: 20px;background-color: rgb(173, 216, 230);\"></td><td title=\"Index: [3, 4]&#10;Color: (173, 216, 230)\" style=\"width: 20px; height: 20px;background-color: rgb(173, 216, 230);\"></td><td title=\"Index: [3, 5]&#10;Color: (173, 216, 230)\" style=\"width: 20px; height: 20px;background-color: rgb(173, 216, 230);\"></td><td title=\"Index: [3, 6]&#10;Color: (173, 216, 230)\" style=\"width: 20px; height: 20px;background-color: rgb(173, 216, 230);\"></td></tr><tr><td title=\"Index: [4, 0]&#10;Color: (173, 216, 230)\" style=\"width: 20px; height: 20px;background-color: rgb(173, 216, 230);\"></td><td title=\"Index: [4, 1]&#10;Color: (173, 216, 230)\" style=\"width: 20px; height: 20px;background-color: rgb(173, 216, 230);\"></td><td title=\"Index: [4, 2]&#10;Color: (173, 216, 230)\" style=\"width: 20px; height: 20px;background-color: rgb(173, 216, 230);\"></td><td title=\"Index: [4, 3]&#10;Color: (173, 216, 230)\" style=\"width: 20px; height: 20px;background-color: rgb(173, 216, 230);\"></td><td title=\"Index: [4, 4]&#10;Color: (173, 216, 230)\" style=\"width: 20px; height: 20px;background-color: rgb(173, 216, 230);\"></td><td title=\"Index: [4, 5]&#10;Color: (173, 216, 230)\" style=\"width: 20px; height: 20px;background-color: rgb(173, 216, 230);\"></td><td title=\"Index: [4, 6]&#10;Color: (173, 216, 230)\" style=\"width: 20px; height: 20px;background-color: rgb(173, 216, 230);\"></td></tr><tr><td title=\"Index: [5, 0]&#10;Color: (173, 216, 230)\" style=\"width: 20px; height: 20px;background-color: rgb(173, 216, 230);\"></td><td title=\"Index: [5, 1]&#10;Color: (173, 216, 230)\" style=\"width: 20px; height: 20px;background-color: rgb(173, 216, 230);\"></td><td title=\"Index: [5, 2]&#10;Color: (173, 216, 230)\" style=\"width: 20px; height: 20px;background-color: rgb(173, 216, 230);\"></td><td title=\"Index: [5, 3]&#10;Color: (173, 216, 230)\" style=\"width: 20px; height: 20px;background-color: rgb(173, 216, 230);\"></td><td title=\"Index: [5, 4]&#10;Color: (173, 216, 230)\" style=\"width: 20px; height: 20px;background-color: rgb(173, 216, 230);\"></td><td title=\"Index: [5, 5]&#10;Color: (173, 216, 230)\" style=\"width: 20px; height: 20px;background-color: rgb(173, 216, 230);\"></td><td title=\"Index: [5, 6]&#10;Color: (173, 216, 230)\" style=\"width: 20px; height: 20px;background-color: rgb(173, 216, 230);\"></td></tr><tr><td title=\"Index: [6, 0]&#10;Color: (173, 216, 230)\" style=\"width: 20px; height: 20px;background-color: rgb(173, 216, 230);\"></td><td title=\"Index: [6, 1]&#10;Color: (173, 216, 230)\" style=\"width: 20px; height: 20px;background-color: rgb(173, 216, 230);\"></td><td title=\"Index: [6, 2]&#10;Color: (173, 216, 230)\" style=\"width: 20px; height: 20px;background-color: rgb(173, 216, 230);\"></td><td title=\"Index: [6, 3]&#10;Color: (173, 216, 230)\" style=\"width: 20px; height: 20px;background-color: rgb(173, 216, 230);\"></td><td title=\"Index: [6, 4]&#10;Color: (173, 216, 230)\" style=\"width: 20px; height: 20px;background-color: rgb(173, 216, 230);\"></td><td title=\"Index: [6, 5]&#10;Color: (173, 216, 230)\" style=\"width: 20px; height: 20px;background-color: rgb(173, 216, 230);\"></td><td title=\"Index: [6, 6]&#10;Color: (173, 216, 230)\" style=\"width: 20px; height: 20px;background-color: rgb(173, 216, 230);\"></td></tr></tbody></table>"
       ],
       "metadata": {},
       "output_type": "display_data",
       "text": [
        "<IPython.core.display.HTML at 0x7fdc4678a890>"
       ]
      },
      {
       "name": "stdout",
       "output_type": "stream",
       "stream": "stdout",
       "text": [
        "Guess Row (1-7):1\n"
       ]
      },
      {
       "name": "stdout",
       "output_type": "stream",
       "stream": "stdout",
       "text": [
        "Guess Col (1-7):3\n"
       ]
      },
      {
       "output_type": "stream",
       "stream": "stdout",
       "text": [
        "Congratulations! You hit my battleship!\n",
        "Turns left 2\n"
       ]
      },
      {
       "html": [
        "<style type=\"text/css\">table.blockgrid {border: none;} .blockgrid tr {border: none;} .blockgrid td {padding: 0px;} #blocksb442a1aa-2631-4772-b235-6fc376006f43 td {border: 1px solid white;}</style><table id=\"blocksb442a1aa-2631-4772-b235-6fc376006f43\" class=\"blockgrid\"><tbody><tr><td title=\"Index: [0, 0]&#10;Color: (255, 0, 0)\" style=\"width: 20px; height: 20px;background-color: rgb(255, 0, 0);\"></td><td title=\"Index: [0, 1]&#10;Color: (255, 0, 0)\" style=\"width: 20px; height: 20px;background-color: rgb(255, 0, 0);\"></td><td title=\"Index: [0, 2]&#10;Color: (255, 0, 0)\" style=\"width: 20px; height: 20px;background-color: rgb(255, 0, 0);\"></td><td title=\"Index: [0, 3]&#10;Color: (173, 216, 230)\" style=\"width: 20px; height: 20px;background-color: rgb(173, 216, 230);\"></td><td title=\"Index: [0, 4]&#10;Color: (173, 216, 230)\" style=\"width: 20px; height: 20px;background-color: rgb(173, 216, 230);\"></td><td title=\"Index: [0, 5]&#10;Color: (173, 216, 230)\" style=\"width: 20px; height: 20px;background-color: rgb(173, 216, 230);\"></td><td title=\"Index: [0, 6]&#10;Color: (173, 216, 230)\" style=\"width: 20px; height: 20px;background-color: rgb(173, 216, 230);\"></td></tr><tr><td title=\"Index: [1, 0]&#10;Color: (173, 216, 230)\" style=\"width: 20px; height: 20px;background-color: rgb(173, 216, 230);\"></td><td title=\"Index: [1, 1]&#10;Color: (173, 216, 230)\" style=\"width: 20px; height: 20px;background-color: rgb(173, 216, 230);\"></td><td title=\"Index: [1, 2]&#10;Color: (173, 216, 230)\" style=\"width: 20px; height: 20px;background-color: rgb(173, 216, 230);\"></td><td title=\"Index: [1, 3]&#10;Color: (173, 216, 230)\" style=\"width: 20px; height: 20px;background-color: rgb(173, 216, 230);\"></td><td title=\"Index: [1, 4]&#10;Color: (173, 216, 230)\" style=\"width: 20px; height: 20px;background-color: rgb(173, 216, 230);\"></td><td title=\"Index: [1, 5]&#10;Color: (173, 216, 230)\" style=\"width: 20px; height: 20px;background-color: rgb(173, 216, 230);\"></td><td title=\"Index: [1, 6]&#10;Color: (173, 216, 230)\" style=\"width: 20px; height: 20px;background-color: rgb(173, 216, 230);\"></td></tr><tr><td title=\"Index: [2, 0]&#10;Color: (173, 216, 230)\" style=\"width: 20px; height: 20px;background-color: rgb(173, 216, 230);\"></td><td title=\"Index: [2, 1]&#10;Color: (173, 216, 230)\" style=\"width: 20px; height: 20px;background-color: rgb(173, 216, 230);\"></td><td title=\"Index: [2, 2]&#10;Color: (173, 216, 230)\" style=\"width: 20px; height: 20px;background-color: rgb(173, 216, 230);\"></td><td title=\"Index: [2, 3]&#10;Color: (173, 216, 230)\" style=\"width: 20px; height: 20px;background-color: rgb(173, 216, 230);\"></td><td title=\"Index: [2, 4]&#10;Color: (173, 216, 230)\" style=\"width: 20px; height: 20px;background-color: rgb(173, 216, 230);\"></td><td title=\"Index: [2, 5]&#10;Color: (173, 216, 230)\" style=\"width: 20px; height: 20px;background-color: rgb(173, 216, 230);\"></td><td title=\"Index: [2, 6]&#10;Color: (173, 216, 230)\" style=\"width: 20px; height: 20px;background-color: rgb(173, 216, 230);\"></td></tr><tr><td title=\"Index: [3, 0]&#10;Color: (173, 216, 230)\" style=\"width: 20px; height: 20px;background-color: rgb(173, 216, 230);\"></td><td title=\"Index: [3, 1]&#10;Color: (173, 216, 230)\" style=\"width: 20px; height: 20px;background-color: rgb(173, 216, 230);\"></td><td title=\"Index: [3, 2]&#10;Color: (173, 216, 230)\" style=\"width: 20px; height: 20px;background-color: rgb(173, 216, 230);\"></td><td title=\"Index: [3, 3]&#10;Color: (173, 216, 230)\" style=\"width: 20px; height: 20px;background-color: rgb(173, 216, 230);\"></td><td title=\"Index: [3, 4]&#10;Color: (173, 216, 230)\" style=\"width: 20px; height: 20px;background-color: rgb(173, 216, 230);\"></td><td title=\"Index: [3, 5]&#10;Color: (173, 216, 230)\" style=\"width: 20px; height: 20px;background-color: rgb(173, 216, 230);\"></td><td title=\"Index: [3, 6]&#10;Color: (173, 216, 230)\" style=\"width: 20px; height: 20px;background-color: rgb(173, 216, 230);\"></td></tr><tr><td title=\"Index: [4, 0]&#10;Color: (173, 216, 230)\" style=\"width: 20px; height: 20px;background-color: rgb(173, 216, 230);\"></td><td title=\"Index: [4, 1]&#10;Color: (173, 216, 230)\" style=\"width: 20px; height: 20px;background-color: rgb(173, 216, 230);\"></td><td title=\"Index: [4, 2]&#10;Color: (173, 216, 230)\" style=\"width: 20px; height: 20px;background-color: rgb(173, 216, 230);\"></td><td title=\"Index: [4, 3]&#10;Color: (173, 216, 230)\" style=\"width: 20px; height: 20px;background-color: rgb(173, 216, 230);\"></td><td title=\"Index: [4, 4]&#10;Color: (173, 216, 230)\" style=\"width: 20px; height: 20px;background-color: rgb(173, 216, 230);\"></td><td title=\"Index: [4, 5]&#10;Color: (173, 216, 230)\" style=\"width: 20px; height: 20px;background-color: rgb(173, 216, 230);\"></td><td title=\"Index: [4, 6]&#10;Color: (173, 216, 230)\" style=\"width: 20px; height: 20px;background-color: rgb(173, 216, 230);\"></td></tr><tr><td title=\"Index: [5, 0]&#10;Color: (173, 216, 230)\" style=\"width: 20px; height: 20px;background-color: rgb(173, 216, 230);\"></td><td title=\"Index: [5, 1]&#10;Color: (173, 216, 230)\" style=\"width: 20px; height: 20px;background-color: rgb(173, 216, 230);\"></td><td title=\"Index: [5, 2]&#10;Color: (173, 216, 230)\" style=\"width: 20px; height: 20px;background-color: rgb(173, 216, 230);\"></td><td title=\"Index: [5, 3]&#10;Color: (173, 216, 230)\" style=\"width: 20px; height: 20px;background-color: rgb(173, 216, 230);\"></td><td title=\"Index: [5, 4]&#10;Color: (173, 216, 230)\" style=\"width: 20px; height: 20px;background-color: rgb(173, 216, 230);\"></td><td title=\"Index: [5, 5]&#10;Color: (173, 216, 230)\" style=\"width: 20px; height: 20px;background-color: rgb(173, 216, 230);\"></td><td title=\"Index: [5, 6]&#10;Color: (173, 216, 230)\" style=\"width: 20px; height: 20px;background-color: rgb(173, 216, 230);\"></td></tr><tr><td title=\"Index: [6, 0]&#10;Color: (173, 216, 230)\" style=\"width: 20px; height: 20px;background-color: rgb(173, 216, 230);\"></td><td title=\"Index: [6, 1]&#10;Color: (173, 216, 230)\" style=\"width: 20px; height: 20px;background-color: rgb(173, 216, 230);\"></td><td title=\"Index: [6, 2]&#10;Color: (173, 216, 230)\" style=\"width: 20px; height: 20px;background-color: rgb(173, 216, 230);\"></td><td title=\"Index: [6, 3]&#10;Color: (173, 216, 230)\" style=\"width: 20px; height: 20px;background-color: rgb(173, 216, 230);\"></td><td title=\"Index: [6, 4]&#10;Color: (173, 216, 230)\" style=\"width: 20px; height: 20px;background-color: rgb(173, 216, 230);\"></td><td title=\"Index: [6, 5]&#10;Color: (173, 216, 230)\" style=\"width: 20px; height: 20px;background-color: rgb(173, 216, 230);\"></td><td title=\"Index: [6, 6]&#10;Color: (173, 216, 230)\" style=\"width: 20px; height: 20px;background-color: rgb(173, 216, 230);\"></td></tr></tbody></table>"
       ],
       "metadata": {},
       "output_type": "display_data",
       "text": [
        "<IPython.core.display.HTML at 0x7fdc4678a990>"
       ]
      },
      {
       "output_type": "stream",
       "stream": "stdout",
       "text": [
        "Congratulations! You sunk my battleship!\n"
       ]
      }
     ],
     "prompt_number": 1
    },
    {
     "cell_type": "code",
     "collapsed": false,
     "input": [],
     "language": "python",
     "metadata": {},
     "outputs": []
    }
   ],
   "metadata": {}
  }
 ]
}