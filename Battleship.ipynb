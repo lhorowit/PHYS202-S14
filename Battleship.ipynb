{
 "metadata": {
  "name": "",
  "signature": "sha256:bebad47e055c3827f33c5177d3b526b368800a522466af46237df13a8f3d9fea"
 },
 "nbformat": 3,
 "nbformat_minor": 0,
 "worksheets": [
  {
   "cells": [
    {
     "cell_type": "heading",
     "level": 1,
     "metadata": {},
     "source": [
      "Battleship... with Blocks"
     ]
    },
    {
     "cell_type": "markdown",
     "metadata": {},
     "source": [
      "Welcome to Battleship. Run the code below to begin. Please use positive integers for all inputs.\n",
      "\n",
      "\n",
      "Possible Outcomes: 3 distint hits and you win. Run out of turns and you lose.\n",
      "\n",
      "\n",
      "Make sure you give yourself enough turns ;)"
     ]
    },
    {
     "cell_type": "code",
     "collapsed": false,
     "input": [
      "from random import randint\n",
      "from ipythonblocks import BlockGrid\n",
      "from ipythonblocks import colors\n",
      "\n",
      "len_board = int(raw_input(\"How long do you want the board to be? Please enter an integer >= 5: \"))\n",
      "                                                                # User input board size\n",
      "grid = BlockGrid(len_board, len_board, fill=(173, 216, 230))    # The Game Board\n",
      "\n",
      "\n",
      "def random_row(grid):                  # The row that the ship will reside in. All ships \n",
      "    return randint(1, grid.height-1)   # will be along a distint row\n",
      "\n",
      "def random_col(grid):                  # The column that the ship will start on. It will extend \n",
      "    return randint(1, grid.width-4)    # to the right for a total of 3 blocks length\n",
      "\n",
      "ship_row = random_row(grid)-1 \n",
      "ship_col = random_col(grid)-1\n",
      "\n",
      "\n",
      "number_of_turns = int(raw_input(\"How many turns do you want? Please input an integer: \"))   \n",
      "                                    # Asks user how many turns they would like to have\n",
      "rng = range(number_of_turns+1)\n",
      "\n",
      "\n",
      "print \"Let's play Battleship!\"\n",
      "\n",
      "\n",
      "grid.show() \n",
      "number_of_hits = 0         # When this = 3, User wins\n",
      "turn = 0  \n",
      "turns_left = number_of_turns\n",
      "while turn <= number_of_turns:     # Limits game by number of turns\n",
      "    \n",
      "       \n",
      "        \n",
      "        if turns_left == 0:                     # Loss message and ship reveal\n",
      "            print \"You Lose.\"\n",
      "            ship = grid[ship_row, ship_col:ship_col+3]\n",
      "            for block in ship:\n",
      "                block.set_colors(165, 42, 42) \n",
      "            grid.show()    \n",
      "            break    \n",
      "            \n",
      "        guess_row = int(raw_input(\"Guess Row, please use integer:\"))-1     # User imputs\n",
      "        guess_col = int(raw_input(\"Guess Col, please use integer:\"))-1\n",
      "            \n",
      "        if (guess_row < 0 or guess_row > grid.height) or (guess_col < 0 or guess_col > grid.width):\n",
      "                print \"Oops, that's not even in the ocean.\"\n",
      "                turn = turn + 1                  # ^^^ Checks if  guess is on the board\n",
      "                turns_left = turns_left - 1\n",
      "                print \"Turns left\", turns_left   # shows # of turns left\n",
      "                grid.show()    \n",
      "    \n",
      "        elif grid[guess_row, guess_col].rgb == (255, 0, 0):\n",
      "            print \"You already hit this spot...\" # Checks if ship was already hit here\n",
      "            turn = turn + 1\n",
      "            turns_left = turns_left - 1   # Counts down the number of turns\n",
      "            print \"Turns left\", turns_left\n",
      "        \n",
      "        elif (guess_row == ship_row) and (guess_col in range(ship_col,ship_col+3)):\n",
      "            print \"Congratulations! You hit my battleship!\"   # ^^^ Checks for a hit\n",
      "            grid[guess_row, guess_col] = (255, 0, 0)   # Hits set to red\n",
      "            turn = turn + 1\n",
      "            turns_left = turns_left - 1\n",
      "            number_of_hits = number_of_hits + 1\n",
      "            print \"Turns left\", turns_left \n",
      "            grid.show()\n",
      "            \n",
      "        if number_of_hits == 3:          # Win message\n",
      "            print \"Congratulations! You sunk my battleship!\"\n",
      "            break        \n",
      "       \n",
      "        \n",
      "        else:\n",
      "            \n",
      "            \n",
      "            if (guess_row < 0 or guess_row > grid.height) or (guess_col < 0 or guess_col > grid.width):\n",
      "                print \"\"     # Checks if guess was on the game board\n",
      "            \n",
      "            elif (grid[guess_row, guess_col].rgb == (0, 0, 0)):\n",
      "                print \"You guessed that one already.\"\n",
      "                turn = turn + 1      #^^^ Checks if incorrect guess was entered again\n",
      "                turns_left = turns_left - 1\n",
      "                print \"Turns left\", turns_left\n",
      "                grid.show()\n",
      "                \n",
      "            elif (guess_row != ship_row) or (guess_col not in range(ship_col,ship_col+3)):\n",
      "                print \"You missed my battleship!\"     # Anything else is a miss\n",
      "                grid[guess_row, guess_col] = (0,0,0)  # Misses set to black   \n",
      "                turn = turn + 1            \n",
      "                turns_left = turns_left - 1\n",
      "                print \"Turns left\", turns_left\n",
      "                grid.show()\n",
      "            "
     ],
     "language": "python",
     "metadata": {},
     "outputs": [
      {
       "name": "stdout",
       "output_type": "stream",
       "stream": "stdout",
       "text": [
        "How long do you want the board to be? Please enter an integer >= 5: 7\n"
       ]
      },
      {
       "name": "stdout",
       "output_type": "stream",
       "stream": "stdout",
       "text": [
        "How many turns do you want? Please input an integer: 10\n"
       ]
      },
      {
       "output_type": "stream",
       "stream": "stdout",
       "text": [
        "Let's play Battleship!\n"
       ]
      },
      {
       "html": [
        "<style type=\"text/css\">table.blockgrid {border: none;} .blockgrid tr {border: none;} .blockgrid td {padding: 0px;} #blocks72190936-3685-46d4-88ba-98e36e53102e td {border: 1px solid white;}</style><table id=\"blocks72190936-3685-46d4-88ba-98e36e53102e\" class=\"blockgrid\"><tbody><tr><td title=\"Index: [0, 0]&#10;Color: (173, 216, 230)\" style=\"width: 20px; height: 20px;background-color: rgb(173, 216, 230);\"></td><td title=\"Index: [0, 1]&#10;Color: (173, 216, 230)\" style=\"width: 20px; height: 20px;background-color: rgb(173, 216, 230);\"></td><td title=\"Index: [0, 2]&#10;Color: (173, 216, 230)\" style=\"width: 20px; height: 20px;background-color: rgb(173, 216, 230);\"></td><td title=\"Index: [0, 3]&#10;Color: (173, 216, 230)\" style=\"width: 20px; height: 20px;background-color: rgb(173, 216, 230);\"></td><td title=\"Index: [0, 4]&#10;Color: (173, 216, 230)\" style=\"width: 20px; height: 20px;background-color: rgb(173, 216, 230);\"></td><td title=\"Index: [0, 5]&#10;Color: (173, 216, 230)\" style=\"width: 20px; height: 20px;background-color: rgb(173, 216, 230);\"></td><td title=\"Index: [0, 6]&#10;Color: (173, 216, 230)\" style=\"width: 20px; height: 20px;background-color: rgb(173, 216, 230);\"></td></tr><tr><td title=\"Index: [1, 0]&#10;Color: (173, 216, 230)\" style=\"width: 20px; height: 20px;background-color: rgb(173, 216, 230);\"></td><td title=\"Index: [1, 1]&#10;Color: (173, 216, 230)\" style=\"width: 20px; height: 20px;background-color: rgb(173, 216, 230);\"></td><td title=\"Index: [1, 2]&#10;Color: (173, 216, 230)\" style=\"width: 20px; height: 20px;background-color: rgb(173, 216, 230);\"></td><td title=\"Index: [1, 3]&#10;Color: (173, 216, 230)\" style=\"width: 20px; height: 20px;background-color: rgb(173, 216, 230);\"></td><td title=\"Index: [1, 4]&#10;Color: (173, 216, 230)\" style=\"width: 20px; height: 20px;background-color: rgb(173, 216, 230);\"></td><td title=\"Index: [1, 5]&#10;Color: (173, 216, 230)\" style=\"width: 20px; height: 20px;background-color: rgb(173, 216, 230);\"></td><td title=\"Index: [1, 6]&#10;Color: (173, 216, 230)\" style=\"width: 20px; height: 20px;background-color: rgb(173, 216, 230);\"></td></tr><tr><td title=\"Index: [2, 0]&#10;Color: (173, 216, 230)\" style=\"width: 20px; height: 20px;background-color: rgb(173, 216, 230);\"></td><td title=\"Index: [2, 1]&#10;Color: (173, 216, 230)\" style=\"width: 20px; height: 20px;background-color: rgb(173, 216, 230);\"></td><td title=\"Index: [2, 2]&#10;Color: (173, 216, 230)\" style=\"width: 20px; height: 20px;background-color: rgb(173, 216, 230);\"></td><td title=\"Index: [2, 3]&#10;Color: (173, 216, 230)\" style=\"width: 20px; height: 20px;background-color: rgb(173, 216, 230);\"></td><td title=\"Index: [2, 4]&#10;Color: (173, 216, 230)\" style=\"width: 20px; height: 20px;background-color: rgb(173, 216, 230);\"></td><td title=\"Index: [2, 5]&#10;Color: (173, 216, 230)\" style=\"width: 20px; height: 20px;background-color: rgb(173, 216, 230);\"></td><td title=\"Index: [2, 6]&#10;Color: (173, 216, 230)\" style=\"width: 20px; height: 20px;background-color: rgb(173, 216, 230);\"></td></tr><tr><td title=\"Index: [3, 0]&#10;Color: (173, 216, 230)\" style=\"width: 20px; height: 20px;background-color: rgb(173, 216, 230);\"></td><td title=\"Index: [3, 1]&#10;Color: (173, 216, 230)\" style=\"width: 20px; height: 20px;background-color: rgb(173, 216, 230);\"></td><td title=\"Index: [3, 2]&#10;Color: (173, 216, 230)\" style=\"width: 20px; height: 20px;background-color: rgb(173, 216, 230);\"></td><td title=\"Index: [3, 3]&#10;Color: (173, 216, 230)\" style=\"width: 20px; height: 20px;background-color: rgb(173, 216, 230);\"></td><td title=\"Index: [3, 4]&#10;Color: (173, 216, 230)\" style=\"width: 20px; height: 20px;background-color: rgb(173, 216, 230);\"></td><td title=\"Index: [3, 5]&#10;Color: (173, 216, 230)\" style=\"width: 20px; height: 20px;background-color: rgb(173, 216, 230);\"></td><td title=\"Index: [3, 6]&#10;Color: (173, 216, 230)\" style=\"width: 20px; height: 20px;background-color: rgb(173, 216, 230);\"></td></tr><tr><td title=\"Index: [4, 0]&#10;Color: (173, 216, 230)\" style=\"width: 20px; height: 20px;background-color: rgb(173, 216, 230);\"></td><td title=\"Index: [4, 1]&#10;Color: (173, 216, 230)\" style=\"width: 20px; height: 20px;background-color: rgb(173, 216, 230);\"></td><td title=\"Index: [4, 2]&#10;Color: (173, 216, 230)\" style=\"width: 20px; height: 20px;background-color: rgb(173, 216, 230);\"></td><td title=\"Index: [4, 3]&#10;Color: (173, 216, 230)\" style=\"width: 20px; height: 20px;background-color: rgb(173, 216, 230);\"></td><td title=\"Index: [4, 4]&#10;Color: (173, 216, 230)\" style=\"width: 20px; height: 20px;background-color: rgb(173, 216, 230);\"></td><td title=\"Index: [4, 5]&#10;Color: (173, 216, 230)\" style=\"width: 20px; height: 20px;background-color: rgb(173, 216, 230);\"></td><td title=\"Index: [4, 6]&#10;Color: (173, 216, 230)\" style=\"width: 20px; height: 20px;background-color: rgb(173, 216, 230);\"></td></tr><tr><td title=\"Index: [5, 0]&#10;Color: (173, 216, 230)\" style=\"width: 20px; height: 20px;background-color: rgb(173, 216, 230);\"></td><td title=\"Index: [5, 1]&#10;Color: (173, 216, 230)\" style=\"width: 20px; height: 20px;background-color: rgb(173, 216, 230);\"></td><td title=\"Index: [5, 2]&#10;Color: (173, 216, 230)\" style=\"width: 20px; height: 20px;background-color: rgb(173, 216, 230);\"></td><td title=\"Index: [5, 3]&#10;Color: (173, 216, 230)\" style=\"width: 20px; height: 20px;background-color: rgb(173, 216, 230);\"></td><td title=\"Index: [5, 4]&#10;Color: (173, 216, 230)\" style=\"width: 20px; height: 20px;background-color: rgb(173, 216, 230);\"></td><td title=\"Index: [5, 5]&#10;Color: (173, 216, 230)\" style=\"width: 20px; height: 20px;background-color: rgb(173, 216, 230);\"></td><td title=\"Index: [5, 6]&#10;Color: (173, 216, 230)\" style=\"width: 20px; height: 20px;background-color: rgb(173, 216, 230);\"></td></tr><tr><td title=\"Index: [6, 0]&#10;Color: (173, 216, 230)\" style=\"width: 20px; height: 20px;background-color: rgb(173, 216, 230);\"></td><td title=\"Index: [6, 1]&#10;Color: (173, 216, 230)\" style=\"width: 20px; height: 20px;background-color: rgb(173, 216, 230);\"></td><td title=\"Index: [6, 2]&#10;Color: (173, 216, 230)\" style=\"width: 20px; height: 20px;background-color: rgb(173, 216, 230);\"></td><td title=\"Index: [6, 3]&#10;Color: (173, 216, 230)\" style=\"width: 20px; height: 20px;background-color: rgb(173, 216, 230);\"></td><td title=\"Index: [6, 4]&#10;Color: (173, 216, 230)\" style=\"width: 20px; height: 20px;background-color: rgb(173, 216, 230);\"></td><td title=\"Index: [6, 5]&#10;Color: (173, 216, 230)\" style=\"width: 20px; height: 20px;background-color: rgb(173, 216, 230);\"></td><td title=\"Index: [6, 6]&#10;Color: (173, 216, 230)\" style=\"width: 20px; height: 20px;background-color: rgb(173, 216, 230);\"></td></tr></tbody></table>"
       ],
       "metadata": {},
       "output_type": "display_data",
       "text": [
        "<IPython.core.display.HTML at 0x101e7bf10>"
       ]
      },
      {
       "name": "stdout",
       "output_type": "stream",
       "stream": "stdout",
       "text": [
        "Guess Row, please use integer:1\n"
       ]
      },
      {
       "name": "stdout",
       "output_type": "stream",
       "stream": "stdout",
       "text": [
        "Guess Col, please use integer:3\n"
       ]
      },
      {
       "output_type": "stream",
       "stream": "stdout",
       "text": [
        "You missed my battleship!\n",
        "Turns left 9\n"
       ]
      },
      {
       "html": [
        "<style type=\"text/css\">table.blockgrid {border: none;} .blockgrid tr {border: none;} .blockgrid td {padding: 0px;} #blocksc885612a-3172-43ab-af73-3328c08b2861 td {border: 1px solid white;}</style><table id=\"blocksc885612a-3172-43ab-af73-3328c08b2861\" class=\"blockgrid\"><tbody><tr><td title=\"Index: [0, 0]&#10;Color: (173, 216, 230)\" style=\"width: 20px; height: 20px;background-color: rgb(173, 216, 230);\"></td><td title=\"Index: [0, 1]&#10;Color: (173, 216, 230)\" style=\"width: 20px; height: 20px;background-color: rgb(173, 216, 230);\"></td><td title=\"Index: [0, 2]&#10;Color: (0, 0, 0)\" style=\"width: 20px; height: 20px;background-color: rgb(0, 0, 0);\"></td><td title=\"Index: [0, 3]&#10;Color: (173, 216, 230)\" style=\"width: 20px; height: 20px;background-color: rgb(173, 216, 230);\"></td><td title=\"Index: [0, 4]&#10;Color: (173, 216, 230)\" style=\"width: 20px; height: 20px;background-color: rgb(173, 216, 230);\"></td><td title=\"Index: [0, 5]&#10;Color: (173, 216, 230)\" style=\"width: 20px; height: 20px;background-color: rgb(173, 216, 230);\"></td><td title=\"Index: [0, 6]&#10;Color: (173, 216, 230)\" style=\"width: 20px; height: 20px;background-color: rgb(173, 216, 230);\"></td></tr><tr><td title=\"Index: [1, 0]&#10;Color: (173, 216, 230)\" style=\"width: 20px; height: 20px;background-color: rgb(173, 216, 230);\"></td><td title=\"Index: [1, 1]&#10;Color: (173, 216, 230)\" style=\"width: 20px; height: 20px;background-color: rgb(173, 216, 230);\"></td><td title=\"Index: [1, 2]&#10;Color: (173, 216, 230)\" style=\"width: 20px; height: 20px;background-color: rgb(173, 216, 230);\"></td><td title=\"Index: [1, 3]&#10;Color: (173, 216, 230)\" style=\"width: 20px; height: 20px;background-color: rgb(173, 216, 230);\"></td><td title=\"Index: [1, 4]&#10;Color: (173, 216, 230)\" style=\"width: 20px; height: 20px;background-color: rgb(173, 216, 230);\"></td><td title=\"Index: [1, 5]&#10;Color: (173, 216, 230)\" style=\"width: 20px; height: 20px;background-color: rgb(173, 216, 230);\"></td><td title=\"Index: [1, 6]&#10;Color: (173, 216, 230)\" style=\"width: 20px; height: 20px;background-color: rgb(173, 216, 230);\"></td></tr><tr><td title=\"Index: [2, 0]&#10;Color: (173, 216, 230)\" style=\"width: 20px; height: 20px;background-color: rgb(173, 216, 230);\"></td><td title=\"Index: [2, 1]&#10;Color: (173, 216, 230)\" style=\"width: 20px; height: 20px;background-color: rgb(173, 216, 230);\"></td><td title=\"Index: [2, 2]&#10;Color: (173, 216, 230)\" style=\"width: 20px; height: 20px;background-color: rgb(173, 216, 230);\"></td><td title=\"Index: [2, 3]&#10;Color: (173, 216, 230)\" style=\"width: 20px; height: 20px;background-color: rgb(173, 216, 230);\"></td><td title=\"Index: [2, 4]&#10;Color: (173, 216, 230)\" style=\"width: 20px; height: 20px;background-color: rgb(173, 216, 230);\"></td><td title=\"Index: [2, 5]&#10;Color: (173, 216, 230)\" style=\"width: 20px; height: 20px;background-color: rgb(173, 216, 230);\"></td><td title=\"Index: [2, 6]&#10;Color: (173, 216, 230)\" style=\"width: 20px; height: 20px;background-color: rgb(173, 216, 230);\"></td></tr><tr><td title=\"Index: [3, 0]&#10;Color: (173, 216, 230)\" style=\"width: 20px; height: 20px;background-color: rgb(173, 216, 230);\"></td><td title=\"Index: [3, 1]&#10;Color: (173, 216, 230)\" style=\"width: 20px; height: 20px;background-color: rgb(173, 216, 230);\"></td><td title=\"Index: [3, 2]&#10;Color: (173, 216, 230)\" style=\"width: 20px; height: 20px;background-color: rgb(173, 216, 230);\"></td><td title=\"Index: [3, 3]&#10;Color: (173, 216, 230)\" style=\"width: 20px; height: 20px;background-color: rgb(173, 216, 230);\"></td><td title=\"Index: [3, 4]&#10;Color: (173, 216, 230)\" style=\"width: 20px; height: 20px;background-color: rgb(173, 216, 230);\"></td><td title=\"Index: [3, 5]&#10;Color: (173, 216, 230)\" style=\"width: 20px; height: 20px;background-color: rgb(173, 216, 230);\"></td><td title=\"Index: [3, 6]&#10;Color: (173, 216, 230)\" style=\"width: 20px; height: 20px;background-color: rgb(173, 216, 230);\"></td></tr><tr><td title=\"Index: [4, 0]&#10;Color: (173, 216, 230)\" style=\"width: 20px; height: 20px;background-color: rgb(173, 216, 230);\"></td><td title=\"Index: [4, 1]&#10;Color: (173, 216, 230)\" style=\"width: 20px; height: 20px;background-color: rgb(173, 216, 230);\"></td><td title=\"Index: [4, 2]&#10;Color: (173, 216, 230)\" style=\"width: 20px; height: 20px;background-color: rgb(173, 216, 230);\"></td><td title=\"Index: [4, 3]&#10;Color: (173, 216, 230)\" style=\"width: 20px; height: 20px;background-color: rgb(173, 216, 230);\"></td><td title=\"Index: [4, 4]&#10;Color: (173, 216, 230)\" style=\"width: 20px; height: 20px;background-color: rgb(173, 216, 230);\"></td><td title=\"Index: [4, 5]&#10;Color: (173, 216, 230)\" style=\"width: 20px; height: 20px;background-color: rgb(173, 216, 230);\"></td><td title=\"Index: [4, 6]&#10;Color: (173, 216, 230)\" style=\"width: 20px; height: 20px;background-color: rgb(173, 216, 230);\"></td></tr><tr><td title=\"Index: [5, 0]&#10;Color: (173, 216, 230)\" style=\"width: 20px; height: 20px;background-color: rgb(173, 216, 230);\"></td><td title=\"Index: [5, 1]&#10;Color: (173, 216, 230)\" style=\"width: 20px; height: 20px;background-color: rgb(173, 216, 230);\"></td><td title=\"Index: [5, 2]&#10;Color: (173, 216, 230)\" style=\"width: 20px; height: 20px;background-color: rgb(173, 216, 230);\"></td><td title=\"Index: [5, 3]&#10;Color: (173, 216, 230)\" style=\"width: 20px; height: 20px;background-color: rgb(173, 216, 230);\"></td><td title=\"Index: [5, 4]&#10;Color: (173, 216, 230)\" style=\"width: 20px; height: 20px;background-color: rgb(173, 216, 230);\"></td><td title=\"Index: [5, 5]&#10;Color: (173, 216, 230)\" style=\"width: 20px; height: 20px;background-color: rgb(173, 216, 230);\"></td><td title=\"Index: [5, 6]&#10;Color: (173, 216, 230)\" style=\"width: 20px; height: 20px;background-color: rgb(173, 216, 230);\"></td></tr><tr><td title=\"Index: [6, 0]&#10;Color: (173, 216, 230)\" style=\"width: 20px; height: 20px;background-color: rgb(173, 216, 230);\"></td><td title=\"Index: [6, 1]&#10;Color: (173, 216, 230)\" style=\"width: 20px; height: 20px;background-color: rgb(173, 216, 230);\"></td><td title=\"Index: [6, 2]&#10;Color: (173, 216, 230)\" style=\"width: 20px; height: 20px;background-color: rgb(173, 216, 230);\"></td><td title=\"Index: [6, 3]&#10;Color: (173, 216, 230)\" style=\"width: 20px; height: 20px;background-color: rgb(173, 216, 230);\"></td><td title=\"Index: [6, 4]&#10;Color: (173, 216, 230)\" style=\"width: 20px; height: 20px;background-color: rgb(173, 216, 230);\"></td><td title=\"Index: [6, 5]&#10;Color: (173, 216, 230)\" style=\"width: 20px; height: 20px;background-color: rgb(173, 216, 230);\"></td><td title=\"Index: [6, 6]&#10;Color: (173, 216, 230)\" style=\"width: 20px; height: 20px;background-color: rgb(173, 216, 230);\"></td></tr></tbody></table>"
       ],
       "metadata": {},
       "output_type": "display_data",
       "text": [
        "<IPython.core.display.HTML at 0x10043c150>"
       ]
      },
      {
       "name": "stdout",
       "output_type": "stream",
       "stream": "stdout",
       "text": [
        "Guess Row, please use integer:1\n"
       ]
      },
      {
       "name": "stdout",
       "output_type": "stream",
       "stream": "stdout",
       "text": [
        "Guess Col, please use integer:1\n"
       ]
      },
      {
       "output_type": "stream",
       "stream": "stdout",
       "text": [
        "You missed my battleship!\n",
        "Turns left 8\n"
       ]
      },
      {
       "html": [
        "<style type=\"text/css\">table.blockgrid {border: none;} .blockgrid tr {border: none;} .blockgrid td {padding: 0px;} #blocksf6b8a074-d0b8-4212-a277-c4ef59f87117 td {border: 1px solid white;}</style><table id=\"blocksf6b8a074-d0b8-4212-a277-c4ef59f87117\" class=\"blockgrid\"><tbody><tr><td title=\"Index: [0, 0]&#10;Color: (0, 0, 0)\" style=\"width: 20px; height: 20px;background-color: rgb(0, 0, 0);\"></td><td title=\"Index: [0, 1]&#10;Color: (173, 216, 230)\" style=\"width: 20px; height: 20px;background-color: rgb(173, 216, 230);\"></td><td title=\"Index: [0, 2]&#10;Color: (0, 0, 0)\" style=\"width: 20px; height: 20px;background-color: rgb(0, 0, 0);\"></td><td title=\"Index: [0, 3]&#10;Color: (173, 216, 230)\" style=\"width: 20px; height: 20px;background-color: rgb(173, 216, 230);\"></td><td title=\"Index: [0, 4]&#10;Color: (173, 216, 230)\" style=\"width: 20px; height: 20px;background-color: rgb(173, 216, 230);\"></td><td title=\"Index: [0, 5]&#10;Color: (173, 216, 230)\" style=\"width: 20px; height: 20px;background-color: rgb(173, 216, 230);\"></td><td title=\"Index: [0, 6]&#10;Color: (173, 216, 230)\" style=\"width: 20px; height: 20px;background-color: rgb(173, 216, 230);\"></td></tr><tr><td title=\"Index: [1, 0]&#10;Color: (173, 216, 230)\" style=\"width: 20px; height: 20px;background-color: rgb(173, 216, 230);\"></td><td title=\"Index: [1, 1]&#10;Color: (173, 216, 230)\" style=\"width: 20px; height: 20px;background-color: rgb(173, 216, 230);\"></td><td title=\"Index: [1, 2]&#10;Color: (173, 216, 230)\" style=\"width: 20px; height: 20px;background-color: rgb(173, 216, 230);\"></td><td title=\"Index: [1, 3]&#10;Color: (173, 216, 230)\" style=\"width: 20px; height: 20px;background-color: rgb(173, 216, 230);\"></td><td title=\"Index: [1, 4]&#10;Color: (173, 216, 230)\" style=\"width: 20px; height: 20px;background-color: rgb(173, 216, 230);\"></td><td title=\"Index: [1, 5]&#10;Color: (173, 216, 230)\" style=\"width: 20px; height: 20px;background-color: rgb(173, 216, 230);\"></td><td title=\"Index: [1, 6]&#10;Color: (173, 216, 230)\" style=\"width: 20px; height: 20px;background-color: rgb(173, 216, 230);\"></td></tr><tr><td title=\"Index: [2, 0]&#10;Color: (173, 216, 230)\" style=\"width: 20px; height: 20px;background-color: rgb(173, 216, 230);\"></td><td title=\"Index: [2, 1]&#10;Color: (173, 216, 230)\" style=\"width: 20px; height: 20px;background-color: rgb(173, 216, 230);\"></td><td title=\"Index: [2, 2]&#10;Color: (173, 216, 230)\" style=\"width: 20px; height: 20px;background-color: rgb(173, 216, 230);\"></td><td title=\"Index: [2, 3]&#10;Color: (173, 216, 230)\" style=\"width: 20px; height: 20px;background-color: rgb(173, 216, 230);\"></td><td title=\"Index: [2, 4]&#10;Color: (173, 216, 230)\" style=\"width: 20px; height: 20px;background-color: rgb(173, 216, 230);\"></td><td title=\"Index: [2, 5]&#10;Color: (173, 216, 230)\" style=\"width: 20px; height: 20px;background-color: rgb(173, 216, 230);\"></td><td title=\"Index: [2, 6]&#10;Color: (173, 216, 230)\" style=\"width: 20px; height: 20px;background-color: rgb(173, 216, 230);\"></td></tr><tr><td title=\"Index: [3, 0]&#10;Color: (173, 216, 230)\" style=\"width: 20px; height: 20px;background-color: rgb(173, 216, 230);\"></td><td title=\"Index: [3, 1]&#10;Color: (173, 216, 230)\" style=\"width: 20px; height: 20px;background-color: rgb(173, 216, 230);\"></td><td title=\"Index: [3, 2]&#10;Color: (173, 216, 230)\" style=\"width: 20px; height: 20px;background-color: rgb(173, 216, 230);\"></td><td title=\"Index: [3, 3]&#10;Color: (173, 216, 230)\" style=\"width: 20px; height: 20px;background-color: rgb(173, 216, 230);\"></td><td title=\"Index: [3, 4]&#10;Color: (173, 216, 230)\" style=\"width: 20px; height: 20px;background-color: rgb(173, 216, 230);\"></td><td title=\"Index: [3, 5]&#10;Color: (173, 216, 230)\" style=\"width: 20px; height: 20px;background-color: rgb(173, 216, 230);\"></td><td title=\"Index: [3, 6]&#10;Color: (173, 216, 230)\" style=\"width: 20px; height: 20px;background-color: rgb(173, 216, 230);\"></td></tr><tr><td title=\"Index: [4, 0]&#10;Color: (173, 216, 230)\" style=\"width: 20px; height: 20px;background-color: rgb(173, 216, 230);\"></td><td title=\"Index: [4, 1]&#10;Color: (173, 216, 230)\" style=\"width: 20px; height: 20px;background-color: rgb(173, 216, 230);\"></td><td title=\"Index: [4, 2]&#10;Color: (173, 216, 230)\" style=\"width: 20px; height: 20px;background-color: rgb(173, 216, 230);\"></td><td title=\"Index: [4, 3]&#10;Color: (173, 216, 230)\" style=\"width: 20px; height: 20px;background-color: rgb(173, 216, 230);\"></td><td title=\"Index: [4, 4]&#10;Color: (173, 216, 230)\" style=\"width: 20px; height: 20px;background-color: rgb(173, 216, 230);\"></td><td title=\"Index: [4, 5]&#10;Color: (173, 216, 230)\" style=\"width: 20px; height: 20px;background-color: rgb(173, 216, 230);\"></td><td title=\"Index: [4, 6]&#10;Color: (173, 216, 230)\" style=\"width: 20px; height: 20px;background-color: rgb(173, 216, 230);\"></td></tr><tr><td title=\"Index: [5, 0]&#10;Color: (173, 216, 230)\" style=\"width: 20px; height: 20px;background-color: rgb(173, 216, 230);\"></td><td title=\"Index: [5, 1]&#10;Color: (173, 216, 230)\" style=\"width: 20px; height: 20px;background-color: rgb(173, 216, 230);\"></td><td title=\"Index: [5, 2]&#10;Color: (173, 216, 230)\" style=\"width: 20px; height: 20px;background-color: rgb(173, 216, 230);\"></td><td title=\"Index: [5, 3]&#10;Color: (173, 216, 230)\" style=\"width: 20px; height: 20px;background-color: rgb(173, 216, 230);\"></td><td title=\"Index: [5, 4]&#10;Color: (173, 216, 230)\" style=\"width: 20px; height: 20px;background-color: rgb(173, 216, 230);\"></td><td title=\"Index: [5, 5]&#10;Color: (173, 216, 230)\" style=\"width: 20px; height: 20px;background-color: rgb(173, 216, 230);\"></td><td title=\"Index: [5, 6]&#10;Color: (173, 216, 230)\" style=\"width: 20px; height: 20px;background-color: rgb(173, 216, 230);\"></td></tr><tr><td title=\"Index: [6, 0]&#10;Color: (173, 216, 230)\" style=\"width: 20px; height: 20px;background-color: rgb(173, 216, 230);\"></td><td title=\"Index: [6, 1]&#10;Color: (173, 216, 230)\" style=\"width: 20px; height: 20px;background-color: rgb(173, 216, 230);\"></td><td title=\"Index: [6, 2]&#10;Color: (173, 216, 230)\" style=\"width: 20px; height: 20px;background-color: rgb(173, 216, 230);\"></td><td title=\"Index: [6, 3]&#10;Color: (173, 216, 230)\" style=\"width: 20px; height: 20px;background-color: rgb(173, 216, 230);\"></td><td title=\"Index: [6, 4]&#10;Color: (173, 216, 230)\" style=\"width: 20px; height: 20px;background-color: rgb(173, 216, 230);\"></td><td title=\"Index: [6, 5]&#10;Color: (173, 216, 230)\" style=\"width: 20px; height: 20px;background-color: rgb(173, 216, 230);\"></td><td title=\"Index: [6, 6]&#10;Color: (173, 216, 230)\" style=\"width: 20px; height: 20px;background-color: rgb(173, 216, 230);\"></td></tr></tbody></table>"
       ],
       "metadata": {},
       "output_type": "display_data",
       "text": [
        "<IPython.core.display.HTML at 0x1004468d0>"
       ]
      },
      {
       "name": "stdout",
       "output_type": "stream",
       "stream": "stdout",
       "text": [
        "Guess Row, please use integer:4\n"
       ]
      },
      {
       "name": "stdout",
       "output_type": "stream",
       "stream": "stdout",
       "text": [
        "Guess Col, please use integer:6\n"
       ]
      },
      {
       "output_type": "stream",
       "stream": "stdout",
       "text": [
        "You missed my battleship!\n",
        "Turns left 7\n"
       ]
      },
      {
       "html": [
        "<style type=\"text/css\">table.blockgrid {border: none;} .blockgrid tr {border: none;} .blockgrid td {padding: 0px;} #blocks78808d16-9d76-4d40-8575-a634099d0e6a td {border: 1px solid white;}</style><table id=\"blocks78808d16-9d76-4d40-8575-a634099d0e6a\" class=\"blockgrid\"><tbody><tr><td title=\"Index: [0, 0]&#10;Color: (0, 0, 0)\" style=\"width: 20px; height: 20px;background-color: rgb(0, 0, 0);\"></td><td title=\"Index: [0, 1]&#10;Color: (173, 216, 230)\" style=\"width: 20px; height: 20px;background-color: rgb(173, 216, 230);\"></td><td title=\"Index: [0, 2]&#10;Color: (0, 0, 0)\" style=\"width: 20px; height: 20px;background-color: rgb(0, 0, 0);\"></td><td title=\"Index: [0, 3]&#10;Color: (173, 216, 230)\" style=\"width: 20px; height: 20px;background-color: rgb(173, 216, 230);\"></td><td title=\"Index: [0, 4]&#10;Color: (173, 216, 230)\" style=\"width: 20px; height: 20px;background-color: rgb(173, 216, 230);\"></td><td title=\"Index: [0, 5]&#10;Color: (173, 216, 230)\" style=\"width: 20px; height: 20px;background-color: rgb(173, 216, 230);\"></td><td title=\"Index: [0, 6]&#10;Color: (173, 216, 230)\" style=\"width: 20px; height: 20px;background-color: rgb(173, 216, 230);\"></td></tr><tr><td title=\"Index: [1, 0]&#10;Color: (173, 216, 230)\" style=\"width: 20px; height: 20px;background-color: rgb(173, 216, 230);\"></td><td title=\"Index: [1, 1]&#10;Color: (173, 216, 230)\" style=\"width: 20px; height: 20px;background-color: rgb(173, 216, 230);\"></td><td title=\"Index: [1, 2]&#10;Color: (173, 216, 230)\" style=\"width: 20px; height: 20px;background-color: rgb(173, 216, 230);\"></td><td title=\"Index: [1, 3]&#10;Color: (173, 216, 230)\" style=\"width: 20px; height: 20px;background-color: rgb(173, 216, 230);\"></td><td title=\"Index: [1, 4]&#10;Color: (173, 216, 230)\" style=\"width: 20px; height: 20px;background-color: rgb(173, 216, 230);\"></td><td title=\"Index: [1, 5]&#10;Color: (173, 216, 230)\" style=\"width: 20px; height: 20px;background-color: rgb(173, 216, 230);\"></td><td title=\"Index: [1, 6]&#10;Color: (173, 216, 230)\" style=\"width: 20px; height: 20px;background-color: rgb(173, 216, 230);\"></td></tr><tr><td title=\"Index: [2, 0]&#10;Color: (173, 216, 230)\" style=\"width: 20px; height: 20px;background-color: rgb(173, 216, 230);\"></td><td title=\"Index: [2, 1]&#10;Color: (173, 216, 230)\" style=\"width: 20px; height: 20px;background-color: rgb(173, 216, 230);\"></td><td title=\"Index: [2, 2]&#10;Color: (173, 216, 230)\" style=\"width: 20px; height: 20px;background-color: rgb(173, 216, 230);\"></td><td title=\"Index: [2, 3]&#10;Color: (173, 216, 230)\" style=\"width: 20px; height: 20px;background-color: rgb(173, 216, 230);\"></td><td title=\"Index: [2, 4]&#10;Color: (173, 216, 230)\" style=\"width: 20px; height: 20px;background-color: rgb(173, 216, 230);\"></td><td title=\"Index: [2, 5]&#10;Color: (173, 216, 230)\" style=\"width: 20px; height: 20px;background-color: rgb(173, 216, 230);\"></td><td title=\"Index: [2, 6]&#10;Color: (173, 216, 230)\" style=\"width: 20px; height: 20px;background-color: rgb(173, 216, 230);\"></td></tr><tr><td title=\"Index: [3, 0]&#10;Color: (173, 216, 230)\" style=\"width: 20px; height: 20px;background-color: rgb(173, 216, 230);\"></td><td title=\"Index: [3, 1]&#10;Color: (173, 216, 230)\" style=\"width: 20px; height: 20px;background-color: rgb(173, 216, 230);\"></td><td title=\"Index: [3, 2]&#10;Color: (173, 216, 230)\" style=\"width: 20px; height: 20px;background-color: rgb(173, 216, 230);\"></td><td title=\"Index: [3, 3]&#10;Color: (173, 216, 230)\" style=\"width: 20px; height: 20px;background-color: rgb(173, 216, 230);\"></td><td title=\"Index: [3, 4]&#10;Color: (173, 216, 230)\" style=\"width: 20px; height: 20px;background-color: rgb(173, 216, 230);\"></td><td title=\"Index: [3, 5]&#10;Color: (0, 0, 0)\" style=\"width: 20px; height: 20px;background-color: rgb(0, 0, 0);\"></td><td title=\"Index: [3, 6]&#10;Color: (173, 216, 230)\" style=\"width: 20px; height: 20px;background-color: rgb(173, 216, 230);\"></td></tr><tr><td title=\"Index: [4, 0]&#10;Color: (173, 216, 230)\" style=\"width: 20px; height: 20px;background-color: rgb(173, 216, 230);\"></td><td title=\"Index: [4, 1]&#10;Color: (173, 216, 230)\" style=\"width: 20px; height: 20px;background-color: rgb(173, 216, 230);\"></td><td title=\"Index: [4, 2]&#10;Color: (173, 216, 230)\" style=\"width: 20px; height: 20px;background-color: rgb(173, 216, 230);\"></td><td title=\"Index: [4, 3]&#10;Color: (173, 216, 230)\" style=\"width: 20px; height: 20px;background-color: rgb(173, 216, 230);\"></td><td title=\"Index: [4, 4]&#10;Color: (173, 216, 230)\" style=\"width: 20px; height: 20px;background-color: rgb(173, 216, 230);\"></td><td title=\"Index: [4, 5]&#10;Color: (173, 216, 230)\" style=\"width: 20px; height: 20px;background-color: rgb(173, 216, 230);\"></td><td title=\"Index: [4, 6]&#10;Color: (173, 216, 230)\" style=\"width: 20px; height: 20px;background-color: rgb(173, 216, 230);\"></td></tr><tr><td title=\"Index: [5, 0]&#10;Color: (173, 216, 230)\" style=\"width: 20px; height: 20px;background-color: rgb(173, 216, 230);\"></td><td title=\"Index: [5, 1]&#10;Color: (173, 216, 230)\" style=\"width: 20px; height: 20px;background-color: rgb(173, 216, 230);\"></td><td title=\"Index: [5, 2]&#10;Color: (173, 216, 230)\" style=\"width: 20px; height: 20px;background-color: rgb(173, 216, 230);\"></td><td title=\"Index: [5, 3]&#10;Color: (173, 216, 230)\" style=\"width: 20px; height: 20px;background-color: rgb(173, 216, 230);\"></td><td title=\"Index: [5, 4]&#10;Color: (173, 216, 230)\" style=\"width: 20px; height: 20px;background-color: rgb(173, 216, 230);\"></td><td title=\"Index: [5, 5]&#10;Color: (173, 216, 230)\" style=\"width: 20px; height: 20px;background-color: rgb(173, 216, 230);\"></td><td title=\"Index: [5, 6]&#10;Color: (173, 216, 230)\" style=\"width: 20px; height: 20px;background-color: rgb(173, 216, 230);\"></td></tr><tr><td title=\"Index: [6, 0]&#10;Color: (173, 216, 230)\" style=\"width: 20px; height: 20px;background-color: rgb(173, 216, 230);\"></td><td title=\"Index: [6, 1]&#10;Color: (173, 216, 230)\" style=\"width: 20px; height: 20px;background-color: rgb(173, 216, 230);\"></td><td title=\"Index: [6, 2]&#10;Color: (173, 216, 230)\" style=\"width: 20px; height: 20px;background-color: rgb(173, 216, 230);\"></td><td title=\"Index: [6, 3]&#10;Color: (173, 216, 230)\" style=\"width: 20px; height: 20px;background-color: rgb(173, 216, 230);\"></td><td title=\"Index: [6, 4]&#10;Color: (173, 216, 230)\" style=\"width: 20px; height: 20px;background-color: rgb(173, 216, 230);\"></td><td title=\"Index: [6, 5]&#10;Color: (173, 216, 230)\" style=\"width: 20px; height: 20px;background-color: rgb(173, 216, 230);\"></td><td title=\"Index: [6, 6]&#10;Color: (173, 216, 230)\" style=\"width: 20px; height: 20px;background-color: rgb(173, 216, 230);\"></td></tr></tbody></table>"
       ],
       "metadata": {},
       "output_type": "display_data",
       "text": [
        "<IPython.core.display.HTML at 0x1004469d0>"
       ]
      },
      {
       "name": "stdout",
       "output_type": "stream",
       "stream": "stdout",
       "text": [
        "Guess Row, please use integer:6\n"
       ]
      },
      {
       "name": "stdout",
       "output_type": "stream",
       "stream": "stdout",
       "text": [
        "Guess Col, please use integer:3\n"
       ]
      },
      {
       "output_type": "stream",
       "stream": "stdout",
       "text": [
        "You missed my battleship!\n",
        "Turns left 6\n"
       ]
      },
      {
       "html": [
        "<style type=\"text/css\">table.blockgrid {border: none;} .blockgrid tr {border: none;} .blockgrid td {padding: 0px;} #blocksc1ea8925-17fd-4b3e-b76f-5aebf6f85d60 td {border: 1px solid white;}</style><table id=\"blocksc1ea8925-17fd-4b3e-b76f-5aebf6f85d60\" class=\"blockgrid\"><tbody><tr><td title=\"Index: [0, 0]&#10;Color: (0, 0, 0)\" style=\"width: 20px; height: 20px;background-color: rgb(0, 0, 0);\"></td><td title=\"Index: [0, 1]&#10;Color: (173, 216, 230)\" style=\"width: 20px; height: 20px;background-color: rgb(173, 216, 230);\"></td><td title=\"Index: [0, 2]&#10;Color: (0, 0, 0)\" style=\"width: 20px; height: 20px;background-color: rgb(0, 0, 0);\"></td><td title=\"Index: [0, 3]&#10;Color: (173, 216, 230)\" style=\"width: 20px; height: 20px;background-color: rgb(173, 216, 230);\"></td><td title=\"Index: [0, 4]&#10;Color: (173, 216, 230)\" style=\"width: 20px; height: 20px;background-color: rgb(173, 216, 230);\"></td><td title=\"Index: [0, 5]&#10;Color: (173, 216, 230)\" style=\"width: 20px; height: 20px;background-color: rgb(173, 216, 230);\"></td><td title=\"Index: [0, 6]&#10;Color: (173, 216, 230)\" style=\"width: 20px; height: 20px;background-color: rgb(173, 216, 230);\"></td></tr><tr><td title=\"Index: [1, 0]&#10;Color: (173, 216, 230)\" style=\"width: 20px; height: 20px;background-color: rgb(173, 216, 230);\"></td><td title=\"Index: [1, 1]&#10;Color: (173, 216, 230)\" style=\"width: 20px; height: 20px;background-color: rgb(173, 216, 230);\"></td><td title=\"Index: [1, 2]&#10;Color: (173, 216, 230)\" style=\"width: 20px; height: 20px;background-color: rgb(173, 216, 230);\"></td><td title=\"Index: [1, 3]&#10;Color: (173, 216, 230)\" style=\"width: 20px; height: 20px;background-color: rgb(173, 216, 230);\"></td><td title=\"Index: [1, 4]&#10;Color: (173, 216, 230)\" style=\"width: 20px; height: 20px;background-color: rgb(173, 216, 230);\"></td><td title=\"Index: [1, 5]&#10;Color: (173, 216, 230)\" style=\"width: 20px; height: 20px;background-color: rgb(173, 216, 230);\"></td><td title=\"Index: [1, 6]&#10;Color: (173, 216, 230)\" style=\"width: 20px; height: 20px;background-color: rgb(173, 216, 230);\"></td></tr><tr><td title=\"Index: [2, 0]&#10;Color: (173, 216, 230)\" style=\"width: 20px; height: 20px;background-color: rgb(173, 216, 230);\"></td><td title=\"Index: [2, 1]&#10;Color: (173, 216, 230)\" style=\"width: 20px; height: 20px;background-color: rgb(173, 216, 230);\"></td><td title=\"Index: [2, 2]&#10;Color: (173, 216, 230)\" style=\"width: 20px; height: 20px;background-color: rgb(173, 216, 230);\"></td><td title=\"Index: [2, 3]&#10;Color: (173, 216, 230)\" style=\"width: 20px; height: 20px;background-color: rgb(173, 216, 230);\"></td><td title=\"Index: [2, 4]&#10;Color: (173, 216, 230)\" style=\"width: 20px; height: 20px;background-color: rgb(173, 216, 230);\"></td><td title=\"Index: [2, 5]&#10;Color: (173, 216, 230)\" style=\"width: 20px; height: 20px;background-color: rgb(173, 216, 230);\"></td><td title=\"Index: [2, 6]&#10;Color: (173, 216, 230)\" style=\"width: 20px; height: 20px;background-color: rgb(173, 216, 230);\"></td></tr><tr><td title=\"Index: [3, 0]&#10;Color: (173, 216, 230)\" style=\"width: 20px; height: 20px;background-color: rgb(173, 216, 230);\"></td><td title=\"Index: [3, 1]&#10;Color: (173, 216, 230)\" style=\"width: 20px; height: 20px;background-color: rgb(173, 216, 230);\"></td><td title=\"Index: [3, 2]&#10;Color: (173, 216, 230)\" style=\"width: 20px; height: 20px;background-color: rgb(173, 216, 230);\"></td><td title=\"Index: [3, 3]&#10;Color: (173, 216, 230)\" style=\"width: 20px; height: 20px;background-color: rgb(173, 216, 230);\"></td><td title=\"Index: [3, 4]&#10;Color: (173, 216, 230)\" style=\"width: 20px; height: 20px;background-color: rgb(173, 216, 230);\"></td><td title=\"Index: [3, 5]&#10;Color: (0, 0, 0)\" style=\"width: 20px; height: 20px;background-color: rgb(0, 0, 0);\"></td><td title=\"Index: [3, 6]&#10;Color: (173, 216, 230)\" style=\"width: 20px; height: 20px;background-color: rgb(173, 216, 230);\"></td></tr><tr><td title=\"Index: [4, 0]&#10;Color: (173, 216, 230)\" style=\"width: 20px; height: 20px;background-color: rgb(173, 216, 230);\"></td><td title=\"Index: [4, 1]&#10;Color: (173, 216, 230)\" style=\"width: 20px; height: 20px;background-color: rgb(173, 216, 230);\"></td><td title=\"Index: [4, 2]&#10;Color: (173, 216, 230)\" style=\"width: 20px; height: 20px;background-color: rgb(173, 216, 230);\"></td><td title=\"Index: [4, 3]&#10;Color: (173, 216, 230)\" style=\"width: 20px; height: 20px;background-color: rgb(173, 216, 230);\"></td><td title=\"Index: [4, 4]&#10;Color: (173, 216, 230)\" style=\"width: 20px; height: 20px;background-color: rgb(173, 216, 230);\"></td><td title=\"Index: [4, 5]&#10;Color: (173, 216, 230)\" style=\"width: 20px; height: 20px;background-color: rgb(173, 216, 230);\"></td><td title=\"Index: [4, 6]&#10;Color: (173, 216, 230)\" style=\"width: 20px; height: 20px;background-color: rgb(173, 216, 230);\"></td></tr><tr><td title=\"Index: [5, 0]&#10;Color: (173, 216, 230)\" style=\"width: 20px; height: 20px;background-color: rgb(173, 216, 230);\"></td><td title=\"Index: [5, 1]&#10;Color: (173, 216, 230)\" style=\"width: 20px; height: 20px;background-color: rgb(173, 216, 230);\"></td><td title=\"Index: [5, 2]&#10;Color: (0, 0, 0)\" style=\"width: 20px; height: 20px;background-color: rgb(0, 0, 0);\"></td><td title=\"Index: [5, 3]&#10;Color: (173, 216, 230)\" style=\"width: 20px; height: 20px;background-color: rgb(173, 216, 230);\"></td><td title=\"Index: [5, 4]&#10;Color: (173, 216, 230)\" style=\"width: 20px; height: 20px;background-color: rgb(173, 216, 230);\"></td><td title=\"Index: [5, 5]&#10;Color: (173, 216, 230)\" style=\"width: 20px; height: 20px;background-color: rgb(173, 216, 230);\"></td><td title=\"Index: [5, 6]&#10;Color: (173, 216, 230)\" style=\"width: 20px; height: 20px;background-color: rgb(173, 216, 230);\"></td></tr><tr><td title=\"Index: [6, 0]&#10;Color: (173, 216, 230)\" style=\"width: 20px; height: 20px;background-color: rgb(173, 216, 230);\"></td><td title=\"Index: [6, 1]&#10;Color: (173, 216, 230)\" style=\"width: 20px; height: 20px;background-color: rgb(173, 216, 230);\"></td><td title=\"Index: [6, 2]&#10;Color: (173, 216, 230)\" style=\"width: 20px; height: 20px;background-color: rgb(173, 216, 230);\"></td><td title=\"Index: [6, 3]&#10;Color: (173, 216, 230)\" style=\"width: 20px; height: 20px;background-color: rgb(173, 216, 230);\"></td><td title=\"Index: [6, 4]&#10;Color: (173, 216, 230)\" style=\"width: 20px; height: 20px;background-color: rgb(173, 216, 230);\"></td><td title=\"Index: [6, 5]&#10;Color: (173, 216, 230)\" style=\"width: 20px; height: 20px;background-color: rgb(173, 216, 230);\"></td><td title=\"Index: [6, 6]&#10;Color: (173, 216, 230)\" style=\"width: 20px; height: 20px;background-color: rgb(173, 216, 230);\"></td></tr></tbody></table>"
       ],
       "metadata": {},
       "output_type": "display_data",
       "text": [
        "<IPython.core.display.HTML at 0x1016fddd0>"
       ]
      },
      {
       "name": "stdout",
       "output_type": "stream",
       "stream": "stdout",
       "text": [
        "Guess Row, please use integer:2\n"
       ]
      },
      {
       "name": "stdout",
       "output_type": "stream",
       "stream": "stdout",
       "text": [
        "Guess Col, please use integer:6\n"
       ]
      },
      {
       "output_type": "stream",
       "stream": "stdout",
       "text": [
        "You missed my battleship!\n",
        "Turns left 5\n"
       ]
      },
      {
       "html": [
        "<style type=\"text/css\">table.blockgrid {border: none;} .blockgrid tr {border: none;} .blockgrid td {padding: 0px;} #blockse36ba953-d259-4d31-a8de-2763b8c69dee td {border: 1px solid white;}</style><table id=\"blockse36ba953-d259-4d31-a8de-2763b8c69dee\" class=\"blockgrid\"><tbody><tr><td title=\"Index: [0, 0]&#10;Color: (0, 0, 0)\" style=\"width: 20px; height: 20px;background-color: rgb(0, 0, 0);\"></td><td title=\"Index: [0, 1]&#10;Color: (173, 216, 230)\" style=\"width: 20px; height: 20px;background-color: rgb(173, 216, 230);\"></td><td title=\"Index: [0, 2]&#10;Color: (0, 0, 0)\" style=\"width: 20px; height: 20px;background-color: rgb(0, 0, 0);\"></td><td title=\"Index: [0, 3]&#10;Color: (173, 216, 230)\" style=\"width: 20px; height: 20px;background-color: rgb(173, 216, 230);\"></td><td title=\"Index: [0, 4]&#10;Color: (173, 216, 230)\" style=\"width: 20px; height: 20px;background-color: rgb(173, 216, 230);\"></td><td title=\"Index: [0, 5]&#10;Color: (173, 216, 230)\" style=\"width: 20px; height: 20px;background-color: rgb(173, 216, 230);\"></td><td title=\"Index: [0, 6]&#10;Color: (173, 216, 230)\" style=\"width: 20px; height: 20px;background-color: rgb(173, 216, 230);\"></td></tr><tr><td title=\"Index: [1, 0]&#10;Color: (173, 216, 230)\" style=\"width: 20px; height: 20px;background-color: rgb(173, 216, 230);\"></td><td title=\"Index: [1, 1]&#10;Color: (173, 216, 230)\" style=\"width: 20px; height: 20px;background-color: rgb(173, 216, 230);\"></td><td title=\"Index: [1, 2]&#10;Color: (173, 216, 230)\" style=\"width: 20px; height: 20px;background-color: rgb(173, 216, 230);\"></td><td title=\"Index: [1, 3]&#10;Color: (173, 216, 230)\" style=\"width: 20px; height: 20px;background-color: rgb(173, 216, 230);\"></td><td title=\"Index: [1, 4]&#10;Color: (173, 216, 230)\" style=\"width: 20px; height: 20px;background-color: rgb(173, 216, 230);\"></td><td title=\"Index: [1, 5]&#10;Color: (0, 0, 0)\" style=\"width: 20px; height: 20px;background-color: rgb(0, 0, 0);\"></td><td title=\"Index: [1, 6]&#10;Color: (173, 216, 230)\" style=\"width: 20px; height: 20px;background-color: rgb(173, 216, 230);\"></td></tr><tr><td title=\"Index: [2, 0]&#10;Color: (173, 216, 230)\" style=\"width: 20px; height: 20px;background-color: rgb(173, 216, 230);\"></td><td title=\"Index: [2, 1]&#10;Color: (173, 216, 230)\" style=\"width: 20px; height: 20px;background-color: rgb(173, 216, 230);\"></td><td title=\"Index: [2, 2]&#10;Color: (173, 216, 230)\" style=\"width: 20px; height: 20px;background-color: rgb(173, 216, 230);\"></td><td title=\"Index: [2, 3]&#10;Color: (173, 216, 230)\" style=\"width: 20px; height: 20px;background-color: rgb(173, 216, 230);\"></td><td title=\"Index: [2, 4]&#10;Color: (173, 216, 230)\" style=\"width: 20px; height: 20px;background-color: rgb(173, 216, 230);\"></td><td title=\"Index: [2, 5]&#10;Color: (173, 216, 230)\" style=\"width: 20px; height: 20px;background-color: rgb(173, 216, 230);\"></td><td title=\"Index: [2, 6]&#10;Color: (173, 216, 230)\" style=\"width: 20px; height: 20px;background-color: rgb(173, 216, 230);\"></td></tr><tr><td title=\"Index: [3, 0]&#10;Color: (173, 216, 230)\" style=\"width: 20px; height: 20px;background-color: rgb(173, 216, 230);\"></td><td title=\"Index: [3, 1]&#10;Color: (173, 216, 230)\" style=\"width: 20px; height: 20px;background-color: rgb(173, 216, 230);\"></td><td title=\"Index: [3, 2]&#10;Color: (173, 216, 230)\" style=\"width: 20px; height: 20px;background-color: rgb(173, 216, 230);\"></td><td title=\"Index: [3, 3]&#10;Color: (173, 216, 230)\" style=\"width: 20px; height: 20px;background-color: rgb(173, 216, 230);\"></td><td title=\"Index: [3, 4]&#10;Color: (173, 216, 230)\" style=\"width: 20px; height: 20px;background-color: rgb(173, 216, 230);\"></td><td title=\"Index: [3, 5]&#10;Color: (0, 0, 0)\" style=\"width: 20px; height: 20px;background-color: rgb(0, 0, 0);\"></td><td title=\"Index: [3, 6]&#10;Color: (173, 216, 230)\" style=\"width: 20px; height: 20px;background-color: rgb(173, 216, 230);\"></td></tr><tr><td title=\"Index: [4, 0]&#10;Color: (173, 216, 230)\" style=\"width: 20px; height: 20px;background-color: rgb(173, 216, 230);\"></td><td title=\"Index: [4, 1]&#10;Color: (173, 216, 230)\" style=\"width: 20px; height: 20px;background-color: rgb(173, 216, 230);\"></td><td title=\"Index: [4, 2]&#10;Color: (173, 216, 230)\" style=\"width: 20px; height: 20px;background-color: rgb(173, 216, 230);\"></td><td title=\"Index: [4, 3]&#10;Color: (173, 216, 230)\" style=\"width: 20px; height: 20px;background-color: rgb(173, 216, 230);\"></td><td title=\"Index: [4, 4]&#10;Color: (173, 216, 230)\" style=\"width: 20px; height: 20px;background-color: rgb(173, 216, 230);\"></td><td title=\"Index: [4, 5]&#10;Color: (173, 216, 230)\" style=\"width: 20px; height: 20px;background-color: rgb(173, 216, 230);\"></td><td title=\"Index: [4, 6]&#10;Color: (173, 216, 230)\" style=\"width: 20px; height: 20px;background-color: rgb(173, 216, 230);\"></td></tr><tr><td title=\"Index: [5, 0]&#10;Color: (173, 216, 230)\" style=\"width: 20px; height: 20px;background-color: rgb(173, 216, 230);\"></td><td title=\"Index: [5, 1]&#10;Color: (173, 216, 230)\" style=\"width: 20px; height: 20px;background-color: rgb(173, 216, 230);\"></td><td title=\"Index: [5, 2]&#10;Color: (0, 0, 0)\" style=\"width: 20px; height: 20px;background-color: rgb(0, 0, 0);\"></td><td title=\"Index: [5, 3]&#10;Color: (173, 216, 230)\" style=\"width: 20px; height: 20px;background-color: rgb(173, 216, 230);\"></td><td title=\"Index: [5, 4]&#10;Color: (173, 216, 230)\" style=\"width: 20px; height: 20px;background-color: rgb(173, 216, 230);\"></td><td title=\"Index: [5, 5]&#10;Color: (173, 216, 230)\" style=\"width: 20px; height: 20px;background-color: rgb(173, 216, 230);\"></td><td title=\"Index: [5, 6]&#10;Color: (173, 216, 230)\" style=\"width: 20px; height: 20px;background-color: rgb(173, 216, 230);\"></td></tr><tr><td title=\"Index: [6, 0]&#10;Color: (173, 216, 230)\" style=\"width: 20px; height: 20px;background-color: rgb(173, 216, 230);\"></td><td title=\"Index: [6, 1]&#10;Color: (173, 216, 230)\" style=\"width: 20px; height: 20px;background-color: rgb(173, 216, 230);\"></td><td title=\"Index: [6, 2]&#10;Color: (173, 216, 230)\" style=\"width: 20px; height: 20px;background-color: rgb(173, 216, 230);\"></td><td title=\"Index: [6, 3]&#10;Color: (173, 216, 230)\" style=\"width: 20px; height: 20px;background-color: rgb(173, 216, 230);\"></td><td title=\"Index: [6, 4]&#10;Color: (173, 216, 230)\" style=\"width: 20px; height: 20px;background-color: rgb(173, 216, 230);\"></td><td title=\"Index: [6, 5]&#10;Color: (173, 216, 230)\" style=\"width: 20px; height: 20px;background-color: rgb(173, 216, 230);\"></td><td title=\"Index: [6, 6]&#10;Color: (173, 216, 230)\" style=\"width: 20px; height: 20px;background-color: rgb(173, 216, 230);\"></td></tr></tbody></table>"
       ],
       "metadata": {},
       "output_type": "display_data",
       "text": [
        "<IPython.core.display.HTML at 0x102419890>"
       ]
      },
      {
       "name": "stdout",
       "output_type": "stream",
       "stream": "stdout",
       "text": [
        "Guess Row, please use integer:3\n"
       ]
      },
      {
       "name": "stdout",
       "output_type": "stream",
       "stream": "stdout",
       "text": [
        "Guess Col, please use integer:7\n"
       ]
      },
      {
       "output_type": "stream",
       "stream": "stdout",
       "text": [
        "You missed my battleship!\n",
        "Turns left 4\n"
       ]
      },
      {
       "html": [
        "<style type=\"text/css\">table.blockgrid {border: none;} .blockgrid tr {border: none;} .blockgrid td {padding: 0px;} #blockse1e1b2d4-9a76-43c7-a69b-d5020416da0a td {border: 1px solid white;}</style><table id=\"blockse1e1b2d4-9a76-43c7-a69b-d5020416da0a\" class=\"blockgrid\"><tbody><tr><td title=\"Index: [0, 0]&#10;Color: (0, 0, 0)\" style=\"width: 20px; height: 20px;background-color: rgb(0, 0, 0);\"></td><td title=\"Index: [0, 1]&#10;Color: (173, 216, 230)\" style=\"width: 20px; height: 20px;background-color: rgb(173, 216, 230);\"></td><td title=\"Index: [0, 2]&#10;Color: (0, 0, 0)\" style=\"width: 20px; height: 20px;background-color: rgb(0, 0, 0);\"></td><td title=\"Index: [0, 3]&#10;Color: (173, 216, 230)\" style=\"width: 20px; height: 20px;background-color: rgb(173, 216, 230);\"></td><td title=\"Index: [0, 4]&#10;Color: (173, 216, 230)\" style=\"width: 20px; height: 20px;background-color: rgb(173, 216, 230);\"></td><td title=\"Index: [0, 5]&#10;Color: (173, 216, 230)\" style=\"width: 20px; height: 20px;background-color: rgb(173, 216, 230);\"></td><td title=\"Index: [0, 6]&#10;Color: (173, 216, 230)\" style=\"width: 20px; height: 20px;background-color: rgb(173, 216, 230);\"></td></tr><tr><td title=\"Index: [1, 0]&#10;Color: (173, 216, 230)\" style=\"width: 20px; height: 20px;background-color: rgb(173, 216, 230);\"></td><td title=\"Index: [1, 1]&#10;Color: (173, 216, 230)\" style=\"width: 20px; height: 20px;background-color: rgb(173, 216, 230);\"></td><td title=\"Index: [1, 2]&#10;Color: (173, 216, 230)\" style=\"width: 20px; height: 20px;background-color: rgb(173, 216, 230);\"></td><td title=\"Index: [1, 3]&#10;Color: (173, 216, 230)\" style=\"width: 20px; height: 20px;background-color: rgb(173, 216, 230);\"></td><td title=\"Index: [1, 4]&#10;Color: (173, 216, 230)\" style=\"width: 20px; height: 20px;background-color: rgb(173, 216, 230);\"></td><td title=\"Index: [1, 5]&#10;Color: (0, 0, 0)\" style=\"width: 20px; height: 20px;background-color: rgb(0, 0, 0);\"></td><td title=\"Index: [1, 6]&#10;Color: (173, 216, 230)\" style=\"width: 20px; height: 20px;background-color: rgb(173, 216, 230);\"></td></tr><tr><td title=\"Index: [2, 0]&#10;Color: (173, 216, 230)\" style=\"width: 20px; height: 20px;background-color: rgb(173, 216, 230);\"></td><td title=\"Index: [2, 1]&#10;Color: (173, 216, 230)\" style=\"width: 20px; height: 20px;background-color: rgb(173, 216, 230);\"></td><td title=\"Index: [2, 2]&#10;Color: (173, 216, 230)\" style=\"width: 20px; height: 20px;background-color: rgb(173, 216, 230);\"></td><td title=\"Index: [2, 3]&#10;Color: (173, 216, 230)\" style=\"width: 20px; height: 20px;background-color: rgb(173, 216, 230);\"></td><td title=\"Index: [2, 4]&#10;Color: (173, 216, 230)\" style=\"width: 20px; height: 20px;background-color: rgb(173, 216, 230);\"></td><td title=\"Index: [2, 5]&#10;Color: (173, 216, 230)\" style=\"width: 20px; height: 20px;background-color: rgb(173, 216, 230);\"></td><td title=\"Index: [2, 6]&#10;Color: (0, 0, 0)\" style=\"width: 20px; height: 20px;background-color: rgb(0, 0, 0);\"></td></tr><tr><td title=\"Index: [3, 0]&#10;Color: (173, 216, 230)\" style=\"width: 20px; height: 20px;background-color: rgb(173, 216, 230);\"></td><td title=\"Index: [3, 1]&#10;Color: (173, 216, 230)\" style=\"width: 20px; height: 20px;background-color: rgb(173, 216, 230);\"></td><td title=\"Index: [3, 2]&#10;Color: (173, 216, 230)\" style=\"width: 20px; height: 20px;background-color: rgb(173, 216, 230);\"></td><td title=\"Index: [3, 3]&#10;Color: (173, 216, 230)\" style=\"width: 20px; height: 20px;background-color: rgb(173, 216, 230);\"></td><td title=\"Index: [3, 4]&#10;Color: (173, 216, 230)\" style=\"width: 20px; height: 20px;background-color: rgb(173, 216, 230);\"></td><td title=\"Index: [3, 5]&#10;Color: (0, 0, 0)\" style=\"width: 20px; height: 20px;background-color: rgb(0, 0, 0);\"></td><td title=\"Index: [3, 6]&#10;Color: (173, 216, 230)\" style=\"width: 20px; height: 20px;background-color: rgb(173, 216, 230);\"></td></tr><tr><td title=\"Index: [4, 0]&#10;Color: (173, 216, 230)\" style=\"width: 20px; height: 20px;background-color: rgb(173, 216, 230);\"></td><td title=\"Index: [4, 1]&#10;Color: (173, 216, 230)\" style=\"width: 20px; height: 20px;background-color: rgb(173, 216, 230);\"></td><td title=\"Index: [4, 2]&#10;Color: (173, 216, 230)\" style=\"width: 20px; height: 20px;background-color: rgb(173, 216, 230);\"></td><td title=\"Index: [4, 3]&#10;Color: (173, 216, 230)\" style=\"width: 20px; height: 20px;background-color: rgb(173, 216, 230);\"></td><td title=\"Index: [4, 4]&#10;Color: (173, 216, 230)\" style=\"width: 20px; height: 20px;background-color: rgb(173, 216, 230);\"></td><td title=\"Index: [4, 5]&#10;Color: (173, 216, 230)\" style=\"width: 20px; height: 20px;background-color: rgb(173, 216, 230);\"></td><td title=\"Index: [4, 6]&#10;Color: (173, 216, 230)\" style=\"width: 20px; height: 20px;background-color: rgb(173, 216, 230);\"></td></tr><tr><td title=\"Index: [5, 0]&#10;Color: (173, 216, 230)\" style=\"width: 20px; height: 20px;background-color: rgb(173, 216, 230);\"></td><td title=\"Index: [5, 1]&#10;Color: (173, 216, 230)\" style=\"width: 20px; height: 20px;background-color: rgb(173, 216, 230);\"></td><td title=\"Index: [5, 2]&#10;Color: (0, 0, 0)\" style=\"width: 20px; height: 20px;background-color: rgb(0, 0, 0);\"></td><td title=\"Index: [5, 3]&#10;Color: (173, 216, 230)\" style=\"width: 20px; height: 20px;background-color: rgb(173, 216, 230);\"></td><td title=\"Index: [5, 4]&#10;Color: (173, 216, 230)\" style=\"width: 20px; height: 20px;background-color: rgb(173, 216, 230);\"></td><td title=\"Index: [5, 5]&#10;Color: (173, 216, 230)\" style=\"width: 20px; height: 20px;background-color: rgb(173, 216, 230);\"></td><td title=\"Index: [5, 6]&#10;Color: (173, 216, 230)\" style=\"width: 20px; height: 20px;background-color: rgb(173, 216, 230);\"></td></tr><tr><td title=\"Index: [6, 0]&#10;Color: (173, 216, 230)\" style=\"width: 20px; height: 20px;background-color: rgb(173, 216, 230);\"></td><td title=\"Index: [6, 1]&#10;Color: (173, 216, 230)\" style=\"width: 20px; height: 20px;background-color: rgb(173, 216, 230);\"></td><td title=\"Index: [6, 2]&#10;Color: (173, 216, 230)\" style=\"width: 20px; height: 20px;background-color: rgb(173, 216, 230);\"></td><td title=\"Index: [6, 3]&#10;Color: (173, 216, 230)\" style=\"width: 20px; height: 20px;background-color: rgb(173, 216, 230);\"></td><td title=\"Index: [6, 4]&#10;Color: (173, 216, 230)\" style=\"width: 20px; height: 20px;background-color: rgb(173, 216, 230);\"></td><td title=\"Index: [6, 5]&#10;Color: (173, 216, 230)\" style=\"width: 20px; height: 20px;background-color: rgb(173, 216, 230);\"></td><td title=\"Index: [6, 6]&#10;Color: (173, 216, 230)\" style=\"width: 20px; height: 20px;background-color: rgb(173, 216, 230);\"></td></tr></tbody></table>"
       ],
       "metadata": {},
       "output_type": "display_data",
       "text": [
        "<IPython.core.display.HTML at 0x1024198d0>"
       ]
      },
      {
       "name": "stdout",
       "output_type": "stream",
       "stream": "stdout",
       "text": [
        "Guess Row, please use integer:3\n"
       ]
      },
      {
       "name": "stdout",
       "output_type": "stream",
       "stream": "stdout",
       "text": [
        "Guess Col, please use integer:3\n"
       ]
      },
      {
       "output_type": "stream",
       "stream": "stdout",
       "text": [
        "You missed my battleship!\n",
        "Turns left 3\n"
       ]
      },
      {
       "html": [
        "<style type=\"text/css\">table.blockgrid {border: none;} .blockgrid tr {border: none;} .blockgrid td {padding: 0px;} #blocks3f08d9c1-ed9b-4f30-9ad8-9922484cd6c2 td {border: 1px solid white;}</style><table id=\"blocks3f08d9c1-ed9b-4f30-9ad8-9922484cd6c2\" class=\"blockgrid\"><tbody><tr><td title=\"Index: [0, 0]&#10;Color: (0, 0, 0)\" style=\"width: 20px; height: 20px;background-color: rgb(0, 0, 0);\"></td><td title=\"Index: [0, 1]&#10;Color: (173, 216, 230)\" style=\"width: 20px; height: 20px;background-color: rgb(173, 216, 230);\"></td><td title=\"Index: [0, 2]&#10;Color: (0, 0, 0)\" style=\"width: 20px; height: 20px;background-color: rgb(0, 0, 0);\"></td><td title=\"Index: [0, 3]&#10;Color: (173, 216, 230)\" style=\"width: 20px; height: 20px;background-color: rgb(173, 216, 230);\"></td><td title=\"Index: [0, 4]&#10;Color: (173, 216, 230)\" style=\"width: 20px; height: 20px;background-color: rgb(173, 216, 230);\"></td><td title=\"Index: [0, 5]&#10;Color: (173, 216, 230)\" style=\"width: 20px; height: 20px;background-color: rgb(173, 216, 230);\"></td><td title=\"Index: [0, 6]&#10;Color: (173, 216, 230)\" style=\"width: 20px; height: 20px;background-color: rgb(173, 216, 230);\"></td></tr><tr><td title=\"Index: [1, 0]&#10;Color: (173, 216, 230)\" style=\"width: 20px; height: 20px;background-color: rgb(173, 216, 230);\"></td><td title=\"Index: [1, 1]&#10;Color: (173, 216, 230)\" style=\"width: 20px; height: 20px;background-color: rgb(173, 216, 230);\"></td><td title=\"Index: [1, 2]&#10;Color: (173, 216, 230)\" style=\"width: 20px; height: 20px;background-color: rgb(173, 216, 230);\"></td><td title=\"Index: [1, 3]&#10;Color: (173, 216, 230)\" style=\"width: 20px; height: 20px;background-color: rgb(173, 216, 230);\"></td><td title=\"Index: [1, 4]&#10;Color: (173, 216, 230)\" style=\"width: 20px; height: 20px;background-color: rgb(173, 216, 230);\"></td><td title=\"Index: [1, 5]&#10;Color: (0, 0, 0)\" style=\"width: 20px; height: 20px;background-color: rgb(0, 0, 0);\"></td><td title=\"Index: [1, 6]&#10;Color: (173, 216, 230)\" style=\"width: 20px; height: 20px;background-color: rgb(173, 216, 230);\"></td></tr><tr><td title=\"Index: [2, 0]&#10;Color: (173, 216, 230)\" style=\"width: 20px; height: 20px;background-color: rgb(173, 216, 230);\"></td><td title=\"Index: [2, 1]&#10;Color: (173, 216, 230)\" style=\"width: 20px; height: 20px;background-color: rgb(173, 216, 230);\"></td><td title=\"Index: [2, 2]&#10;Color: (0, 0, 0)\" style=\"width: 20px; height: 20px;background-color: rgb(0, 0, 0);\"></td><td title=\"Index: [2, 3]&#10;Color: (173, 216, 230)\" style=\"width: 20px; height: 20px;background-color: rgb(173, 216, 230);\"></td><td title=\"Index: [2, 4]&#10;Color: (173, 216, 230)\" style=\"width: 20px; height: 20px;background-color: rgb(173, 216, 230);\"></td><td title=\"Index: [2, 5]&#10;Color: (173, 216, 230)\" style=\"width: 20px; height: 20px;background-color: rgb(173, 216, 230);\"></td><td title=\"Index: [2, 6]&#10;Color: (0, 0, 0)\" style=\"width: 20px; height: 20px;background-color: rgb(0, 0, 0);\"></td></tr><tr><td title=\"Index: [3, 0]&#10;Color: (173, 216, 230)\" style=\"width: 20px; height: 20px;background-color: rgb(173, 216, 230);\"></td><td title=\"Index: [3, 1]&#10;Color: (173, 216, 230)\" style=\"width: 20px; height: 20px;background-color: rgb(173, 216, 230);\"></td><td title=\"Index: [3, 2]&#10;Color: (173, 216, 230)\" style=\"width: 20px; height: 20px;background-color: rgb(173, 216, 230);\"></td><td title=\"Index: [3, 3]&#10;Color: (173, 216, 230)\" style=\"width: 20px; height: 20px;background-color: rgb(173, 216, 230);\"></td><td title=\"Index: [3, 4]&#10;Color: (173, 216, 230)\" style=\"width: 20px; height: 20px;background-color: rgb(173, 216, 230);\"></td><td title=\"Index: [3, 5]&#10;Color: (0, 0, 0)\" style=\"width: 20px; height: 20px;background-color: rgb(0, 0, 0);\"></td><td title=\"Index: [3, 6]&#10;Color: (173, 216, 230)\" style=\"width: 20px; height: 20px;background-color: rgb(173, 216, 230);\"></td></tr><tr><td title=\"Index: [4, 0]&#10;Color: (173, 216, 230)\" style=\"width: 20px; height: 20px;background-color: rgb(173, 216, 230);\"></td><td title=\"Index: [4, 1]&#10;Color: (173, 216, 230)\" style=\"width: 20px; height: 20px;background-color: rgb(173, 216, 230);\"></td><td title=\"Index: [4, 2]&#10;Color: (173, 216, 230)\" style=\"width: 20px; height: 20px;background-color: rgb(173, 216, 230);\"></td><td title=\"Index: [4, 3]&#10;Color: (173, 216, 230)\" style=\"width: 20px; height: 20px;background-color: rgb(173, 216, 230);\"></td><td title=\"Index: [4, 4]&#10;Color: (173, 216, 230)\" style=\"width: 20px; height: 20px;background-color: rgb(173, 216, 230);\"></td><td title=\"Index: [4, 5]&#10;Color: (173, 216, 230)\" style=\"width: 20px; height: 20px;background-color: rgb(173, 216, 230);\"></td><td title=\"Index: [4, 6]&#10;Color: (173, 216, 230)\" style=\"width: 20px; height: 20px;background-color: rgb(173, 216, 230);\"></td></tr><tr><td title=\"Index: [5, 0]&#10;Color: (173, 216, 230)\" style=\"width: 20px; height: 20px;background-color: rgb(173, 216, 230);\"></td><td title=\"Index: [5, 1]&#10;Color: (173, 216, 230)\" style=\"width: 20px; height: 20px;background-color: rgb(173, 216, 230);\"></td><td title=\"Index: [5, 2]&#10;Color: (0, 0, 0)\" style=\"width: 20px; height: 20px;background-color: rgb(0, 0, 0);\"></td><td title=\"Index: [5, 3]&#10;Color: (173, 216, 230)\" style=\"width: 20px; height: 20px;background-color: rgb(173, 216, 230);\"></td><td title=\"Index: [5, 4]&#10;Color: (173, 216, 230)\" style=\"width: 20px; height: 20px;background-color: rgb(173, 216, 230);\"></td><td title=\"Index: [5, 5]&#10;Color: (173, 216, 230)\" style=\"width: 20px; height: 20px;background-color: rgb(173, 216, 230);\"></td><td title=\"Index: [5, 6]&#10;Color: (173, 216, 230)\" style=\"width: 20px; height: 20px;background-color: rgb(173, 216, 230);\"></td></tr><tr><td title=\"Index: [6, 0]&#10;Color: (173, 216, 230)\" style=\"width: 20px; height: 20px;background-color: rgb(173, 216, 230);\"></td><td title=\"Index: [6, 1]&#10;Color: (173, 216, 230)\" style=\"width: 20px; height: 20px;background-color: rgb(173, 216, 230);\"></td><td title=\"Index: [6, 2]&#10;Color: (173, 216, 230)\" style=\"width: 20px; height: 20px;background-color: rgb(173, 216, 230);\"></td><td title=\"Index: [6, 3]&#10;Color: (173, 216, 230)\" style=\"width: 20px; height: 20px;background-color: rgb(173, 216, 230);\"></td><td title=\"Index: [6, 4]&#10;Color: (173, 216, 230)\" style=\"width: 20px; height: 20px;background-color: rgb(173, 216, 230);\"></td><td title=\"Index: [6, 5]&#10;Color: (173, 216, 230)\" style=\"width: 20px; height: 20px;background-color: rgb(173, 216, 230);\"></td><td title=\"Index: [6, 6]&#10;Color: (173, 216, 230)\" style=\"width: 20px; height: 20px;background-color: rgb(173, 216, 230);\"></td></tr></tbody></table>"
       ],
       "metadata": {},
       "output_type": "display_data",
       "text": [
        "<IPython.core.display.HTML at 0x102419910>"
       ]
      },
      {
       "name": "stdout",
       "output_type": "stream",
       "stream": "stdout",
       "text": [
        "Guess Row, please use integer:7\n"
       ]
      },
      {
       "name": "stdout",
       "output_type": "stream",
       "stream": "stdout",
       "text": [
        "Guess Col, please use integer:4\n"
       ]
      },
      {
       "output_type": "stream",
       "stream": "stdout",
       "text": [
        "You missed my battleship!\n",
        "Turns left 2\n"
       ]
      },
      {
       "html": [
        "<style type=\"text/css\">table.blockgrid {border: none;} .blockgrid tr {border: none;} .blockgrid td {padding: 0px;} #blocks6298e862-5d2e-4f00-93c7-210d5fe35386 td {border: 1px solid white;}</style><table id=\"blocks6298e862-5d2e-4f00-93c7-210d5fe35386\" class=\"blockgrid\"><tbody><tr><td title=\"Index: [0, 0]&#10;Color: (0, 0, 0)\" style=\"width: 20px; height: 20px;background-color: rgb(0, 0, 0);\"></td><td title=\"Index: [0, 1]&#10;Color: (173, 216, 230)\" style=\"width: 20px; height: 20px;background-color: rgb(173, 216, 230);\"></td><td title=\"Index: [0, 2]&#10;Color: (0, 0, 0)\" style=\"width: 20px; height: 20px;background-color: rgb(0, 0, 0);\"></td><td title=\"Index: [0, 3]&#10;Color: (173, 216, 230)\" style=\"width: 20px; height: 20px;background-color: rgb(173, 216, 230);\"></td><td title=\"Index: [0, 4]&#10;Color: (173, 216, 230)\" style=\"width: 20px; height: 20px;background-color: rgb(173, 216, 230);\"></td><td title=\"Index: [0, 5]&#10;Color: (173, 216, 230)\" style=\"width: 20px; height: 20px;background-color: rgb(173, 216, 230);\"></td><td title=\"Index: [0, 6]&#10;Color: (173, 216, 230)\" style=\"width: 20px; height: 20px;background-color: rgb(173, 216, 230);\"></td></tr><tr><td title=\"Index: [1, 0]&#10;Color: (173, 216, 230)\" style=\"width: 20px; height: 20px;background-color: rgb(173, 216, 230);\"></td><td title=\"Index: [1, 1]&#10;Color: (173, 216, 230)\" style=\"width: 20px; height: 20px;background-color: rgb(173, 216, 230);\"></td><td title=\"Index: [1, 2]&#10;Color: (173, 216, 230)\" style=\"width: 20px; height: 20px;background-color: rgb(173, 216, 230);\"></td><td title=\"Index: [1, 3]&#10;Color: (173, 216, 230)\" style=\"width: 20px; height: 20px;background-color: rgb(173, 216, 230);\"></td><td title=\"Index: [1, 4]&#10;Color: (173, 216, 230)\" style=\"width: 20px; height: 20px;background-color: rgb(173, 216, 230);\"></td><td title=\"Index: [1, 5]&#10;Color: (0, 0, 0)\" style=\"width: 20px; height: 20px;background-color: rgb(0, 0, 0);\"></td><td title=\"Index: [1, 6]&#10;Color: (173, 216, 230)\" style=\"width: 20px; height: 20px;background-color: rgb(173, 216, 230);\"></td></tr><tr><td title=\"Index: [2, 0]&#10;Color: (173, 216, 230)\" style=\"width: 20px; height: 20px;background-color: rgb(173, 216, 230);\"></td><td title=\"Index: [2, 1]&#10;Color: (173, 216, 230)\" style=\"width: 20px; height: 20px;background-color: rgb(173, 216, 230);\"></td><td title=\"Index: [2, 2]&#10;Color: (0, 0, 0)\" style=\"width: 20px; height: 20px;background-color: rgb(0, 0, 0);\"></td><td title=\"Index: [2, 3]&#10;Color: (173, 216, 230)\" style=\"width: 20px; height: 20px;background-color: rgb(173, 216, 230);\"></td><td title=\"Index: [2, 4]&#10;Color: (173, 216, 230)\" style=\"width: 20px; height: 20px;background-color: rgb(173, 216, 230);\"></td><td title=\"Index: [2, 5]&#10;Color: (173, 216, 230)\" style=\"width: 20px; height: 20px;background-color: rgb(173, 216, 230);\"></td><td title=\"Index: [2, 6]&#10;Color: (0, 0, 0)\" style=\"width: 20px; height: 20px;background-color: rgb(0, 0, 0);\"></td></tr><tr><td title=\"Index: [3, 0]&#10;Color: (173, 216, 230)\" style=\"width: 20px; height: 20px;background-color: rgb(173, 216, 230);\"></td><td title=\"Index: [3, 1]&#10;Color: (173, 216, 230)\" style=\"width: 20px; height: 20px;background-color: rgb(173, 216, 230);\"></td><td title=\"Index: [3, 2]&#10;Color: (173, 216, 230)\" style=\"width: 20px; height: 20px;background-color: rgb(173, 216, 230);\"></td><td title=\"Index: [3, 3]&#10;Color: (173, 216, 230)\" style=\"width: 20px; height: 20px;background-color: rgb(173, 216, 230);\"></td><td title=\"Index: [3, 4]&#10;Color: (173, 216, 230)\" style=\"width: 20px; height: 20px;background-color: rgb(173, 216, 230);\"></td><td title=\"Index: [3, 5]&#10;Color: (0, 0, 0)\" style=\"width: 20px; height: 20px;background-color: rgb(0, 0, 0);\"></td><td title=\"Index: [3, 6]&#10;Color: (173, 216, 230)\" style=\"width: 20px; height: 20px;background-color: rgb(173, 216, 230);\"></td></tr><tr><td title=\"Index: [4, 0]&#10;Color: (173, 216, 230)\" style=\"width: 20px; height: 20px;background-color: rgb(173, 216, 230);\"></td><td title=\"Index: [4, 1]&#10;Color: (173, 216, 230)\" style=\"width: 20px; height: 20px;background-color: rgb(173, 216, 230);\"></td><td title=\"Index: [4, 2]&#10;Color: (173, 216, 230)\" style=\"width: 20px; height: 20px;background-color: rgb(173, 216, 230);\"></td><td title=\"Index: [4, 3]&#10;Color: (173, 216, 230)\" style=\"width: 20px; height: 20px;background-color: rgb(173, 216, 230);\"></td><td title=\"Index: [4, 4]&#10;Color: (173, 216, 230)\" style=\"width: 20px; height: 20px;background-color: rgb(173, 216, 230);\"></td><td title=\"Index: [4, 5]&#10;Color: (173, 216, 230)\" style=\"width: 20px; height: 20px;background-color: rgb(173, 216, 230);\"></td><td title=\"Index: [4, 6]&#10;Color: (173, 216, 230)\" style=\"width: 20px; height: 20px;background-color: rgb(173, 216, 230);\"></td></tr><tr><td title=\"Index: [5, 0]&#10;Color: (173, 216, 230)\" style=\"width: 20px; height: 20px;background-color: rgb(173, 216, 230);\"></td><td title=\"Index: [5, 1]&#10;Color: (173, 216, 230)\" style=\"width: 20px; height: 20px;background-color: rgb(173, 216, 230);\"></td><td title=\"Index: [5, 2]&#10;Color: (0, 0, 0)\" style=\"width: 20px; height: 20px;background-color: rgb(0, 0, 0);\"></td><td title=\"Index: [5, 3]&#10;Color: (173, 216, 230)\" style=\"width: 20px; height: 20px;background-color: rgb(173, 216, 230);\"></td><td title=\"Index: [5, 4]&#10;Color: (173, 216, 230)\" style=\"width: 20px; height: 20px;background-color: rgb(173, 216, 230);\"></td><td title=\"Index: [5, 5]&#10;Color: (173, 216, 230)\" style=\"width: 20px; height: 20px;background-color: rgb(173, 216, 230);\"></td><td title=\"Index: [5, 6]&#10;Color: (173, 216, 230)\" style=\"width: 20px; height: 20px;background-color: rgb(173, 216, 230);\"></td></tr><tr><td title=\"Index: [6, 0]&#10;Color: (173, 216, 230)\" style=\"width: 20px; height: 20px;background-color: rgb(173, 216, 230);\"></td><td title=\"Index: [6, 1]&#10;Color: (173, 216, 230)\" style=\"width: 20px; height: 20px;background-color: rgb(173, 216, 230);\"></td><td title=\"Index: [6, 2]&#10;Color: (173, 216, 230)\" style=\"width: 20px; height: 20px;background-color: rgb(173, 216, 230);\"></td><td title=\"Index: [6, 3]&#10;Color: (0, 0, 0)\" style=\"width: 20px; height: 20px;background-color: rgb(0, 0, 0);\"></td><td title=\"Index: [6, 4]&#10;Color: (173, 216, 230)\" style=\"width: 20px; height: 20px;background-color: rgb(173, 216, 230);\"></td><td title=\"Index: [6, 5]&#10;Color: (173, 216, 230)\" style=\"width: 20px; height: 20px;background-color: rgb(173, 216, 230);\"></td><td title=\"Index: [6, 6]&#10;Color: (173, 216, 230)\" style=\"width: 20px; height: 20px;background-color: rgb(173, 216, 230);\"></td></tr></tbody></table>"
       ],
       "metadata": {},
       "output_type": "display_data",
       "text": [
        "<IPython.core.display.HTML at 0x102419950>"
       ]
      },
      {
       "name": "stdout",
       "output_type": "stream",
       "stream": "stdout",
       "text": [
        "Guess Row, please use integer:5\n"
       ]
      },
      {
       "name": "stdout",
       "output_type": "stream",
       "stream": "stdout",
       "text": [
        "Guess Col, please use integer:3\n"
       ]
      },
      {
       "output_type": "stream",
       "stream": "stdout",
       "text": [
        "You missed my battleship!\n",
        "Turns left 1\n"
       ]
      },
      {
       "html": [
        "<style type=\"text/css\">table.blockgrid {border: none;} .blockgrid tr {border: none;} .blockgrid td {padding: 0px;} #blocksdb9547a9-0442-4ad4-a943-0ef9e17e3837 td {border: 1px solid white;}</style><table id=\"blocksdb9547a9-0442-4ad4-a943-0ef9e17e3837\" class=\"blockgrid\"><tbody><tr><td title=\"Index: [0, 0]&#10;Color: (0, 0, 0)\" style=\"width: 20px; height: 20px;background-color: rgb(0, 0, 0);\"></td><td title=\"Index: [0, 1]&#10;Color: (173, 216, 230)\" style=\"width: 20px; height: 20px;background-color: rgb(173, 216, 230);\"></td><td title=\"Index: [0, 2]&#10;Color: (0, 0, 0)\" style=\"width: 20px; height: 20px;background-color: rgb(0, 0, 0);\"></td><td title=\"Index: [0, 3]&#10;Color: (173, 216, 230)\" style=\"width: 20px; height: 20px;background-color: rgb(173, 216, 230);\"></td><td title=\"Index: [0, 4]&#10;Color: (173, 216, 230)\" style=\"width: 20px; height: 20px;background-color: rgb(173, 216, 230);\"></td><td title=\"Index: [0, 5]&#10;Color: (173, 216, 230)\" style=\"width: 20px; height: 20px;background-color: rgb(173, 216, 230);\"></td><td title=\"Index: [0, 6]&#10;Color: (173, 216, 230)\" style=\"width: 20px; height: 20px;background-color: rgb(173, 216, 230);\"></td></tr><tr><td title=\"Index: [1, 0]&#10;Color: (173, 216, 230)\" style=\"width: 20px; height: 20px;background-color: rgb(173, 216, 230);\"></td><td title=\"Index: [1, 1]&#10;Color: (173, 216, 230)\" style=\"width: 20px; height: 20px;background-color: rgb(173, 216, 230);\"></td><td title=\"Index: [1, 2]&#10;Color: (173, 216, 230)\" style=\"width: 20px; height: 20px;background-color: rgb(173, 216, 230);\"></td><td title=\"Index: [1, 3]&#10;Color: (173, 216, 230)\" style=\"width: 20px; height: 20px;background-color: rgb(173, 216, 230);\"></td><td title=\"Index: [1, 4]&#10;Color: (173, 216, 230)\" style=\"width: 20px; height: 20px;background-color: rgb(173, 216, 230);\"></td><td title=\"Index: [1, 5]&#10;Color: (0, 0, 0)\" style=\"width: 20px; height: 20px;background-color: rgb(0, 0, 0);\"></td><td title=\"Index: [1, 6]&#10;Color: (173, 216, 230)\" style=\"width: 20px; height: 20px;background-color: rgb(173, 216, 230);\"></td></tr><tr><td title=\"Index: [2, 0]&#10;Color: (173, 216, 230)\" style=\"width: 20px; height: 20px;background-color: rgb(173, 216, 230);\"></td><td title=\"Index: [2, 1]&#10;Color: (173, 216, 230)\" style=\"width: 20px; height: 20px;background-color: rgb(173, 216, 230);\"></td><td title=\"Index: [2, 2]&#10;Color: (0, 0, 0)\" style=\"width: 20px; height: 20px;background-color: rgb(0, 0, 0);\"></td><td title=\"Index: [2, 3]&#10;Color: (173, 216, 230)\" style=\"width: 20px; height: 20px;background-color: rgb(173, 216, 230);\"></td><td title=\"Index: [2, 4]&#10;Color: (173, 216, 230)\" style=\"width: 20px; height: 20px;background-color: rgb(173, 216, 230);\"></td><td title=\"Index: [2, 5]&#10;Color: (173, 216, 230)\" style=\"width: 20px; height: 20px;background-color: rgb(173, 216, 230);\"></td><td title=\"Index: [2, 6]&#10;Color: (0, 0, 0)\" style=\"width: 20px; height: 20px;background-color: rgb(0, 0, 0);\"></td></tr><tr><td title=\"Index: [3, 0]&#10;Color: (173, 216, 230)\" style=\"width: 20px; height: 20px;background-color: rgb(173, 216, 230);\"></td><td title=\"Index: [3, 1]&#10;Color: (173, 216, 230)\" style=\"width: 20px; height: 20px;background-color: rgb(173, 216, 230);\"></td><td title=\"Index: [3, 2]&#10;Color: (173, 216, 230)\" style=\"width: 20px; height: 20px;background-color: rgb(173, 216, 230);\"></td><td title=\"Index: [3, 3]&#10;Color: (173, 216, 230)\" style=\"width: 20px; height: 20px;background-color: rgb(173, 216, 230);\"></td><td title=\"Index: [3, 4]&#10;Color: (173, 216, 230)\" style=\"width: 20px; height: 20px;background-color: rgb(173, 216, 230);\"></td><td title=\"Index: [3, 5]&#10;Color: (0, 0, 0)\" style=\"width: 20px; height: 20px;background-color: rgb(0, 0, 0);\"></td><td title=\"Index: [3, 6]&#10;Color: (173, 216, 230)\" style=\"width: 20px; height: 20px;background-color: rgb(173, 216, 230);\"></td></tr><tr><td title=\"Index: [4, 0]&#10;Color: (173, 216, 230)\" style=\"width: 20px; height: 20px;background-color: rgb(173, 216, 230);\"></td><td title=\"Index: [4, 1]&#10;Color: (173, 216, 230)\" style=\"width: 20px; height: 20px;background-color: rgb(173, 216, 230);\"></td><td title=\"Index: [4, 2]&#10;Color: (0, 0, 0)\" style=\"width: 20px; height: 20px;background-color: rgb(0, 0, 0);\"></td><td title=\"Index: [4, 3]&#10;Color: (173, 216, 230)\" style=\"width: 20px; height: 20px;background-color: rgb(173, 216, 230);\"></td><td title=\"Index: [4, 4]&#10;Color: (173, 216, 230)\" style=\"width: 20px; height: 20px;background-color: rgb(173, 216, 230);\"></td><td title=\"Index: [4, 5]&#10;Color: (173, 216, 230)\" style=\"width: 20px; height: 20px;background-color: rgb(173, 216, 230);\"></td><td title=\"Index: [4, 6]&#10;Color: (173, 216, 230)\" style=\"width: 20px; height: 20px;background-color: rgb(173, 216, 230);\"></td></tr><tr><td title=\"Index: [5, 0]&#10;Color: (173, 216, 230)\" style=\"width: 20px; height: 20px;background-color: rgb(173, 216, 230);\"></td><td title=\"Index: [5, 1]&#10;Color: (173, 216, 230)\" style=\"width: 20px; height: 20px;background-color: rgb(173, 216, 230);\"></td><td title=\"Index: [5, 2]&#10;Color: (0, 0, 0)\" style=\"width: 20px; height: 20px;background-color: rgb(0, 0, 0);\"></td><td title=\"Index: [5, 3]&#10;Color: (173, 216, 230)\" style=\"width: 20px; height: 20px;background-color: rgb(173, 216, 230);\"></td><td title=\"Index: [5, 4]&#10;Color: (173, 216, 230)\" style=\"width: 20px; height: 20px;background-color: rgb(173, 216, 230);\"></td><td title=\"Index: [5, 5]&#10;Color: (173, 216, 230)\" style=\"width: 20px; height: 20px;background-color: rgb(173, 216, 230);\"></td><td title=\"Index: [5, 6]&#10;Color: (173, 216, 230)\" style=\"width: 20px; height: 20px;background-color: rgb(173, 216, 230);\"></td></tr><tr><td title=\"Index: [6, 0]&#10;Color: (173, 216, 230)\" style=\"width: 20px; height: 20px;background-color: rgb(173, 216, 230);\"></td><td title=\"Index: [6, 1]&#10;Color: (173, 216, 230)\" style=\"width: 20px; height: 20px;background-color: rgb(173, 216, 230);\"></td><td title=\"Index: [6, 2]&#10;Color: (173, 216, 230)\" style=\"width: 20px; height: 20px;background-color: rgb(173, 216, 230);\"></td><td title=\"Index: [6, 3]&#10;Color: (0, 0, 0)\" style=\"width: 20px; height: 20px;background-color: rgb(0, 0, 0);\"></td><td title=\"Index: [6, 4]&#10;Color: (173, 216, 230)\" style=\"width: 20px; height: 20px;background-color: rgb(173, 216, 230);\"></td><td title=\"Index: [6, 5]&#10;Color: (173, 216, 230)\" style=\"width: 20px; height: 20px;background-color: rgb(173, 216, 230);\"></td><td title=\"Index: [6, 6]&#10;Color: (173, 216, 230)\" style=\"width: 20px; height: 20px;background-color: rgb(173, 216, 230);\"></td></tr></tbody></table>"
       ],
       "metadata": {},
       "output_type": "display_data",
       "text": [
        "<IPython.core.display.HTML at 0x102419990>"
       ]
      },
      {
       "name": "stdout",
       "output_type": "stream",
       "stream": "stdout",
       "text": [
        "Guess Row, please use integer:1\n"
       ]
      },
      {
       "name": "stdout",
       "output_type": "stream",
       "stream": "stdout",
       "text": [
        "Guess Col, please use integer:7\n"
       ]
      },
      {
       "output_type": "stream",
       "stream": "stdout",
       "text": [
        "You missed my battleship!\n",
        "Turns left 0\n"
       ]
      },
      {
       "html": [
        "<style type=\"text/css\">table.blockgrid {border: none;} .blockgrid tr {border: none;} .blockgrid td {padding: 0px;} #blocks8be1cff5-704f-433b-8934-13da56b7c7bf td {border: 1px solid white;}</style><table id=\"blocks8be1cff5-704f-433b-8934-13da56b7c7bf\" class=\"blockgrid\"><tbody><tr><td title=\"Index: [0, 0]&#10;Color: (0, 0, 0)\" style=\"width: 20px; height: 20px;background-color: rgb(0, 0, 0);\"></td><td title=\"Index: [0, 1]&#10;Color: (173, 216, 230)\" style=\"width: 20px; height: 20px;background-color: rgb(173, 216, 230);\"></td><td title=\"Index: [0, 2]&#10;Color: (0, 0, 0)\" style=\"width: 20px; height: 20px;background-color: rgb(0, 0, 0);\"></td><td title=\"Index: [0, 3]&#10;Color: (173, 216, 230)\" style=\"width: 20px; height: 20px;background-color: rgb(173, 216, 230);\"></td><td title=\"Index: [0, 4]&#10;Color: (173, 216, 230)\" style=\"width: 20px; height: 20px;background-color: rgb(173, 216, 230);\"></td><td title=\"Index: [0, 5]&#10;Color: (173, 216, 230)\" style=\"width: 20px; height: 20px;background-color: rgb(173, 216, 230);\"></td><td title=\"Index: [0, 6]&#10;Color: (0, 0, 0)\" style=\"width: 20px; height: 20px;background-color: rgb(0, 0, 0);\"></td></tr><tr><td title=\"Index: [1, 0]&#10;Color: (173, 216, 230)\" style=\"width: 20px; height: 20px;background-color: rgb(173, 216, 230);\"></td><td title=\"Index: [1, 1]&#10;Color: (173, 216, 230)\" style=\"width: 20px; height: 20px;background-color: rgb(173, 216, 230);\"></td><td title=\"Index: [1, 2]&#10;Color: (173, 216, 230)\" style=\"width: 20px; height: 20px;background-color: rgb(173, 216, 230);\"></td><td title=\"Index: [1, 3]&#10;Color: (173, 216, 230)\" style=\"width: 20px; height: 20px;background-color: rgb(173, 216, 230);\"></td><td title=\"Index: [1, 4]&#10;Color: (173, 216, 230)\" style=\"width: 20px; height: 20px;background-color: rgb(173, 216, 230);\"></td><td title=\"Index: [1, 5]&#10;Color: (0, 0, 0)\" style=\"width: 20px; height: 20px;background-color: rgb(0, 0, 0);\"></td><td title=\"Index: [1, 6]&#10;Color: (173, 216, 230)\" style=\"width: 20px; height: 20px;background-color: rgb(173, 216, 230);\"></td></tr><tr><td title=\"Index: [2, 0]&#10;Color: (173, 216, 230)\" style=\"width: 20px; height: 20px;background-color: rgb(173, 216, 230);\"></td><td title=\"Index: [2, 1]&#10;Color: (173, 216, 230)\" style=\"width: 20px; height: 20px;background-color: rgb(173, 216, 230);\"></td><td title=\"Index: [2, 2]&#10;Color: (0, 0, 0)\" style=\"width: 20px; height: 20px;background-color: rgb(0, 0, 0);\"></td><td title=\"Index: [2, 3]&#10;Color: (173, 216, 230)\" style=\"width: 20px; height: 20px;background-color: rgb(173, 216, 230);\"></td><td title=\"Index: [2, 4]&#10;Color: (173, 216, 230)\" style=\"width: 20px; height: 20px;background-color: rgb(173, 216, 230);\"></td><td title=\"Index: [2, 5]&#10;Color: (173, 216, 230)\" style=\"width: 20px; height: 20px;background-color: rgb(173, 216, 230);\"></td><td title=\"Index: [2, 6]&#10;Color: (0, 0, 0)\" style=\"width: 20px; height: 20px;background-color: rgb(0, 0, 0);\"></td></tr><tr><td title=\"Index: [3, 0]&#10;Color: (173, 216, 230)\" style=\"width: 20px; height: 20px;background-color: rgb(173, 216, 230);\"></td><td title=\"Index: [3, 1]&#10;Color: (173, 216, 230)\" style=\"width: 20px; height: 20px;background-color: rgb(173, 216, 230);\"></td><td title=\"Index: [3, 2]&#10;Color: (173, 216, 230)\" style=\"width: 20px; height: 20px;background-color: rgb(173, 216, 230);\"></td><td title=\"Index: [3, 3]&#10;Color: (173, 216, 230)\" style=\"width: 20px; height: 20px;background-color: rgb(173, 216, 230);\"></td><td title=\"Index: [3, 4]&#10;Color: (173, 216, 230)\" style=\"width: 20px; height: 20px;background-color: rgb(173, 216, 230);\"></td><td title=\"Index: [3, 5]&#10;Color: (0, 0, 0)\" style=\"width: 20px; height: 20px;background-color: rgb(0, 0, 0);\"></td><td title=\"Index: [3, 6]&#10;Color: (173, 216, 230)\" style=\"width: 20px; height: 20px;background-color: rgb(173, 216, 230);\"></td></tr><tr><td title=\"Index: [4, 0]&#10;Color: (173, 216, 230)\" style=\"width: 20px; height: 20px;background-color: rgb(173, 216, 230);\"></td><td title=\"Index: [4, 1]&#10;Color: (173, 216, 230)\" style=\"width: 20px; height: 20px;background-color: rgb(173, 216, 230);\"></td><td title=\"Index: [4, 2]&#10;Color: (0, 0, 0)\" style=\"width: 20px; height: 20px;background-color: rgb(0, 0, 0);\"></td><td title=\"Index: [4, 3]&#10;Color: (173, 216, 230)\" style=\"width: 20px; height: 20px;background-color: rgb(173, 216, 230);\"></td><td title=\"Index: [4, 4]&#10;Color: (173, 216, 230)\" style=\"width: 20px; height: 20px;background-color: rgb(173, 216, 230);\"></td><td title=\"Index: [4, 5]&#10;Color: (173, 216, 230)\" style=\"width: 20px; height: 20px;background-color: rgb(173, 216, 230);\"></td><td title=\"Index: [4, 6]&#10;Color: (173, 216, 230)\" style=\"width: 20px; height: 20px;background-color: rgb(173, 216, 230);\"></td></tr><tr><td title=\"Index: [5, 0]&#10;Color: (173, 216, 230)\" style=\"width: 20px; height: 20px;background-color: rgb(173, 216, 230);\"></td><td title=\"Index: [5, 1]&#10;Color: (173, 216, 230)\" style=\"width: 20px; height: 20px;background-color: rgb(173, 216, 230);\"></td><td title=\"Index: [5, 2]&#10;Color: (0, 0, 0)\" style=\"width: 20px; height: 20px;background-color: rgb(0, 0, 0);\"></td><td title=\"Index: [5, 3]&#10;Color: (173, 216, 230)\" style=\"width: 20px; height: 20px;background-color: rgb(173, 216, 230);\"></td><td title=\"Index: [5, 4]&#10;Color: (173, 216, 230)\" style=\"width: 20px; height: 20px;background-color: rgb(173, 216, 230);\"></td><td title=\"Index: [5, 5]&#10;Color: (173, 216, 230)\" style=\"width: 20px; height: 20px;background-color: rgb(173, 216, 230);\"></td><td title=\"Index: [5, 6]&#10;Color: (173, 216, 230)\" style=\"width: 20px; height: 20px;background-color: rgb(173, 216, 230);\"></td></tr><tr><td title=\"Index: [6, 0]&#10;Color: (173, 216, 230)\" style=\"width: 20px; height: 20px;background-color: rgb(173, 216, 230);\"></td><td title=\"Index: [6, 1]&#10;Color: (173, 216, 230)\" style=\"width: 20px; height: 20px;background-color: rgb(173, 216, 230);\"></td><td title=\"Index: [6, 2]&#10;Color: (173, 216, 230)\" style=\"width: 20px; height: 20px;background-color: rgb(173, 216, 230);\"></td><td title=\"Index: [6, 3]&#10;Color: (0, 0, 0)\" style=\"width: 20px; height: 20px;background-color: rgb(0, 0, 0);\"></td><td title=\"Index: [6, 4]&#10;Color: (173, 216, 230)\" style=\"width: 20px; height: 20px;background-color: rgb(173, 216, 230);\"></td><td title=\"Index: [6, 5]&#10;Color: (173, 216, 230)\" style=\"width: 20px; height: 20px;background-color: rgb(173, 216, 230);\"></td><td title=\"Index: [6, 6]&#10;Color: (173, 216, 230)\" style=\"width: 20px; height: 20px;background-color: rgb(173, 216, 230);\"></td></tr></tbody></table>"
       ],
       "metadata": {},
       "output_type": "display_data",
       "text": [
        "<IPython.core.display.HTML at 0x1024199d0>"
       ]
      },
      {
       "output_type": "stream",
       "stream": "stdout",
       "text": [
        "You Lose.\n"
       ]
      },
      {
       "html": [
        "<style type=\"text/css\">table.blockgrid {border: none;} .blockgrid tr {border: none;} .blockgrid td {padding: 0px;} #blocks80402fae-8cdb-4ddb-80f1-8b336cbe668f td {border: 1px solid white;}</style><table id=\"blocks80402fae-8cdb-4ddb-80f1-8b336cbe668f\" class=\"blockgrid\"><tbody><tr><td title=\"Index: [0, 0]&#10;Color: (0, 0, 0)\" style=\"width: 20px; height: 20px;background-color: rgb(0, 0, 0);\"></td><td title=\"Index: [0, 1]&#10;Color: (173, 216, 230)\" style=\"width: 20px; height: 20px;background-color: rgb(173, 216, 230);\"></td><td title=\"Index: [0, 2]&#10;Color: (0, 0, 0)\" style=\"width: 20px; height: 20px;background-color: rgb(0, 0, 0);\"></td><td title=\"Index: [0, 3]&#10;Color: (173, 216, 230)\" style=\"width: 20px; height: 20px;background-color: rgb(173, 216, 230);\"></td><td title=\"Index: [0, 4]&#10;Color: (173, 216, 230)\" style=\"width: 20px; height: 20px;background-color: rgb(173, 216, 230);\"></td><td title=\"Index: [0, 5]&#10;Color: (173, 216, 230)\" style=\"width: 20px; height: 20px;background-color: rgb(173, 216, 230);\"></td><td title=\"Index: [0, 6]&#10;Color: (0, 0, 0)\" style=\"width: 20px; height: 20px;background-color: rgb(0, 0, 0);\"></td></tr><tr><td title=\"Index: [1, 0]&#10;Color: (173, 216, 230)\" style=\"width: 20px; height: 20px;background-color: rgb(173, 216, 230);\"></td><td title=\"Index: [1, 1]&#10;Color: (173, 216, 230)\" style=\"width: 20px; height: 20px;background-color: rgb(173, 216, 230);\"></td><td title=\"Index: [1, 2]&#10;Color: (173, 216, 230)\" style=\"width: 20px; height: 20px;background-color: rgb(173, 216, 230);\"></td><td title=\"Index: [1, 3]&#10;Color: (173, 216, 230)\" style=\"width: 20px; height: 20px;background-color: rgb(173, 216, 230);\"></td><td title=\"Index: [1, 4]&#10;Color: (173, 216, 230)\" style=\"width: 20px; height: 20px;background-color: rgb(173, 216, 230);\"></td><td title=\"Index: [1, 5]&#10;Color: (0, 0, 0)\" style=\"width: 20px; height: 20px;background-color: rgb(0, 0, 0);\"></td><td title=\"Index: [1, 6]&#10;Color: (173, 216, 230)\" style=\"width: 20px; height: 20px;background-color: rgb(173, 216, 230);\"></td></tr><tr><td title=\"Index: [2, 0]&#10;Color: (173, 216, 230)\" style=\"width: 20px; height: 20px;background-color: rgb(173, 216, 230);\"></td><td title=\"Index: [2, 1]&#10;Color: (173, 216, 230)\" style=\"width: 20px; height: 20px;background-color: rgb(173, 216, 230);\"></td><td title=\"Index: [2, 2]&#10;Color: (0, 0, 0)\" style=\"width: 20px; height: 20px;background-color: rgb(0, 0, 0);\"></td><td title=\"Index: [2, 3]&#10;Color: (173, 216, 230)\" style=\"width: 20px; height: 20px;background-color: rgb(173, 216, 230);\"></td><td title=\"Index: [2, 4]&#10;Color: (173, 216, 230)\" style=\"width: 20px; height: 20px;background-color: rgb(173, 216, 230);\"></td><td title=\"Index: [2, 5]&#10;Color: (173, 216, 230)\" style=\"width: 20px; height: 20px;background-color: rgb(173, 216, 230);\"></td><td title=\"Index: [2, 6]&#10;Color: (0, 0, 0)\" style=\"width: 20px; height: 20px;background-color: rgb(0, 0, 0);\"></td></tr><tr><td title=\"Index: [3, 0]&#10;Color: (173, 216, 230)\" style=\"width: 20px; height: 20px;background-color: rgb(173, 216, 230);\"></td><td title=\"Index: [3, 1]&#10;Color: (173, 216, 230)\" style=\"width: 20px; height: 20px;background-color: rgb(173, 216, 230);\"></td><td title=\"Index: [3, 2]&#10;Color: (165, 42, 42)\" style=\"width: 20px; height: 20px;background-color: rgb(165, 42, 42);\"></td><td title=\"Index: [3, 3]&#10;Color: (165, 42, 42)\" style=\"width: 20px; height: 20px;background-color: rgb(165, 42, 42);\"></td><td title=\"Index: [3, 4]&#10;Color: (165, 42, 42)\" style=\"width: 20px; height: 20px;background-color: rgb(165, 42, 42);\"></td><td title=\"Index: [3, 5]&#10;Color: (0, 0, 0)\" style=\"width: 20px; height: 20px;background-color: rgb(0, 0, 0);\"></td><td title=\"Index: [3, 6]&#10;Color: (173, 216, 230)\" style=\"width: 20px; height: 20px;background-color: rgb(173, 216, 230);\"></td></tr><tr><td title=\"Index: [4, 0]&#10;Color: (173, 216, 230)\" style=\"width: 20px; height: 20px;background-color: rgb(173, 216, 230);\"></td><td title=\"Index: [4, 1]&#10;Color: (173, 216, 230)\" style=\"width: 20px; height: 20px;background-color: rgb(173, 216, 230);\"></td><td title=\"Index: [4, 2]&#10;Color: (0, 0, 0)\" style=\"width: 20px; height: 20px;background-color: rgb(0, 0, 0);\"></td><td title=\"Index: [4, 3]&#10;Color: (173, 216, 230)\" style=\"width: 20px; height: 20px;background-color: rgb(173, 216, 230);\"></td><td title=\"Index: [4, 4]&#10;Color: (173, 216, 230)\" style=\"width: 20px; height: 20px;background-color: rgb(173, 216, 230);\"></td><td title=\"Index: [4, 5]&#10;Color: (173, 216, 230)\" style=\"width: 20px; height: 20px;background-color: rgb(173, 216, 230);\"></td><td title=\"Index: [4, 6]&#10;Color: (173, 216, 230)\" style=\"width: 20px; height: 20px;background-color: rgb(173, 216, 230);\"></td></tr><tr><td title=\"Index: [5, 0]&#10;Color: (173, 216, 230)\" style=\"width: 20px; height: 20px;background-color: rgb(173, 216, 230);\"></td><td title=\"Index: [5, 1]&#10;Color: (173, 216, 230)\" style=\"width: 20px; height: 20px;background-color: rgb(173, 216, 230);\"></td><td title=\"Index: [5, 2]&#10;Color: (0, 0, 0)\" style=\"width: 20px; height: 20px;background-color: rgb(0, 0, 0);\"></td><td title=\"Index: [5, 3]&#10;Color: (173, 216, 230)\" style=\"width: 20px; height: 20px;background-color: rgb(173, 216, 230);\"></td><td title=\"Index: [5, 4]&#10;Color: (173, 216, 230)\" style=\"width: 20px; height: 20px;background-color: rgb(173, 216, 230);\"></td><td title=\"Index: [5, 5]&#10;Color: (173, 216, 230)\" style=\"width: 20px; height: 20px;background-color: rgb(173, 216, 230);\"></td><td title=\"Index: [5, 6]&#10;Color: (173, 216, 230)\" style=\"width: 20px; height: 20px;background-color: rgb(173, 216, 230);\"></td></tr><tr><td title=\"Index: [6, 0]&#10;Color: (173, 216, 230)\" style=\"width: 20px; height: 20px;background-color: rgb(173, 216, 230);\"></td><td title=\"Index: [6, 1]&#10;Color: (173, 216, 230)\" style=\"width: 20px; height: 20px;background-color: rgb(173, 216, 230);\"></td><td title=\"Index: [6, 2]&#10;Color: (173, 216, 230)\" style=\"width: 20px; height: 20px;background-color: rgb(173, 216, 230);\"></td><td title=\"Index: [6, 3]&#10;Color: (0, 0, 0)\" style=\"width: 20px; height: 20px;background-color: rgb(0, 0, 0);\"></td><td title=\"Index: [6, 4]&#10;Color: (173, 216, 230)\" style=\"width: 20px; height: 20px;background-color: rgb(173, 216, 230);\"></td><td title=\"Index: [6, 5]&#10;Color: (173, 216, 230)\" style=\"width: 20px; height: 20px;background-color: rgb(173, 216, 230);\"></td><td title=\"Index: [6, 6]&#10;Color: (173, 216, 230)\" style=\"width: 20px; height: 20px;background-color: rgb(173, 216, 230);\"></td></tr></tbody></table>"
       ],
       "metadata": {},
       "output_type": "display_data",
       "text": [
        "<IPython.core.display.HTML at 0x102419ad0>"
       ]
      }
     ],
     "prompt_number": 1
    },
    {
     "cell_type": "heading",
     "level": 1,
     "metadata": {},
     "source": [
      "Solution"
     ]
    },
    {
     "cell_type": "code",
     "collapsed": false,
     "input": [
      "def place_ship(boardsize):\n",
      "    '''\n",
      "    Place a ship randomly on the board\n",
      "    of size boardsize x boardsize.  \n",
      "    Randomly decide whether it is vertical\n",
      "    or horizontal, what length ship, the \n",
      "    placement of the first block, and check\n",
      "    that it will fit on the board.  If not,\n",
      "    adjust the placement.\n",
      "    '''\n",
      "    #Select vertical or horizontal ship\n",
      "    shipdir = randint(0,1)\n",
      "    #random ship length\n",
      "    shiplength = randint(1,boardsize-2)\n",
      "    shipstart = randint(0,boardsize-1)\n",
      "    shipend = shipstart - 1 + shiplength\n",
      "    shipdiff = boardsize - 1 - shipend\n",
      "    if shipdiff < 0:\n",
      "        shipstart += shipdiff\n",
      "        shipend += shipdiff\n",
      "    #print shipdir, shiplength, shipstart, shipend, shipdiff\n",
      "    shipside = randint(0,boardsize-1)\n",
      "    ship = []\n",
      "    if randint(0,1) == 1:\n",
      "        for i in range(shiplength):\n",
      "            ship.append((shipstart+i,shipside))\n",
      "    else:\n",
      "        for i in range(shiplength):\n",
      "            ship.append((shipside,shipstart+i))\n",
      "    return ship\n",
      "\n",
      "BLACK = (0,0,0)\n",
      "RED = (255,0,0)\n",
      "ORANGE = (255,150,0)\n",
      "OCEAN = (13, 123, 234)"
     ],
     "language": "python",
     "metadata": {},
     "outputs": []
    },
    {
     "cell_type": "code",
     "collapsed": false,
     "input": [
      "from random import randint\n",
      "from ipythonblocks import BlockGrid\n",
      "from IPython.display import clear_output\n",
      "\n",
      "\n",
      "print \"Let's play Battleship!\"\n",
      "boardsize = input(\"How big should the ocean be? (Enter an integer from 4 to 20 ;) \")\n",
      "nturns = input(\"How many shots would you like?\")\n",
      "\n",
      "board = BlockGrid(boardsize, boardsize, fill=OCEAN)\n",
      "board.show()\n",
      "\n",
      "ship = place_ship(boardsize)\n",
      "nhits = 0\n",
      "\n",
      "for turn in range(nturns+1):\n",
      "    print ship\n",
      "    guess_row = input(\"Guess Row:\")\n",
      "    guess_col = input(\"Guess Col:\")\n",
      "    \n",
      "    if (guess_row < 0 or guess_row >= board.height) or (guess_col < 0 or guess_col >= board.width):\n",
      "        clear_output()\n",
      "        board.show()\n",
      "        print \"Oops, that's not even in the ocean.\"\n",
      "    else:\n",
      "        guessblock = board[guess_row,guess_col]\n",
      "        if (guess_row,guess_col) in ship:\n",
      "            clear_output()\n",
      "            board[guess_row,guess_col] = RED\n",
      "            board.show()\n",
      "            print \"It's a hit!\"\n",
      "            nhits += 1          \n",
      "        elif (guessblock.red,guessblock.green,guessblock.blue) == BLACK or (guessblock.red,guessblock.green,guessblock.blue) == RED:\n",
      "            clear_output()\n",
      "            board.show()\n",
      "            print \"You guessed that one already.\"\n",
      "        else:\n",
      "            clear_output()\n",
      "            board[guess_row,guess_col] = BLACK\n",
      "            board.show()\n",
      "            print \"You missed my battleship!\"        \n",
      "\n",
      "    if nhits == len(ship):\n",
      "        clear_output()\n",
      "        board[guess_row,guess_col] = RED\n",
      "        board.show()\n",
      "        print \"Congratulations! You sunk my battleship!\"\n",
      "        break\n",
      "\n",
      "    if turn == nturns:\n",
      "        clear_output()\n",
      "        #Reveal location of ship in yellow\n",
      "        for block in ship:\n",
      "            current = board[block[0],block[1]]\n",
      "            if (current.red,current.green,current.blue) == RED:\n",
      "                pass\n",
      "            else:\n",
      "                board[block[0],block[1]] = ORANGE\n",
      "        board.show()\n",
      "        print \"Sorry, you are out of turns.  Game Over.\"\n",
      "    else:\n",
      "        print turn+1"
     ],
     "language": "python",
     "metadata": {},
     "outputs": []
    },
    {
     "cell_type": "code",
     "collapsed": false,
     "input": [],
     "language": "python",
     "metadata": {},
     "outputs": []
    }
   ],
   "metadata": {}
  }
 ]
}