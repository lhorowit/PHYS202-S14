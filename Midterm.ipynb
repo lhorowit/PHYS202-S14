{
 "metadata": {
  "name": "",
  "signature": "sha256:1881b2e559de92aacd1c8c9301d7d264bede0e8f7328d1da33b010321629a46e"
 },
 "nbformat": 3,
 "nbformat_minor": 0,
 "worksheets": [
  {
   "cells": [
    {
     "cell_type": "markdown",
     "metadata": {},
     "source": [
      "Luke Horowitz\n",
      "\n",
      "PHYS 202\n",
      "\n",
      "Dr. Klay"
     ]
    },
    {
     "cell_type": "heading",
     "level": 1,
     "metadata": {},
     "source": [
      "Midterm"
     ]
    },
    {
     "cell_type": "markdown",
     "metadata": {},
     "source": [
      "\n",
      "Question 1\n",
      "In Robert McCloskey\u2019s book Make Way for Ducklings, the names of the ducklings are Jack, Kack, Lack, Mack, Nack, Ouack, Pack, and Quack. This loop outputs these names in order:\n",
      "\n",
      "prefixes = 'JKLMNOPQ' \n",
      "\n",
      "suffix = 'ack'\n",
      "\n",
      "for letter in prefixes: \n",
      "    print letter + suffix\n",
      "    \n",
      "The output is:\n",
      "\n",
      "- Jack \n",
      "- Kack \n",
      "- Lack \n",
      "- Mack \n",
      "- Nack \n",
      "- Oack \n",
      "- Pack \n",
      "- Qack\n",
      "\n",
      "Of course, that\u2019s not quite right because \u201cOuack\u201d and \u201cQuack\u201d are misspelled.\n",
      "Modify the program to fix this error."
     ]
    },
    {
     "cell_type": "code",
     "collapsed": false,
     "input": [
      "prefixes = 'JKLMNOPQ' \n",
      "suffix = 'ack'\n",
      "for letter in prefixes:\n",
      "    if letter in 'QO':\n",
      "        print letter + 'u' + suffix\n",
      "        \n",
      "    else:\n",
      "        print letter + suffix"
     ],
     "language": "python",
     "metadata": {},
     "outputs": [
      {
       "output_type": "stream",
       "stream": "stdout",
       "text": [
        "Jack\n",
        "Kack\n",
        "Lack\n",
        "Mack\n",
        "Nack\n",
        "Ouack\n",
        "Pack\n",
        "Quack\n"
       ]
      }
     ],
     "prompt_number": 2
    },
    {
     "cell_type": "markdown",
     "metadata": {},
     "source": [
      "Question 2\n",
      "\n",
      "Use ipythonblocks to create an 8x8 grid with the first initial of your last name embedded in it in a different color. Use slices and/or loops to set the values rather than setting each block by hand. Here is an example:"
     ]
    },
    {
     "cell_type": "code",
     "collapsed": false,
     "input": [
      "from ipythonblocks import BlockGrid\n",
      "from ipythonblocks import colors\n",
      "\n",
      "grid = BlockGrid(8, 8, fill = (123,234,123))\n",
      "grid[:,0] = colors['Black']\n",
      "grid[:,7] = colors['Black']\n",
      "grid[4, :] = colors['Black']\n",
      "\n",
      "grid.show()"
     ],
     "language": "python",
     "metadata": {},
     "outputs": [
      {
       "html": [
        "<style type=\"text/css\">table.blockgrid {border: none;} .blockgrid tr {border: none;} .blockgrid td {padding: 0px;} #blocksa9931e22-b5c8-478c-941c-9b90b9a7fe5d td {border: 1px solid white;}</style><table id=\"blocksa9931e22-b5c8-478c-941c-9b90b9a7fe5d\" class=\"blockgrid\"><tbody><tr><td title=\"Index: [0, 0]&#10;Color: (0, 0, 0)\" style=\"width: 20px; height: 20px;background-color: rgb(0, 0, 0);\"></td><td title=\"Index: [0, 1]&#10;Color: (123, 234, 123)\" style=\"width: 20px; height: 20px;background-color: rgb(123, 234, 123);\"></td><td title=\"Index: [0, 2]&#10;Color: (123, 234, 123)\" style=\"width: 20px; height: 20px;background-color: rgb(123, 234, 123);\"></td><td title=\"Index: [0, 3]&#10;Color: (123, 234, 123)\" style=\"width: 20px; height: 20px;background-color: rgb(123, 234, 123);\"></td><td title=\"Index: [0, 4]&#10;Color: (123, 234, 123)\" style=\"width: 20px; height: 20px;background-color: rgb(123, 234, 123);\"></td><td title=\"Index: [0, 5]&#10;Color: (123, 234, 123)\" style=\"width: 20px; height: 20px;background-color: rgb(123, 234, 123);\"></td><td title=\"Index: [0, 6]&#10;Color: (123, 234, 123)\" style=\"width: 20px; height: 20px;background-color: rgb(123, 234, 123);\"></td><td title=\"Index: [0, 7]&#10;Color: (0, 0, 0)\" style=\"width: 20px; height: 20px;background-color: rgb(0, 0, 0);\"></td></tr><tr><td title=\"Index: [1, 0]&#10;Color: (0, 0, 0)\" style=\"width: 20px; height: 20px;background-color: rgb(0, 0, 0);\"></td><td title=\"Index: [1, 1]&#10;Color: (123, 234, 123)\" style=\"width: 20px; height: 20px;background-color: rgb(123, 234, 123);\"></td><td title=\"Index: [1, 2]&#10;Color: (123, 234, 123)\" style=\"width: 20px; height: 20px;background-color: rgb(123, 234, 123);\"></td><td title=\"Index: [1, 3]&#10;Color: (123, 234, 123)\" style=\"width: 20px; height: 20px;background-color: rgb(123, 234, 123);\"></td><td title=\"Index: [1, 4]&#10;Color: (123, 234, 123)\" style=\"width: 20px; height: 20px;background-color: rgb(123, 234, 123);\"></td><td title=\"Index: [1, 5]&#10;Color: (123, 234, 123)\" style=\"width: 20px; height: 20px;background-color: rgb(123, 234, 123);\"></td><td title=\"Index: [1, 6]&#10;Color: (123, 234, 123)\" style=\"width: 20px; height: 20px;background-color: rgb(123, 234, 123);\"></td><td title=\"Index: [1, 7]&#10;Color: (0, 0, 0)\" style=\"width: 20px; height: 20px;background-color: rgb(0, 0, 0);\"></td></tr><tr><td title=\"Index: [2, 0]&#10;Color: (0, 0, 0)\" style=\"width: 20px; height: 20px;background-color: rgb(0, 0, 0);\"></td><td title=\"Index: [2, 1]&#10;Color: (123, 234, 123)\" style=\"width: 20px; height: 20px;background-color: rgb(123, 234, 123);\"></td><td title=\"Index: [2, 2]&#10;Color: (123, 234, 123)\" style=\"width: 20px; height: 20px;background-color: rgb(123, 234, 123);\"></td><td title=\"Index: [2, 3]&#10;Color: (123, 234, 123)\" style=\"width: 20px; height: 20px;background-color: rgb(123, 234, 123);\"></td><td title=\"Index: [2, 4]&#10;Color: (123, 234, 123)\" style=\"width: 20px; height: 20px;background-color: rgb(123, 234, 123);\"></td><td title=\"Index: [2, 5]&#10;Color: (123, 234, 123)\" style=\"width: 20px; height: 20px;background-color: rgb(123, 234, 123);\"></td><td title=\"Index: [2, 6]&#10;Color: (123, 234, 123)\" style=\"width: 20px; height: 20px;background-color: rgb(123, 234, 123);\"></td><td title=\"Index: [2, 7]&#10;Color: (0, 0, 0)\" style=\"width: 20px; height: 20px;background-color: rgb(0, 0, 0);\"></td></tr><tr><td title=\"Index: [3, 0]&#10;Color: (0, 0, 0)\" style=\"width: 20px; height: 20px;background-color: rgb(0, 0, 0);\"></td><td title=\"Index: [3, 1]&#10;Color: (123, 234, 123)\" style=\"width: 20px; height: 20px;background-color: rgb(123, 234, 123);\"></td><td title=\"Index: [3, 2]&#10;Color: (123, 234, 123)\" style=\"width: 20px; height: 20px;background-color: rgb(123, 234, 123);\"></td><td title=\"Index: [3, 3]&#10;Color: (123, 234, 123)\" style=\"width: 20px; height: 20px;background-color: rgb(123, 234, 123);\"></td><td title=\"Index: [3, 4]&#10;Color: (123, 234, 123)\" style=\"width: 20px; height: 20px;background-color: rgb(123, 234, 123);\"></td><td title=\"Index: [3, 5]&#10;Color: (123, 234, 123)\" style=\"width: 20px; height: 20px;background-color: rgb(123, 234, 123);\"></td><td title=\"Index: [3, 6]&#10;Color: (123, 234, 123)\" style=\"width: 20px; height: 20px;background-color: rgb(123, 234, 123);\"></td><td title=\"Index: [3, 7]&#10;Color: (0, 0, 0)\" style=\"width: 20px; height: 20px;background-color: rgb(0, 0, 0);\"></td></tr><tr><td title=\"Index: [4, 0]&#10;Color: (0, 0, 0)\" style=\"width: 20px; height: 20px;background-color: rgb(0, 0, 0);\"></td><td title=\"Index: [4, 1]&#10;Color: (0, 0, 0)\" style=\"width: 20px; height: 20px;background-color: rgb(0, 0, 0);\"></td><td title=\"Index: [4, 2]&#10;Color: (0, 0, 0)\" style=\"width: 20px; height: 20px;background-color: rgb(0, 0, 0);\"></td><td title=\"Index: [4, 3]&#10;Color: (0, 0, 0)\" style=\"width: 20px; height: 20px;background-color: rgb(0, 0, 0);\"></td><td title=\"Index: [4, 4]&#10;Color: (0, 0, 0)\" style=\"width: 20px; height: 20px;background-color: rgb(0, 0, 0);\"></td><td title=\"Index: [4, 5]&#10;Color: (0, 0, 0)\" style=\"width: 20px; height: 20px;background-color: rgb(0, 0, 0);\"></td><td title=\"Index: [4, 6]&#10;Color: (0, 0, 0)\" style=\"width: 20px; height: 20px;background-color: rgb(0, 0, 0);\"></td><td title=\"Index: [4, 7]&#10;Color: (0, 0, 0)\" style=\"width: 20px; height: 20px;background-color: rgb(0, 0, 0);\"></td></tr><tr><td title=\"Index: [5, 0]&#10;Color: (0, 0, 0)\" style=\"width: 20px; height: 20px;background-color: rgb(0, 0, 0);\"></td><td title=\"Index: [5, 1]&#10;Color: (123, 234, 123)\" style=\"width: 20px; height: 20px;background-color: rgb(123, 234, 123);\"></td><td title=\"Index: [5, 2]&#10;Color: (123, 234, 123)\" style=\"width: 20px; height: 20px;background-color: rgb(123, 234, 123);\"></td><td title=\"Index: [5, 3]&#10;Color: (123, 234, 123)\" style=\"width: 20px; height: 20px;background-color: rgb(123, 234, 123);\"></td><td title=\"Index: [5, 4]&#10;Color: (123, 234, 123)\" style=\"width: 20px; height: 20px;background-color: rgb(123, 234, 123);\"></td><td title=\"Index: [5, 5]&#10;Color: (123, 234, 123)\" style=\"width: 20px; height: 20px;background-color: rgb(123, 234, 123);\"></td><td title=\"Index: [5, 6]&#10;Color: (123, 234, 123)\" style=\"width: 20px; height: 20px;background-color: rgb(123, 234, 123);\"></td><td title=\"Index: [5, 7]&#10;Color: (0, 0, 0)\" style=\"width: 20px; height: 20px;background-color: rgb(0, 0, 0);\"></td></tr><tr><td title=\"Index: [6, 0]&#10;Color: (0, 0, 0)\" style=\"width: 20px; height: 20px;background-color: rgb(0, 0, 0);\"></td><td title=\"Index: [6, 1]&#10;Color: (123, 234, 123)\" style=\"width: 20px; height: 20px;background-color: rgb(123, 234, 123);\"></td><td title=\"Index: [6, 2]&#10;Color: (123, 234, 123)\" style=\"width: 20px; height: 20px;background-color: rgb(123, 234, 123);\"></td><td title=\"Index: [6, 3]&#10;Color: (123, 234, 123)\" style=\"width: 20px; height: 20px;background-color: rgb(123, 234, 123);\"></td><td title=\"Index: [6, 4]&#10;Color: (123, 234, 123)\" style=\"width: 20px; height: 20px;background-color: rgb(123, 234, 123);\"></td><td title=\"Index: [6, 5]&#10;Color: (123, 234, 123)\" style=\"width: 20px; height: 20px;background-color: rgb(123, 234, 123);\"></td><td title=\"Index: [6, 6]&#10;Color: (123, 234, 123)\" style=\"width: 20px; height: 20px;background-color: rgb(123, 234, 123);\"></td><td title=\"Index: [6, 7]&#10;Color: (0, 0, 0)\" style=\"width: 20px; height: 20px;background-color: rgb(0, 0, 0);\"></td></tr><tr><td title=\"Index: [7, 0]&#10;Color: (0, 0, 0)\" style=\"width: 20px; height: 20px;background-color: rgb(0, 0, 0);\"></td><td title=\"Index: [7, 1]&#10;Color: (123, 234, 123)\" style=\"width: 20px; height: 20px;background-color: rgb(123, 234, 123);\"></td><td title=\"Index: [7, 2]&#10;Color: (123, 234, 123)\" style=\"width: 20px; height: 20px;background-color: rgb(123, 234, 123);\"></td><td title=\"Index: [7, 3]&#10;Color: (123, 234, 123)\" style=\"width: 20px; height: 20px;background-color: rgb(123, 234, 123);\"></td><td title=\"Index: [7, 4]&#10;Color: (123, 234, 123)\" style=\"width: 20px; height: 20px;background-color: rgb(123, 234, 123);\"></td><td title=\"Index: [7, 5]&#10;Color: (123, 234, 123)\" style=\"width: 20px; height: 20px;background-color: rgb(123, 234, 123);\"></td><td title=\"Index: [7, 6]&#10;Color: (123, 234, 123)\" style=\"width: 20px; height: 20px;background-color: rgb(123, 234, 123);\"></td><td title=\"Index: [7, 7]&#10;Color: (0, 0, 0)\" style=\"width: 20px; height: 20px;background-color: rgb(0, 0, 0);\"></td></tr></tbody></table>"
       ],
       "metadata": {},
       "output_type": "display_data",
       "text": [
        "<IPython.core.display.HTML at 0x1024a1cd0>"
       ]
      }
     ],
     "prompt_number": 5
    },
    {
     "cell_type": "markdown",
     "metadata": {},
     "source": [
      "\n",
      "Question 3\n",
      "\n",
      "\"99 Bottles of Beer\" is a traditional song in the United States and Canada. It is popular to sing on long trips, as it has a very repetitive format which is easy to memorize, and can take a long time to sing. The song's simple lyrics are as follows:\n",
      "\n",
      "99 bottles of beer on the wall, 99 bottles of beer.  \n",
      "Take one down, pass it around, 98 bottles of beer on the wall.\n",
      "\n",
      "The same verse is repeated, each time with one fewer bottle. The song is completed when the singer or singers reach zero.\n",
      "Your task here is to write a program capable of generating all the verses of the song."
     ]
    },
    {
     "cell_type": "code",
     "collapsed": false,
     "input": [
      "n = 100\n",
      "while n > 0:\n",
      "    n -= 1\n",
      "    print n, 'bottles of beer on the wall, ', n, 'bottles of beer.', 'Take one down, pass it around, ', n, 'bottles of beer on the wall. \\n'\n",
      "    "
     ],
     "language": "python",
     "metadata": {},
     "outputs": [
      {
       "output_type": "stream",
       "stream": "stdout",
       "text": [
        "99 bottles of beer on the wall,  99 bottles of beer. Take one down, pass it around,  99 bottles of beer on the wall. \n",
        "\n",
        "98 bottles of beer on the wall,  98 bottles of beer. Take one down, pass it around,  98 bottles of beer on the wall. \n",
        "\n",
        "97 bottles of beer on the wall,  97 bottles of beer. Take one down, pass it around,  97 bottles of beer on the wall. \n",
        "\n",
        "96 bottles of beer on the wall,  96 bottles of beer. Take one down, pass it around,  96 bottles of beer on the wall. \n",
        "\n",
        "95 bottles of beer on the wall,  95 bottles of beer. Take one down, pass it around,  95 bottles of beer on the wall. \n",
        "\n",
        "94 bottles of beer on the wall,  94 bottles of beer. Take one down, pass it around,  94 bottles of beer on the wall. \n",
        "\n",
        "93 bottles of beer on the wall,  93 bottles of beer. Take one down, pass it around,  93 bottles of beer on the wall. \n",
        "\n",
        "92 bottles of beer on the wall,  92 bottles of beer. Take one down, pass it around,  92 bottles of beer on the wall. \n",
        "\n",
        "91 bottles of beer on the wall,  91 bottles of beer. Take one down, pass it around,  91 bottles of beer on the wall. \n",
        "\n",
        "90 bottles of beer on the wall,  90 bottles of beer. Take one down, pass it around,  90 bottles of beer on the wall. \n",
        "\n",
        "89 bottles of beer on the wall,  89 bottles of beer. Take one down, pass it around,  89 bottles of beer on the wall. \n",
        "\n",
        "88 bottles of beer on the wall,  88 bottles of beer. Take one down, pass it around,  88 bottles of beer on the wall. \n",
        "\n",
        "87 bottles of beer on the wall,  87 bottles of beer. Take one down, pass it around,  87 bottles of beer on the wall. \n",
        "\n",
        "86 bottles of beer on the wall,  86 bottles of beer. Take one down, pass it around,  86 bottles of beer on the wall. \n",
        "\n",
        "85 bottles of beer on the wall,  85 bottles of beer. Take one down, pass it around,  85 bottles of beer on the wall. \n",
        "\n",
        "84 bottles of beer on the wall,  84 bottles of beer. Take one down, pass it around,  84 bottles of beer on the wall. \n",
        "\n",
        "83 bottles of beer on the wall,  83 bottles of beer. Take one down, pass it around,  83 bottles of beer on the wall. \n",
        "\n",
        "82 bottles of beer on the wall,  82 bottles of beer. Take one down, pass it around,  82 bottles of beer on the wall. \n",
        "\n",
        "81 bottles of beer on the wall,  81 bottles of beer. Take one down, pass it around,  81 bottles of beer on the wall. \n",
        "\n",
        "80 bottles of beer on the wall,  80 bottles of beer. Take one down, pass it around,  80 bottles of beer on the wall. \n",
        "\n",
        "79 bottles of beer on the wall,  79 bottles of beer. Take one down, pass it around,  79 bottles of beer on the wall. \n",
        "\n",
        "78 bottles of beer on the wall,  78 bottles of beer. Take one down, pass it around,  78 bottles of beer on the wall. \n",
        "\n",
        "77 bottles of beer on the wall,  77 bottles of beer. Take one down, pass it around,  77 bottles of beer on the wall. \n",
        "\n",
        "76 bottles of beer on the wall,  76 bottles of beer. Take one down, pass it around,  76 bottles of beer on the wall. \n",
        "\n",
        "75 bottles of beer on the wall,  75 bottles of beer. Take one down, pass it around,  75 bottles of beer on the wall. \n",
        "\n",
        "74 bottles of beer on the wall,  74 bottles of beer. Take one down, pass it around,  74 bottles of beer on the wall. \n",
        "\n",
        "73 bottles of beer on the wall,  73 bottles of beer. Take one down, pass it around,  73 bottles of beer on the wall. \n",
        "\n",
        "72 bottles of beer on the wall,  72 bottles of beer. Take one down, pass it around,  72 bottles of beer on the wall. \n",
        "\n",
        "71 bottles of beer on the wall,  71 bottles of beer. Take one down, pass it around,  71 bottles of beer on the wall. \n",
        "\n",
        "70 bottles of beer on the wall,  70 bottles of beer. Take one down, pass it around,  70 bottles of beer on the wall. \n",
        "\n",
        "69 bottles of beer on the wall,  69 bottles of beer. Take one down, pass it around,  69 bottles of beer on the wall. \n",
        "\n",
        "68 bottles of beer on the wall,  68 bottles of beer. Take one down, pass it around,  68 bottles of beer on the wall. \n",
        "\n",
        "67 bottles of beer on the wall,  67 bottles of beer. Take one down, pass it around,  67 bottles of beer on the wall. \n",
        "\n",
        "66 bottles of beer on the wall,  66 bottles of beer. Take one down, pass it around,  66 bottles of beer on the wall. \n",
        "\n",
        "65 bottles of beer on the wall,  65 bottles of beer. Take one down, pass it around,  65 bottles of beer on the wall. \n",
        "\n",
        "64 bottles of beer on the wall,  64 bottles of beer. Take one down, pass it around,  64 bottles of beer on the wall. \n",
        "\n",
        "63 bottles of beer on the wall,  63 bottles of beer. Take one down, pass it around,  63 bottles of beer on the wall. \n",
        "\n",
        "62 bottles of beer on the wall,  62 bottles of beer. Take one down, pass it around,  62 bottles of beer on the wall. \n",
        "\n",
        "61 bottles of beer on the wall,  61 bottles of beer. Take one down, pass it around,  61 bottles of beer on the wall. \n",
        "\n",
        "60 bottles of beer on the wall,  60 bottles of beer. Take one down, pass it around,  60 bottles of beer on the wall. \n",
        "\n",
        "59 bottles of beer on the wall,  59 bottles of beer. Take one down, pass it around,  59 bottles of beer on the wall. \n",
        "\n",
        "58 bottles of beer on the wall,  58 bottles of beer. Take one down, pass it around,  58 bottles of beer on the wall. \n",
        "\n",
        "57 bottles of beer on the wall,  57 bottles of beer. Take one down, pass it around,  57 bottles of beer on the wall. \n",
        "\n",
        "56 bottles of beer on the wall,  56 bottles of beer. Take one down, pass it around,  56 bottles of beer on the wall. \n",
        "\n",
        "55 bottles of beer on the wall,  55 bottles of beer. Take one down, pass it around,  55 bottles of beer on the wall. \n",
        "\n",
        "54 bottles of beer on the wall,  54 bottles of beer. Take one down, pass it around,  54 bottles of beer on the wall. \n",
        "\n",
        "53 bottles of beer on the wall,  53 bottles of beer. Take one down, pass it around,  53 bottles of beer on the wall. \n",
        "\n",
        "52 bottles of beer on the wall,  52 bottles of beer. Take one down, pass it around,  52 bottles of beer on the wall. \n",
        "\n",
        "51 bottles of beer on the wall,  51 bottles of beer. Take one down, pass it around,  51 bottles of beer on the wall. \n",
        "\n",
        "50 bottles of beer on the wall,  50 bottles of beer. Take one down, pass it around,  50 bottles of beer on the wall. \n",
        "\n",
        "49 bottles of beer on the wall,  49 bottles of beer. Take one down, pass it around,  49 bottles of beer on the wall. \n",
        "\n",
        "48 bottles of beer on the wall,  48 bottles of beer. Take one down, pass it around,  48 bottles of beer on the wall. \n",
        "\n",
        "47 bottles of beer on the wall,  47 bottles of beer. Take one down, pass it around,  47 bottles of beer on the wall. \n",
        "\n",
        "46 bottles of beer on the wall,  46 bottles of beer. Take one down, pass it around,  46 bottles of beer on the wall. \n",
        "\n",
        "45 bottles of beer on the wall,  45 bottles of beer. Take one down, pass it around,  45 bottles of beer on the wall. \n",
        "\n",
        "44 bottles of beer on the wall,  44 bottles of beer. Take one down, pass it around,  44 bottles of beer on the wall. \n",
        "\n",
        "43 bottles of beer on the wall,  43 bottles of beer. Take one down, pass it around,  43 bottles of beer on the wall. \n",
        "\n",
        "42 bottles of beer on the wall,  42 bottles of beer. Take one down, pass it around,  42 bottles of beer on the wall. \n",
        "\n",
        "41 bottles of beer on the wall,  41 bottles of beer. Take one down, pass it around,  41 bottles of beer on the wall. \n",
        "\n",
        "40 bottles of beer on the wall,  40 bottles of beer. Take one down, pass it around,  40 bottles of beer on the wall. \n",
        "\n",
        "39 bottles of beer on the wall,  39 bottles of beer. Take one down, pass it around,  39 bottles of beer on the wall. \n",
        "\n",
        "38 bottles of beer on the wall,  38 bottles of beer. Take one down, pass it around,  38 bottles of beer on the wall. \n",
        "\n",
        "37 bottles of beer on the wall,  37 bottles of beer. Take one down, pass it around,  37 bottles of beer on the wall. \n",
        "\n",
        "36 bottles of beer on the wall,  36 bottles of beer. Take one down, pass it around,  36 bottles of beer on the wall. \n",
        "\n",
        "35 bottles of beer on the wall,  35 bottles of beer. Take one down, pass it around,  35 bottles of beer on the wall. \n",
        "\n",
        "34 bottles of beer on the wall,  34 bottles of beer. Take one down, pass it around,  34 bottles of beer on the wall. \n",
        "\n",
        "33 bottles of beer on the wall,  33 bottles of beer. Take one down, pass it around,  33 bottles of beer on the wall. \n",
        "\n",
        "32 bottles of beer on the wall,  32 bottles of beer. Take one down, pass it around,  32 bottles of beer on the wall. \n",
        "\n",
        "31 bottles of beer on the wall,  31 bottles of beer. Take one down, pass it around,  31 bottles of beer on the wall. \n",
        "\n",
        "30 bottles of beer on the wall,  30 bottles of beer. Take one down, pass it around,  30 bottles of beer on the wall. \n",
        "\n",
        "29 bottles of beer on the wall,  29 bottles of beer. Take one down, pass it around,  29 bottles of beer on the wall. \n",
        "\n",
        "28 bottles of beer on the wall,  28 bottles of beer. Take one down, pass it around,  28 bottles of beer on the wall. \n",
        "\n",
        "27 bottles of beer on the wall,  27 bottles of beer. Take one down, pass it around,  27 bottles of beer on the wall. \n",
        "\n",
        "26 bottles of beer on the wall,  26 bottles of beer. Take one down, pass it around,  26 bottles of beer on the wall. \n",
        "\n",
        "25 bottles of beer on the wall,  25 bottles of beer. Take one down, pass it around,  25 bottles of beer on the wall. \n",
        "\n",
        "24 bottles of beer on the wall,  24 bottles of beer. Take one down, pass it around,  24 bottles of beer on the wall. \n",
        "\n",
        "23 bottles of beer on the wall,  23 bottles of beer. Take one down, pass it around,  23 bottles of beer on the wall. \n",
        "\n",
        "22 bottles of beer on the wall,  22 bottles of beer. Take one down, pass it around,  22 bottles of beer on the wall. \n",
        "\n",
        "21 bottles of beer on the wall,  21 bottles of beer. Take one down, pass it around,  21 bottles of beer on the wall. \n",
        "\n",
        "20 bottles of beer on the wall,  20 bottles of beer. Take one down, pass it around,  20 bottles of beer on the wall. \n",
        "\n",
        "19 bottles of beer on the wall,  19 bottles of beer. Take one down, pass it around,  19 bottles of beer on the wall. \n",
        "\n",
        "18 bottles of beer on the wall,  18 bottles of beer. Take one down, pass it around,  18 bottles of beer on the wall. \n",
        "\n",
        "17 bottles of beer on the wall,  17 bottles of beer. Take one down, pass it around,  17 bottles of beer on the wall. \n",
        "\n",
        "16 bottles of beer on the wall,  16 bottles of beer. Take one down, pass it around,  16 bottles of beer on the wall. \n",
        "\n",
        "15 bottles of beer on the wall,  15 bottles of beer. Take one down, pass it around,  15 bottles of beer on the wall. \n",
        "\n",
        "14 bottles of beer on the wall,  14 bottles of beer. Take one down, pass it around,  14 bottles of beer on the wall. \n",
        "\n",
        "13 bottles of beer on the wall,  13 bottles of beer. Take one down, pass it around,  13 bottles of beer on the wall. \n",
        "\n",
        "12 bottles of beer on the wall,  12 bottles of beer. Take one down, pass it around,  12 bottles of beer on the wall. \n",
        "\n",
        "11 bottles of beer on the wall,  11 bottles of beer. Take one down, pass it around,  11 bottles of beer on the wall. \n",
        "\n",
        "10 bottles of beer on the wall,  10 bottles of beer. Take one down, pass it around,  10 bottles of beer on the wall. \n",
        "\n",
        "9 bottles of beer on the wall,  9 bottles of beer. Take one down, pass it around,  9 bottles of beer on the wall. \n",
        "\n",
        "8 bottles of beer on the wall,  8 bottles of beer. Take one down, pass it around,  8 bottles of beer on the wall. \n",
        "\n",
        "7 bottles of beer on the wall,  7 bottles of beer. Take one down, pass it around,  7 bottles of beer on the wall. \n",
        "\n",
        "6 bottles of beer on the wall,  6 bottles of beer. Take one down, pass it around,  6 bottles of beer on the wall. \n",
        "\n",
        "5 bottles of beer on the wall,  5 bottles of beer. Take one down, pass it around,  5 bottles of beer on the wall. \n",
        "\n",
        "4 bottles of beer on the wall,  4 bottles of beer. Take one down, pass it around,  4 bottles of beer on the wall. \n",
        "\n",
        "3 bottles of beer on the wall,  3 bottles of beer. Take one down, pass it around,  3 bottles of beer on the wall. \n",
        "\n",
        "2 bottles of beer on the wall,  2 bottles of beer. Take one down, pass it around,  2 bottles of beer on the wall. \n",
        "\n",
        "1 bottles of beer on the wall,  1 bottles of beer. Take one down, pass it around,  1 bottles of beer on the wall. \n",
        "\n",
        "0 bottles of beer on the wall,  0 bottles of beer. Take one down, pass it around,  0 bottles of beer on the wall. \n",
        "\n"
       ]
      }
     ],
     "prompt_number": 12
    },
    {
     "cell_type": "markdown",
     "metadata": {},
     "source": [
      "Question 4\n",
      "\n",
      "Plot a simple graph of a sine function in the range 0 to 3 with a step size of 0.1.\n",
      "\n",
      "- Make the line red.\n",
      "- Add green diamond-shaped markers with size of 7.\n",
      "- Include legible axis labels.\n",
      "- Add a legend and a grid to the plot."
     ]
    },
    {
     "cell_type": "code",
     "collapsed": false,
     "input": [
      "%pylab inline\n",
      "x = np.arange(0, 3, .1)\n",
      "y = np.sin(x)\n",
      "plt.plot(x, y, color='r', label='Sine' )\n",
      "plt.plot(x, y, 'd', markersize=7, color='green')\n",
      "\n",
      "\n",
      "\n",
      "ax = plt.gca()  # gca stands for 'get current axis'\n",
      "ax.spines['right'].set_color('none')\n",
      "ax.spines['top'].set_color('none')\n",
      "ax.xaxis.set_ticks_position('bottom')\n",
      "ax.spines['bottom'].set_position(('data',0))\n",
      "ax.yaxis.set_ticks_position('left')\n",
      "ax.spines['left'].set_position(('data',0))\n",
      "\n",
      "plt.grid()\n",
      "\n",
      "plt.xlabel('X', fontsize=20)\n",
      "plt.ylabel('Y', fontsize=20)\n",
      "plt.title('Sine Graph for Midterm', fontsize=20)\n",
      "\n",
      "plt.legend(loc='lower center')"
     ],
     "language": "python",
     "metadata": {},
     "outputs": [
      {
       "output_type": "stream",
       "stream": "stdout",
       "text": [
        "Populating the interactive namespace from numpy and matplotlib\n"
       ]
      },
      {
       "metadata": {},
       "output_type": "pyout",
       "prompt_number": 29,
       "text": [
        "<matplotlib.legend.Legend at 0x10682ac10>"
       ]
      },
      {
       "metadata": {},
       "output_type": "display_data",
       "png": "[encoded data removed]",
       "text": [
        "<matplotlib.figure.Figure at 0x10682f110>"
       ]
      }
     ],
     "prompt_number": 29
    },
    {
     "cell_type": "markdown",
     "metadata": {},
     "source": [
      "\n",
      "Question 5\n",
      "\n",
      "Create a 100x5 NumPy array called arr of random floating point numbers between 10.7 and 36.2.\n",
      "\n",
      "- Write the array to a file called numbers.txt as 5 columns separated by 2 spaces and formatted with 3 places after the decimal.\n",
      "- Include a 3-line header that lists the date and time on line 2 (hint: try !date).\n",
      "- Show the first 10 lines of the file using the !head command.\n",
      "- Read the data back in from the file to a new floating point NumPy array called arr2 and use a slice to print the first ten lines of the array."
     ]
    },
    {
     "cell_type": "code",
     "collapsed": false,
     "input": [
      "arr = np.random.uniform(low=10.7, high=36.2, size=(100, 5))\n",
      "#print arr\n",
      "date = !date\n",
      "   \n",
      "myheader = \"\\n numbers.txt \\n %s \\n Created for Midterm \\n\" %(date)\n",
      " \n",
      "np.savetxt('numbers.txt', arr, fmt=('%.3f'), header=myheader)\n",
      "\n",
      "!head -10 numbers.txt\n",
      "\n",
      "arr2 = np.loadtxt('numbers.txt')\n",
      "print \n",
      "print arr2[:10, :]"
     ],
     "language": "python",
     "metadata": {},
     "outputs": [
      {
       "output_type": "stream",
       "stream": "stdout",
       "text": [
        "# \r\n",
        "#  numbers.txt \r\n",
        "#  ['Tue Apr 29 13:22:12 PDT 2014'] \r\n",
        "#  Created for Midterm \r\n",
        "# \r\n",
        "33.673 34.511 14.454 11.565 11.487\r\n",
        "16.465 31.568 14.769 19.477 17.218\r\n",
        "12.047 25.143 29.311 16.003 34.931\r\n",
        "29.161 23.937 30.768 30.070 31.115\r\n",
        "12.915 23.883 22.880 25.138 34.145\r\n"
       ]
      },
      {
       "output_type": "stream",
       "stream": "stdout",
       "text": [
        "\n",
        "[[ 33.673  34.511  14.454  11.565  11.487]\n",
        " [ 16.465  31.568  14.769  19.477  17.218]\n",
        " [ 12.047  25.143  29.311  16.003  34.931]\n",
        " [ 29.161  23.937  30.768  30.07   31.115]\n",
        " [ 12.915  23.883  22.88   25.138  34.145]\n",
        " [ 33.217  26.884  15.014  17.124  29.834]\n",
        " [ 18.495  26.355  31.97   26.528  36.021]\n",
        " [ 23.418  20.218  13.96   13.703  21.7  ]\n",
        " [ 10.976  14.972  12.645  20.615  11.334]\n",
        " [ 33.354  19.056  30.83   26.867  18.031]]\n"
       ]
      }
     ],
     "prompt_number": 59
    },
    {
     "cell_type": "code",
     "collapsed": false,
     "input": [],
     "language": "python",
     "metadata": {},
     "outputs": []
    }
   ],
   "metadata": {}
  }
 ]
}