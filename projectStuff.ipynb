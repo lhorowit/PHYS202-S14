{
 "metadata": {
  "name": "",
  "signature": "sha256:1a36b9587c156d540946ba21e193155311bf02e5032f7ea81af61f3454242f8f"
 },
 "nbformat": 3,
 "nbformat_minor": 0,
 "worksheets": [
  {
   "cells": [
    {
     "cell_type": "code",
     "collapsed": false,
     "input": [
      "import Blobfinder as B\n"
     ],
     "language": "python",
     "metadata": {},
     "outputs": [],
     "prompt_number": 16
    },
    {
     "cell_type": "code",
     "collapsed": false,
     "input": [
      "b = B.Blob()\n",
      "b.add(1,5)\n",
      "print b.centerofmass()\n"
     ],
     "language": "python",
     "metadata": {},
     "outputs": [
      {
       "ename": "TypeError",
       "evalue": "centerofmass() takes no arguments (1 given)",
       "output_type": "pyerr",
       "traceback": [
        "\u001b[0;31m---------------------------------------------------------------------------\u001b[0m\n\u001b[0;31mTypeError\u001b[0m                                 Traceback (most recent call last)",
        "\u001b[0;32m<ipython-input-21-7345089ce42b>\u001b[0m in \u001b[0;36m<module>\u001b[0;34m()\u001b[0m\n\u001b[1;32m      1\u001b[0m \u001b[0mb\u001b[0m \u001b[0;34m=\u001b[0m \u001b[0mB\u001b[0m\u001b[0;34m.\u001b[0m\u001b[0mBlob\u001b[0m\u001b[0;34m(\u001b[0m\u001b[0;34m)\u001b[0m\u001b[0;34m\u001b[0m\u001b[0m\n\u001b[1;32m      2\u001b[0m \u001b[0mb\u001b[0m\u001b[0;34m.\u001b[0m\u001b[0madd\u001b[0m\u001b[0;34m(\u001b[0m\u001b[0;36m1\u001b[0m\u001b[0;34m,\u001b[0m\u001b[0;36m5\u001b[0m\u001b[0;34m)\u001b[0m\u001b[0;34m\u001b[0m\u001b[0m\n\u001b[0;32m----> 3\u001b[0;31m \u001b[0;32mprint\u001b[0m \u001b[0mb\u001b[0m\u001b[0;34m.\u001b[0m\u001b[0mcenterofmass\u001b[0m\u001b[0;34m(\u001b[0m\u001b[0;34m)\u001b[0m\u001b[0;34m\u001b[0m\u001b[0m\n\u001b[0m",
        "\u001b[0;31mTypeError\u001b[0m: centerofmass() takes no arguments (1 given)"
       ]
      }
     ],
     "prompt_number": 21
    },
    {
     "cell_type": "code",
     "collapsed": false,
     "input": [
      "!ls\n"
     ],
     "language": "python",
     "metadata": {},
     "outputs": [
      {
       "output_type": "stream",
       "stream": "stdout",
       "text": [
        "Battleship.ipynb\r\n",
        "Blobfinder.py\r\n",
        "Blobfinder.pyc\r\n",
        "Brownian Motion and Avogadro's Number.ipynb\r\n",
        "\u001b[34mDataIO\u001b[m\u001b[m\r\n",
        "\u001b[34mGraphics\u001b[m\u001b[m\r\n",
        "Midterm.ipynb\r\n",
        "\u001b[34mNumPy\u001b[m\u001b[m\r\n",
        "\u001b[34mProjectEuler\u001b[m\u001b[m\r\n",
        "README.md\r\n",
        "Untitled0.ipynb\r\n",
        "configureGit.sh\r\n",
        "\u001b[34miPython\u001b[m\u001b[m\r\n",
        "numbers.txt\r\n",
        "numbers1.txt\r\n",
        "pledge.txt\r\n",
        "\u001b[34mrun7\u001b[m\u001b[m\r\n",
        "sunspots1.txt\r\n"
       ]
      }
     ],
     "prompt_number": 18
    },
    {
     "cell_type": "code",
     "collapsed": false,
     "input": [
      "!cat Blobfinder.py"
     ],
     "language": "python",
     "metadata": {},
     "outputs": [
      {
       "output_type": "stream",
       "stream": "stdout",
       "text": [
        "\r\n",
        "class Blob(object):\r\n",
        "    \r\n",
        "    def __init__(self):\r\n",
        "        self.pixels = []\r\n",
        "        \r\n",
        "    def add(self,i,j):\r\n",
        "        self.pixels.append((i,j))\r\n",
        "        \r\n",
        "    def mass(self):\r\n",
        "        return len(self.pixels) \r\n",
        "        \r\n",
        "    def centerofmass(self):\r\n",
        "        sumX = 0\r\n",
        "        sumY = 0\r\n",
        "        for pixel in self.pixels:\r\n",
        "            sumX += pixel[0]\r\n",
        "            sumY += pixel[1]\r\n",
        "            avg = (sumX/len(self.pixels), sumY/len(self.pixels))\r\n",
        "        return avg\r\n",
        "            \r\n",
        "        \r\n",
        "    def distanceTo(blob):\r\n",
        "        D = ((self.centerofmass[0] - blob.centerofmass[0])**2 + (self.centerofmass[1] - blob.centerofmass[1])**2)**.5\r\n",
        "        return round(D, 4)\r\n",
        "    \r\n",
        "    \r\n",
        "def BlobFinder(picture, tau):\r\n",
        "    black = (0, 0, 0)\r\n",
        "    white = (255,255,255)\r\n",
        "    xsize, ysize = picture.size\r\n",
        "    temp = picture.load()\r\n",
        "    for x in range(xsize):\r\n",
        "        for y in range(ysize):\r\n",
        "            r,g,b = temp[x,y]\r\n",
        "            if r+g+b <= threshold:\r\n",
        "                temp[x,y] = black\r\n",
        "            else:\r\n",
        "                temp[x,y] = white\r\n",
        "                \r\n",
        "                \r\n",
        "\r\n",
        "                \r\n",
        "                \r\n",
        "def Fill(picture):\r\n",
        "    queue = [(0,0)]\r\n",
        "    xsize, ysize = picture.size\r\n",
        "    while queue:\r\n",
        "        x,y,queue = queue[0][0], queue[0][1], queue[1:]\r\n",
        "        r,g,b = picture[x,y]\r\n",
        "        if (r,g,b) > BLACK:\r\n",
        "            self.add(x,y)\r\n",
        "            picture[x,y] = BLACK\r\n",
        "            if x > 0:\r\n",
        "                queue.append((x-1,y))\r\n",
        "            if x < (xsize-1):\r\n",
        "                queue.append((x+1,y))\r\n",
        "            if y > 0:\r\n",
        "                queue.append((x, y-1))\r\n",
        "            if y < (ysize-1):\r\n",
        "                queue.append((x, y+1))               \r\n",
        "                \r\n",
        "                \r\n",
        "                \r\n",
        "                \r\n",
        "def countBeads(picture, P):\r\n",
        "    xsize, ysize = picture.size\r\n",
        "    temp = picture.load()\r\n",
        "    result = 0\r\n",
        "    for x in range(xsize):\r\n",
        "        for y in range(ysize):\r\n",
        "            if self.mass() >= P:\r\n",
        "                result += 1\r\n",
        "                Fill(picture)\r\n",
        "    return result"
       ]
      }
     ],
     "prompt_number": 19
    },
    {
     "cell_type": "code",
     "collapsed": false,
     "input": [],
     "language": "python",
     "metadata": {},
     "outputs": []
    }
   ],
   "metadata": {}
  }
 ]
}