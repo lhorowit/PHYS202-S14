{
 "metadata": {
  "name": "",
  "signature": "sha256:1b42230e1c371760e9bba20ae05ac7fcb5dada80125dc9a88c60b9a6ab570734"
 },
 "nbformat": 3,
 "nbformat_minor": 0,
 "worksheets": [
  {
   "cells": [
    {
     "cell_type": "heading",
     "level": 1,
     "metadata": {},
     "source": [
      "Error Handling Exercises"
     ]
    },
    {
     "cell_type": "heading",
     "level": 3,
     "metadata": {},
     "source": [
      "Battleship + Error Handling"
     ]
    },
    {
     "cell_type": "code",
     "collapsed": false,
     "input": [
      "from random import randint\n",
      "from ipythonblocks import BlockGrid\n",
      "from ipythonblocks import colors\n",
      "\n",
      "def correct_row():\n",
      "    guess = ''\n",
      "    while guess.isdigit() == False:\n",
      "        guess = raw_input(\"Please enter a row number: \")\n",
      "        if guess.isdigit() == True:\n",
      "            return int(guess)\n",
      "        \n",
      "        \n",
      "def correct_col():\n",
      "    guess = ''\n",
      "    while guess.isdigit() == False:\n",
      "        guess = raw_input(\"Please enter a col number: \")\n",
      "        if guess.isdigit() == True:\n",
      "            return int(guess)\n",
      "        \n",
      "        \n",
      "        \n",
      "\n",
      "len_board = int(raw_input(\"How long do you want the board to be? Please enter an integer >= 5: \"))\n",
      "                                                                # User input board size\n",
      "grid = BlockGrid(len_board, len_board, fill=(173, 216, 230))    # The Game Board\n",
      "\n",
      "\n",
      "def random_row(grid):                  # The row that the ship will reside in. All ships \n",
      "    return randint(1, grid.height-1)   # will be along a distint row\n",
      "\n",
      "def random_col(grid):                  # The column that the ship will start on. It will extend \n",
      "    return randint(1, grid.width-4)    # to the right for a total of 3 blocks length\n",
      "\n",
      "ship_row = random_row(grid)-1 \n",
      "ship_col = random_col(grid)-1\n",
      "\n",
      "\n",
      "number_of_turns = int(raw_input(\"How many turns do you want? Please input an integer: \"))   \n",
      "                                    # Asks user how many turns they would like to have\n",
      "rng = range(number_of_turns+1)\n",
      "\n",
      "\n",
      "print \"Let's play Battleship!\"\n",
      "\n",
      "\n",
      "grid.show() \n",
      "number_of_hits = 0         # When this = 3, User wins\n",
      "turn = 0  \n",
      "turns_left = number_of_turns\n",
      "while turn <= number_of_turns:     # Limits game by number of turns\n",
      "    \n",
      "       \n",
      "        \n",
      "        if turns_left == 0:                     # Loss message and ship reveal\n",
      "            print \"You Lose.\"\n",
      "            ship = grid[ship_row, ship_col:ship_col+3]\n",
      "            for block in ship:\n",
      "                block.set_colors(165, 42, 42) \n",
      "            grid.show()    \n",
      "            break    \n",
      "            \n",
      "        guess_row = correct_row() - 1\n",
      "        \n",
      "        \n",
      "        \n",
      "        guess_col = correct_col() - 1\n",
      "            \n",
      "            \n",
      "        print (guess_row + 1, guess_col + 1)\n",
      "            \n",
      "            \n",
      "        if (guess_row < 0 or guess_row > grid.height) or (guess_col < 0 or guess_col > grid.width):\n",
      "                print \"Oops, that's not even in the ocean.\"\n",
      "                turn = turn + 1                  # ^^^ Checks if  guess is on the board\n",
      "                turns_left = turns_left - 1\n",
      "                print \"Turns left\", turns_left   # shows # of turns left\n",
      "                grid.show()    \n",
      "    \n",
      "        elif grid[guess_row, guess_col].rgb == (255, 0, 0):\n",
      "            print \"You already hit this spot...\" # Checks if ship was already hit here\n",
      "            turn = turn + 1\n",
      "            turns_left = turns_left - 1   # Counts down the number of turns\n",
      "            print \"Turns left\", turns_left\n",
      "        \n",
      "        elif (guess_row == ship_row) and (guess_col in range(ship_col,ship_col+3)):\n",
      "            print \"Congratulations! You hit my battleship!\"   # ^^^ Checks for a hit\n",
      "            grid[guess_row, guess_col] = (255, 0, 0)   # Hits set to red\n",
      "            turn = turn + 1\n",
      "            turns_left = turns_left - 1\n",
      "            number_of_hits = number_of_hits + 1\n",
      "            print \"Turns left\", turns_left \n",
      "            grid.show()\n",
      "            \n",
      "        if number_of_hits == 3:          # Win message\n",
      "            print \"Congratulations! You sunk my battleship!\"\n",
      "            break        \n",
      "       \n",
      "        \n",
      "        else:\n",
      "            \n",
      "            \n",
      "            if (guess_row < 0 or guess_row > grid.height) or (guess_col < 0 or guess_col > grid.width):\n",
      "                print \"\"     # Checks if guess was on the game board\n",
      "            \n",
      "            elif (grid[guess_row, guess_col].rgb == (0, 0, 0)):\n",
      "                print \"You guessed that one already.\"\n",
      "                turn = turn + 1      #^^^ Checks if incorrect guess was entered again\n",
      "                turns_left = turns_left - 1\n",
      "                print \"Turns left\", turns_left\n",
      "                grid.show()\n",
      "                \n",
      "            elif (guess_row != ship_row) or (guess_col not in range(ship_col,ship_col+3)):\n",
      "                print \"You missed my battleship!\"     # Anything else is a miss\n",
      "                grid[guess_row, guess_col] = (0,0,0)  # Misses set to black   \n",
      "                turn = turn + 1            \n",
      "                turns_left = turns_left - 1\n",
      "                print \"Turns left\", turns_left\n",
      "                grid.show()\n",
      "            "
     ],
     "language": "python",
     "metadata": {},
     "outputs": [
      {
       "name": "stdout",
       "output_type": "stream",
       "stream": "stdout",
       "text": [
        "How long do you want the board to be? Please enter an integer >= 5: 5\n"
       ]
      },
      {
       "name": "stdout",
       "output_type": "stream",
       "stream": "stdout",
       "text": [
        "How many turns do you want? Please input an integer: 5\n"
       ]
      },
      {
       "output_type": "stream",
       "stream": "stdout",
       "text": [
        "Let's play Battleship!\n"
       ]
      },
      {
       "html": [
        "<style type=\"text/css\">table.blockgrid {border: none;} .blockgrid tr {border: none;} .blockgrid td {padding: 0px;} #blocks01f9276c-96c4-41d3-8f2b-65a84c85c51a td {border: 1px solid white;}</style><table id=\"blocks01f9276c-96c4-41d3-8f2b-65a84c85c51a\" class=\"blockgrid\"><tbody><tr><td title=\"Index: [0, 0]&#10;Color: (173, 216, 230)\" style=\"width: 20px; height: 20px;background-color: rgb(173, 216, 230);\"></td><td title=\"Index: [0, 1]&#10;Color: (173, 216, 230)\" style=\"width: 20px; height: 20px;background-color: rgb(173, 216, 230);\"></td><td title=\"Index: [0, 2]&#10;Color: (173, 216, 230)\" style=\"width: 20px; height: 20px;background-color: rgb(173, 216, 230);\"></td><td title=\"Index: [0, 3]&#10;Color: (173, 216, 230)\" style=\"width: 20px; height: 20px;background-color: rgb(173, 216, 230);\"></td><td title=\"Index: [0, 4]&#10;Color: (173, 216, 230)\" style=\"width: 20px; height: 20px;background-color: rgb(173, 216, 230);\"></td></tr><tr><td title=\"Index: [1, 0]&#10;Color: (173, 216, 230)\" style=\"width: 20px; height: 20px;background-color: rgb(173, 216, 230);\"></td><td title=\"Index: [1, 1]&#10;Color: (173, 216, 230)\" style=\"width: 20px; height: 20px;background-color: rgb(173, 216, 230);\"></td><td title=\"Index: [1, 2]&#10;Color: (173, 216, 230)\" style=\"width: 20px; height: 20px;background-color: rgb(173, 216, 230);\"></td><td title=\"Index: [1, 3]&#10;Color: (173, 216, 230)\" style=\"width: 20px; height: 20px;background-color: rgb(173, 216, 230);\"></td><td title=\"Index: [1, 4]&#10;Color: (173, 216, 230)\" style=\"width: 20px; height: 20px;background-color: rgb(173, 216, 230);\"></td></tr><tr><td title=\"Index: [2, 0]&#10;Color: (173, 216, 230)\" style=\"width: 20px; height: 20px;background-color: rgb(173, 216, 230);\"></td><td title=\"Index: [2, 1]&#10;Color: (173, 216, 230)\" style=\"width: 20px; height: 20px;background-color: rgb(173, 216, 230);\"></td><td title=\"Index: [2, 2]&#10;Color: (173, 216, 230)\" style=\"width: 20px; height: 20px;background-color: rgb(173, 216, 230);\"></td><td title=\"Index: [2, 3]&#10;Color: (173, 216, 230)\" style=\"width: 20px; height: 20px;background-color: rgb(173, 216, 230);\"></td><td title=\"Index: [2, 4]&#10;Color: (173, 216, 230)\" style=\"width: 20px; height: 20px;background-color: rgb(173, 216, 230);\"></td></tr><tr><td title=\"Index: [3, 0]&#10;Color: (173, 216, 230)\" style=\"width: 20px; height: 20px;background-color: rgb(173, 216, 230);\"></td><td title=\"Index: [3, 1]&#10;Color: (173, 216, 230)\" style=\"width: 20px; height: 20px;background-color: rgb(173, 216, 230);\"></td><td title=\"Index: [3, 2]&#10;Color: (173, 216, 230)\" style=\"width: 20px; height: 20px;background-color: rgb(173, 216, 230);\"></td><td title=\"Index: [3, 3]&#10;Color: (173, 216, 230)\" style=\"width: 20px; height: 20px;background-color: rgb(173, 216, 230);\"></td><td title=\"Index: [3, 4]&#10;Color: (173, 216, 230)\" style=\"width: 20px; height: 20px;background-color: rgb(173, 216, 230);\"></td></tr><tr><td title=\"Index: [4, 0]&#10;Color: (173, 216, 230)\" style=\"width: 20px; height: 20px;background-color: rgb(173, 216, 230);\"></td><td title=\"Index: [4, 1]&#10;Color: (173, 216, 230)\" style=\"width: 20px; height: 20px;background-color: rgb(173, 216, 230);\"></td><td title=\"Index: [4, 2]&#10;Color: (173, 216, 230)\" style=\"width: 20px; height: 20px;background-color: rgb(173, 216, 230);\"></td><td title=\"Index: [4, 3]&#10;Color: (173, 216, 230)\" style=\"width: 20px; height: 20px;background-color: rgb(173, 216, 230);\"></td><td title=\"Index: [4, 4]&#10;Color: (173, 216, 230)\" style=\"width: 20px; height: 20px;background-color: rgb(173, 216, 230);\"></td></tr></tbody></table>"
       ],
       "metadata": {},
       "output_type": "display_data",
       "text": [
        "<IPython.core.display.HTML at 0x102790ed0>"
       ]
      },
      {
       "name": "stdout",
       "output_type": "stream",
       "stream": "stdout",
       "text": [
        "Please enter a row number: 1\n"
       ]
      },
      {
       "name": "stdout",
       "output_type": "stream",
       "stream": "stdout",
       "text": [
        "Please enter a col number: 1\n"
       ]
      },
      {
       "output_type": "stream",
       "stream": "stdout",
       "text": [
        "(1, 1)\n",
        "You missed my battleship!\n",
        "Turns left 4\n"
       ]
      },
      {
       "html": [
        "<style type=\"text/css\">table.blockgrid {border: none;} .blockgrid tr {border: none;} .blockgrid td {padding: 0px;} #blocks4c98ab46-b718-4309-8abb-aa54a739e853 td {border: 1px solid white;}</style><table id=\"blocks4c98ab46-b718-4309-8abb-aa54a739e853\" class=\"blockgrid\"><tbody><tr><td title=\"Index: [0, 0]&#10;Color: (0, 0, 0)\" style=\"width: 20px; height: 20px;background-color: rgb(0, 0, 0);\"></td><td title=\"Index: [0, 1]&#10;Color: (173, 216, 230)\" style=\"width: 20px; height: 20px;background-color: rgb(173, 216, 230);\"></td><td title=\"Index: [0, 2]&#10;Color: (173, 216, 230)\" style=\"width: 20px; height: 20px;background-color: rgb(173, 216, 230);\"></td><td title=\"Index: [0, 3]&#10;Color: (173, 216, 230)\" style=\"width: 20px; height: 20px;background-color: rgb(173, 216, 230);\"></td><td title=\"Index: [0, 4]&#10;Color: (173, 216, 230)\" style=\"width: 20px; height: 20px;background-color: rgb(173, 216, 230);\"></td></tr><tr><td title=\"Index: [1, 0]&#10;Color: (173, 216, 230)\" style=\"width: 20px; height: 20px;background-color: rgb(173, 216, 230);\"></td><td title=\"Index: [1, 1]&#10;Color: (173, 216, 230)\" style=\"width: 20px; height: 20px;background-color: rgb(173, 216, 230);\"></td><td title=\"Index: [1, 2]&#10;Color: (173, 216, 230)\" style=\"width: 20px; height: 20px;background-color: rgb(173, 216, 230);\"></td><td title=\"Index: [1, 3]&#10;Color: (173, 216, 230)\" style=\"width: 20px; height: 20px;background-color: rgb(173, 216, 230);\"></td><td title=\"Index: [1, 4]&#10;Color: (173, 216, 230)\" style=\"width: 20px; height: 20px;background-color: rgb(173, 216, 230);\"></td></tr><tr><td title=\"Index: [2, 0]&#10;Color: (173, 216, 230)\" style=\"width: 20px; height: 20px;background-color: rgb(173, 216, 230);\"></td><td title=\"Index: [2, 1]&#10;Color: (173, 216, 230)\" style=\"width: 20px; height: 20px;background-color: rgb(173, 216, 230);\"></td><td title=\"Index: [2, 2]&#10;Color: (173, 216, 230)\" style=\"width: 20px; height: 20px;background-color: rgb(173, 216, 230);\"></td><td title=\"Index: [2, 3]&#10;Color: (173, 216, 230)\" style=\"width: 20px; height: 20px;background-color: rgb(173, 216, 230);\"></td><td title=\"Index: [2, 4]&#10;Color: (173, 216, 230)\" style=\"width: 20px; height: 20px;background-color: rgb(173, 216, 230);\"></td></tr><tr><td title=\"Index: [3, 0]&#10;Color: (173, 216, 230)\" style=\"width: 20px; height: 20px;background-color: rgb(173, 216, 230);\"></td><td title=\"Index: [3, 1]&#10;Color: (173, 216, 230)\" style=\"width: 20px; height: 20px;background-color: rgb(173, 216, 230);\"></td><td title=\"Index: [3, 2]&#10;Color: (173, 216, 230)\" style=\"width: 20px; height: 20px;background-color: rgb(173, 216, 230);\"></td><td title=\"Index: [3, 3]&#10;Color: (173, 216, 230)\" style=\"width: 20px; height: 20px;background-color: rgb(173, 216, 230);\"></td><td title=\"Index: [3, 4]&#10;Color: (173, 216, 230)\" style=\"width: 20px; height: 20px;background-color: rgb(173, 216, 230);\"></td></tr><tr><td title=\"Index: [4, 0]&#10;Color: (173, 216, 230)\" style=\"width: 20px; height: 20px;background-color: rgb(173, 216, 230);\"></td><td title=\"Index: [4, 1]&#10;Color: (173, 216, 230)\" style=\"width: 20px; height: 20px;background-color: rgb(173, 216, 230);\"></td><td title=\"Index: [4, 2]&#10;Color: (173, 216, 230)\" style=\"width: 20px; height: 20px;background-color: rgb(173, 216, 230);\"></td><td title=\"Index: [4, 3]&#10;Color: (173, 216, 230)\" style=\"width: 20px; height: 20px;background-color: rgb(173, 216, 230);\"></td><td title=\"Index: [4, 4]&#10;Color: (173, 216, 230)\" style=\"width: 20px; height: 20px;background-color: rgb(173, 216, 230);\"></td></tr></tbody></table>"
       ],
       "metadata": {},
       "output_type": "display_data",
       "text": [
        "<IPython.core.display.HTML at 0x1016fddd0>"
       ]
      },
      {
       "name": "stdout",
       "output_type": "stream",
       "stream": "stdout",
       "text": [
        "Please enter a row number: e\n"
       ]
      },
      {
       "name": "stdout",
       "output_type": "stream",
       "stream": "stdout",
       "text": [
        "Please enter a row number: s\n"
       ]
      },
      {
       "name": "stdout",
       "output_type": "stream",
       "stream": "stdout",
       "text": [
        "Please enter a row number: 2\n"
       ]
      },
      {
       "name": "stdout",
       "output_type": "stream",
       "stream": "stdout",
       "text": [
        "Please enter a col number: r\n"
       ]
      },
      {
       "name": "stdout",
       "output_type": "stream",
       "stream": "stdout",
       "text": [
        "Please enter a col number: r\n"
       ]
      },
      {
       "name": "stdout",
       "output_type": "stream",
       "stream": "stdout",
       "text": [
        "Please enter a col number: f\n"
       ]
      },
      {
       "name": "stdout",
       "output_type": "stream",
       "stream": "stdout",
       "text": [
        "Please enter a col number: \n"
       ]
      },
      {
       "name": "stdout",
       "output_type": "stream",
       "stream": "stdout",
       "text": [
        "Please enter a col number: x6\n"
       ]
      },
      {
       "name": "stdout",
       "output_type": "stream",
       "stream": "stdout",
       "text": [
        "Please enter a col number: 7\n"
       ]
      },
      {
       "output_type": "stream",
       "stream": "stdout",
       "text": [
        "(2, 7)\n",
        "Oops, that's not even in the ocean.\n",
        "Turns left 3\n"
       ]
      },
      {
       "html": [
        "<style type=\"text/css\">table.blockgrid {border: none;} .blockgrid tr {border: none;} .blockgrid td {padding: 0px;} #blocks63d83ffa-2efb-4188-a054-c7ebcf8c3ff1 td {border: 1px solid white;}</style><table id=\"blocks63d83ffa-2efb-4188-a054-c7ebcf8c3ff1\" class=\"blockgrid\"><tbody><tr><td title=\"Index: [0, 0]&#10;Color: (0, 0, 0)\" style=\"width: 20px; height: 20px;background-color: rgb(0, 0, 0);\"></td><td title=\"Index: [0, 1]&#10;Color: (173, 216, 230)\" style=\"width: 20px; height: 20px;background-color: rgb(173, 216, 230);\"></td><td title=\"Index: [0, 2]&#10;Color: (173, 216, 230)\" style=\"width: 20px; height: 20px;background-color: rgb(173, 216, 230);\"></td><td title=\"Index: [0, 3]&#10;Color: (173, 216, 230)\" style=\"width: 20px; height: 20px;background-color: rgb(173, 216, 230);\"></td><td title=\"Index: [0, 4]&#10;Color: (173, 216, 230)\" style=\"width: 20px; height: 20px;background-color: rgb(173, 216, 230);\"></td></tr><tr><td title=\"Index: [1, 0]&#10;Color: (173, 216, 230)\" style=\"width: 20px; height: 20px;background-color: rgb(173, 216, 230);\"></td><td title=\"Index: [1, 1]&#10;Color: (173, 216, 230)\" style=\"width: 20px; height: 20px;background-color: rgb(173, 216, 230);\"></td><td title=\"Index: [1, 2]&#10;Color: (173, 216, 230)\" style=\"width: 20px; height: 20px;background-color: rgb(173, 216, 230);\"></td><td title=\"Index: [1, 3]&#10;Color: (173, 216, 230)\" style=\"width: 20px; height: 20px;background-color: rgb(173, 216, 230);\"></td><td title=\"Index: [1, 4]&#10;Color: (173, 216, 230)\" style=\"width: 20px; height: 20px;background-color: rgb(173, 216, 230);\"></td></tr><tr><td title=\"Index: [2, 0]&#10;Color: (173, 216, 230)\" style=\"width: 20px; height: 20px;background-color: rgb(173, 216, 230);\"></td><td title=\"Index: [2, 1]&#10;Color: (173, 216, 230)\" style=\"width: 20px; height: 20px;background-color: rgb(173, 216, 230);\"></td><td title=\"Index: [2, 2]&#10;Color: (173, 216, 230)\" style=\"width: 20px; height: 20px;background-color: rgb(173, 216, 230);\"></td><td title=\"Index: [2, 3]&#10;Color: (173, 216, 230)\" style=\"width: 20px; height: 20px;background-color: rgb(173, 216, 230);\"></td><td title=\"Index: [2, 4]&#10;Color: (173, 216, 230)\" style=\"width: 20px; height: 20px;background-color: rgb(173, 216, 230);\"></td></tr><tr><td title=\"Index: [3, 0]&#10;Color: (173, 216, 230)\" style=\"width: 20px; height: 20px;background-color: rgb(173, 216, 230);\"></td><td title=\"Index: [3, 1]&#10;Color: (173, 216, 230)\" style=\"width: 20px; height: 20px;background-color: rgb(173, 216, 230);\"></td><td title=\"Index: [3, 2]&#10;Color: (173, 216, 230)\" style=\"width: 20px; height: 20px;background-color: rgb(173, 216, 230);\"></td><td title=\"Index: [3, 3]&#10;Color: (173, 216, 230)\" style=\"width: 20px; height: 20px;background-color: rgb(173, 216, 230);\"></td><td title=\"Index: [3, 4]&#10;Color: (173, 216, 230)\" style=\"width: 20px; height: 20px;background-color: rgb(173, 216, 230);\"></td></tr><tr><td title=\"Index: [4, 0]&#10;Color: (173, 216, 230)\" style=\"width: 20px; height: 20px;background-color: rgb(173, 216, 230);\"></td><td title=\"Index: [4, 1]&#10;Color: (173, 216, 230)\" style=\"width: 20px; height: 20px;background-color: rgb(173, 216, 230);\"></td><td title=\"Index: [4, 2]&#10;Color: (173, 216, 230)\" style=\"width: 20px; height: 20px;background-color: rgb(173, 216, 230);\"></td><td title=\"Index: [4, 3]&#10;Color: (173, 216, 230)\" style=\"width: 20px; height: 20px;background-color: rgb(173, 216, 230);\"></td><td title=\"Index: [4, 4]&#10;Color: (173, 216, 230)\" style=\"width: 20px; height: 20px;background-color: rgb(173, 216, 230);\"></td></tr></tbody></table>"
       ],
       "metadata": {},
       "output_type": "display_data",
       "text": [
        "<IPython.core.display.HTML at 0x1027ae1d0>"
       ]
      },
      {
       "output_type": "stream",
       "stream": "stdout",
       "text": [
        "\n"
       ]
      },
      {
       "name": "stdout",
       "output_type": "stream",
       "stream": "stdout",
       "text": [
        "Please enter a row number: 3\n"
       ]
      },
      {
       "name": "stdout",
       "output_type": "stream",
       "stream": "stdout",
       "text": [
        "Please enter a col number: 4\n"
       ]
      },
      {
       "output_type": "stream",
       "stream": "stdout",
       "text": [
        "(3, 4)\n",
        "You missed my battleship!\n",
        "Turns left 2\n"
       ]
      },
      {
       "html": [
        "<style type=\"text/css\">table.blockgrid {border: none;} .blockgrid tr {border: none;} .blockgrid td {padding: 0px;} #blocks1e6bda16-8eb8-46e0-b297-11554b0291d7 td {border: 1px solid white;}</style><table id=\"blocks1e6bda16-8eb8-46e0-b297-11554b0291d7\" class=\"blockgrid\"><tbody><tr><td title=\"Index: [0, 0]&#10;Color: (0, 0, 0)\" style=\"width: 20px; height: 20px;background-color: rgb(0, 0, 0);\"></td><td title=\"Index: [0, 1]&#10;Color: (173, 216, 230)\" style=\"width: 20px; height: 20px;background-color: rgb(173, 216, 230);\"></td><td title=\"Index: [0, 2]&#10;Color: (173, 216, 230)\" style=\"width: 20px; height: 20px;background-color: rgb(173, 216, 230);\"></td><td title=\"Index: [0, 3]&#10;Color: (173, 216, 230)\" style=\"width: 20px; height: 20px;background-color: rgb(173, 216, 230);\"></td><td title=\"Index: [0, 4]&#10;Color: (173, 216, 230)\" style=\"width: 20px; height: 20px;background-color: rgb(173, 216, 230);\"></td></tr><tr><td title=\"Index: [1, 0]&#10;Color: (173, 216, 230)\" style=\"width: 20px; height: 20px;background-color: rgb(173, 216, 230);\"></td><td title=\"Index: [1, 1]&#10;Color: (173, 216, 230)\" style=\"width: 20px; height: 20px;background-color: rgb(173, 216, 230);\"></td><td title=\"Index: [1, 2]&#10;Color: (173, 216, 230)\" style=\"width: 20px; height: 20px;background-color: rgb(173, 216, 230);\"></td><td title=\"Index: [1, 3]&#10;Color: (173, 216, 230)\" style=\"width: 20px; height: 20px;background-color: rgb(173, 216, 230);\"></td><td title=\"Index: [1, 4]&#10;Color: (173, 216, 230)\" style=\"width: 20px; height: 20px;background-color: rgb(173, 216, 230);\"></td></tr><tr><td title=\"Index: [2, 0]&#10;Color: (173, 216, 230)\" style=\"width: 20px; height: 20px;background-color: rgb(173, 216, 230);\"></td><td title=\"Index: [2, 1]&#10;Color: (173, 216, 230)\" style=\"width: 20px; height: 20px;background-color: rgb(173, 216, 230);\"></td><td title=\"Index: [2, 2]&#10;Color: (173, 216, 230)\" style=\"width: 20px; height: 20px;background-color: rgb(173, 216, 230);\"></td><td title=\"Index: [2, 3]&#10;Color: (0, 0, 0)\" style=\"width: 20px; height: 20px;background-color: rgb(0, 0, 0);\"></td><td title=\"Index: [2, 4]&#10;Color: (173, 216, 230)\" style=\"width: 20px; height: 20px;background-color: rgb(173, 216, 230);\"></td></tr><tr><td title=\"Index: [3, 0]&#10;Color: (173, 216, 230)\" style=\"width: 20px; height: 20px;background-color: rgb(173, 216, 230);\"></td><td title=\"Index: [3, 1]&#10;Color: (173, 216, 230)\" style=\"width: 20px; height: 20px;background-color: rgb(173, 216, 230);\"></td><td title=\"Index: [3, 2]&#10;Color: (173, 216, 230)\" style=\"width: 20px; height: 20px;background-color: rgb(173, 216, 230);\"></td><td title=\"Index: [3, 3]&#10;Color: (173, 216, 230)\" style=\"width: 20px; height: 20px;background-color: rgb(173, 216, 230);\"></td><td title=\"Index: [3, 4]&#10;Color: (173, 216, 230)\" style=\"width: 20px; height: 20px;background-color: rgb(173, 216, 230);\"></td></tr><tr><td title=\"Index: [4, 0]&#10;Color: (173, 216, 230)\" style=\"width: 20px; height: 20px;background-color: rgb(173, 216, 230);\"></td><td title=\"Index: [4, 1]&#10;Color: (173, 216, 230)\" style=\"width: 20px; height: 20px;background-color: rgb(173, 216, 230);\"></td><td title=\"Index: [4, 2]&#10;Color: (173, 216, 230)\" style=\"width: 20px; height: 20px;background-color: rgb(173, 216, 230);\"></td><td title=\"Index: [4, 3]&#10;Color: (173, 216, 230)\" style=\"width: 20px; height: 20px;background-color: rgb(173, 216, 230);\"></td><td title=\"Index: [4, 4]&#10;Color: (173, 216, 230)\" style=\"width: 20px; height: 20px;background-color: rgb(173, 216, 230);\"></td></tr></tbody></table>"
       ],
       "metadata": {},
       "output_type": "display_data",
       "text": [
        "<IPython.core.display.HTML at 0x1027c1250>"
       ]
      },
      {
       "name": "stdout",
       "output_type": "stream",
       "stream": "stdout",
       "text": [
        "Please enter a row number: 2\n"
       ]
      },
      {
       "name": "stdout",
       "output_type": "stream",
       "stream": "stdout",
       "text": [
        "Please enter a col number: 2\n"
       ]
      },
      {
       "output_type": "stream",
       "stream": "stdout",
       "text": [
        "(2, 2)\n",
        "You missed my battleship!\n",
        "Turns left 1\n"
       ]
      },
      {
       "html": [
        "<style type=\"text/css\">table.blockgrid {border: none;} .blockgrid tr {border: none;} .blockgrid td {padding: 0px;} #blocksb8888cf5-d0f8-4890-8b55-142c4c416a4c td {border: 1px solid white;}</style><table id=\"blocksb8888cf5-d0f8-4890-8b55-142c4c416a4c\" class=\"blockgrid\"><tbody><tr><td title=\"Index: [0, 0]&#10;Color: (0, 0, 0)\" style=\"width: 20px; height: 20px;background-color: rgb(0, 0, 0);\"></td><td title=\"Index: [0, 1]&#10;Color: (173, 216, 230)\" style=\"width: 20px; height: 20px;background-color: rgb(173, 216, 230);\"></td><td title=\"Index: [0, 2]&#10;Color: (173, 216, 230)\" style=\"width: 20px; height: 20px;background-color: rgb(173, 216, 230);\"></td><td title=\"Index: [0, 3]&#10;Color: (173, 216, 230)\" style=\"width: 20px; height: 20px;background-color: rgb(173, 216, 230);\"></td><td title=\"Index: [0, 4]&#10;Color: (173, 216, 230)\" style=\"width: 20px; height: 20px;background-color: rgb(173, 216, 230);\"></td></tr><tr><td title=\"Index: [1, 0]&#10;Color: (173, 216, 230)\" style=\"width: 20px; height: 20px;background-color: rgb(173, 216, 230);\"></td><td title=\"Index: [1, 1]&#10;Color: (0, 0, 0)\" style=\"width: 20px; height: 20px;background-color: rgb(0, 0, 0);\"></td><td title=\"Index: [1, 2]&#10;Color: (173, 216, 230)\" style=\"width: 20px; height: 20px;background-color: rgb(173, 216, 230);\"></td><td title=\"Index: [1, 3]&#10;Color: (173, 216, 230)\" style=\"width: 20px; height: 20px;background-color: rgb(173, 216, 230);\"></td><td title=\"Index: [1, 4]&#10;Color: (173, 216, 230)\" style=\"width: 20px; height: 20px;background-color: rgb(173, 216, 230);\"></td></tr><tr><td title=\"Index: [2, 0]&#10;Color: (173, 216, 230)\" style=\"width: 20px; height: 20px;background-color: rgb(173, 216, 230);\"></td><td title=\"Index: [2, 1]&#10;Color: (173, 216, 230)\" style=\"width: 20px; height: 20px;background-color: rgb(173, 216, 230);\"></td><td title=\"Index: [2, 2]&#10;Color: (173, 216, 230)\" style=\"width: 20px; height: 20px;background-color: rgb(173, 216, 230);\"></td><td title=\"Index: [2, 3]&#10;Color: (0, 0, 0)\" style=\"width: 20px; height: 20px;background-color: rgb(0, 0, 0);\"></td><td title=\"Index: [2, 4]&#10;Color: (173, 216, 230)\" style=\"width: 20px; height: 20px;background-color: rgb(173, 216, 230);\"></td></tr><tr><td title=\"Index: [3, 0]&#10;Color: (173, 216, 230)\" style=\"width: 20px; height: 20px;background-color: rgb(173, 216, 230);\"></td><td title=\"Index: [3, 1]&#10;Color: (173, 216, 230)\" style=\"width: 20px; height: 20px;background-color: rgb(173, 216, 230);\"></td><td title=\"Index: [3, 2]&#10;Color: (173, 216, 230)\" style=\"width: 20px; height: 20px;background-color: rgb(173, 216, 230);\"></td><td title=\"Index: [3, 3]&#10;Color: (173, 216, 230)\" style=\"width: 20px; height: 20px;background-color: rgb(173, 216, 230);\"></td><td title=\"Index: [3, 4]&#10;Color: (173, 216, 230)\" style=\"width: 20px; height: 20px;background-color: rgb(173, 216, 230);\"></td></tr><tr><td title=\"Index: [4, 0]&#10;Color: (173, 216, 230)\" style=\"width: 20px; height: 20px;background-color: rgb(173, 216, 230);\"></td><td title=\"Index: [4, 1]&#10;Color: (173, 216, 230)\" style=\"width: 20px; height: 20px;background-color: rgb(173, 216, 230);\"></td><td title=\"Index: [4, 2]&#10;Color: (173, 216, 230)\" style=\"width: 20px; height: 20px;background-color: rgb(173, 216, 230);\"></td><td title=\"Index: [4, 3]&#10;Color: (173, 216, 230)\" style=\"width: 20px; height: 20px;background-color: rgb(173, 216, 230);\"></td><td title=\"Index: [4, 4]&#10;Color: (173, 216, 230)\" style=\"width: 20px; height: 20px;background-color: rgb(173, 216, 230);\"></td></tr></tbody></table>"
       ],
       "metadata": {},
       "output_type": "display_data",
       "text": [
        "<IPython.core.display.HTML at 0x1027c13d0>"
       ]
      },
      {
       "name": "stdout",
       "output_type": "stream",
       "stream": "stdout",
       "text": [
        "Please enter a row number: 4\n"
       ]
      },
      {
       "name": "stdout",
       "output_type": "stream",
       "stream": "stdout",
       "text": [
        "Please enter a col number: 4\n"
       ]
      },
      {
       "output_type": "stream",
       "stream": "stdout",
       "text": [
        "(4, 4)\n",
        "You missed my battleship!\n",
        "Turns left 0\n"
       ]
      },
      {
       "html": [
        "<style type=\"text/css\">table.blockgrid {border: none;} .blockgrid tr {border: none;} .blockgrid td {padding: 0px;} #blocks59405688-801c-4548-9be3-a31ebe5586dc td {border: 1px solid white;}</style><table id=\"blocks59405688-801c-4548-9be3-a31ebe5586dc\" class=\"blockgrid\"><tbody><tr><td title=\"Index: [0, 0]&#10;Color: (0, 0, 0)\" style=\"width: 20px; height: 20px;background-color: rgb(0, 0, 0);\"></td><td title=\"Index: [0, 1]&#10;Color: (173, 216, 230)\" style=\"width: 20px; height: 20px;background-color: rgb(173, 216, 230);\"></td><td title=\"Index: [0, 2]&#10;Color: (173, 216, 230)\" style=\"width: 20px; height: 20px;background-color: rgb(173, 216, 230);\"></td><td title=\"Index: [0, 3]&#10;Color: (173, 216, 230)\" style=\"width: 20px; height: 20px;background-color: rgb(173, 216, 230);\"></td><td title=\"Index: [0, 4]&#10;Color: (173, 216, 230)\" style=\"width: 20px; height: 20px;background-color: rgb(173, 216, 230);\"></td></tr><tr><td title=\"Index: [1, 0]&#10;Color: (173, 216, 230)\" style=\"width: 20px; height: 20px;background-color: rgb(173, 216, 230);\"></td><td title=\"Index: [1, 1]&#10;Color: (0, 0, 0)\" style=\"width: 20px; height: 20px;background-color: rgb(0, 0, 0);\"></td><td title=\"Index: [1, 2]&#10;Color: (173, 216, 230)\" style=\"width: 20px; height: 20px;background-color: rgb(173, 216, 230);\"></td><td title=\"Index: [1, 3]&#10;Color: (173, 216, 230)\" style=\"width: 20px; height: 20px;background-color: rgb(173, 216, 230);\"></td><td title=\"Index: [1, 4]&#10;Color: (173, 216, 230)\" style=\"width: 20px; height: 20px;background-color: rgb(173, 216, 230);\"></td></tr><tr><td title=\"Index: [2, 0]&#10;Color: (173, 216, 230)\" style=\"width: 20px; height: 20px;background-color: rgb(173, 216, 230);\"></td><td title=\"Index: [2, 1]&#10;Color: (173, 216, 230)\" style=\"width: 20px; height: 20px;background-color: rgb(173, 216, 230);\"></td><td title=\"Index: [2, 2]&#10;Color: (173, 216, 230)\" style=\"width: 20px; height: 20px;background-color: rgb(173, 216, 230);\"></td><td title=\"Index: [2, 3]&#10;Color: (0, 0, 0)\" style=\"width: 20px; height: 20px;background-color: rgb(0, 0, 0);\"></td><td title=\"Index: [2, 4]&#10;Color: (173, 216, 230)\" style=\"width: 20px; height: 20px;background-color: rgb(173, 216, 230);\"></td></tr><tr><td title=\"Index: [3, 0]&#10;Color: (173, 216, 230)\" style=\"width: 20px; height: 20px;background-color: rgb(173, 216, 230);\"></td><td title=\"Index: [3, 1]&#10;Color: (173, 216, 230)\" style=\"width: 20px; height: 20px;background-color: rgb(173, 216, 230);\"></td><td title=\"Index: [3, 2]&#10;Color: (173, 216, 230)\" style=\"width: 20px; height: 20px;background-color: rgb(173, 216, 230);\"></td><td title=\"Index: [3, 3]&#10;Color: (0, 0, 0)\" style=\"width: 20px; height: 20px;background-color: rgb(0, 0, 0);\"></td><td title=\"Index: [3, 4]&#10;Color: (173, 216, 230)\" style=\"width: 20px; height: 20px;background-color: rgb(173, 216, 230);\"></td></tr><tr><td title=\"Index: [4, 0]&#10;Color: (173, 216, 230)\" style=\"width: 20px; height: 20px;background-color: rgb(173, 216, 230);\"></td><td title=\"Index: [4, 1]&#10;Color: (173, 216, 230)\" style=\"width: 20px; height: 20px;background-color: rgb(173, 216, 230);\"></td><td title=\"Index: [4, 2]&#10;Color: (173, 216, 230)\" style=\"width: 20px; height: 20px;background-color: rgb(173, 216, 230);\"></td><td title=\"Index: [4, 3]&#10;Color: (173, 216, 230)\" style=\"width: 20px; height: 20px;background-color: rgb(173, 216, 230);\"></td><td title=\"Index: [4, 4]&#10;Color: (173, 216, 230)\" style=\"width: 20px; height: 20px;background-color: rgb(173, 216, 230);\"></td></tr></tbody></table>"
       ],
       "metadata": {},
       "output_type": "display_data",
       "text": [
        "<IPython.core.display.HTML at 0x1027c1790>"
       ]
      },
      {
       "output_type": "stream",
       "stream": "stdout",
       "text": [
        "You Lose.\n"
       ]
      },
      {
       "html": [
        "<style type=\"text/css\">table.blockgrid {border: none;} .blockgrid tr {border: none;} .blockgrid td {padding: 0px;} #blocks698192e2-6ef9-4c4e-bb5a-7e0a2f0a00ee td {border: 1px solid white;}</style><table id=\"blocks698192e2-6ef9-4c4e-bb5a-7e0a2f0a00ee\" class=\"blockgrid\"><tbody><tr><td title=\"Index: [0, 0]&#10;Color: (0, 0, 0)\" style=\"width: 20px; height: 20px;background-color: rgb(0, 0, 0);\"></td><td title=\"Index: [0, 1]&#10;Color: (173, 216, 230)\" style=\"width: 20px; height: 20px;background-color: rgb(173, 216, 230);\"></td><td title=\"Index: [0, 2]&#10;Color: (173, 216, 230)\" style=\"width: 20px; height: 20px;background-color: rgb(173, 216, 230);\"></td><td title=\"Index: [0, 3]&#10;Color: (173, 216, 230)\" style=\"width: 20px; height: 20px;background-color: rgb(173, 216, 230);\"></td><td title=\"Index: [0, 4]&#10;Color: (173, 216, 230)\" style=\"width: 20px; height: 20px;background-color: rgb(173, 216, 230);\"></td></tr><tr><td title=\"Index: [1, 0]&#10;Color: (173, 216, 230)\" style=\"width: 20px; height: 20px;background-color: rgb(173, 216, 230);\"></td><td title=\"Index: [1, 1]&#10;Color: (0, 0, 0)\" style=\"width: 20px; height: 20px;background-color: rgb(0, 0, 0);\"></td><td title=\"Index: [1, 2]&#10;Color: (173, 216, 230)\" style=\"width: 20px; height: 20px;background-color: rgb(173, 216, 230);\"></td><td title=\"Index: [1, 3]&#10;Color: (173, 216, 230)\" style=\"width: 20px; height: 20px;background-color: rgb(173, 216, 230);\"></td><td title=\"Index: [1, 4]&#10;Color: (173, 216, 230)\" style=\"width: 20px; height: 20px;background-color: rgb(173, 216, 230);\"></td></tr><tr><td title=\"Index: [2, 0]&#10;Color: (165, 42, 42)\" style=\"width: 20px; height: 20px;background-color: rgb(165, 42, 42);\"></td><td title=\"Index: [2, 1]&#10;Color: (165, 42, 42)\" style=\"width: 20px; height: 20px;background-color: rgb(165, 42, 42);\"></td><td title=\"Index: [2, 2]&#10;Color: (165, 42, 42)\" style=\"width: 20px; height: 20px;background-color: rgb(165, 42, 42);\"></td><td title=\"Index: [2, 3]&#10;Color: (0, 0, 0)\" style=\"width: 20px; height: 20px;background-color: rgb(0, 0, 0);\"></td><td title=\"Index: [2, 4]&#10;Color: (173, 216, 230)\" style=\"width: 20px; height: 20px;background-color: rgb(173, 216, 230);\"></td></tr><tr><td title=\"Index: [3, 0]&#10;Color: (173, 216, 230)\" style=\"width: 20px; height: 20px;background-color: rgb(173, 216, 230);\"></td><td title=\"Index: [3, 1]&#10;Color: (173, 216, 230)\" style=\"width: 20px; height: 20px;background-color: rgb(173, 216, 230);\"></td><td title=\"Index: [3, 2]&#10;Color: (173, 216, 230)\" style=\"width: 20px; height: 20px;background-color: rgb(173, 216, 230);\"></td><td title=\"Index: [3, 3]&#10;Color: (0, 0, 0)\" style=\"width: 20px; height: 20px;background-color: rgb(0, 0, 0);\"></td><td title=\"Index: [3, 4]&#10;Color: (173, 216, 230)\" style=\"width: 20px; height: 20px;background-color: rgb(173, 216, 230);\"></td></tr><tr><td title=\"Index: [4, 0]&#10;Color: (173, 216, 230)\" style=\"width: 20px; height: 20px;background-color: rgb(173, 216, 230);\"></td><td title=\"Index: [4, 1]&#10;Color: (173, 216, 230)\" style=\"width: 20px; height: 20px;background-color: rgb(173, 216, 230);\"></td><td title=\"Index: [4, 2]&#10;Color: (173, 216, 230)\" style=\"width: 20px; height: 20px;background-color: rgb(173, 216, 230);\"></td><td title=\"Index: [4, 3]&#10;Color: (173, 216, 230)\" style=\"width: 20px; height: 20px;background-color: rgb(173, 216, 230);\"></td><td title=\"Index: [4, 4]&#10;Color: (173, 216, 230)\" style=\"width: 20px; height: 20px;background-color: rgb(173, 216, 230);\"></td></tr></tbody></table>"
       ],
       "metadata": {},
       "output_type": "display_data",
       "text": [
        "<IPython.core.display.HTML at 0x103705890>"
       ]
      }
     ],
     "prompt_number": 16
    },
    {
     "cell_type": "markdown",
     "metadata": {},
     "source": [
      "2.Here is a function which takes a filename, opens the file, reads the result, closes the file, and returns the contents. It should look something like this:"
     ]
    },
    {
     "cell_type": "markdown",
     "metadata": {},
     "source": [
      "Use runtime error handling concepts to improve this function, so that it does the following:\n",
      "\n",
      "- raises an informative custom error if the file doesn't exist\n",
      "- uses try, except, else, and/or finally to safely return the file's contents & close the file if necessary.\n",
      "- add a keyword safe which defaults to False. If the function is called with safe=True, then return an empty string if the file doesn't exist."
     ]
    },
    {
     "cell_type": "code",
     "collapsed": false,
     "input": [
      "def read_all_from_file(filename):\n",
      "    f = open(filename)\n",
      "    contents = f.read()\n",
      "    f.close()\n",
      "    return contents"
     ],
     "language": "python",
     "metadata": {},
     "outputs": []
    },
    {
     "cell_type": "code",
     "collapsed": false,
     "input": [
      "def read_all_from_file(filename, safe=False):\n",
      "    if safe == True:\n",
      "       try:\n",
      "           f = open(filename)\n",
      "           result = f.read()\n",
      "           f.close()\n",
      "           return result\n",
      "       except IOError as err:\n",
      "           print err\n",
      "           print \"This file does not exist: \",err.filename\n",
      "           return \"\"\n",
      "    \n",
      "    try:\n",
      "       f = open(filename)\n",
      "       result = f.read()\n",
      "       f.close()\n",
      "       return result\n",
      "    except IOError as err:\n",
      "       print err\n",
      "       print \"This file does not exist: \",err.filename\n",
      "       return None"
     ],
     "language": "python",
     "metadata": {},
     "outputs": [],
     "prompt_number": 11
    },
    {
     "cell_type": "code",
     "collapsed": false,
     "input": [
      "read_all_from_file('tmp.txt')"
     ],
     "language": "python",
     "metadata": {},
     "outputs": [
      {
       "metadata": {},
       "output_type": "pyout",
       "prompt_number": 12,
       "text": [
        "'this is the contents of the file'"
       ]
      }
     ],
     "prompt_number": 12
    },
    {
     "cell_type": "code",
     "collapsed": false,
     "input": [
      "read_all_from_file('file.which.does.not.exist')"
     ],
     "language": "python",
     "metadata": {},
     "outputs": [
      {
       "output_type": "stream",
       "stream": "stdout",
       "text": [
        "[Errno 2] No such file or directory: 'file.which.does.not.exist'\n",
        "This file does not exist:  file.which.does.not.exist\n"
       ]
      }
     ],
     "prompt_number": 13
    },
    {
     "cell_type": "code",
     "collapsed": false,
     "input": [
      "read_all_from_file('file.which.does.not.exist', safe=True)"
     ],
     "language": "python",
     "metadata": {},
     "outputs": [
      {
       "output_type": "stream",
       "stream": "stdout",
       "text": [
        "[Errno 2] No such file or directory: 'file.which.does.not.exist'\n",
        "This file does not exist:  file.which.does.not.exist\n"
       ]
      },
      {
       "metadata": {},
       "output_type": "pyout",
       "prompt_number": 14,
       "text": [
        "''"
       ]
      }
     ],
     "prompt_number": 14
    },
    {
     "cell_type": "code",
     "collapsed": false,
     "input": [],
     "language": "python",
     "metadata": {},
     "outputs": []
    }
   ],
   "metadata": {}
  }
 ]
}