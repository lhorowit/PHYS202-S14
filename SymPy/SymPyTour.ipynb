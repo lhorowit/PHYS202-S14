{
 "metadata": {
  "name": "",
  "signature": "sha256:5dc882b620aff46981af2b3e2310c7f19c0f1a3679778d7be9b16d8dc7becb51"
 },
 "nbformat": 3,
 "nbformat_minor": 0,
 "worksheets": [
  {
   "cells": [
    {
     "cell_type": "heading",
     "level": 1,
     "metadata": {},
     "source": [
      "Symbolic Analysis with SymPy"
     ]
    },
    {
     "cell_type": "heading",
     "level": 2,
     "metadata": {},
     "source": [
      "Introduction"
     ]
    },
    {
     "cell_type": "markdown",
     "metadata": {},
     "source": [
      "\n",
      "SymPy is a symbolic mathematics package for Python. In symbolic mathematics, the mathematical entities we want to manipulate are not necessarily concrete, specific numbers such as 2.0. Instead, they can be symbols, such as x or y that only sometimes take on concrete values.\n",
      "\n",
      "Let's start out by importing necessary packages from IPython:"
     ]
    },
    {
     "cell_type": "code",
     "collapsed": false,
     "input": [
      "from IPython.html.widgets import interact\n",
      "from IPython.display import display"
     ],
     "language": "python",
     "metadata": {},
     "outputs": [],
     "prompt_number": 1
    },
    {
     "cell_type": "markdown",
     "metadata": {},
     "source": [
      "It is important to not use %pylab inline when using SymPy. The reason for this is that %pylab imports names that conflict with those in SymPy. Instead, use %matplotlib inline and manually import numpy and matplotlib."
     ]
    },
    {
     "cell_type": "code",
     "collapsed": false,
     "input": [
      "%matplotlib inline\n",
      "import numpy as np\n",
      "import matplotlib.pyplot as plt"
     ],
     "language": "python",
     "metadata": {},
     "outputs": [],
     "prompt_number": 2
    },
    {
     "cell_type": "markdown",
     "metadata": {},
     "source": [
      "The sympy namespace imports many things when imported using Python's * notation. You should only do this when you are confident the names imported by sympy will not conflict with other names in your code."
     ]
    },
    {
     "cell_type": "code",
     "collapsed": false,
     "input": [
      "from sympy import *"
     ],
     "language": "python",
     "metadata": {},
     "outputs": [],
     "prompt_number": 3
    },
    {
     "cell_type": "markdown",
     "metadata": {},
     "source": [
      "\n",
      "When using SymPy in the IPython Notebook, it is recommended to initialize LATEX printing of expressions:"
     ]
    },
    {
     "cell_type": "code",
     "collapsed": false,
     "input": [
      "init_printing(use_latex='mathjax')"
     ],
     "language": "python",
     "metadata": {},
     "outputs": [],
     "prompt_number": 4
    },
    {
     "cell_type": "heading",
     "level": 2,
     "metadata": {},
     "source": [
      "Symbolic variables\u00b6 "
     ]
    },
    {
     "cell_type": "markdown",
     "metadata": {},
     "source": [
      "In SymPy you need to create symbols for the symbolic variables you want to work with. You can create a new symbol using the Symbol class:"
     ]
    },
    {
     "cell_type": "code",
     "collapsed": false,
     "input": [
      "x = Symbol('x')"
     ],
     "language": "python",
     "metadata": {},
     "outputs": [],
     "prompt_number": 5
    },
    {
     "cell_type": "markdown",
     "metadata": {},
     "source": [
      "Once you have created symbols, you can use them in mathematical expressions:"
     ]
    },
    {
     "cell_type": "code",
     "collapsed": false,
     "input": [
      "(pi + x)**2"
     ],
     "language": "python",
     "metadata": {},
     "outputs": [
      {
       "latex": [
        "$$\\left(x + \\pi\\right)^{2}$$"
       ],
       "metadata": {},
       "output_type": "pyout",
       "prompt_number": 6,
       "text": [
        "       2\n",
        "(x + \u03c0) "
       ]
      }
     ],
     "prompt_number": 6
    },
    {
     "cell_type": "markdown",
     "metadata": {},
     "source": [
      "he function IPython.display.display works just like print, but also handles rich representations such as LATEX. This is convenient as you can use display inside loops and other structures."
     ]
    },
    {
     "cell_type": "code",
     "collapsed": false,
     "input": [
      "display((pi + x)**2)"
     ],
     "language": "python",
     "metadata": {},
     "outputs": [
      {
       "latex": [
        "$$\\left(x + \\pi\\right)^{2}$$"
       ],
       "metadata": {},
       "output_type": "display_data",
       "text": [
        "       2\n",
        "(x + \u03c0) "
       ]
      }
     ],
     "prompt_number": 7
    },
    {
     "cell_type": "markdown",
     "metadata": {},
     "source": [
      "You can create a set of symbolic using the symbols function:"
     ]
    },
    {
     "cell_type": "code",
     "collapsed": false,
     "input": [
      "a, b, c = symbols(\"a, b, c\")"
     ],
     "language": "python",
     "metadata": {},
     "outputs": [],
     "prompt_number": 8
    },
    {
     "cell_type": "markdown",
     "metadata": {},
     "source": [
      "You can add mathematical assumptions to symbols when you create them by passing in keyword arguments. This creates the symbol x with the assumption that it is a real number:"
     ]
    },
    {
     "cell_type": "code",
     "collapsed": false,
     "input": [
      "x = Symbol('x', real=True)"
     ],
     "language": "python",
     "metadata": {},
     "outputs": [],
     "prompt_number": 9
    },
    {
     "cell_type": "markdown",
     "metadata": {},
     "source": [
      "\n",
      "The set of all assumptions about a symbol can be probed using a set of attributes with the naming convention is_[assumption]:"
     ]
    },
    {
     "cell_type": "code",
     "collapsed": false,
     "input": [
      "x.is_imaginary"
     ],
     "language": "python",
     "metadata": {},
     "outputs": [
      {
       "metadata": {},
       "output_type": "pyout",
       "prompt_number": 10,
       "text": [
        "False"
       ]
      }
     ],
     "prompt_number": 10
    },
    {
     "cell_type": "markdown",
     "metadata": {},
     "source": [
      "When an assumption not determined, it will return None:"
     ]
    },
    {
     "cell_type": "code",
     "collapsed": false,
     "input": [
      "x.is_positive"
     ],
     "language": "python",
     "metadata": {},
     "outputs": [],
     "prompt_number": 12
    },
    {
     "cell_type": "code",
     "collapsed": false,
     "input": [
      "x = Symbol('x', positive=True)"
     ],
     "language": "python",
     "metadata": {},
     "outputs": [],
     "prompt_number": 13
    },
    {
     "cell_type": "code",
     "collapsed": false,
     "input": [
      "x > 0"
     ],
     "language": "python",
     "metadata": {},
     "outputs": [
      {
       "metadata": {},
       "output_type": "pyout",
       "prompt_number": 14,
       "text": [
        "True"
       ]
      }
     ],
     "prompt_number": 14
    },
    {
     "cell_type": "code",
     "collapsed": false,
     "input": [
      "x.is_positive"
     ],
     "language": "python",
     "metadata": {},
     "outputs": [
      {
       "metadata": {},
       "output_type": "pyout",
       "prompt_number": 15,
       "text": [
        "True"
       ]
      }
     ],
     "prompt_number": 15
    },
    {
     "cell_type": "markdown",
     "metadata": {},
     "source": [
      "Assumptions propagate through mathematical expressions and are computed dynamically. Negating a positive number gives a negative one:"
     ]
    },
    {
     "cell_type": "code",
     "collapsed": false,
     "input": [
      "(-x).is_positive, (-x).is_negative"
     ],
     "language": "python",
     "metadata": {},
     "outputs": [
      {
       "metadata": {},
       "output_type": "pyout",
       "prompt_number": 16,
       "text": [
        "(False, True)"
       ]
      }
     ],
     "prompt_number": 16
    },
    {
     "cell_type": "markdown",
     "metadata": {},
     "source": [
      "Here is a list of all assumptions that symbols know about. What happens if you remove the k == k.lower() test from this code? What do you think those additional is_* attributes correspond to?"
     ]
    },
    {
     "cell_type": "code",
     "collapsed": false,
     "input": [
      "for k in dir(x):\n",
      "    if k.startswith('is_') and k == k.lower():\n",
      "        print k\n",
      " "
     ],
     "language": "python",
     "metadata": {},
     "outputs": [
      {
       "output_type": "stream",
       "stream": "stdout",
       "text": [
        "is_algebraic_expr\n",
        "is_antihermitian\n",
        "is_bounded\n",
        "is_commutative\n",
        "is_comparable\n",
        "is_complex\n",
        "is_composite\n",
        "is_constant\n",
        "is_even\n",
        "is_finite\n",
        "is_hermitian\n",
        "is_hypergeometric\n",
        "is_imaginary\n",
        "is_infinitesimal\n",
        "is_integer\n",
        "is_irrational\n",
        "is_negative\n",
        "is_noninteger\n",
        "is_nonnegative\n",
        "is_nonpositive\n",
        "is_nonzero\n",
        "is_number\n",
        "is_odd\n",
        "is_polar\n",
        "is_polynomial\n",
        "is_positive\n",
        "is_prime\n",
        "is_rational\n",
        "is_rational_function\n",
        "is_real\n",
        "is_unbounded\n",
        "is_zero\n"
       ]
      }
     ],
     "prompt_number": 17
    },
    {
     "cell_type": "heading",
     "level": 2,
     "metadata": {},
     "source": [
      "Complex numbers"
     ]
    },
    {
     "cell_type": "markdown",
     "metadata": {},
     "source": [
      "The imaginary unit is denoted I in SymPy"
     ]
    },
    {
     "cell_type": "code",
     "collapsed": false,
     "input": [
      "1+1*I"
     ],
     "language": "python",
     "metadata": {},
     "outputs": [
      {
       "latex": [
        "$$1 + i$$"
       ],
       "metadata": {},
       "output_type": "pyout",
       "prompt_number": 18,
       "text": [
        "1 + \u2148"
       ]
      }
     ],
     "prompt_number": 18
    },
    {
     "cell_type": "code",
     "collapsed": false,
     "input": [
      "I**2"
     ],
     "language": "python",
     "metadata": {},
     "outputs": [
      {
       "latex": [
        "$$-1$$"
       ],
       "metadata": {},
       "output_type": "pyout",
       "prompt_number": 19,
       "text": [
        "-1"
       ]
      }
     ],
     "prompt_number": 19
    },
    {
     "cell_type": "code",
     "collapsed": false,
     "input": [
      "I.is_imaginary"
     ],
     "language": "python",
     "metadata": {},
     "outputs": [
      {
       "metadata": {},
       "output_type": "pyout",
       "prompt_number": 20,
       "text": [
        "True"
       ]
      }
     ],
     "prompt_number": 20
    },
    {
     "cell_type": "code",
     "collapsed": false,
     "input": [
      "(x*I + 1)**2"
     ],
     "language": "python",
     "metadata": {},
     "outputs": [
      {
       "latex": [
        "$$\\left(i x + 1\\right)^{2}$$"
       ],
       "metadata": {},
       "output_type": "pyout",
       "prompt_number": 21,
       "text": [
        "         2\n",
        "(\u2148\u22c5x + 1) "
       ]
      }
     ],
     "prompt_number": 21
    },
    {
     "cell_type": "markdown",
     "metadata": {},
     "source": [
      "The abs function will take the complex absolute value:"
     ]
    },
    {
     "cell_type": "code",
     "collapsed": false,
     "input": [
      "abs(x*I + 1)"
     ],
     "language": "python",
     "metadata": {},
     "outputs": [
      {
       "latex": [
        "$$\\sqrt{x^{2} + 1}$$"
       ],
       "metadata": {},
       "output_type": "pyout",
       "prompt_number": 22,
       "text": [
        "   ________\n",
        "  \u2571  2     \n",
        "\u2572\u2571  x  + 1 "
       ]
      }
     ],
     "prompt_number": 22
    },
    {
     "cell_type": "heading",
     "level": 2,
     "metadata": {},
     "source": [
      "Real, Integer and Rational numbers"
     ]
    },
    {
     "cell_type": "markdown",
     "metadata": {},
     "source": [
      "\n",
      "There are three basic numerical types in SymPy:\n",
      "\n",
      "- Real\n",
      "- Rational\n",
      "- Integer\n",
      "\n",
      "The Real and Integer classes for SymPy are different from Python's builtin float and int types. However, you will almost never need to manually create Real and Integer instances. Any time a Python float or int appears in a symbolic expression, they are converted to a SymPy Real or Integer instance:"
     ]
    },
    {
     "cell_type": "code",
     "collapsed": false,
     "input": [
      "srepr(2.0*x)"
     ],
     "language": "python",
     "metadata": {},
     "outputs": [
      {
       "metadata": {},
       "output_type": "pyout",
       "prompt_number": 24,
       "text": [
        "\"Mul(Float('2.0', prec=15), Symbol('x'))\""
       ]
      }
     ],
     "prompt_number": 24
    },
    {
     "cell_type": "markdown",
     "metadata": {},
     "source": [
      "When working with numerical types in SymPy it is important to carefully distinguish SymPy types from the native Python numerical types (float and int). Python's builtin type function can be used to show the type of an object. You can use sympify to create a SymPy type from a Python type. To go in the other direction, using Python's builtin float or int:"
     ]
    },
    {
     "cell_type": "code",
     "collapsed": false,
     "input": [
      "print type(1.0)\n",
      "print type(sympify(1.0))\n",
      "print type(float(sympify(1.0)))"
     ],
     "language": "python",
     "metadata": {},
     "outputs": [
      {
       "output_type": "stream",
       "stream": "stdout",
       "text": [
        "<type 'float'>\n",
        "<class 'sympy.core.numbers.Float'>\n",
        "<type 'float'>\n"
       ]
      }
     ],
     "prompt_number": 25
    },
    {
     "cell_type": "markdown",
     "metadata": {},
     "source": [
      "Rational numbers must be created manually by passing the numerator and denominator to the Rational class:\n",
      " "
     ]
    },
    {
     "cell_type": "code",
     "collapsed": false,
     "input": [
      "r1 = Rational(4,5)\n",
      "r2 = Rational(5,4)"
     ],
     "language": "python",
     "metadata": {},
     "outputs": [],
     "prompt_number": 26
    },
    {
     "cell_type": "markdown",
     "metadata": {},
     "source": [
      "Basic arithmetic operations work with rational numbers:"
     ]
    },
    {
     "cell_type": "code",
     "collapsed": false,
     "input": [
      "r1"
     ],
     "language": "python",
     "metadata": {},
     "outputs": [
      {
       "latex": [
        "$$\\frac{4}{5}$$"
       ],
       "metadata": {},
       "output_type": "pyout",
       "prompt_number": 29,
       "text": [
        "4/5"
       ]
      }
     ],
     "prompt_number": 29
    },
    {
     "cell_type": "code",
     "collapsed": false,
     "input": [
      "r1+r2"
     ],
     "language": "python",
     "metadata": {},
     "outputs": [
      {
       "latex": [
        "$$\\frac{41}{20}$$"
       ],
       "metadata": {},
       "output_type": "pyout",
       "prompt_number": 28,
       "text": [
        "41\n",
        "\u2500\u2500\n",
        "20"
       ]
      }
     ],
     "prompt_number": 28
    },
    {
     "cell_type": "code",
     "collapsed": false,
     "input": [
      "sqrt(r1/r2)"
     ],
     "language": "python",
     "metadata": {},
     "outputs": [
      {
       "latex": [
        "$$\\frac{4}{5}$$"
       ],
       "metadata": {},
       "output_type": "pyout",
       "prompt_number": 30,
       "text": [
        "4/5"
       ]
      }
     ],
     "prompt_number": 30
    },
    {
     "cell_type": "code",
     "collapsed": false,
     "input": [
      "r1.is_rational, r1.is_Rational"
     ],
     "language": "python",
     "metadata": {},
     "outputs": [
      {
       "metadata": {},
       "output_type": "pyout",
       "prompt_number": 31,
       "text": [
        "(True, True)"
       ]
      }
     ],
     "prompt_number": 31
    },
    {
     "cell_type": "heading",
     "level": 2,
     "metadata": {},
     "source": [
      "Numerical evaluation"
     ]
    },
    {
     "cell_type": "markdown",
     "metadata": {},
     "source": [
      "SymPy integers and real numbers support arbitrary precision. To evaluate a symbolic expression numerically to a given precision use the evalf method:"
     ]
    },
    {
     "cell_type": "code",
     "collapsed": false,
     "input": [
      "pi.evalf(n=50)"
     ],
     "language": "python",
     "metadata": {},
     "outputs": [
      {
       "latex": [
        "$$3.1415926535897932384626433832795028841971693993751$$"
       ],
       "metadata": {},
       "output_type": "pyout",
       "prompt_number": 33,
       "text": [
        "3.1415926535897932384626433832795028841971693993751"
       ]
      }
     ],
     "prompt_number": 33
    },
    {
     "cell_type": "markdown",
     "metadata": {},
     "source": [
      "You can also use the N function to accomplish the same thing:"
     ]
    },
    {
     "cell_type": "code",
     "collapsed": false,
     "input": [
      "y = (x + pi)**2"
     ],
     "language": "python",
     "metadata": {},
     "outputs": [],
     "prompt_number": 34
    },
    {
     "cell_type": "code",
     "collapsed": false,
     "input": [
      "N(y, 5)"
     ],
     "language": "python",
     "metadata": {},
     "outputs": [
      {
       "latex": [
        "$$\\left(x + 3.1416\\right)^{2}$$"
       ],
       "metadata": {},
       "output_type": "pyout",
       "prompt_number": 35,
       "text": [
        "            2\n",
        "(x + 3.1416) "
       ]
      }
     ],
     "prompt_number": 35
    },
    {
     "cell_type": "markdown",
     "metadata": {},
     "source": [
      "When you numerically evaluate algebraic expressions you often want to substitute a symbol with a numerical value. You can do that using the subs function:"
     ]
    },
    {
     "cell_type": "code",
     "collapsed": false,
     "input": [
      "y.subs(x, 1.5)"
     ],
     "language": "python",
     "metadata": {},
     "outputs": [
      {
       "latex": [
        "$$\\left(1.5 + \\pi\\right)^{2}$$"
       ],
       "metadata": {},
       "output_type": "pyout",
       "prompt_number": 36,
       "text": [
        "         2\n",
        "(1.5 + \u03c0) "
       ]
      }
     ],
     "prompt_number": 36
    },
    {
     "cell_type": "markdown",
     "metadata": {},
     "source": [
      "The subs function can also be used to substitute Symbols and other expressions:The subs function can also be used to substitute Symbols and other expressions:"
     ]
    },
    {
     "cell_type": "code",
     "collapsed": false,
     "input": [
      "y.subs(x, a+pi)"
     ],
     "language": "python",
     "metadata": {},
     "outputs": [
      {
       "latex": [
        "$$\\left(a + 2 \\pi\\right)^{2}$$"
       ],
       "metadata": {},
       "output_type": "pyout",
       "prompt_number": 41,
       "text": [
        "         2\n",
        "(a + 2\u22c5\u03c0) "
       ]
      }
     ],
     "prompt_number": 41
    },
    {
     "cell_type": "markdown",
     "metadata": {},
     "source": [
      "You can also pass subs a dict of keys and values to be substituted:"
     ]
    },
    {
     "cell_type": "code",
     "collapsed": false,
     "input": [
      "N(y.subs(x, 1.5))"
     ],
     "language": "python",
     "metadata": {},
     "outputs": [
      {
       "latex": [
        "$$21.5443823618587$$"
       ],
       "metadata": {},
       "output_type": "pyout",
       "prompt_number": 37,
       "text": [
        "21.5443823618587"
       ]
      }
     ],
     "prompt_number": 37
    },
    {
     "cell_type": "code",
     "collapsed": false,
     "input": [
      "e = x*y"
     ],
     "language": "python",
     "metadata": {},
     "outputs": [],
     "prompt_number": 38
    },
    {
     "cell_type": "code",
     "collapsed": false,
     "input": [
      "e.subs({x:4, y:pi})"
     ],
     "language": "python",
     "metadata": {},
     "outputs": [
      {
       "latex": [
        "$$4 \\pi$$"
       ],
       "metadata": {},
       "output_type": "pyout",
       "prompt_number": 39,
       "text": [
        "4\u22c5\u03c0"
       ]
      }
     ],
     "prompt_number": 39
    },
    {
     "cell_type": "markdown",
     "metadata": {},
     "source": [
      "Often times, it is useful to convert from a SymPy expression to a Python function that can be used with NumPy arrays. This can be done using SymPy's lambdify function in the following manner:"
     ]
    },
    {
     "cell_type": "code",
     "collapsed": false,
     "input": [
      "z = Symbol('z')\n",
      "f = lambdify([z], cos(pi*z)**2, modules='numpy')\n",
      "x = np.linspace(0.0, 2*np.pi, 100)\n",
      "y = f(x)\n",
      "plt.plot(x, y)"
     ],
     "language": "python",
     "metadata": {},
     "outputs": [
      {
       "metadata": {},
       "output_type": "pyout",
       "prompt_number": 42,
       "text": [
        "[<matplotlib.lines.Line2D at 0x106fa9cd0>]"
       ]
      },
      {
       "metadata": {},
       "output_type": "display_data",
       "png": "[encoded data removed]",
       "text": [
        "<matplotlib.figure.Figure at 0x106f83710>"
       ]
      }
     ],
     "prompt_number": 42
    },
    {
     "cell_type": "heading",
     "level": 1,
     "metadata": {},
     "source": [
      "Algebra"
     ]
    },
    {
     "cell_type": "markdown",
     "metadata": {},
     "source": [
      "SymPy has a number of powerful functions and methods for performing algebraic manipulations."
     ]
    },
    {
     "cell_type": "code",
     "collapsed": false,
     "input": [
      "x, y, z = symbols('x, y, z')"
     ],
     "language": "python",
     "metadata": {},
     "outputs": [],
     "prompt_number": 43
    },
    {
     "cell_type": "markdown",
     "metadata": {},
     "source": [
      "The expand and factor functions are roughly inverses of each other. The expand function will expand a product of expressions into a sum of expression:"
     ]
    },
    {
     "cell_type": "code",
     "collapsed": false,
     "input": [
      "e = (x+1)*(x+2)*(x+3)\n",
      "e"
     ],
     "language": "python",
     "metadata": {},
     "outputs": [
      {
       "latex": [
        "$$\\left(x + 1\\right) \\left(x + 2\\right) \\left(x + 3\\right)$$"
       ],
       "metadata": {},
       "output_type": "pyout",
       "prompt_number": 44,
       "text": [
        "(x + 1)\u22c5(x + 2)\u22c5(x + 3)"
       ]
      }
     ],
     "prompt_number": 44
    },
    {
     "cell_type": "code",
     "collapsed": false,
     "input": [
      "expand(e)"
     ],
     "language": "python",
     "metadata": {},
     "outputs": [
      {
       "latex": [
        "$$x^{3} + 6 x^{2} + 11 x + 6$$"
       ],
       "metadata": {},
       "output_type": "pyout",
       "prompt_number": 45,
       "text": [
        " 3      2           \n",
        "x  + 6\u22c5x  + 11\u22c5x + 6"
       ]
      }
     ],
     "prompt_number": 45
    },
    {
     "cell_type": "markdown",
     "metadata": {},
     "source": [
      "factor does the inverse operation:"
     ]
    },
    {
     "cell_type": "code",
     "collapsed": false,
     "input": [
      "factor(_)"
     ],
     "language": "python",
     "metadata": {},
     "outputs": [
      {
       "latex": [
        "$$\\left(x + 1\\right) \\left(x + 2\\right) \\left(x + 3\\right)$$"
       ],
       "metadata": {},
       "output_type": "pyout",
       "prompt_number": 46,
       "text": [
        "(x + 1)\u22c5(x + 2)\u22c5(x + 3)"
       ]
      }
     ],
     "prompt_number": 46
    },
    {
     "cell_type": "markdown",
     "metadata": {},
     "source": [
      "expand also has a number of keyword arguments that enable it to expand other types of mathematical expressions, such as trigonometric function or complex numbers:"
     ]
    },
    {
     "cell_type": "code",
     "collapsed": false,
     "input": [
      "e = sin(a+b)"
     ],
     "language": "python",
     "metadata": {},
     "outputs": [],
     "prompt_number": 48
    },
    {
     "cell_type": "code",
     "collapsed": false,
     "input": [
      "expand(e)"
     ],
     "language": "python",
     "metadata": {},
     "outputs": [
      {
       "latex": [
        "$$\\sin{\\left (a + b \\right )}$$"
       ],
       "metadata": {},
       "output_type": "pyout",
       "prompt_number": 49,
       "text": [
        "sin(a + b)"
       ]
      }
     ],
     "prompt_number": 49
    },
    {
     "cell_type": "code",
     "collapsed": false,
     "input": [
      "expand(e, trig=True)"
     ],
     "language": "python",
     "metadata": {},
     "outputs": [
      {
       "latex": [
        "$$\\sin{\\left (a \\right )} \\cos{\\left (b \\right )} + \\sin{\\left (b \\right )} \\cos{\\left (a \\right )}$$"
       ],
       "metadata": {},
       "output_type": "pyout",
       "prompt_number": 50,
       "text": [
        "sin(a)\u22c5cos(b) + sin(b)\u22c5cos(a)"
       ]
      }
     ],
     "prompt_number": 50
    },
    {
     "cell_type": "code",
     "collapsed": false,
     "input": [
      "expand((x+y)**3)"
     ],
     "language": "python",
     "metadata": {},
     "outputs": [
      {
       "latex": [
        "$$x^{3} + 3 x^{2} y + 3 x y^{2} + y^{3}$$"
       ],
       "metadata": {},
       "output_type": "pyout",
       "prompt_number": 51,
       "text": [
        " 3      2          2    3\n",
        "x  + 3\u22c5x \u22c5y + 3\u22c5x\u22c5y  + y "
       ]
      }
     ],
     "prompt_number": 51
    },
    {
     "cell_type": "code",
     "collapsed": false,
     "input": [
      "expand(x+y, complex=True)"
     ],
     "language": "python",
     "metadata": {},
     "outputs": [
      {
       "latex": [
        "$$\\Re{x} + \\Re{y} + i \\Im{x} + i \\Im{y}$$"
       ],
       "metadata": {},
       "output_type": "pyout",
       "prompt_number": 52,
       "text": [
        "re(x) + re(y) + \u2148\u22c5im(x) + \u2148\u22c5im(y)"
       ]
      }
     ],
     "prompt_number": 52
    },
    {
     "cell_type": "markdown",
     "metadata": {},
     "source": [
      "A common task in symbolic mathematics is to \"simplify\" an expression. SymPy has a simplify function that applies a set of transformations using heuristics in an attempt to produce the most simplified version of an expression:"
     ]
    },
    {
     "cell_type": "code",
     "collapsed": false,
     "input": [
      "simplify((x+x*y)/x)"
     ],
     "language": "python",
     "metadata": {},
     "outputs": [
      {
       "latex": [
        "$$y + 1$$"
       ],
       "metadata": {},
       "output_type": "pyout",
       "prompt_number": 53,
       "text": [
        "y + 1"
       ]
      }
     ],
     "prompt_number": 53
    },
    {
     "cell_type": "code",
     "collapsed": false,
     "input": [
      "simplify(sin(a)**2 + cos(a)**2)"
     ],
     "language": "python",
     "metadata": {},
     "outputs": [
      {
       "latex": [
        "$$1$$"
       ],
       "metadata": {},
       "output_type": "pyout",
       "prompt_number": 54,
       "text": [
        "1"
       ]
      }
     ],
     "prompt_number": 54
    },
    {
     "cell_type": "code",
     "collapsed": false,
     "input": [
      "simplify(cos(x)/sin(x))"
     ],
     "language": "python",
     "metadata": {},
     "outputs": [
      {
       "latex": [
        "$$\\frac{1}{\\tan{\\left (x \\right )}}$$"
       ],
       "metadata": {},
       "output_type": "pyout",
       "prompt_number": 55,
       "text": [
        "  1   \n",
        "\u2500\u2500\u2500\u2500\u2500\u2500\n",
        "tan(x)"
       ]
      }
     ],
     "prompt_number": 55
    },
    {
     "cell_type": "markdown",
     "metadata": {},
     "source": [
      "When working with polynomials, it is often useful to pick out terms that are powers of a given expression. This can be done with collect:"
     ]
    },
    {
     "cell_type": "code",
     "collapsed": false,
     "input": [
      "e = x*y + x - 3 + 2*x**2 - z*x**2 + x**3"
     ],
     "language": "python",
     "metadata": {},
     "outputs": [],
     "prompt_number": 56
    },
    {
     "cell_type": "code",
     "collapsed": false,
     "input": [
      "collect(e, x)"
     ],
     "language": "python",
     "metadata": {},
     "outputs": [
      {
       "latex": [
        "$$x^{3} + x^{2} \\left(- z + 2\\right) + x \\left(y + 1\\right) - 3$$"
       ],
       "metadata": {},
       "output_type": "pyout",
       "prompt_number": 57,
       "text": [
        " 3    2                         \n",
        "x  + x \u22c5(-z + 2) + x\u22c5(y + 1) - 3"
       ]
      }
     ],
     "prompt_number": 57
    },
    {
     "cell_type": "markdown",
     "metadata": {},
     "source": [
      "The coeff method will return the coefficient of a given term:"
     ]
    },
    {
     "cell_type": "code",
     "collapsed": false,
     "input": [
      "collect(e, x).coeff(x, 2)"
     ],
     "language": "python",
     "metadata": {},
     "outputs": [
      {
       "latex": [
        "$$- z + 2$$"
       ],
       "metadata": {},
       "output_type": "pyout",
       "prompt_number": 58,
       "text": [
        "-z + 2"
       ]
      }
     ],
     "prompt_number": 58
    },
    {
     "cell_type": "markdown",
     "metadata": {},
     "source": [
      "The cancel function will try to cancel common factors in fractional expressions:The cancel function will try to cancel common factors in fractional expressions:"
     ]
    },
    {
     "cell_type": "code",
     "collapsed": false,
     "input": [
      "cancel((x**2 + 2*x + 1)/(x**2 + x))"
     ],
     "language": "python",
     "metadata": {},
     "outputs": [
      {
       "latex": [
        "$$\\frac{1}{x} \\left(x + 1\\right)$$"
       ],
       "metadata": {},
       "output_type": "pyout",
       "prompt_number": 59,
       "text": [
        "x + 1\n",
        "\u2500\u2500\u2500\u2500\u2500\n",
        "  x  "
       ]
      }
     ],
     "prompt_number": 59
    },
    {
     "cell_type": "code",
     "collapsed": false,
     "input": [
      "cancel((exp(x)+2.0*exp(x))/(exp(x)))"
     ],
     "language": "python",
     "metadata": {},
     "outputs": [
      {
       "latex": [
        "$$3.0$$"
       ],
       "metadata": {},
       "output_type": "pyout",
       "prompt_number": 60,
       "text": [
        "3.00000000000000"
       ]
      }
     ],
     "prompt_number": 60
    },
    {
     "cell_type": "markdown",
     "metadata": {},
     "source": [
      "SymPy has a number of other functions for performing algebraic manipulations:\n",
      "\n",
      "- trigsimp\n",
      "- expand_trig\n",
      "- powsimp\n",
      "- expand_power_exp\n",
      "- expand_power_base\n",
      "- powdenest\n",
      "- expand_log\n",
      "- logcombine\n",
      "- rewrite\n",
      "- expand_func\n",
      "- hyperexpand\n",
      "- combsimp"
     ]
    },
    {
     "cell_type": "markdown",
     "metadata": {},
     "source": [
      "SymPy is able to perform many operations from calculus using symbolic expressions. This includes differentiation, integration, Taylor series, limits, sums and products."
     ]
    },
    {
     "cell_type": "code",
     "collapsed": false,
     "input": [
      "x, y, z = symbols('x, y, z')\n",
      "a, b, c = symbols('a, b, c')"
     ],
     "language": "python",
     "metadata": {},
     "outputs": [],
     "prompt_number": 61
    },
    {
     "cell_type": "markdown",
     "metadata": {},
     "source": [
      "You can take a deriviate using the diff function:"
     ]
    },
    {
     "cell_type": "code",
     "collapsed": false,
     "input": [
      "diff(a*x**2, x)"
     ],
     "language": "python",
     "metadata": {},
     "outputs": [
      {
       "latex": [
        "$$2 a x$$"
       ],
       "metadata": {},
       "output_type": "pyout",
       "prompt_number": 63,
       "text": [
        "2\u22c5a\u22c5x"
       ]
      }
     ],
     "prompt_number": 63
    },
    {
     "cell_type": "code",
     "collapsed": false,
     "input": [
      "diff(cos(a*x+b), x)\n"
     ],
     "language": "python",
     "metadata": {},
     "outputs": [
      {
       "latex": [
        "$$- a \\sin{\\left (a x + b \\right )}$$"
       ],
       "metadata": {},
       "output_type": "pyout",
       "prompt_number": 64,
       "text": [
        "-a\u22c5sin(a\u22c5x + b)"
       ]
      }
     ],
     "prompt_number": 64
    },
    {
     "cell_type": "markdown",
     "metadata": {},
     "source": [
      "Derivatives of higher orders are specified by a third argument to diff. Here is a second derivative:"
     ]
    },
    {
     "cell_type": "code",
     "collapsed": false,
     "input": [
      "diff(cos(a*x+b), x, 2)"
     ],
     "language": "python",
     "metadata": {},
     "outputs": [
      {
       "latex": [
        "$$- a^{2} \\cos{\\left (a x + b \\right )}$$"
       ],
       "metadata": {},
       "output_type": "pyout",
       "prompt_number": 65,
       "text": [
        "  2             \n",
        "-a \u22c5cos(a\u22c5x + b)"
       ]
      }
     ],
     "prompt_number": 65
    },
    {
     "cell_type": "markdown",
     "metadata": {},
     "source": [
      "diff can also be used to take partial derivatives:"
     ]
    },
    {
     "cell_type": "code",
     "collapsed": false,
     "input": [
      "f = sin(x*y) + cos(y*z)"
     ],
     "language": "python",
     "metadata": {},
     "outputs": [],
     "prompt_number": 67
    },
    {
     "cell_type": "code",
     "collapsed": false,
     "input": [
      "diff(f, x)"
     ],
     "language": "python",
     "metadata": {},
     "outputs": [
      {
       "latex": [
        "$$y \\cos{\\left (x y \\right )}$$"
       ],
       "metadata": {},
       "output_type": "pyout",
       "prompt_number": 69,
       "text": [
        "y\u22c5cos(x\u22c5y)"
       ]
      }
     ],
     "prompt_number": 69
    },
    {
     "cell_type": "code",
     "collapsed": false,
     "input": [
      "diff(f, y)"
     ],
     "language": "python",
     "metadata": {},
     "outputs": [
      {
       "latex": [
        "$$x \\cos{\\left (x y \\right )} - z \\sin{\\left (y z \\right )}$$"
       ],
       "metadata": {},
       "output_type": "pyout",
       "prompt_number": 70,
       "text": [
        "x\u22c5cos(x\u22c5y) - z\u22c5sin(y\u22c5z)"
       ]
      }
     ],
     "prompt_number": 70
    },
    {
     "cell_type": "code",
     "collapsed": false,
     "input": [
      "diff(f, z)"
     ],
     "language": "python",
     "metadata": {},
     "outputs": [
      {
       "latex": [
        "$$- y \\sin{\\left (y z \\right )}$$"
       ],
       "metadata": {},
       "output_type": "pyout",
       "prompt_number": 71,
       "text": [
        "-y\u22c5sin(y\u22c5z)"
       ]
      }
     ],
     "prompt_number": 71
    },
    {
     "cell_type": "markdown",
     "metadata": {},
     "source": [
      "Note that diff takes a derivative immediately. To construct an unevaluated derivative, use the Derivative objects, which accepts the same arguments as diff. Here is a mixed second partial derivative:"
     ]
    },
    {
     "cell_type": "code",
     "collapsed": false,
     "input": [
      "d = Derivative(f, x, 1, y, 1)"
     ],
     "language": "python",
     "metadata": {},
     "outputs": [],
     "prompt_number": 72
    },
    {
     "cell_type": "markdown",
     "metadata": {},
     "source": [
      "An unevaluated derivative can be evaluated using the doit() method:"
     ]
    },
    {
     "cell_type": "code",
     "collapsed": false,
     "input": [
      "d.doit()"
     ],
     "language": "python",
     "metadata": {},
     "outputs": [
      {
       "latex": [
        "$$- x y \\sin{\\left (x y \\right )} + \\cos{\\left (x y \\right )}$$"
       ],
       "metadata": {},
       "output_type": "pyout",
       "prompt_number": 73,
       "text": [
        "-x\u22c5y\u22c5sin(x\u22c5y) + cos(x\u22c5y)"
       ]
      }
     ],
     "prompt_number": 73
    },
    {
     "cell_type": "markdown",
     "metadata": {},
     "source": [
      "Symbolic integrals can be done using the integrate function:"
     ]
    },
    {
     "cell_type": "code",
     "collapsed": false,
     "input": [
      "integrate(6*x**5, x)"
     ],
     "language": "python",
     "metadata": {},
     "outputs": [
      {
       "latex": [
        "$$x^{6}$$"
       ],
       "metadata": {},
       "output_type": "pyout",
       "prompt_number": 75,
       "text": [
        " 6\n",
        "x "
       ]
      }
     ],
     "prompt_number": 75
    },
    {
     "cell_type": "code",
     "collapsed": false,
     "input": [
      "integrate(sin(x), x)"
     ],
     "language": "python",
     "metadata": {},
     "outputs": [
      {
       "latex": [
        "$$- \\cos{\\left (x \\right )}$$"
       ],
       "metadata": {},
       "output_type": "pyout",
       "prompt_number": 76,
       "text": [
        "-cos(x)"
       ]
      }
     ],
     "prompt_number": 76
    },
    {
     "cell_type": "code",
     "collapsed": false,
     "input": [
      "integrate(log(x), x)\n"
     ],
     "language": "python",
     "metadata": {},
     "outputs": [
      {
       "latex": [
        "$$x \\log{\\left (x \\right )} - x$$"
       ],
       "metadata": {},
       "output_type": "pyout",
       "prompt_number": 77,
       "text": [
        "x\u22c5log(x) - x"
       ]
      }
     ],
     "prompt_number": 77
    },
    {
     "cell_type": "code",
     "collapsed": false,
     "input": [
      "integrate(2*x + sinh(x), x)\n"
     ],
     "language": "python",
     "metadata": {},
     "outputs": [
      {
       "latex": [
        "$$x^{2} + \\cosh{\\left (x \\right )}$$"
       ],
       "metadata": {},
       "output_type": "pyout",
       "prompt_number": 78,
       "text": [
        " 2          \n",
        "x  + cosh(x)"
       ]
      }
     ],
     "prompt_number": 78
    },
    {
     "cell_type": "markdown",
     "metadata": {},
     "source": [
      "SymPy also knows many integrals involving special functions"
     ]
    },
    {
     "cell_type": "code",
     "collapsed": false,
     "input": [
      "integrate(exp(-x**2)*erf(x), x)"
     ],
     "language": "python",
     "metadata": {},
     "outputs": [
      {
       "latex": [
        "$$\\frac{\\sqrt{\\pi}}{4} \\operatorname{erf}^{2}{\\left (x \\right )}$$"
       ],
       "metadata": {},
       "output_type": "pyout",
       "prompt_number": 80,
       "text": [
        "  ___    2   \n",
        "\u2572\u2571 \u03c0 \u22c5erf (x)\n",
        "\u2500\u2500\u2500\u2500\u2500\u2500\u2500\u2500\u2500\u2500\u2500\u2500\u2500\n",
        "      4      "
       ]
      }
     ],
     "prompt_number": 80
    },
    {
     "cell_type": "markdown",
     "metadata": {},
     "source": [
      "Definite integrals can be done by specifying limits in the form (variable, min, max):"
     ]
    },
    {
     "cell_type": "code",
     "collapsed": false,
     "input": [
      "integrate(x**3, (x, -1, 1))"
     ],
     "language": "python",
     "metadata": {},
     "outputs": [
      {
       "latex": [
        "$$0$$"
       ],
       "metadata": {},
       "output_type": "pyout",
       "prompt_number": 81,
       "text": [
        "0"
       ]
      }
     ],
     "prompt_number": 81
    },
    {
     "cell_type": "code",
     "collapsed": false,
     "input": [
      "integrate(sin(x), (x, 0, pi/2))"
     ],
     "language": "python",
     "metadata": {},
     "outputs": [
      {
       "latex": [
        "$$1$$"
       ],
       "metadata": {},
       "output_type": "pyout",
       "prompt_number": 82,
       "text": [
        "1"
       ]
      }
     ],
     "prompt_number": 82
    },
    {
     "cell_type": "code",
     "collapsed": false,
     "input": [
      "integrate(cos(x), (x, -pi/2, pi/2))"
     ],
     "language": "python",
     "metadata": {},
     "outputs": [
      {
       "latex": [
        "$$2$$"
       ],
       "metadata": {},
       "output_type": "pyout",
       "prompt_number": 83,
       "text": [
        "2"
       ]
      }
     ],
     "prompt_number": 83
    },
    {
     "cell_type": "markdown",
     "metadata": {},
     "source": [
      "In SymPy the symbol for \u221e is oo (two lowercase \"o\" characters). This allows integrals over infinite ranges:\n"
     ]
    },
    {
     "cell_type": "code",
     "collapsed": false,
     "input": [
      "integrate(exp(-x), (x, 0, oo))"
     ],
     "language": "python",
     "metadata": {},
     "outputs": [
      {
       "latex": [
        "$$1$$"
       ],
       "metadata": {},
       "output_type": "pyout",
       "prompt_number": 84,
       "text": [
        "1"
       ]
      }
     ],
     "prompt_number": 84
    },
    {
     "cell_type": "code",
     "collapsed": false,
     "input": [
      "integrate(exp(-x**2), (x, -oo, oo))"
     ],
     "language": "python",
     "metadata": {},
     "outputs": [
      {
       "latex": [
        "$$\\sqrt{\\pi}$$"
       ],
       "metadata": {},
       "output_type": "pyout",
       "prompt_number": 85,
       "text": [
        "  ___\n",
        "\u2572\u2571 \u03c0 "
       ]
      }
     ],
     "prompt_number": 85
    },
    {
     "cell_type": "markdown",
     "metadata": {},
     "source": [
      "Double integrals can be performed by giving a sequence of variables and/or ranges to integrate over. In this case, the Integral class is used to construct an unevaluated integral:"
     ]
    },
    {
     "cell_type": "code",
     "collapsed": false,
     "input": [
      "i = Integral(exp(-x**2 - y**2), (x,-oo,oo), (y,-oo,oo))\n",
      "i"
     ],
     "language": "python",
     "metadata": {},
     "outputs": [
      {
       "latex": [
        "$$\\int_{-\\infty}^{\\infty}\\int_{-\\infty}^{\\infty} e^{- x^{2} - y^{2}}\\, dx\\, dy$$"
       ],
       "metadata": {},
       "output_type": "pyout",
       "prompt_number": 86,
       "text": [
        "\u221e  \u221e                  \n",
        "\u2320  \u2320                  \n",
        "\u23ae  \u23ae      2    2      \n",
        "\u23ae  \u23ae   - x  - y       \n",
        "\u23ae  \u23ae  \u212f          dx dy\n",
        "\u2321  \u2321                  \n",
        "-\u221e -\u221e                 "
       ]
      }
     ],
     "prompt_number": 86
    },
    {
     "cell_type": "markdown",
     "metadata": {},
     "source": [
      "Again, the doit() method performs the integrals:"
     ]
    },
    {
     "cell_type": "code",
     "collapsed": false,
     "input": [
      "i.doit()"
     ],
     "language": "python",
     "metadata": {},
     "outputs": [
      {
       "latex": [
        "$$\\pi$$"
       ],
       "metadata": {},
       "output_type": "pyout",
       "prompt_number": 88,
       "text": [
        "\u03c0"
       ]
      }
     ],
     "prompt_number": 88
    },
    {
     "cell_type": "markdown",
     "metadata": {},
     "source": [
      "Finite and infinite sums and products can be construted, in both evaluated and unevaluated forms."
     ]
    },
    {
     "cell_type": "code",
     "collapsed": false,
     "input": [
      "n = Symbol('n')"
     ],
     "language": "python",
     "metadata": {},
     "outputs": [],
     "prompt_number": 90
    },
    {
     "cell_type": "markdown",
     "metadata": {},
     "source": [
      "Use the summation function to directly perform a sum:"
     ]
    },
    {
     "cell_type": "code",
     "collapsed": false,
     "input": [
      "s = summation(1/n**2, (n, 1, 10))\n",
      "s"
     ],
     "language": "python",
     "metadata": {},
     "outputs": [
      {
       "latex": [
        "$$\\frac{1968329}{1270080}$$"
       ],
       "metadata": {},
       "output_type": "pyout",
       "prompt_number": 93,
       "text": [
        "1968329\n",
        "\u2500\u2500\u2500\u2500\u2500\u2500\u2500\n",
        "1270080"
       ]
      }
     ],
     "prompt_number": 93
    },
    {
     "cell_type": "markdown",
     "metadata": {},
     "source": [
      "Here is an unevaluated infinite sum:"
     ]
    },
    {
     "cell_type": "code",
     "collapsed": false,
     "input": [
      "s = Sum(1/n**2, (n, 1, oo))\n",
      "s"
     ],
     "language": "python",
     "metadata": {},
     "outputs": [
      {
       "latex": [
        "$$\\sum_{n=1}^{\\infty} \\frac{1}{n^{2}}$$"
       ],
       "metadata": {},
       "output_type": "pyout",
       "prompt_number": 95,
       "text": [
        "  \u221e     \n",
        " ____   \n",
        " \u2572      \n",
        "  \u2572   1 \n",
        "   \u2572  \u2500\u2500\n",
        "   \u2571   2\n",
        "  \u2571   n \n",
        " \u2571      \n",
        " \u203e\u203e\u203e\u203e   \n",
        "n = 1   "
       ]
      }
     ],
     "prompt_number": 95
    },
    {
     "cell_type": "markdown",
     "metadata": {},
     "source": [
      "The doit() method will attempt to produce an exact, symbolic answer:"
     ]
    },
    {
     "cell_type": "code",
     "collapsed": false,
     "input": [
      "s.doit()"
     ],
     "language": "python",
     "metadata": {},
     "outputs": [
      {
       "latex": [
        "$$\\frac{\\pi^{2}}{6}$$"
       ],
       "metadata": {},
       "output_type": "pyout",
       "prompt_number": 97,
       "text": [
        " 2\n",
        "\u03c0 \n",
        "\u2500\u2500\n",
        "6 "
       ]
      }
     ],
     "prompt_number": 97
    },
    {
     "cell_type": "markdown",
     "metadata": {},
     "source": [
      "If that is not possible, you can always use the evalf method to obtain a numerical answer to a given precision:"
     ]
    },
    {
     "cell_type": "code",
     "collapsed": false,
     "input": [
      "s.evalf()"
     ],
     "language": "python",
     "metadata": {},
     "outputs": [
      {
       "latex": [
        "$$1.64493406684823$$"
       ],
       "metadata": {},
       "output_type": "pyout",
       "prompt_number": 98,
       "text": [
        "1.64493406684823"
       ]
      }
     ],
     "prompt_number": 98
    },
    {
     "cell_type": "markdown",
     "metadata": {},
     "source": [
      "Here is an unevaluated product"
     ]
    },
    {
     "cell_type": "code",
     "collapsed": false,
     "input": [
      "p = Product(n, (n, 1, 10))\n",
      "p"
     ],
     "language": "python",
     "metadata": {},
     "outputs": [
      {
       "latex": [
        "$$\\prod_{n=1}^{10} n$$"
       ],
       "metadata": {},
       "output_type": "pyout",
       "prompt_number": 99,
       "text": [
        "  10   \n",
        "\u252c\u2500\u2500\u2500\u252c  \n",
        "\u2502   \u2502 n\n",
        "\u2502   \u2502  \n",
        "n = 1  "
       ]
      }
     ],
     "prompt_number": 99
    },
    {
     "cell_type": "code",
     "collapsed": false,
     "input": [
      "p.doit()"
     ],
     "language": "python",
     "metadata": {},
     "outputs": [
      {
       "latex": [
        "$$3628800$$"
       ],
       "metadata": {},
       "output_type": "pyout",
       "prompt_number": 100,
       "text": [
        "3628800"
       ]
      }
     ],
     "prompt_number": 100
    },
    {
     "cell_type": "markdown",
     "metadata": {},
     "source": [
      "Right now evalf doesn't work with Product, which looks like a bug:"
     ]
    },
    {
     "cell_type": "code",
     "collapsed": false,
     "input": [
      "p.evalf()"
     ],
     "language": "python",
     "metadata": {},
     "outputs": [
      {
       "latex": [
        "$$\\prod_{n=1}^{10} n$$"
       ],
       "metadata": {},
       "output_type": "pyout",
       "prompt_number": 101,
       "text": [
        "  10   \n",
        "\u252c\u2500\u2500\u2500\u252c  \n",
        "\u2502   \u2502 n\n",
        "\u2502   \u2502  \n",
        "n = 1  "
       ]
      }
     ],
     "prompt_number": 101
    },
    {
     "cell_type": "markdown",
     "metadata": {},
     "source": [
      "SymPy is capable of taking limits symbolically using the limit function:"
     ]
    },
    {
     "cell_type": "code",
     "collapsed": false,
     "input": [
      "limit(sin(x)/x, x, 0)"
     ],
     "language": "python",
     "metadata": {},
     "outputs": [
      {
       "latex": [
        "$$1$$"
       ],
       "metadata": {},
       "output_type": "pyout",
       "prompt_number": 102,
       "text": [
        "1"
       ]
      }
     ],
     "prompt_number": 102
    },
    {
     "cell_type": "code",
     "collapsed": false,
     "input": [
      "f"
     ],
     "language": "python",
     "metadata": {},
     "outputs": [
      {
       "latex": [
        "$$\\sin{\\left (x y \\right )} + \\cos{\\left (y z \\right )}$$"
       ],
       "metadata": {},
       "output_type": "pyout",
       "prompt_number": 103,
       "text": [
        "sin(x\u22c5y) + cos(y\u22c5z)"
       ]
      }
     ],
     "prompt_number": 103
    },
    {
     "cell_type": "code",
     "collapsed": false,
     "input": [
      "diff(f, x)"
     ],
     "language": "python",
     "metadata": {},
     "outputs": [
      {
       "latex": [
        "$$y \\cos{\\left (x y \\right )}$$"
       ],
       "metadata": {},
       "output_type": "pyout",
       "prompt_number": 104,
       "text": [
        "y\u22c5cos(x\u22c5y)"
       ]
      }
     ],
     "prompt_number": 104
    },
    {
     "cell_type": "code",
     "collapsed": false,
     "input": [
      "h = Symbol('h')"
     ],
     "language": "python",
     "metadata": {},
     "outputs": [],
     "prompt_number": 105
    },
    {
     "cell_type": "code",
     "collapsed": false,
     "input": [
      "df_dx = (f.subs(x, x+h) - f)/h\n",
      "df_dx"
     ],
     "language": "python",
     "metadata": {},
     "outputs": [
      {
       "latex": [
        "$$\\frac{1}{h} \\left(- \\sin{\\left (x y \\right )} + \\sin{\\left (y \\left(h + x\\right) \\right )}\\right)$$"
       ],
       "metadata": {},
       "output_type": "pyout",
       "prompt_number": 106,
       "text": [
        "-sin(x\u22c5y) + sin(y\u22c5(h + x))\n",
        "\u2500\u2500\u2500\u2500\u2500\u2500\u2500\u2500\u2500\u2500\u2500\u2500\u2500\u2500\u2500\u2500\u2500\u2500\u2500\u2500\u2500\u2500\u2500\u2500\u2500\u2500\n",
        "            h             "
       ]
      }
     ],
     "prompt_number": 106
    },
    {
     "cell_type": "markdown",
     "metadata": {},
     "source": [
      "\n",
      "Let's construct an unevaluated limit using the Limit class and then take the limit h\u21920 to recover the exact answer above:"
     ]
    },
    {
     "cell_type": "code",
     "collapsed": false,
     "input": [
      "l = Limit(df_dx, h, 0)\n",
      "l"
     ],
     "language": "python",
     "metadata": {},
     "outputs": [
      {
       "latex": [
        "$$\\lim_{h \\to 0}\\left(\\frac{1}{h} \\left(- \\sin{\\left (x y \\right )} + \\sin{\\left (y \\left(h + x\\right) \\right )}\\right)\\right)$$"
       ],
       "metadata": {},
       "output_type": "pyout",
       "prompt_number": 107,
       "text": [
        "    -sin(x\u22c5y) + sin(y\u22c5(h + x))\n",
        "lim \u2500\u2500\u2500\u2500\u2500\u2500\u2500\u2500\u2500\u2500\u2500\u2500\u2500\u2500\u2500\u2500\u2500\u2500\u2500\u2500\u2500\u2500\u2500\u2500\u2500\u2500\n",
        "h->0            h             "
       ]
      }
     ],
     "prompt_number": 107
    },
    {
     "cell_type": "code",
     "collapsed": false,
     "input": [
      "l.doit()"
     ],
     "language": "python",
     "metadata": {},
     "outputs": [
      {
       "latex": [
        "$$y \\cos{\\left (x y \\right )}$$"
       ],
       "metadata": {},
       "output_type": "pyout",
       "prompt_number": 108,
       "text": [
        "y\u22c5cos(x\u22c5y)"
       ]
      }
     ],
     "prompt_number": 108
    },
    {
     "cell_type": "markdown",
     "metadata": {},
     "source": [
      "Some other examples of limits:"
     ]
    },
    {
     "cell_type": "code",
     "collapsed": false,
     "input": [
      "limit(x, x, oo)\n",
      " "
     ],
     "language": "python",
     "metadata": {},
     "outputs": [
      {
       "latex": [
        "$$\\infty$$"
       ],
       "metadata": {},
       "output_type": "pyout",
       "prompt_number": 110,
       "text": [
        "\u221e"
       ]
      }
     ],
     "prompt_number": 110
    },
    {
     "cell_type": "code",
     "collapsed": false,
     "input": [
      "limit(1/x, x, oo)"
     ],
     "language": "python",
     "metadata": {},
     "outputs": [
      {
       "latex": [
        "$$0$$"
       ],
       "metadata": {},
       "output_type": "pyout",
       "prompt_number": 111,
       "text": [
        "0"
       ]
      }
     ],
     "prompt_number": 111
    },
    {
     "cell_type": "markdown",
     "metadata": {},
     "source": [
      "imit and Limit also accept a dir keyword argument that can be used to specify the direction of the limit:"
     ]
    },
    {
     "cell_type": "code",
     "collapsed": false,
     "input": [
      "limit(1/x, x, 0, dir='+')"
     ],
     "language": "python",
     "metadata": {},
     "outputs": [
      {
       "latex": [
        "$$\\infty$$"
       ],
       "metadata": {},
       "output_type": "pyout",
       "prompt_number": 112,
       "text": [
        "\u221e"
       ]
      }
     ],
     "prompt_number": 112
    },
    {
     "cell_type": "code",
     "collapsed": false,
     "input": [
      "limit(1/x, x, 0, dir='-')"
     ],
     "language": "python",
     "metadata": {},
     "outputs": [
      {
       "latex": [
        "$$-\\infty$$"
       ],
       "metadata": {},
       "output_type": "pyout",
       "prompt_number": 113,
       "text": [
        "-\u221e"
       ]
      }
     ],
     "prompt_number": 113
    },
    {
     "cell_type": "markdown",
     "metadata": {},
     "source": [
      "SymPy can perform Taylor series about arbitrary points using the series function.\n",
      "Expand the function ex about the default point (x=0) to the default order (5):"
     ]
    },
    {
     "cell_type": "code",
     "collapsed": false,
     "input": [
      "series(exp(x), x)"
     ],
     "language": "python",
     "metadata": {},
     "outputs": [
      {
       "latex": [
        "$$1 + x + \\frac{x^{2}}{2} + \\frac{x^{3}}{6} + \\frac{x^{4}}{24} + \\frac{x^{5}}{120} + \\mathcal{O}\\left(x^{6}\\right)$$"
       ],
       "metadata": {},
       "output_type": "pyout",
       "prompt_number": 114,
       "text": [
        "         2    3    4     5        \n",
        "        x    x    x     x     \u239b 6\u239e\n",
        "1 + x + \u2500\u2500 + \u2500\u2500 + \u2500\u2500 + \u2500\u2500\u2500 + O\u239dx \u23a0\n",
        "        2    6    24   120        "
       ]
      }
     ],
     "prompt_number": 114
    },
    {
     "cell_type": "markdown",
     "metadata": {},
     "source": [
      "Here is the Taylor series about zero, up to 7th order:"
     ]
    },
    {
     "cell_type": "code",
     "collapsed": false,
     "input": [
      "series(exp(x), x, 0, 7)"
     ],
     "language": "python",
     "metadata": {},
     "outputs": [
      {
       "latex": [
        "$$1 + x + \\frac{x^{2}}{2} + \\frac{x^{3}}{6} + \\frac{x^{4}}{24} + \\frac{x^{5}}{120} + \\frac{x^{6}}{720} + \\mathcal{O}\\left(x^{7}\\right)$$"
       ],
       "metadata": {},
       "output_type": "pyout",
       "prompt_number": 116,
       "text": [
        "         2    3    4     5     6        \n",
        "        x    x    x     x     x     \u239b 7\u239e\n",
        "1 + x + \u2500\u2500 + \u2500\u2500 + \u2500\u2500 + \u2500\u2500\u2500 + \u2500\u2500\u2500 + O\u239dx \u23a0\n",
        "        2    6    24   120   720        "
       ]
      }
     ],
     "prompt_number": 116
    },
    {
     "cell_type": "markdown",
     "metadata": {},
     "source": [
      "Let's plot the series approximation alongside the exact function to get a sense of how well the approximate works. Note how we use the removeO method to remove the \ue23b(x7) term:"
     ]
    },
    {
     "cell_type": "code",
     "collapsed": false,
     "input": [
      "plot(exp(x), _.removeO(), (x,0-5,0+5))"
     ],
     "language": "python",
     "metadata": {},
     "outputs": [
      {
       "metadata": {},
       "output_type": "display_data",
       "png": "[encoded data removed]",
       "text": [
        "<matplotlib.figure.Figure at 0x1079c9f50>"
       ]
      },
      {
       "metadata": {},
       "output_type": "pyout",
       "prompt_number": 117,
       "text": [
        "<sympy.plotting.plot.Plot at 0x1079c3390>"
       ]
      }
     ],
     "prompt_number": 117
    },
    {
     "cell_type": "markdown",
     "metadata": {},
     "source": [
      "SymPy can solve algebraic equations symbolically using the solve function."
     ]
    },
    {
     "cell_type": "code",
     "collapsed": false,
     "input": [
      "x, y, a, b = symbols('x, y, a, b')"
     ],
     "language": "python",
     "metadata": {},
     "outputs": [],
     "prompt_number": 118
    },
    {
     "cell_type": "markdown",
     "metadata": {},
     "source": [
      "If solve is passed an expression, it is assumed that expression is equal to 0 when converting it to an equation."
     ]
    },
    {
     "cell_type": "code",
     "collapsed": false,
     "input": [
      "solve(x**4 - 1, x)"
     ],
     "language": "python",
     "metadata": {},
     "outputs": [
      {
       "latex": [
        "$$\\begin{bmatrix}-1, & 1, & - i, & i\\end{bmatrix}$$"
       ],
       "metadata": {},
       "output_type": "pyout",
       "prompt_number": 119,
       "text": [
        "[-1, 1, -\u2148, \u2148]"
       ]
      }
     ],
     "prompt_number": 119
    },
    {
     "cell_type": "markdown",
     "metadata": {},
     "source": [
      "Note how in this form, solve returns a list of solutions. In general, the number of solutions will correspond to the order of the equation.\n",
      "\n",
      "If solve is passed dict=True, it will return a dictionary of solutions. This can be useful if you want to substitute the solutions later using subs."
     ]
    },
    {
     "cell_type": "code",
     "collapsed": false,
     "input": [
      "solve(x**4 - 1, x, dict=True)"
     ],
     "language": "python",
     "metadata": {},
     "outputs": [
      {
       "latex": [
        "$$\\begin{bmatrix}\\begin{Bmatrix}x : -1\\end{Bmatrix}, & \\begin{Bmatrix}x : 1\\end{Bmatrix}, & \\begin{Bmatrix}x : - i\\end{Bmatrix}, & \\begin{Bmatrix}x : i\\end{Bmatrix}\\end{bmatrix}$$"
       ],
       "metadata": {},
       "output_type": "pyout",
       "prompt_number": 120,
       "text": [
        "[{x: -1}, {x: 1}, {x: -\u2148}, {x: \u2148}]"
       ]
      }
     ],
     "prompt_number": 120
    },
    {
     "cell_type": "markdown",
     "metadata": {},
     "source": [
      "You can also pass solve an equation object constructed using the Eq class. This let's you specify non-zero right and left hand sides of the equation:"
     ]
    },
    {
     "cell_type": "code",
     "collapsed": false,
     "input": [
      "eq = Eq(x**4, 1)\n",
      "eq"
     ],
     "language": "python",
     "metadata": {},
     "outputs": [
      {
       "latex": [
        "$$x^{4} = 1$$"
       ],
       "metadata": {},
       "output_type": "pyout",
       "prompt_number": 121,
       "text": [
        " 4    \n",
        "x  = 1"
       ]
      }
     ],
     "prompt_number": 121
    },
    {
     "cell_type": "code",
     "collapsed": false,
     "input": [
      "soln = solve(eq, dict=True)\n",
      "soln"
     ],
     "language": "python",
     "metadata": {},
     "outputs": [
      {
       "latex": [
        "$$\\begin{bmatrix}\\begin{Bmatrix}x : -1\\end{Bmatrix}, & \\begin{Bmatrix}x : 1\\end{Bmatrix}, & \\begin{Bmatrix}x : - i\\end{Bmatrix}, & \\begin{Bmatrix}x : i\\end{Bmatrix}\\end{bmatrix}$$"
       ],
       "metadata": {},
       "output_type": "pyout",
       "prompt_number": 122,
       "text": [
        "[{x: -1}, {x: 1}, {x: -\u2148}, {x: \u2148}]"
       ]
      }
     ],
     "prompt_number": 122
    },
    {
     "cell_type": "markdown",
     "metadata": {},
     "source": [
      "We can then substitute the solutions to verify that they solve the orginal equation:"
     ]
    },
    {
     "cell_type": "code",
     "collapsed": false,
     "input": [
      "[eq.subs(s) for s in soln]"
     ],
     "language": "python",
     "metadata": {},
     "outputs": [
      {
       "metadata": {},
       "output_type": "pyout",
       "prompt_number": 123,
       "text": [
        "[True, True, True, True]"
       ]
      }
     ],
     "prompt_number": 123
    },
    {
     "cell_type": "markdown",
     "metadata": {},
     "source": [
      "You can also pass a list of equations and variables to solve for:"
     ]
    },
    {
     "cell_type": "code",
     "collapsed": false,
     "input": [
      "solve([x + 5*y - 2, -3*x + 6*y - 15], [x, y])"
     ],
     "language": "python",
     "metadata": {},
     "outputs": [
      {
       "latex": [
        "$$\\begin{Bmatrix}x : -3, & y : 1\\end{Bmatrix}$$"
       ],
       "metadata": {},
       "output_type": "pyout",
       "prompt_number": 124,
       "text": [
        "{x: -3, y: 1}"
       ]
      }
     ],
     "prompt_number": 124
    },
    {
     "cell_type": "markdown",
     "metadata": {},
     "source": [
      "In most cases, you will use NumPy for linear algebra. This works well if each element of your arrays is a concrete number. However, in some cases you will want to work with matrices of symbolic expressions. That can be done using the SymPy Matrix class. The API presented by the Matrix class is very similar to that of NumPy."
     ]
    },
    {
     "cell_type": "code",
     "collapsed": false,
     "input": [
      "x = Symbol('x')\n",
      "y = Symbol('y')"
     ],
     "language": "python",
     "metadata": {},
     "outputs": [],
     "prompt_number": 125
    },
    {
     "cell_type": "code",
     "collapsed": false,
     "input": [
      "A = Matrix([[1,x], [y,1]])\n",
      "A"
     ],
     "language": "python",
     "metadata": {},
     "outputs": [
      {
       "latex": [
        "$$\\left[\\begin{matrix}1 & x\\\\y & 1\\end{matrix}\\right]$$"
       ],
       "metadata": {},
       "output_type": "pyout",
       "prompt_number": 126,
       "text": [
        "\u23a11  x\u23a4\n",
        "\u23a2    \u23a5\n",
        "\u23a3y  1\u23a6"
       ]
      }
     ],
     "prompt_number": 126
    },
    {
     "cell_type": "code",
     "collapsed": false,
     "input": [
      "A[0,0]\n",
      " "
     ],
     "language": "python",
     "metadata": {},
     "outputs": [
      {
       "latex": [
        "$$1$$"
       ],
       "metadata": {},
       "output_type": "pyout",
       "prompt_number": 127,
       "text": [
        "1"
       ]
      }
     ],
     "prompt_number": 127
    },
    {
     "cell_type": "code",
     "collapsed": false,
     "input": [
      "A[:,1]"
     ],
     "language": "python",
     "metadata": {},
     "outputs": [
      {
       "latex": [
        "$$\\left[\\begin{matrix}x\\\\1\\end{matrix}\\right]$$"
       ],
       "metadata": {},
       "output_type": "pyout",
       "prompt_number": 128,
       "text": [
        "\u23a1x\u23a4\n",
        "\u23a2 \u23a5\n",
        "\u23a31\u23a6"
       ]
      }
     ],
     "prompt_number": 128
    },
    {
     "cell_type": "markdown",
     "metadata": {},
     "source": [
      "You can create symbolic expressions using these matrices:"
     ]
    },
    {
     "cell_type": "code",
     "collapsed": false,
     "input": [
      "A**2\n"
     ],
     "language": "python",
     "metadata": {},
     "outputs": [
      {
       "latex": [
        "$$\\left[\\begin{matrix}x y + 1 & 2 x\\\\2 y & x y + 1\\end{matrix}\\right]$$"
       ],
       "metadata": {},
       "output_type": "pyout",
       "prompt_number": 129,
       "text": [
        "\u23a1x\u22c5y + 1    2\u22c5x  \u23a4\n",
        "\u23a2                \u23a5\n",
        "\u23a3  2\u22c5y    x\u22c5y + 1\u23a6"
       ]
      }
     ],
     "prompt_number": 129
    },
    {
     "cell_type": "markdown",
     "metadata": {},
     "source": [
      "Here is a symbolic matrix inverse:"
     ]
    },
    {
     "cell_type": "code",
     "collapsed": false,
     "input": [
      "A.inv()"
     ],
     "language": "python",
     "metadata": {},
     "outputs": [
      {
       "latex": [
        "$$\\left[\\begin{matrix}\\frac{x y}{- x y + 1} + 1 & - \\frac{x}{- x y + 1}\\\\- \\frac{y}{- x y + 1} & \\frac{1}{- x y + 1}\\end{matrix}\\right]$$"
       ],
       "metadata": {},
       "output_type": "pyout",
       "prompt_number": 130,
       "text": [
        "\u23a1  x\u22c5y           -x    \u23a4\n",
        "\u23a2\u2500\u2500\u2500\u2500\u2500\u2500\u2500\u2500 + 1  \u2500\u2500\u2500\u2500\u2500\u2500\u2500\u2500\u23a5\n",
        "\u23a2-x\u22c5y + 1      -x\u22c5y + 1\u23a5\n",
        "\u23a2                      \u23a5\n",
        "\u23a2    -y           1    \u23a5\n",
        "\u23a2  \u2500\u2500\u2500\u2500\u2500\u2500\u2500\u2500    \u2500\u2500\u2500\u2500\u2500\u2500\u2500\u2500\u23a5\n",
        "\u23a3  -x\u22c5y + 1    -x\u22c5y + 1\u23a6"
       ]
      }
     ],
     "prompt_number": 130
    },
    {
     "cell_type": "markdown",
     "metadata": {},
     "source": [
      "For small matrices, you can even find eigenvalues symbolically:"
     ]
    },
    {
     "cell_type": "code",
     "collapsed": false,
     "input": [
      "A.eigenvals()"
     ],
     "language": "python",
     "metadata": {},
     "outputs": [
      {
       "latex": [
        "$$\\begin{Bmatrix}- \\sqrt{x y} + 1 : 1, & \\sqrt{x y} + 1 : 1\\end{Bmatrix}$$"
       ],
       "metadata": {},
       "output_type": "pyout",
       "prompt_number": 131,
       "text": [
        "\u23a7    _____           _____       \u23ab\n",
        "\u23a8- \u2572\u2571 x\u22c5y  + 1: 1, \u2572\u2571 x\u22c5y  + 1: 1\u23ac\n",
        "\u23a9                                \u23ad"
       ]
      }
     ],
     "prompt_number": 131
    },
    {
     "cell_type": "markdown",
     "metadata": {},
     "source": [
      "The subs method works as expected:"
     ]
    },
    {
     "cell_type": "code",
     "collapsed": false,
     "input": [
      "A.subs({x:0,y:I})"
     ],
     "language": "python",
     "metadata": {},
     "outputs": [
      {
       "latex": [
        "$$\\left[\\begin{matrix}1 & 0\\\\i & 1\\end{matrix}\\right]$$"
       ],
       "metadata": {},
       "output_type": "pyout",
       "prompt_number": 132,
       "text": [
        "\u23a11  0\u23a4\n",
        "\u23a2    \u23a5\n",
        "\u23a3\u2148  1\u23a6"
       ]
      }
     ],
     "prompt_number": 132
    },
    {
     "cell_type": "code",
     "collapsed": false,
     "input": [],
     "language": "python",
     "metadata": {},
     "outputs": []
    }
   ],
   "metadata": {}
  }
 ]
}