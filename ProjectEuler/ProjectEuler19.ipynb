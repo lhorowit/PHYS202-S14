{
 "metadata": {
  "name": "",
  "signature": "sha256:cdbbb0541d532267792071c7864827143a305d028df9d52b68106e165747c50a"
 },
 "nbformat": 3,
 "nbformat_minor": 0,
 "worksheets": [
  {
   "cells": [
    {
     "cell_type": "markdown",
     "metadata": {},
     "source": [
      "You are given the following information, but you may prefer to do some research for yourself.\n",
      "\n",
      "1 Jan 1900 was a Monday.\n",
      "Thirty days has September,\n",
      "April, June and November.\n",
      "All the rest have thirty-one,\n",
      "Saving February alone,\n",
      "Which has twenty-eight, rain or shine.\n",
      "And on leap years, twenty-nine.\n",
      "A leap year occurs on any year evenly divisible by 4, but not on a century unless it is divisible by 400.\n",
      "How many Sundays fell on the first of the month during the twentieth century (1 Jan 1901 to 31 Dec 2000)?"
     ]
    },
    {
     "cell_type": "code",
     "collapsed": false,
     "input": [
      "import datetime\n",
      "\n",
      "Sundays = 0\n",
      "for year in range(1,101):\n",
      "    for month in range(1,13):\n",
      "        d = datetime.date(1900+year, month, 1)\n",
      "        if (d.weekday() == 6):  \n",
      "            Sundays += 1\n",
      "            \n",
      "print \"# of Sundays:\", Sundays"
     ],
     "language": "python",
     "metadata": {},
     "outputs": [
      {
       "output_type": "stream",
       "stream": "stdout",
       "text": [
        "# of Sundays: 171\n"
       ]
      }
     ],
     "prompt_number": 4
    },
    {
     "cell_type": "code",
     "collapsed": false,
     "input": [],
     "language": "python",
     "metadata": {},
     "outputs": []
    }
   ],
   "metadata": {}
  }
 ]
}