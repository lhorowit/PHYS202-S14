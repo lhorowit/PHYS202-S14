{
 "metadata": {
  "name": "",
  "signature": "sha256:b65a83ac001a7a63dfc04d45c5d27e61d1fa77e20ab86c64f8b197441c45a004"
 },
 "nbformat": 3,
 "nbformat_minor": 0,
 "worksheets": [
  {
   "cells": [
    {
     "cell_type": "markdown",
     "metadata": {},
     "source": [
      "You are given the following information, but you may prefer to do some research for yourself.\n",
      "\n",
      "- 1 Jan 1900 was a Monday.\n",
      "- Thirty days has September,\n",
      "- April, June and November.\n",
      "- All the rest have thirty-one,\n",
      "- Saving February alone,\n",
      "- Which has twenty-eight, rain or shine.\n",
      "- And on leap years, twenty-nine.\n",
      "- A leap year occurs on any year evenly divisible by 4, but not on a century unless it is divisible by 400.\n",
      "\n",
      "How many Sundays fell on the first of the month during the twentieth century (1 Jan 1901 to 31 Dec 2000)?"
     ]
    },
    {
     "cell_type": "heading",
     "level": 1,
     "metadata": {},
     "source": [
      "Try #1"
     ]
    },
    {
     "cell_type": "code",
     "collapsed": false,
     "input": [
      "import datetime\n",
      "\n",
      "Sundays = 0\n",
      "for year in range(1,101):\n",
      "    for month in range(1,13):\n",
      "        d = datetime.date(1900+year, month, 1)\n",
      "        if (d.weekday() == 6):  \n",
      "            Sundays += 1\n",
      "            \n",
      "print \"# of Sundays:\", Sundays"
     ],
     "language": "python",
     "metadata": {},
     "outputs": [
      {
       "output_type": "stream",
       "stream": "stdout",
       "text": [
        "# of Sundays: 171\n"
       ]
      }
     ],
     "prompt_number": 4
    },
    {
     "cell_type": "heading",
     "level": 1,
     "metadata": {},
     "source": [
      "Try #2 without datetime"
     ]
    },
    {
     "cell_type": "code",
     "collapsed": false,
     "input": [
      "def Days(m, y):\n",
      "    \"\"\"Finds the number of days the month has\"\"\"\n",
      "    if (m == 1) or (m == 3) or (m == 5) or (m == 7) or (m == 8) or (m == 10) or (m == 12):\n",
      "        d = 31\n",
      "        return d\n",
      "    elif (m == 4) or (m == 6) or (m == 9) or (m == 11):\n",
      "        d = 30\n",
      "        return d\n",
      "    elif (m == 2):\n",
      "        if y % 4 == 0:\n",
      "            if y % 100 == 0:\n",
      "                if y % 400 == 0:\n",
      "                    d = 29\n",
      "                    return d\n",
      "                else:\n",
      "                    d = 28\n",
      "                    return d\n",
      "            d = 29\n",
      "            return d\n",
      "        else:\n",
      "            d = 28\n",
      "            return d\n",
      "         \n",
      "    \n",
      "         \n",
      "week = {1:'Sun', 2:'Mon', 3:'Tue', 4:'Wed', 5:'Thurs', 6:'Fri', 7:'Sat'}\n",
      " \n",
      "def Sundays():\n",
      "    \"\"\"Counts the number of Sundays that fell on the first of the month from 1901-2000\"\"\"\n",
      "    weekday = 2 # Start at Tuesday, 1-1-1901\n",
      "    sundays = 0\n",
      "    for year in range(1901, 2001):\n",
      "         \n",
      "        for month in range(1, 13):\n",
      "        \n",
      "            d = Days(month, year)\n",
      "             \n",
      "            for days in range(1, (d + 1)):\n",
      "            # Number of month days\n",
      "                weekday += 1        \n",
      "                if (days == 1) and week[weekday] == \"Sun\":\n",
      "                    sundays += 1\n",
      "                if weekday >= 7:\n",
      "                    weekday = 0\n",
      "                    \n",
      "    print \"# of Sundays:\", sundays                \n",
      "                  \n",
      " \n",
      "Sundays()"
     ],
     "language": "python",
     "metadata": {},
     "outputs": [
      {
       "output_type": "stream",
       "stream": "stdout",
       "text": [
        "# of Sundays: 171\n"
       ]
      }
     ],
     "prompt_number": 14
    },
    {
     "cell_type": "code",
     "collapsed": false,
     "input": [],
     "language": "python",
     "metadata": {},
     "outputs": []
    }
   ],
   "metadata": {}
  }
 ]
}