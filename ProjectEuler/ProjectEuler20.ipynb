{
 "metadata": {
  "name": "",
  "signature": "sha256:45c7330c64afe903a707829ab9b19f0502da2da2f2cd3181835fb5c938745641"
 },
 "nbformat": 3,
 "nbformat_minor": 0,
 "worksheets": [
  {
   "cells": [
    {
     "cell_type": "heading",
     "level": 1,
     "metadata": {},
     "source": [
      "Factorial digit sum"
     ]
    },
    {
     "cell_type": "markdown",
     "metadata": {},
     "source": [
      "n! means n \u00d7 (n \u2212 1) \u00d7 ... \u00d7 3 \u00d7 2 \u00d7 1\n",
      "\n",
      "For example, 10! = 10 \u00d7 9 \u00d7 ... \u00d7 3 \u00d7 2 \u00d7 1 = 3628800,\n",
      "and the sum of the digits in the number 10! is 3 + 6 + 2 + 8 + 8 + 0 + 0 = 27.\n",
      "\n",
      "Find the sum of the digits in the number 100!\n",
      "\n",
      "\n"
     ]
    },
    {
     "cell_type": "code",
     "collapsed": false,
     "input": [
      "def Factorial(N):\n",
      "    if N == 0: \n",
      "        return 1\n",
      "    else: \n",
      "        return N * Factorial(N - 1)\n",
      "    \n",
      "def DigitSum(N):\n",
      "    Sum = 0\n",
      "    for i in str(N):\n",
      "        Sum += int(i)\n",
      "    return Sum    \n",
      "        \n",
      "Testnum = Factorial(10)\n",
      "TestSum = DigitSum(Testnum)\n",
      "print TestSum\n",
      "\n",
      "        \n",
      "        \n",
      "        \n",
      "num = Factorial(100)\n",
      "Sum = DigitSum(num)\n",
      "print Sum\n",
      "\n",
      "        "
     ],
     "language": "python",
     "metadata": {},
     "outputs": [
      {
       "output_type": "stream",
       "stream": "stdout",
       "text": [
        "27\n",
        "648\n"
       ]
      }
     ],
     "prompt_number": 7
    },
    {
     "cell_type": "code",
     "collapsed": false,
     "input": [],
     "language": "python",
     "metadata": {},
     "outputs": []
    }
   ],
   "metadata": {}
  }
 ]
}