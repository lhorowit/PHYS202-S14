{
 "metadata": {
  "name": "",
  "signature": "sha256:619413fbc996b8926f70d24c53169234402bd4e0b3ca335b6a59bc26bbd0fc32"
 },
 "nbformat": 3,
 "nbformat_minor": 0,
 "worksheets": [
  {
   "cells": [
    {
     "cell_type": "heading",
     "level": 1,
     "metadata": {},
     "source": [
      "Largest palindrome product"
     ]
    },
    {
     "cell_type": "markdown",
     "metadata": {},
     "source": [
      "A palindromic number reads the same both ways. The largest palindrome made from the product of two 2-digit numbers is 9009 = 91 \u00d7 99.\n",
      "\n",
      "Find the largest palindrome made from the product of two 3-digit numbers."
     ]
    },
    {
     "cell_type": "code",
     "collapsed": false,
     "input": [
      "#Test Case\n",
      "n = 0\n",
      "for num1 in xrange(99, 10, -1):\n",
      "    for num2 in xrange(num1, 10, -1):\n",
      "        x = num1 * num2\n",
      "        if x > n:\n",
      "            s = str(num1 * num2)\n",
      "            if s == s[::-1]:\n",
      "                 n = num1 * num2\n",
      "print n\n",
      "\n",
      "# New Case\n",
      "n = 0\n",
      "for num1 in xrange(999, 100, -1):\n",
      "    for num2 in xrange(num1, 100, -1):\n",
      "        x = num1 * num2\n",
      "        if x > n:\n",
      "            s = str(num1 * num2)\n",
      "            if s == s[::-1]:\n",
      "                 n = num1 * num2\n",
      "print n"
     ],
     "language": "python",
     "metadata": {},
     "outputs": [
      {
       "output_type": "stream",
       "stream": "stdout",
       "text": [
        "9009\n",
        "906609"
       ]
      },
      {
       "output_type": "stream",
       "stream": "stdout",
       "text": [
        "\n"
       ]
      }
     ],
     "prompt_number": 7
    },
    {
     "cell_type": "code",
     "collapsed": false,
     "input": [],
     "language": "python",
     "metadata": {},
     "outputs": [],
     "prompt_number": 4
    },
    {
     "cell_type": "code",
     "collapsed": false,
     "input": [],
     "language": "python",
     "metadata": {},
     "outputs": []
    }
   ],
   "metadata": {}
  }
 ]
}