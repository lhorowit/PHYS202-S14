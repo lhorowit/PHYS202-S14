{
 "metadata": {
  "name": "",
  "signature": "sha256:ff9c9757b0eb0bc143ecd3af8205653f9e34ad9707f9c60354b6fb9c858d2c87"
 },
 "nbformat": 3,
 "nbformat_minor": 0,
 "worksheets": [
  {
   "cells": [
    {
     "cell_type": "heading",
     "level": 1,
     "metadata": {},
     "source": [
      "Largest palindrome product"
     ]
    },
    {
     "cell_type": "markdown",
     "metadata": {},
     "source": [
      "A palindromic number reads the same both ways. The largest palindrome made from the product of two 2-digit numbers is 9009 = 91 \u00d7 99.\n",
      "\n",
      "Find the largest palindrome made from the product of two 3-digit numbers."
     ]
    },
    {
     "cell_type": "code",
     "collapsed": false,
     "input": [
      "#Test Case\n",
      "n = 0\n",
      "for num1 in xrange(99, 10, -1):\n",
      "    for num2 in xrange(num1, 10, -1):\n",
      "        x = num1 * num2\n",
      "        if x > n:\n",
      "            s = str(num1 * num2)\n",
      "            if s == s[::-1]:\n",
      "                 n = num1 * num2\n",
      "print n\n",
      "\n",
      "# New Case\n",
      "n = 0\n",
      "for num1 in xrange(999, 100, -1):\n",
      "    for num2 in xrange(num1, 100, -1):\n",
      "        x = num1 * num2\n",
      "        if x > n:\n",
      "            s = str(num1 * num2)\n",
      "            if s == s[::-1]:\n",
      "                 n = num1 * num2\n",
      "                 if n == 906609:\n",
      "                        print num1, num2\n",
      "print n\n"
     ],
     "language": "python",
     "metadata": {},
     "outputs": [
      {
       "output_type": "stream",
       "stream": "stdout",
       "text": [
        "9009\n",
        "993 913\n",
        "906609"
       ]
      },
      {
       "output_type": "stream",
       "stream": "stdout",
       "text": [
        "\n"
       ]
      }
     ],
     "prompt_number": 4
    },
    {
     "cell_type": "code",
     "collapsed": false,
     "input": [],
     "language": "python",
     "metadata": {},
     "outputs": [],
     "prompt_number": 4
    },
    {
     "cell_type": "code",
     "collapsed": false,
     "input": [],
     "language": "python",
     "metadata": {},
     "outputs": []
    }
   ],
   "metadata": {}
  }
 ]
}