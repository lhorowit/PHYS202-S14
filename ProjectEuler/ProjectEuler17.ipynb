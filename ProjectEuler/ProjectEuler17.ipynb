{
 "metadata": {
  "name": "",
  "signature": "sha256:f87035ade347cb0a482b22c748e8155b8a58a0a0604f1c4db2e1430ef6a5b91c"
 },
 "nbformat": 3,
 "nbformat_minor": 0,
 "worksheets": [
  {
   "cells": [
    {
     "cell_type": "heading",
     "level": 1,
     "metadata": {},
     "source": [
      "Number Letter Counts"
     ]
    },
    {
     "cell_type": "markdown",
     "metadata": {},
     "source": [
      "If the numbers 1 to 5 are written out in words: one, two, three, four, five, then there are 3 + 3 + 5 + 4 + 4 = 19 letters used in total.\n",
      "\n",
      "If all the numbers from 1 to 1000 (one thousand) inclusive were written out in words, how many letters would be used?\n",
      "\n",
      "\n",
      "NOTE: Do not count spaces or hyphens. For example, 342 (three hundred and forty-two) contains 23 letters and 115 (one hundred and fifteen) contains 20 letters. The use of \"and\" when writing out numbers is in compliance with British usage."
     ]
    },
    {
     "cell_type": "code",
     "collapsed": false,
     "input": [
      "def int_check(a):\n",
      "    if int(a) == a:\n",
      "        return True\n",
      "    else:\n",
      "        return False\n",
      "\n",
      "def NumberLetterCount(N):\n",
      "\n",
      "    digits = {0:0, 1:3, 2:3, 3:5, 4:4, 5:4, 6:3, 7:5, 8:5, 9:4, 10:0, 11:0, 12:0, 13:0, 14:0, 15:0, 16:0, 17:0, 18:0, 19:0}\n",
      "    teens = {0:0, 1:0, 2:0, 3:0, 4:0, 5:0, 6:0, 7:0, 8:0, 9:0, 10:3, 11:6, 12:6, 13:8, 14:8, 15:7, 16:7, 17:9, 18:8, 19:8}\n",
      "    tens = {0:0, 1:0, 2:6, 3:6, 4:5, 5:5, 6:5, 7:7, 8:6, 9:6}\n",
      "    hundreds = {0:0, 1:13, 2:13, 3:15, 4:14, 5:14, 6:13, 7:15, 8:15, 9:14}\n",
      "    thousand = len('onethousand')\n",
      "    count = 0\n",
      "    \n",
      "    for n in xrange(1,N+1):\n",
      "        if n > 0:\n",
      "            \n",
      "            if n < 10:\n",
      "                count += digits[n]\n",
      "                    \n",
      "            \n",
      "            if n >= 10 and n < 20:\n",
      "                count += teens[n]\n",
      "                    \n",
      "            if n >= 20 and n < 100:\n",
      "                if int_check(n/10.):\n",
      "                    num = str(n)\n",
      "                    count += tens[int(num[0])]\n",
      "                    \n",
      "                elif not int_check(n/10.):\n",
      "                    num = str(n)\n",
      "                    count += tens[int(num[0])] + digits[int(num[1])]\n",
      "                            \n",
      "                    \n",
      "            if n >= 100 and n < 1000:\n",
      "                if int_check(n/100.):\n",
      "                    num = str(n)\n",
      "                    count += hundreds[int(num[0])]\n",
      "                        \n",
      "                elif int_check(n/10.) and not int_check(n/100.): \n",
      "                    num = str(n)\n",
      "                    count += hundreds[int(num[0])] + tens[int(num[1])]\n",
      "                            \n",
      "                else:\n",
      "                    num = str(n)        \n",
      "                    if int(num[1:])<20:\n",
      "                        count += hundreds[int(num[0])] + teens[int(num[1:])] + digits[int(num[1:])]\n",
      "                            \n",
      "                    elif int(num[1:])>20:\n",
      "                        count += hundreds[int(num[0])] + tens[int(num[-2])] + digits[int(num[-1])]\n",
      "                            \n",
      "                        \n",
      "            if n == 1000:\n",
      "                count += thousand\n",
      "        \n",
      "        \n",
      "    print count    \n",
      "                \n",
      "            \n",
      "        \n",
      "            \n",
      "NumberLetterCount(1000)               \n",
      "                    \n",
      "                    \n",
      "                    \n",
      "        \n",
      "        \n",
      "        "
     ],
     "language": "python",
     "metadata": {},
     "outputs": [
      {
       "output_type": "stream",
       "stream": "stdout",
       "text": [
        "21124\n"
       ]
      }
     ],
     "prompt_number": 90
    },
    {
     "cell_type": "code",
     "collapsed": false,
     "input": [
      "print int_check(990/10.)\n",
      "print int_check(999/10.)\n",
      "print int_check(999/100.)\n",
      "print 999/100."
     ],
     "language": "python",
     "metadata": {},
     "outputs": [
      {
       "output_type": "stream",
       "stream": "stdout",
       "text": [
        "True\n",
        "False\n",
        "False\n",
        "9.99\n"
       ]
      }
     ],
     "prompt_number": 86
    },
    {
     "cell_type": "code",
     "collapsed": false,
     "input": [],
     "language": "python",
     "metadata": {},
     "outputs": []
    }
   ],
   "metadata": {}
  }
 ]
}