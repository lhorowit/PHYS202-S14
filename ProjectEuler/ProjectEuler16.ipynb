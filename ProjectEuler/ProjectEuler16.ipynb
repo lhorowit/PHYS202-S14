{
 "metadata": {
  "name": "",
  "signature": "sha256:ea554addc8b1579bcbc9a1673df5b952ca949e6f420b5e616b75a93c7113ac00"
 },
 "nbformat": 3,
 "nbformat_minor": 0,
 "worksheets": [
  {
   "cells": [
    {
     "cell_type": "markdown",
     "metadata": {},
     "source": [
      "2^15 = 32768 and the sum of its digits is 3 + 2 + 7 + 6 + 8 = 26.\n",
      "\n",
      "What is the sum of the digits of the number 2^1000?"
     ]
    },
    {
     "cell_type": "code",
     "collapsed": false,
     "input": [
      "print sum([int(i) for i in str(2 ** 1000)])"
     ],
     "language": "python",
     "metadata": {},
     "outputs": [
      {
       "output_type": "stream",
       "stream": "stdout",
       "text": [
        "1366\n"
       ]
      }
     ],
     "prompt_number": 5
    },
    {
     "cell_type": "code",
     "collapsed": false,
     "input": [],
     "language": "python",
     "metadata": {},
     "outputs": []
    }
   ],
   "metadata": {}
  }
 ]
}