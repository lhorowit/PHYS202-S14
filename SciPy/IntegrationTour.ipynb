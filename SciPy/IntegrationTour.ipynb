{
 "metadata": {
  "name": "",
  "signature": "sha256:aa8fcf31ed9bd2f2a57efc2553e2d14ba38c213f4ae2173f5639c504fa75b675"
 },
 "nbformat": 3,
 "nbformat_minor": 0,
 "worksheets": [
  {
   "cells": [
    {
     "cell_type": "heading",
     "level": 1,
     "metadata": {},
     "source": [
      "Numerical Integration"
     ]
    },
    {
     "cell_type": "code",
     "collapsed": false,
     "input": [
      "%pylab inline\n",
      "import numpy as np\n",
      "import matplotlib.pyplot as plt"
     ],
     "language": "python",
     "metadata": {},
     "outputs": [
      {
       "output_type": "stream",
       "stream": "stdout",
       "text": [
        "Populating the interactive namespace from numpy and matplotlib\n"
       ]
      }
     ],
     "prompt_number": 1
    },
    {
     "cell_type": "heading",
     "level": 2,
     "metadata": {},
     "source": [
      "Introduction"
     ]
    },
    {
     "cell_type": "markdown",
     "metadata": {},
     "source": [
      "We often calculate integrals in physics (electromagnetism, thermodynamics, quantum mechanics, etc.). In calculus, you learned how to evaluate integrals analytically. Some functions are too difficult to integrate analytically and for these we need to use the computer to integrate numerically. A numerical integral goes back to the basic principles of calculus. Given a function f(x), we need to find the area under the curve between two limits, a and b:\n",
      "\n",
      "I(a,b)=\u222bf(x)dx\n",
      "\n",
      "There is no known way to calculate such an area exactly in all cases on a computer, but we can do it approximately by dividing up the area into rectangular slices and adding them all together. Unfortunately, this is a poor approximation, since the rectangles under and overshoot the function:\n"
     ]
    },
    {
     "cell_type": "markdown",
     "metadata": {},
     "source": [
      "https://polylearn.calpoly.edu/AY_2013-2014/pluginfile.php/438196/mod_resource/content/1/rectangles.png"
     ]
    },
    {
     "cell_type": "heading",
     "level": 2,
     "metadata": {},
     "source": [
      "Trapezoidal Rule"
     ]
    },
    {
     "cell_type": "markdown",
     "metadata": {},
     "source": [
      "A better approach, which involves very little extra work, is to divide the area into trapezoids rather than rectangles. The area under the trapezoids is a considerably better approximation to the area under the curve, and this approach, though simple, often gives perfectly adequate results."
     ]
    },
    {
     "cell_type": "markdown",
     "metadata": {},
     "source": [
      "https://polylearn.calpoly.edu/AY_2013-2014/pluginfile.php/438196/mod_resource/content/1/trapz.png"
     ]
    },
    {
     "cell_type": "markdown",
     "metadata": {},
     "source": [
      "We can improve the approximation by making the size of the trapezoids smaller. Suppose we divide the interval from a to b into N slices or steps, so that each slice has width h=(b\u2212a)/N . Then the right-hand side of the k th slice falls at a+kh, and the left-hand side falls at a+kh\u2212h = a+(k\u22121)h . Thus the area of the trapezoid for this slice is\n",
      "\n",
      "Ak=12h[f(a+(k\u22121)h)+f(a+kh)]\n",
      "\n",
      "This is the trapezoidal rule. It gives us a trapezoidal approximation to the area under one slice of our function.\n",
      "Now our approximation for the area under the whole curve is the sum of the areas of the trapezoids for all N slices\n",
      "\n",
      "I(a,b)\u2243\u2211k=1NAk=12h\u2211k=1N[f(a+(k\u22121)h)+f(a+kh)]=h[12f(a)+12f(b)+\u2211k=1N\u22121f(a+kh)]\n",
      "\n",
      "Note the structure of the formula: the quantity inside the square brackets is a sum over values of f(x) measured at equally spaced points in the integration domain, and we take a half of the values at the start and end points but one times the value at all the interior points.\n"
     ]
    },
    {
     "cell_type": "heading",
     "level": 3,
     "metadata": {},
     "source": [
      "Applying the Trapezoidal rule"
     ]
    },
    {
     "cell_type": "markdown",
     "metadata": {},
     "source": [
      "Use the trapezoidal rule to calculate the integral of x4\u22122x+1 from x = 0 to x = 2.\n",
      "\n",
      "This is an integral we can do by hand, so we can check our work. To define the function, let's use a lambda expression (you learned about these in the advanced python section of CodeCademy). It's basically just a way of defining a function of some variables in one line. For this case, it is just a function of x:"
     ]
    },
    {
     "cell_type": "code",
     "collapsed": false,
     "input": [
      "func = lambda x: x**4 - 2*x + 1"
     ],
     "language": "python",
     "metadata": {},
     "outputs": [],
     "prompt_number": 2
    },
    {
     "cell_type": "code",
     "collapsed": false,
     "input": [
      "N = 10\n",
      "a = 0.0\n",
      "b = 2.0\n",
      "h = (b-a)/N\n",
      "\n",
      "k = np.arange(1,N)\n",
      "I = h*(0.5*func(a) + 0.5*func(b) + func(a+k*h).sum())\n",
      "\n",
      "print \"Trapezoidal Rule Integral =\",I"
     ],
     "language": "python",
     "metadata": {},
     "outputs": [
      {
       "output_type": "stream",
       "stream": "stdout",
       "text": [
        "Trapezoidal Rule Integral = 4.50656\n"
       ]
      }
     ],
     "prompt_number": 3
    },
    {
     "cell_type": "markdown",
     "metadata": {},
     "source": [
      "The correct answer is\n",
      "\n",
      "I(0,2)=\u222b20(x4\u22122x+1)dx=[15x5\u2212x2+x]20=4.4\n",
      "\n",
      "So our result is off by about 2%."
     ]
    },
    {
     "cell_type": "heading",
     "level": 2,
     "metadata": {},
     "source": [
      "Simpson's Rule"
     ]
    },
    {
     "cell_type": "markdown",
     "metadata": {},
     "source": [
      "The trapezoidal rule estimates the area under a curve by approximating the curve with straight-line segments. We can often get a better result if we approximate the function instead with curves of some kind. Simpson's rule uses quadratic curves. In order to specify a quadratic completely one needs three points, not just two as with a straight line. So in this method we take a pair of adjacent slices and fit a quadratic through the three points that mark the boundaries of those slices.\n",
      "\n",
      "Given a function f(x) and spacing between adjacent points h, if we fit a quadratic curve ax2+bx+c through the points x = \u2212h, 0, +h, we get\n",
      "\n",
      "f(\u2212h)=ah2\u2212bh+c,f(0)=c,f(h)=ah2+bh+c\n",
      "\n",
      "Solving for a, b, and c gives:\n",
      "\n",
      "a=1h2[12f(\u2212h)\u2212f(0)+12f(h)],b=12h[f(h)\u2212f(\u2212h)],c=f(0)\n",
      "\n",
      "and the area under the curve of f(x) from \u2212h to +h is given approximately by the area under the quadratic:\n",
      "\n",
      "I(\u2212h,h)\u2243\u222bh\u2212h(ax2+bx+c)dx=23ah3+2ch=13h[f(\u2212h)+4f(0)+f(h)]\n",
      "\n",
      "This is Simpson\u2019s rule. It gives us an approximation to the area under two adjacent slices of our function. Note that the final formula for the area involves only h and the value of the function at evenly spaced points, just as with the trapezoidal rule. So to use Simpson\u2019s rule we don\u2019t actually have to worry about the details of fitting a quadratic\u2014we just plug numbers into this formula and it gives us an answer. This makes Simpson\u2019s rule almost as simple to use as the trapezoidal rule, and yet Simpson\u2019s rule often gives much more accurate answers.\n",
      "\n",
      "Applying Simpson\u2019s rule involves dividing the domain of integration into many slices and using the rule to separately estimate the area under successive pairs of slices, then adding the estimates for all pairs to get the final answer.\n",
      "\n",
      "If we are integrating from x=a to x=b in slices of width h then Simpson\u2019s rule gives the area under the k th pair, approximately, as\n",
      "\n",
      "Ak=13h[f(a+(2k\u22122)h)+4f(a+(2k\u22121)h)+f(a+2kh)]\n",
      "\n",
      "With N slices in total, there are N/2 pairs of slices, and the approximate value of the entire integral is given by the sum\n",
      "\n",
      "I(a,b)\u2243\u2211k=1N/2Ak=13h[f(a)+f(b)+4\u2211k=1N/2f(a+(2k\u22121)h)+2\u2211k=1N/2\u22121f(a+2kh)]\n",
      "\n",
      "Note that the total number of slices must be even for Simpson's rule to work."
     ]
    },
    {
     "cell_type": "heading",
     "level": 3,
     "metadata": {},
     "source": [
      "Applying Simpson's rule"
     ]
    },
    {
     "cell_type": "markdown",
     "metadata": {},
     "source": [
      "Now let's code Simpson's rule to compute the integral of the same function from before, f(x)=x4\u22122x+1 from 0 to 2."
     ]
    },
    {
     "cell_type": "code",
     "collapsed": false,
     "input": [
      "N = 10\n",
      "a = 0.0\n",
      "b = 2.0\n",
      "h = (b-a)/N\n",
      "\n",
      "k1 = np.arange(1,N/2+1)\n",
      "k2 = np.arange(1,N/2)\n",
      "I = (1./3.)*h*(func(a) + func(b) + 4.*func(a+(2*k1-1)*h).sum() + 2.*func(a+2*k2*h).sum())\n",
      "    \n",
      "print \"Simpson's rule Integral=\",I"
     ],
     "language": "python",
     "metadata": {},
     "outputs": [
      {
       "output_type": "stream",
       "stream": "stdout",
       "text": [
        "Simpson's rule Integral= 4.40042666667\n"
       ]
      }
     ],
     "prompt_number": 6
    },
    {
     "cell_type": "heading",
     "level": 2,
     "metadata": {},
     "source": [
      "Adaptive methods and higher order approximations"
     ]
    },
    {
     "cell_type": "markdown",
     "metadata": {},
     "source": [
      "In some cases, particularly for integrands that are rapidly varying, a very large number of steps may be needed to achieve the desired accuracy, which means the calculation can become slow.\n",
      "\n",
      "So how do we choose the number N of steps for our integrals? In our example calculations we just chose round numbers and looked to see if the results seemed reasonable. A more common situation is that we want to calculate the value of an integral to a given accuracy, such as four decimal places, and we would like to know how many steps will be needed. So long as the desired accuracy does not exceed the fundamental limit set by the machine precision of our computer\u2014 the rounding error that limits all calculations\u2014then it should always be possible to meet our goal by using a large enough number of steps. At the same time, we want to avoid using more steps than are necessary, since more steps take more time and our calculation will be slower.\n",
      "\n",
      "Ideally we would like an N that gives us the accuracy we want and no more. A simple way to achieve this is to start with a small value of N and repeatedly double it until we achieve the accuracy we want. This method is an example of an adaptive integration method, one that changes its own parameters to get a desired answer.\n",
      "\n",
      "The trapezoidal rule is based on approximating an integrand f(x) with straight-line segments, while Simpson\u2019s rule uses quadratics. We can create higher-order (and hence potentially more accurate) rules by using higher-order polynomials, fitting f(x) with cubics, quartics, and so forth. The general form of the trapezoidal and Simpson rules is\n",
      "\n",
      "\u222bbaf(x)dx\u2243\u2211k=1Nwkf(xk)\n",
      "\n",
      "where the xk are the positions of the sample points at which we calculate the integrand and the wk are some set of weights. In the trapezoidal rule, the first and last weights are 12 and the others are all 1, while in Simpson\u2019s rule the weights are 13 for the first and last slices and alternate between 43 and 23 for the other slices. For higher-order rules the basic form is the same: after fitting to the appropriate polynomial and integrating we end up with a set of weights that multiply the values f(xk) of the integrand at evenly spaced sample points.\n",
      "\n",
      "Notice that the trapezoidal rule is exact if the function being integrated is actually a straight line, because then the straight-line approximation isn\u2019t an approximation at all. Similarly, Simpson\u2019s rule is exact if the function being integrated is a quadratic, and so on for higher order polynomials.\n",
      "There are other more advanced schemes for calculating integrals that can achieve high accuracy while still arriving at an answer quickly. These typically combine the higher order polynomial approximations with adaptive methods for choosing the number of slices, in some cases allowing their sizes to vary over different regions of the integrand.\n",
      "\n",
      "One such method, called Gaussian Quadrature - after its inventor, Carl Friedrich Gauss, uses Legendre polynomials to choose the xk and wk such that we can obtain an integration rule accurate to the highest possible order of 2N\u22121. It is beyond the scope of this course to derive the Gaussian quadrature method, but you can learn more about it by searching the literature.\n",
      "\n",
      "Now that we understand the basics of numerical integration and have even coded our own trapezoidal and Simpson's rules, we can feel justified in using scipy's built-in library of numerical integrators that build on these basic ideas, without coding them ourselves."
     ]
    },
    {
     "cell_type": "heading",
     "level": 2,
     "metadata": {},
     "source": [
      "scipy.integrate"
     ]
    },
    {
     "cell_type": "markdown",
     "metadata": {},
     "source": [
      "It is time to look at scipy's built-in functions for integrating functions numerically. Start by importing the library."
     ]
    },
    {
     "cell_type": "code",
     "collapsed": false,
     "input": [
      "import scipy.integrate as integrate\n",
      "#check out the help:\n",
      "#help(integrate)"
     ],
     "language": "python",
     "metadata": {},
     "outputs": [],
     "prompt_number": 7
    },
    {
     "cell_type": "markdown",
     "metadata": {},
     "source": [
      "An overview of the module is provided by the help command, but it produces a lot of output. Here's a quick summary:\n",
      "Methods for Integrating Functions given function object.\n",
      "\n",
      "- quad          -- General purpose integration.\n",
      "- dblquad       -- General purpose double integration.\n",
      "- tplquad       -- General purpose triple integration.\n",
      "- fixed_quad    -- Integrate func(x) using Gaussian quadrature of order n.\n",
      "- quadrature    -- Integrate with given tolerance using Gaussian quadrature.\n",
      "- romberg       -- Integrate func using Romberg integration.\n",
      "\n",
      "Methods for Integrating Functions given fixed samples.\n",
      "\n",
      "- trapz         -- Use trapezoidal rule to compute integral from samples.\n",
      "- cumtrapz      -- Use trapezoidal rule to cumulatively compute integral.\n",
      "- simps         -- Use Simpson's rule to compute integral from samples.\n",
      "- romb          -- Use Romberg Integration to compute integral from (2**k + 1)\n",
      "\n",
      "evenly-spaced samples.\n",
      "\n",
      "See the special module's orthogonal polynomials (scipy.special) for Gaussian quadrature roots and weights for other weighting factors and regions.\n",
      "Interface to numerical integrators of ODE systems.\n",
      "\n",
      "- odeint        -- General integration of ordinary differential equations.\n",
      "- ode           -- Integrate ODE using VODE and ZVODE routines.\n",
      "\n",
      "General integration (quad)\n",
      "\n",
      "The scipy function quad is provided to integrate a function of one variable between two points. The points can be \u00b1\u221e (\u00b1 np.infty) to indicate infinite limits. For example, suppose you wish to integrate the following:\n",
      "\n",
      "I=\u222b2\u03c00e\u2212xsin(x)dx\n",
      "\n",
      "This could be computed using quad as:"
     ]
    },
    {
     "cell_type": "code",
     "collapsed": false,
     "input": [
      "fun = lambda x : np.exp(-x)*np.sin(x) \n",
      "\n",
      "result,error = integrate.quad(fun, 0, 2*np.pi) \n",
      "\n",
      "print result,error"
     ],
     "language": "python",
     "metadata": {},
     "outputs": [
      {
       "output_type": "stream",
       "stream": "stdout",
       "text": [
        "0.499066278634 6.02373163193e-15\n"
       ]
      }
     ],
     "prompt_number": 8
    },
    {
     "cell_type": "markdown",
     "metadata": {},
     "source": [
      "The first argument to quad is a \u201ccallable\u201d Python object (i.e a function, method, or class instance). Notice that we used a lambda function in this case as the argument. The next two arguments are the limits of integration. The return value is a tuple, with the first element holding the estimated value of the integral and the second element holding an upper bound on the error.\n",
      "\n",
      "The analytic solution to the integral is\n",
      "\n",
      "\u222b2\u03c00e\u2212xsin(x)dx=12\u2212e\u22122\u03c0\u22430.499066\n",
      "\n",
      "so that is pretty good.\n",
      "\n",
      "Here it is again, integrated from 0 to infinity:"
     ]
    },
    {
     "cell_type": "code",
     "collapsed": false,
     "input": [
      "I = integrate.quad(fun, 0, np.infty)\n",
      "\n",
      "print I"
     ],
     "language": "python",
     "metadata": {},
     "outputs": [
      {
       "output_type": "stream",
       "stream": "stdout",
       "text": [
        "(0.5000000000000002, 1.4875911973447031e-08)\n"
       ]
      }
     ],
     "prompt_number": 9
    },
    {
     "cell_type": "markdown",
     "metadata": {},
     "source": [
      "In this case the analytic solution is exactly 1/2, so again pretty good.\n",
      "\n",
      "We can calculate the error in the result by looking at the difference between the exact result and the numerical value from quad with"
     ]
    },
    {
     "cell_type": "code",
     "collapsed": false,
     "input": [
      "print abs(I[0]-0.5)"
     ],
     "language": "python",
     "metadata": {},
     "outputs": [
      {
       "output_type": "stream",
       "stream": "stdout",
       "text": [
        "2.22044604925e-16\n"
       ]
      }
     ],
     "prompt_number": 10
    },
    {
     "cell_type": "markdown",
     "metadata": {},
     "source": [
      "In this case, the numerically-computed integral is within 10\u221216 of the exact result \u2014 well below the reported error bound."
     ]
    },
    {
     "cell_type": "heading",
     "level": 2,
     "metadata": {},
     "source": [
      "Integrating array data"
     ]
    },
    {
     "cell_type": "markdown",
     "metadata": {},
     "source": [
      "When you want to compute the integral for an array of data (such as our thermistor resistance-temperature data from the Interpolation lesson), you don't have the luxury of varying your choice of N, the number of slices (unless you create an interpolated approximation to your data).\n",
      "\n",
      "There are three functions for computing integrals given only samples: trapz , simps, and romb. The trapezoidal rule approximates the function as a straight line between adjacent points while Simpson\u2019s rule approximates the function between three adjacent points as a parabola, as we have already seen. The first two functions can also handle non-equally-spaced samples (something we did not code ourselves) which is a useful extension to these integration rules.\n",
      "\n",
      "If the samples are equally-spaced and the number of samples available is 2k+1 for some integer k, then Romberg integration can be used to obtain high-precision estimates of the integral using the available samples. Romberg integration is an adaptive method that uses the trapezoid rule at step-sizes related by a power of two and then performs something called Richardson extrapolation on these estimates to approximate the integral with a higher-degree of accuracy. (A different interface to Romberg integration useful when the function can be provided is also available as romberg)."
     ]
    },
    {
     "cell_type": "heading",
     "level": 3,
     "metadata": {},
     "source": [
      "Applying simps to array data"
     ]
    },
    {
     "cell_type": "markdown",
     "metadata": {},
     "source": [
      "Here is an example of using simps to compute the integral for some discrete data:"
     ]
    },
    {
     "cell_type": "code",
     "collapsed": false,
     "input": [
      "x = np.arange(0, 20, 2)\n",
      "y = np.array([0, 3, 5, 2, 8, 9, 0, -3, 4, 9], dtype = float)\n",
      "plt.plot(x,y)\n",
      "\n",
      "#Show the integration area as a filled region\n",
      "plt.fill_between(x, y, y2=0,color='red',hatch='//',alpha=0.2)\n",
      "\n",
      "plt.show()"
     ],
     "language": "python",
     "metadata": {},
     "outputs": [
      {
       "metadata": {},
       "output_type": "display_data",
       "png": "[encoded data removed]",
       "text": [
        "<matplotlib.figure.Figure at 0x106348c10>"
       ]
      }
     ],
     "prompt_number": 11
    },
    {
     "cell_type": "code",
     "collapsed": false,
     "input": [
      "I = integrate.simps(y,x)  \n",
      "print \"Simpson's Rule Integral for discrete samples =\",I"
     ],
     "language": "python",
     "metadata": {},
     "outputs": [
      {
       "output_type": "stream",
       "stream": "stdout",
       "text": [
        "Simpson's Rule Integral for discrete samples = 64.6666666667\n"
       ]
      }
     ],
     "prompt_number": 12
    },
    {
     "cell_type": "heading",
     "level": 2,
     "metadata": {},
     "source": [
      "Multiple Integrals"
     ]
    },
    {
     "cell_type": "markdown",
     "metadata": {},
     "source": [
      "Multiple integration can be handled using repeated calls to quad. The mechanics of this for double and triple integration have been wrapped up into the functions dblquad and tplquad. The function dblquad performs double integration. Use the help function to be sure that you define the arguments in the correct order. The limits on all inner integrals are actually functions (which can be constant)."
     ]
    },
    {
     "cell_type": "heading",
     "level": 3,
     "metadata": {},
     "source": [
      "Double integrals using dblquad"
     ]
    },
    {
     "cell_type": "markdown",
     "metadata": {},
     "source": [
      "Suppose we want to integrate f(x,y)=ysin(x)+xcos(y) over \u03c0\u2264x\u22642\u03c0 and 0\u2264y\u2264\u03c0:\n",
      "\n",
      "\u222b2\u03c0x=\u03c0\u222b\u03c0y=0ysin(x)+xcos(y)dydx\n",
      "\n",
      "To use dblquad we have to provide callable functions for the range of the y-variable. Although here they are constants, the use of functions for the limits enables freedom to integrate over non-constant limits. In this case we create trivial lambda functions that return the constants. Note the order of the arguments in the integrand. If you put them in the wrong order you will get the wrong answer."
     ]
    },
    {
     "cell_type": "code",
     "collapsed": false,
     "input": [
      "from scipy.integrate import dblquad\n",
      "\n",
      "#IMPORTANT! y must come first in the integrand (see the help)\n",
      "#help(dblquad)\n",
      "integrand = lambda y,x: y * np.sin(x) + x * np.cos(y)\n",
      "\n",
      "xmin = np.pi\n",
      "xmax = 2*np.pi\n",
      "\n",
      "#The callable functions for the y limits are just constants in this case:\n",
      "ymin = lambda x : 0\n",
      "ymax = lambda x : np.pi\n",
      "\n",
      "#See the help for correct order of arguments\n",
      "ans, err = dblquad(integrand, xmin, xmax, ymin, ymax)\n",
      "print \"The double integral is = \",ans"
     ],
     "language": "python",
     "metadata": {},
     "outputs": [
      {
       "output_type": "stream",
       "stream": "stdout",
       "text": [
        "The double integral is =  -9.86960440109\n"
       ]
      }
     ],
     "prompt_number": 13
    },
    {
     "cell_type": "heading",
     "level": 3,
     "metadata": {},
     "source": [
      "Triple integrals using tplquad"
     ]
    },
    {
     "cell_type": "markdown",
     "metadata": {},
     "source": [
      "We can also numerically evaluate a triple integral:\n",
      "    \n",
      "\u222b\u03c0x=0\u222b1y=0\u222b1z=\u22121ysin(x)+zcos(x)dzdydx"
     ]
    },
    {
     "cell_type": "code",
     "collapsed": false,
     "input": [
      "from scipy.integrate import tplquad\n",
      "\n",
      "#AGAIN: the order of arguments matters - inner to outer\n",
      "integrand = lambda z,y,x: y * np.sin(x) + z * np.cos(x)\n",
      "\n",
      "xmin = 0\n",
      "xmax = np.pi\n",
      "\n",
      "ymin = lambda x: 0\n",
      "ymax = lambda x: 1\n",
      "\n",
      "#Note the order of these arguments:\n",
      "zmin = lambda x,y: -1\n",
      "zmax = lambda x,y: 1\n",
      "\n",
      "#Here the order of limits is outer to inner\n",
      "ans, err = tplquad(integrand, xmin, xmax, ymin, ymax, zmin, zmax)\n",
      "print \"The triple integral = \",ans"
     ],
     "language": "python",
     "metadata": {},
     "outputs": [
      {
       "output_type": "stream",
       "stream": "stdout",
       "text": [
        "The triple integral =  2.0\n"
       ]
      }
     ],
     "prompt_number": 15
    },
    {
     "cell_type": "heading",
     "level": 2,
     "metadata": {},
     "source": [
      "Monte Carlo Integration"
     ]
    },
    {
     "cell_type": "markdown",
     "metadata": {},
     "source": [
      "There is one other type of integration method, known as Monte Carlo Integration. This one is very useful because it easily extends to intgrating functions in any number of dimensions. In essence it uses a random sampling of points within a domain where our function is defined to estimate the area bounded by the function. We'll learn how it works in a subsequent lesson."
     ]
    },
    {
     "cell_type": "code",
     "collapsed": false,
     "input": [],
     "language": "python",
     "metadata": {},
     "outputs": []
    }
   ],
   "metadata": {}
  }
 ]
}