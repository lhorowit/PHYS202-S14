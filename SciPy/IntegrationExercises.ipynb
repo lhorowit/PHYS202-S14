{
 "metadata": {
  "name": "",
  "signature": "sha256:87c4df68a50c91cda9a7e6872815f16383d49ccbd6fd1244cc8184773b333b4d"
 },
 "nbformat": 3,
 "nbformat_minor": 0,
 "worksheets": [
  {
   "cells": [
    {
     "cell_type": "heading",
     "level": 1,
     "metadata": {},
     "source": [
      "Integration Exercises"
     ]
    },
    {
     "cell_type": "code",
     "collapsed": false,
     "input": [
      "%pylab inline\n",
      "import numpy as np\n",
      "import matplotlib.pyplot as plt\n",
      "import scipy.integrate as integrate"
     ],
     "language": "python",
     "metadata": {},
     "outputs": [
      {
       "output_type": "stream",
       "stream": "stdout",
       "text": [
        "Populating the interactive namespace from numpy and matplotlib\n"
       ]
      }
     ],
     "prompt_number": 5
    },
    {
     "cell_type": "heading",
     "level": 2,
     "metadata": {},
     "source": [
      "Question 1"
     ]
    },
    {
     "cell_type": "markdown",
     "metadata": {},
     "source": [
      "(a) Write two functions trapz(func,x) and simps(func,x) to compute the integral of the function func over the variable x using the trapezoidal rule and Simpson's rule to a file called Integrators.py. Do not use the scipy.integrate built-in functions. Include docstrings with each function that describe what they do. Then import the module and use the functions to answer the following questions."
     ]
    },
    {
     "cell_type": "code",
     "collapsed": false,
     "input": [
      "%%file Integrators.py\n",
      "import numpy as np\n",
      "def trapz(func, N, a, b):\n",
      "    h = (b-a)/N\n",
      "    k = np.arange(1,N)\n",
      "    I = h*(0.5*func(a) + 0.5*func(b) + func(a+k*h).sum())\n",
      "\n",
      "    #print \"Trapezoidal Rule Integral =\",I\n",
      "    return I\n",
      "    \n",
      "    \n",
      "    \n",
      "    \n",
      "def simps(func, N, a, b):  \n",
      "    \n",
      "    h = (b-a)/N\n",
      "    k1 = np.arange(1,N/2+1)\n",
      "    k2 = np.arange(1,N/2)\n",
      "    I = (1./3.)*h*(func(a) + func(b) + 4.*func(a+(2*k1-1)*h).sum() + 2.*func(a+2*k2*h).sum())\n",
      "    \n",
      "    #print \"Simpson's rule Integral =\",I\n",
      "    return I"
     ],
     "language": "python",
     "metadata": {},
     "outputs": [
      {
       "output_type": "stream",
       "stream": "stdout",
       "text": [
        "Overwriting Integrators.py\n"
       ]
      }
     ],
     "prompt_number": 1
    },
    {
     "cell_type": "markdown",
     "metadata": {},
     "source": [
      "(b) Use your trapz and simps functions from part (a) to calculate the integral of x4\u22122x+1 from x = 0 to x = 2 with N = 10, N = 100, and N = 1000. Then compare your result to the known correct value of 4.4. What is the percent error in each case?"
     ]
    },
    {
     "cell_type": "code",
     "collapsed": false,
     "input": [
      "import Integrators as myint\n",
      "y = lambda x : x**4 - 2*x + 1\n",
      "\n",
      "print 'Trapz: %f' % myint.trapz(y, 10., 0., 2.)\n",
      "print 'Simps: %f' % myint.simps(y, 10., 0., 2.)\n",
      "print 'Trapz Error: %f' %(myint.trapz(y, 10., 0., 2.) - 4.4)\n",
      "print 'Simps Error: %f' %(myint.simps(y, 10., 0., 2.) - 4.4)\n",
      "print 'Trapz: %f' % myint.trapz(y, 100., 0., 2.)\n",
      "print 'Simps: %f' % myint.simps(y, 100., 0., 2.)\n",
      "print 'Trapz Error: %f' %(myint.trapz(y, 100., 0., 2.) - 4.4)\n",
      "print 'Simps Error: %f' %(myint.simps(y, 100., 0., 2.) - 4.4) \n",
      "print 'Trapz: %f' % myint.trapz(y, 1000., 0., 2.)\n",
      "print 'Simps: %f' % myint.simps(y, 1000., 0., 2.)\n",
      "print 'Trapz Error: %f' %(myint.trapz(y, 1000., 0., 2.) - 4.4)\n",
      "print 'Simps Error: %f' %(myint.simps(y, 1000., 0., 2.) - 4.4)"
     ],
     "language": "python",
     "metadata": {},
     "outputs": [
      {
       "output_type": "stream",
       "stream": "stdout",
       "text": [
        "Trapz: 4.506560\n",
        "Simps: 4.400427\n",
        "Trapz Error: 0.106560\n",
        "Simps Error: 0.000427\n",
        "Trapz: 4.401067\n",
        "Simps: 4.400000\n",
        "Trapz Error: 0.001067\n",
        "Simps Error: 0.000000\n",
        "Trapz: 4.400011\n",
        "Simps: 4.400000\n",
        "Trapz Error: 0.000011\n",
        "Simps Error: 0.000000\n"
       ]
      }
     ],
     "prompt_number": 3
    },
    {
     "cell_type": "heading",
     "level": 2,
     "metadata": {},
     "source": [
      "Question 2"
     ]
    },
    {
     "cell_type": "markdown",
     "metadata": {},
     "source": [
      "Consider the integral\n",
      "\n",
      "E(x)=\u222b0->x e\u2212t^2 dt\n",
      "\n",
      "This is the error function, commonly seen in probability and statistics. There is no known way to perform this particular integral analytically, although the integrand can be expanded in a Taylor series and terms computed to arbitrary order. For most applications, numerical approaches are the only way forward.\n",
      "\n",
      "(a) Use scipy.integrate.cumtrapz to calculate E(x) for values of x from 0 to 3 in steps of 0.1. Print the result."
     ]
    },
    {
     "cell_type": "code",
     "collapsed": false,
     "input": [
      "t = linspace(0, 3, 31)\n",
      "y = np.exp(-t**2)\n",
      "error = integrate.cumtrapz(y, t, initial=0)\n",
      "print error\n"
     ],
     "language": "python",
     "metadata": {},
     "outputs": [
      {
       "output_type": "stream",
       "stream": "stdout",
       "text": [
        "[ 0.          0.09950249  0.19704446  0.29078049  0.37908424  0.46063146\n",
        "  0.53445532  0.59997046  0.6569664   0.70557392  0.7462108   0.77951463\n",
        "  0.80627088  0.82734325  0.84361215  0.85592503  0.86506023  0.87170427\n",
        "  0.87644128  0.87975207  0.88202044  0.88354398  0.88454709  0.88519453\n",
        "  0.88560418  0.88585826  0.88601274  0.88610482  0.88615862  0.88618943\n",
        "  0.88620673]\n"
       ]
      }
     ],
     "prompt_number": 24
    },
    {
     "cell_type": "markdown",
     "metadata": {},
     "source": [
      "(b) Plot the integrand as a function of t and E(x) as a function of x (both ranging from 0 to 3) on the same graph."
     ]
    },
    {
     "cell_type": "code",
     "collapsed": false,
     "input": [
      "plt.plot(t, y, linewidth=2, label='Function');\n",
      "plt.plot(t, error, linewidth=2, label='Error');\n",
      "plt.xlim(0,3)\n",
      "plt.ylim(0,3)\n",
      "plt.legend(loc = 'upper center')"
     ],
     "language": "python",
     "metadata": {},
     "outputs": [
      {
       "metadata": {},
       "output_type": "pyout",
       "prompt_number": 28,
       "text": [
        "<matplotlib.legend.Legend at 0x106c4cdd0>"
       ]
      },
      {
       "metadata": {},
       "output_type": "display_data",
       "png": "[encoded data removed]",
       "text": [
        "<matplotlib.figure.Figure at 0x106433d50>"
       ]
      }
     ],
     "prompt_number": 28
    },
    {
     "cell_type": "heading",
     "level": 2,
     "metadata": {},
     "source": [
      "Question 3"
     ]
    },
    {
     "cell_type": "markdown",
     "metadata": {},
     "source": [
      "Consider a particle in a one-dimensional box of width L. The probability of finding the particle between a and b is given by\n",
      "\n",
      "P(a,b)=\u222bba|\u03c8(x)|2dx\n",
      "\n",
      "where\n",
      "\n",
      "\u03c8(x)=\u221a(2/L) * sin(n\u03c0x/L)\n",
      "\n",
      "is the wavefunction.\n",
      "\n",
      "(a) What is the probability of finding the particle between L/3 and L/2 for the ground state (n = 1) and for the first excited state (n = 2)? Let L = 1. Perform the integral using both scipy.integrate.trapz and scipy.integrate.quad with an accuracy of 6 sig figs. How many slices did you need to use for scipy.integrate.trapz?"
     ]
    },
    {
     "cell_type": "code",
     "collapsed": false,
     "input": [
      "x = linspace(1/3., 1/2., 1000)\n",
      "psi_1 = lambda x : 2**.5 * np.sin(np.pi * x)\n",
      "psi_2 = lambda x : 2**.5 * np.sin(2 * np.pi * x)\n",
      "psi_1_squared = lambda x : (2**.5 * np.sin(np.pi * x))**2\n",
      "psi_2_squared = lambda x : (2**.5 * np.sin(2 * np.pi * x))**2\n",
      "P_1_trapz = integrate.trapz(psi_1_squared(x), x)\n",
      "P_2_trapz = integrate.trapz(psi_2_squared(x), x)\n",
      "P_1_quad = integrate.quad(psi_1_squared, 1/3., 1/2.)\n",
      "P_2_quad = integrate.quad(psi_2_squared, 1/3., 1/2.)\n",
      "print P_1_trapz \n",
      "print P_2_trapz\n",
      "print P_1_quad \n",
      "print P_2_quad"
     ],
     "language": "python",
     "metadata": {},
     "outputs": [
      {
       "output_type": "stream",
       "stream": "stdout",
       "text": [
        "0.304498877901\n",
        "0.0977505799811\n",
        "(0.3044988905221147, 3.380616792304666e-15)\n",
        "(0.09775055473894276, 1.0852491654105595e-15)\n"
       ]
      }
     ],
     "prompt_number": 51
    },
    {
     "cell_type": "markdown",
     "metadata": {},
     "source": [
      "(b) Make a plot of |\u03c8(x)|^2 vs. x for the first two excited states with L=1."
     ]
    },
    {
     "cell_type": "code",
     "collapsed": false,
     "input": [],
     "language": "python",
     "metadata": {},
     "outputs": []
    }
   ],
   "metadata": {}
  }
 ]
}