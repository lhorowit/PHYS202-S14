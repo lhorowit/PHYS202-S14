{
 "metadata": {
  "name": "",
  "signature": "sha256:a19bce9c6b47da60d0466930fdb7f9661e181e4333528321c877351069909d58"
 },
 "nbformat": 3,
 "nbformat_minor": 0,
 "worksheets": [
  {
   "cells": [
    {
     "cell_type": "heading",
     "level": 1,
     "metadata": {},
     "source": [
      "Integration Exercises"
     ]
    },
    {
     "cell_type": "code",
     "collapsed": false,
     "input": [
      "%pylab inline\n",
      "import numpy as np\n",
      "import matplotlib.pyplot as plt\n",
      "import scipy.integrate as integrate"
     ],
     "language": "python",
     "metadata": {},
     "outputs": [
      {
       "output_type": "stream",
       "stream": "stdout",
       "text": [
        "Populating the interactive namespace from numpy and matplotlib\n",
        "\n"
       ]
      }
     ],
     "prompt_number": 2
    },
    {
     "cell_type": "heading",
     "level": 2,
     "metadata": {},
     "source": [
      "Question 1"
     ]
    },
    {
     "cell_type": "markdown",
     "metadata": {},
     "source": [
      "(a) Write two functions trapz(func,x) and simps(func,x) to compute the integral of the function func over the variable x using the trapezoidal rule and Simpson's rule to a file called Integrators.py. Do not use the scipy.integrate built-in functions. Include docstrings with each function that describe what they do. Then import the module and use the functions to answer the following questions."
     ]
    },
    {
     "cell_type": "code",
     "collapsed": false,
     "input": [
      "%%file Integrators.py\n",
      "import numpy as np\n",
      "def trapz(func, N, a, b):\n",
      "    h = (b-a)/N\n",
      "    k = np.arange(1,N)\n",
      "    I = h*(0.5*func(a) + 0.5*func(b) + func(a+k*h).sum())\n",
      "\n",
      "    #print \"Trapezoidal Rule Integral =\",I\n",
      "    return I\n",
      "    \n",
      "    \n",
      "    \n",
      "    \n",
      "def simps(func, N, a, b):  \n",
      "    \n",
      "    h = (b-a)/N\n",
      "    k1 = np.arange(1,N/2+1)\n",
      "    k2 = np.arange(1,N/2)\n",
      "    I = (1./3.)*h*(func(a) + func(b) + 4.*func(a+(2*k1-1)*h).sum() + 2.*func(a+2*k2*h).sum())\n",
      "    \n",
      "    #print \"Simpson's rule Integral =\",I\n",
      "    return I"
     ],
     "language": "python",
     "metadata": {},
     "outputs": [
      {
       "output_type": "stream",
       "stream": "stdout",
       "text": [
        "Overwriting Integrators.py\n"
       ]
      }
     ],
     "prompt_number": 3
    },
    {
     "cell_type": "markdown",
     "metadata": {},
     "source": [
      "(b) Use your trapz and simps functions from part (a) to calculate the integral of x4\u22122x+1 from x = 0 to x = 2 with N = 10, N = 100, and N = 1000. Then compare your result to the known correct value of 4.4. What is the percent error in each case?"
     ]
    },
    {
     "cell_type": "code",
     "collapsed": false,
     "input": [
      "import Integrators as myint\n",
      "y = lambda x : x**4 - 2*x + 1\n",
      "\n",
      "print 'Trapz: %f' % myint.trapz(y, 10., 0., 2.)\n",
      "print 'Simps: %f' % myint.simps(y, 10., 0., 2.)\n",
      "print 'Trapz Error: %f' %(myint.trapz(y, 10., 0., 2.) - 4.4)\n",
      "print 'Simps Error: %f' %(myint.simps(y, 10., 0., 2.) - 4.4)\n",
      "print 'Trapz: %f' % myint.trapz(y, 100., 0., 2.)\n",
      "print 'Simps: %f' % myint.simps(y, 100., 0., 2.)\n",
      "print 'Trapz Error: %f' %(myint.trapz(y, 100., 0., 2.) - 4.4)\n",
      "print 'Simps Error: %f' %(myint.simps(y, 100., 0., 2.) - 4.4) \n",
      "print 'Trapz: %f' % myint.trapz(y, 1000., 0., 2.)\n",
      "print 'Simps: %f' % myint.simps(y, 1000., 0., 2.)\n",
      "print 'Trapz Error: %f' %(myint.trapz(y, 1000., 0., 2.) - 4.4)\n",
      "print 'Simps Error: %f' %(myint.simps(y, 1000., 0., 2.) - 4.4)"
     ],
     "language": "python",
     "metadata": {},
     "outputs": [
      {
       "output_type": "stream",
       "stream": "stdout",
       "text": [
        "Trapz: 4.506560\n",
        "Simps: 4.400427\n",
        "Trapz Error: 0.106560\n",
        "Simps Error: 0.000427\n",
        "Trapz: 4.401067\n",
        "Simps: 4.400000\n",
        "Trapz Error: 0.001067\n",
        "Simps Error: 0.000000\n",
        "Trapz: 4.400011\n",
        "Simps: 4.400000\n",
        "Trapz Error: 0.000011\n",
        "Simps Error: 0.000000\n"
       ]
      }
     ],
     "prompt_number": 4
    },
    {
     "cell_type": "heading",
     "level": 2,
     "metadata": {},
     "source": [
      "Question 2"
     ]
    },
    {
     "cell_type": "markdown",
     "metadata": {},
     "source": [
      "Consider the integral\n",
      "\n",
      "E(x)=\u222b0->x e\u2212t^2 dt\n",
      "\n",
      "This is the error function, commonly seen in probability and statistics. There is no known way to perform this particular integral analytically, although the integrand can be expanded in a Taylor series and terms computed to arbitrary order. For most applications, numerical approaches are the only way forward.\n",
      "\n",
      "(a) Use scipy.integrate.cumtrapz to calculate E(x) for values of x from 0 to 3 in steps of 0.1. Print the result."
     ]
    },
    {
     "cell_type": "code",
     "collapsed": false,
     "input": [
      "t = linspace(0, 3, 31)\n",
      "y = np.exp(-t**2)\n",
      "error = integrate.cumtrapz(y, t, initial=0)\n",
      "print error\n"
     ],
     "language": "python",
     "metadata": {},
     "outputs": [
      {
       "output_type": "stream",
       "stream": "stdout",
       "text": [
        "[ 0.          0.09950249  0.19704446  0.29078049  0.37908424  0.46063146\n",
        "  0.53445532  0.59997046  0.6569664   0.70557392  0.7462108   0.77951463\n",
        "  0.80627088  0.82734325  0.84361215  0.85592503  0.86506023  0.87170427\n",
        "  0.87644128  0.87975207  0.88202044  0.88354398  0.88454709  0.88519453\n",
        "  0.88560418  0.88585826  0.88601274  0.88610482  0.88615862  0.88618943\n",
        "  0.88620673]\n"
       ]
      }
     ],
     "prompt_number": 5
    },
    {
     "cell_type": "markdown",
     "metadata": {},
     "source": [
      "(b) Plot the integrand as a function of t and E(x) as a function of x (both ranging from 0 to 3) on the same graph."
     ]
    },
    {
     "cell_type": "code",
     "collapsed": false,
     "input": [
      "plt.plot(t, y, linewidth=2, label='Function');\n",
      "plt.plot(t, error, linewidth=2, label='Error');\n",
      "plt.xlim(0,3)\n",
      "plt.ylim(0,3)\n",
      "plt.legend(loc = 'upper center')"
     ],
     "language": "python",
     "metadata": {},
     "outputs": [
      {
       "metadata": {},
       "output_type": "pyout",
       "prompt_number": 6,
       "text": [
        "<matplotlib.legend.Legend at 0x10667cdd0>"
       ]
      },
      {
       "metadata": {},
       "output_type": "display_data",
       "png": "[encoded data removed]",
       "text": [
        "<matplotlib.figure.Figure at 0x105690c50>"
       ]
      }
     ],
     "prompt_number": 6
    },
    {
     "cell_type": "heading",
     "level": 2,
     "metadata": {},
     "source": [
      "Question 3"
     ]
    },
    {
     "cell_type": "markdown",
     "metadata": {},
     "source": [
      "Consider a particle in a one-dimensional box of width L. The probability of finding the particle between a and b is given by\n",
      "\n",
      "P(a,b)=\u222bba|\u03c8(x)|2dx\n",
      "\n",
      "where\n",
      "\n",
      "\u03c8(x)=\u221a(2/L) * sin(n\u03c0x/L)\n",
      "\n",
      "is the wavefunction.\n",
      "\n",
      "(a) What is the probability of finding the particle between L/3 and L/2 for the ground state (n = 1) and for the first excited state (n = 2)? Let L = 1. Perform the integral using both scipy.integrate.trapz and scipy.integrate.quad with an accuracy of 6 sig figs. How many slices did you need to use for scipy.integrate.trapz?"
     ]
    },
    {
     "cell_type": "code",
     "collapsed": false,
     "input": [
      "x = linspace(1/3., 1/2., 1000)\n",
      "psi_1 = lambda x : 2**.5 * np.sin(np.pi * x)\n",
      "psi_2 = lambda x : 2**.5 * np.sin(2 * np.pi * x)\n",
      "psi_1_squared = (2**.5 * np.sin(np.pi * x))**2\n",
      "psi_2_squared = (2**.5 * np.sin(2 * np.pi * x))**2\n",
      "psi_3_squared = lambda x : (2**.5 * np.sin(np.pi * x))**2\n",
      "psi_4_squared = lambda x : (2**.5 * np.sin(2 * np.pi * x))**2\n",
      "P_1_trapz = integrate.trapz(psi_1_squared, x)\n",
      "P_2_trapz = integrate.trapz(psi_2_squared, x)\n",
      "P_1_quad = integrate.quad(psi_3_squared, 1/3., 1/2.)\n",
      "P_2_quad = integrate.quad(psi_4_squared, 1/3., 1/2.)\n",
      "print P_1_trapz \n",
      "print P_2_trapz\n",
      "print P_1_quad \n",
      "print P_2_quad"
     ],
     "language": "python",
     "metadata": {},
     "outputs": [
      {
       "output_type": "stream",
       "stream": "stdout",
       "text": [
        "0.304498877901\n",
        "0.0977505799811\n",
        "(0.3044988905221147, 3.380616792304666e-15)\n",
        "(0.09775055473894276, 1.0852491654105595e-15)\n"
       ]
      }
     ],
     "prompt_number": 7
    },
    {
     "cell_type": "markdown",
     "metadata": {},
     "source": [
      "(b) Make a plot of |\u03c8(x)|^2 vs. x for the first two excited states with L=1."
     ]
    },
    {
     "cell_type": "code",
     "collapsed": false,
     "input": [
      "plt.plot(x,psi_1_squared, linewidth=2, label='Psi 1');\n",
      "plt.plot(x,psi_2_squared, linewidth=2, label='Psi 2');\n",
      "\n",
      "plt.legend(loc = 'upper center')"
     ],
     "language": "python",
     "metadata": {},
     "outputs": [
      {
       "metadata": {},
       "output_type": "pyout",
       "prompt_number": 8,
       "text": [
        "<matplotlib.legend.Legend at 0x10691fb90>"
       ]
      },
      {
       "metadata": {},
       "output_type": "display_data",
       "png": "[encoded data removed]",
       "text": [
        "<matplotlib.figure.Figure at 0x106667190>"
       ]
      }
     ],
     "prompt_number": 8
    },
    {
     "cell_type": "heading",
     "level": 1,
     "metadata": {},
     "source": [
      "Question 4"
     ]
    },
    {
     "cell_type": "markdown",
     "metadata": {},
     "source": [
      "(a) Use numerical integration to find M, r\u20d7 cm, and Icm. Note that you need M to compute r\u20d7 cm and r\u20d7 cm to compute Icm. The moments of inertia Icm are Ixx, Iyy, and Izz, where e.g. Ixx=\u222b((y\u2212ycm)2+(z\u2212zcm)2)\u03c1dV, etc."
     ]
    },
    {
     "cell_type": "code",
     "collapsed": false,
     "input": [
      "from scipy.integrate import tplquad\n",
      "\n",
      "# Set up integrals\n",
      "integrand = lambda x,y,z: 100.*(y+0.1) + 100.*z**2\n",
      "\n",
      "# Set up limits\n",
      "zmin = -0.5\n",
      "zmax = 0.5\n",
      "\n",
      "ymin = lambda y: -0.1\n",
      "ymax = lambda y: 0.1\n",
      "\n",
      "xmin = lambda x,y: -0.1\n",
      "xmax = lambda x,y: 0.1\n",
      "\n",
      "# Integrate\n",
      "M, err = tplquad(integrand, zmin, zmax, ymin, ymax, xmin, xmax)\n",
      "print \"Mass (non-constant density) \"\n",
      "print 'm =', M"
     ],
     "language": "python",
     "metadata": {},
     "outputs": [
      {
       "output_type": "stream",
       "stream": "stdout",
       "text": [
        "Mass (non-constant density) \n",
        "m = 0.733333333333\n"
       ]
      }
     ],
     "prompt_number": 9
    },
    {
     "cell_type": "code",
     "collapsed": false,
     "input": [
      "from scipy.integrate import tplquad\n",
      "import numpy as np\n",
      "\n",
      "# Set up integrals\n",
      "integrandx = lambda x,y,z: x*(100.*(y+0.1) + 100.*z**2)\n",
      "integrandy = lambda x,y,z: y*(100.*(y+0.1) + 100.*z**2)\n",
      "integrandz = lambda x,y,z: z*(100.*(y+0.1) + 100.*z**2)\n",
      "\n",
      "# Set up limits\n",
      "zmin = -0.5\n",
      "zmax = 0.5\n",
      "\n",
      "ymin = lambda y: -0.1\n",
      "ymax = lambda y: 0.1\n",
      "\n",
      "xmin = lambda x,y: -0.1\n",
      "xmax = lambda x,y: 0.1\n",
      "\n",
      "# Integrate\n",
      "integralx, errx = tplquad(integrandx, zmin, zmax, ymin, ymax, xmin, xmax)\n",
      "integraly, erry = tplquad(integrandy, zmin, zmax, ymin, ymax, xmin, xmax)\n",
      "integralz, errz = tplquad(integrandz, zmin, zmax, ymin, ymax, xmin, xmax)\n",
      "\n",
      "print \"Center of mass (non-constant density)\"\n",
      "print \"rx = \",integralx/M\n",
      "print \"ry = \",integraly/M\n",
      "print \"rz = \",integralz/M"
     ],
     "language": "python",
     "metadata": {},
     "outputs": [
      {
       "output_type": "stream",
       "stream": "stdout",
       "text": [
        "Center of mass (non-constant density)\n",
        "rx =  0.0\n",
        "ry =  0.0181818181818\n",
        "rz =  0.0\n"
       ]
      }
     ],
     "prompt_number": 10
    },
    {
     "cell_type": "code",
     "collapsed": false,
     "input": [
      "from scipy.integrate import tplquad\n",
      "\n",
      "# Set up integrals\n",
      "integrand1 = lambda x,y,z: ((y-integraly)**2 + (z-integralz)**2)*(100*(y+0.1) + 100*z**2)\n",
      "integrand2 = lambda x,y,z: ((x-integralx)**2 + (z-integralz)**2)*(100*(y+0.1) + 100*z**2)\n",
      "integrand3 = lambda x,y,z: ((x-integralx)**2 + (y-integraly)**2)*(100*(y+0.1) + 100*z**2)\n",
      "\n",
      "# Set up limits\n",
      "zmin = -0.5\n",
      "zmax = 0.5\n",
      "\n",
      "ymin = lambda y: -0.1\n",
      "ymax = lambda y: 0.1\n",
      "\n",
      "xmin = lambda x,y: -0.1\n",
      "xmax = lambda x,y: 0.1\n",
      "\n",
      "# Integrate\n",
      "integral1, err1 = tplquad(integrand1, zmin, zmax, ymin, ymax, xmin, xmax)\n",
      "integral2, err2 = tplquad(integrand2, zmin, zmax, ymin, ymax, xmin, xmax)\n",
      "integral3, err3 = tplquad(integrand3, zmin, zmax, ymin, ymax, xmin, xmax)\n",
      "\n",
      "print \"Moment of inertia (non-constant density) \"\n",
      "print \"Ixx = \",integral1\n",
      "print \"Iyy = \",integral2\n",
      "print \"Izz = \",integral3"
     ],
     "language": "python",
     "metadata": {},
     "outputs": [
      {
       "output_type": "stream",
       "stream": "stdout",
       "text": [
        "Moment of inertia (non-constant density) \n",
        "Ixx =  0.0855525925926\n",
        "Iyy =  0.0857777777778\n",
        "Izz =  0.0046637037037\n"
       ]
      }
     ],
     "prompt_number": 11
    },
    {
     "cell_type": "markdown",
     "metadata": {},
     "source": [
      "(b) The mass, center of mass, and moments of inertia can be easily computed analytically for a rectangular box of uniform density. (Compute them yourself or look them up). Verify your algorithm from part (a) works by having it compute the result for this test case. How accurate (how many sig figs?) is the numerical result?"
     ]
    },
    {
     "cell_type": "code",
     "collapsed": false,
     "input": [
      "from scipy.integrate import tplquad\n",
      "\n",
      "# Set up integrals\n",
      "integrand = lambda x,y,z: 1\n",
      " \n",
      "# Set up limits\n",
      "zmin = -0.5\n",
      "zmax = 0.5\n",
      "\n",
      "ymin = lambda y: -0.1\n",
      "ymax = lambda y: 0.1\n",
      "\n",
      "xmin = lambda x,y: -0.1\n",
      "xmax = lambda x,y: 0.1\n",
      "\n",
      "# Integrate\n",
      "Mc, err = tplquad(integrand, zmin, zmax, ymin, ymax, xmin, xmax)\n",
      "print \"Mass (constant density) \"\n",
      "print 'm =', Mc"
     ],
     "language": "python",
     "metadata": {},
     "outputs": [
      {
       "output_type": "stream",
       "stream": "stdout",
       "text": [
        "Mass (constant density) \n",
        "m = 0.04\n"
       ]
      }
     ],
     "prompt_number": 12
    },
    {
     "cell_type": "code",
     "collapsed": false,
     "input": [
      "from scipy.integrate import tplquad\n",
      "import numpy as np\n",
      "\n",
      "# Set up integrals\n",
      "integrandx = lambda x,y,z: x\n",
      "integrandy = lambda x,y,z: y\n",
      "integrandz = lambda x,y,z: z\n",
      "\n",
      "# Set up limits\n",
      "zmin = -0.5\n",
      "xmax = 0.5\n",
      "\n",
      "ymin = lambda y: -0.1\n",
      "ymax = lambda y: 0.1\n",
      "\n",
      "xmin = lambda x,y: -0.1\n",
      "xmax = lambda x,y: 0.1\n",
      "\n",
      "# Integrate\n",
      "integralx, errx = tplquad(integrandx, zmin, zmax, ymin, ymax, xmin, xmax)\n",
      "integraly, erry = tplquad(integrandy, zmin, zmax, ymin, ymax, xmin, xmax)\n",
      "integralz, errz = tplquad(integrandz, zmin, zmax, ymin, ymax, xmin, xmax)\n",
      "\n",
      "print \"Center of mass (constant density)\"\n",
      "print \"rx = \",integralx/Mc\n",
      "print \"ry = \",integraly/Mc\n",
      "print \"rz = \",integralz/Mc"
     ],
     "language": "python",
     "metadata": {},
     "outputs": [
      {
       "output_type": "stream",
       "stream": "stdout",
       "text": [
        "Center of mass (constant density)\n",
        "rx =  0.0\n",
        "ry =  0.0\n",
        "rz =  0.0\n"
       ]
      }
     ],
     "prompt_number": 13
    },
    {
     "cell_type": "code",
     "collapsed": false,
     "input": [
      "from scipy.integrate import tplquad\n",
      "\n",
      "# Set up integrals\n",
      "integrand1 = lambda x,y,z: ((y-integraly)**2 + (z-integralz)**2)\n",
      "integrand2 = lambda x,y,z: ((x-integralx)**2 + (z-integralz)**2)\n",
      "integrand3 = lambda x,y,z: ((x-integralx)**2 + (y-integraly)**2)\n",
      "\n",
      "# Set up limits\n",
      "zmin = -0.5\n",
      "zmax = 0.5\n",
      "\n",
      "ymin = lambda y: -0.1\n",
      "ymax = lambda y: 0.1\n",
      "\n",
      "xmin = lambda x,y: -0.1\n",
      "xmax = lambda x,y: 0.1\n",
      "\n",
      "# Integrate\n",
      "integral1, err1 = tplquad(integrand1, zmin, zmax, ymin, ymax, xmin, xmax)\n",
      "integral2, err2 = tplquad(integrand2, zmin, zmax, ymin, ymax, xmin, xmax)\n",
      "integral3, err3 = tplquad(integrand3, zmin, zmax, ymin, ymax, xmin, xmax)\n",
      "\n",
      "print \"Moment of inertia with constant density\"\n",
      "print \"Ixx = \",integral1\n",
      "print \"Iyy = \",integral2\n",
      "print \"Izz = \",integral3"
     ],
     "language": "python",
     "metadata": {},
     "outputs": [
      {
       "output_type": "stream",
       "stream": "stdout",
       "text": [
        "Moment of inertia with constant density\n",
        "Ixx =  0.00346666666667\n",
        "Iyy =  0.00346666666667\n",
        "Izz =  0.000266666666667\n"
       ]
      }
     ],
     "prompt_number": 14
    },
    {
     "cell_type": "code",
     "collapsed": false,
     "input": [
      "print \"Constant density moment of inertia from Wikipedia\"\n",
      "\n",
      "Ixx = (1.0/12.0)*Mc*(0.04+1.0)\n",
      "print \"Ixx \" + str(Ixx)\n",
      "Iyy = (1.0/12.0)*Mc*(0.04+1.0)\n",
      "print \"Iyy \" + str(Iyy) \n",
      "Izz = (1.0/12.0)*Mc*(0.04+0.04)\n",
      "print \"Izz \" + str(Izz)"
     ],
     "language": "python",
     "metadata": {},
     "outputs": [
      {
       "output_type": "stream",
       "stream": "stdout",
       "text": [
        "Constant density moment of inertia from Wikipedia\n",
        "Ixx 0.00346666666667\n",
        "Iyy 0.00346666666667\n",
        "Izz 0.000266666666667\n"
       ]
      }
     ],
     "prompt_number": 15
    },
    {
     "cell_type": "markdown",
     "metadata": {},
     "source": [
      "(c) Finally, change the density function to something of your choosing (different from that used in parts (a) and (b)) and recompute M, r\u20d7 cm and Icm for that case."
     ]
    },
    {
     "cell_type": "code",
     "collapsed": false,
     "input": [
      "from scipy.integrate import tplquad\n",
      "\n",
      "# Set up integrals\n",
      "integrand = lambda x,y,z: (x+2)**2 + (y-3)**3 + (z+6)**4\n",
      "\n",
      "# Set up limits\n",
      "zmin = -0.5\n",
      "zmax = 0.5\n",
      "\n",
      "ymin = lambda y: -0.1\n",
      "ymax = lambda y: 0.1\n",
      "\n",
      "xmin = lambda x,y: -0.1\n",
      "xmax = lambda x,y: 0.1\n",
      "\n",
      "# Integrate\n",
      "myM, err = tplquad(integrand, zmin, zmax, ymin, ymax, xmin, xmax)\n",
      "print \"Mass (crazy density function) = \",myM"
     ],
     "language": "python",
     "metadata": {},
     "outputs": [
      {
       "output_type": "stream",
       "stream": "stdout",
       "text": [
        "Mass (crazy density function) =  51.6394333333\n"
       ]
      }
     ],
     "prompt_number": 16
    },
    {
     "cell_type": "code",
     "collapsed": false,
     "input": [
      "from scipy.integrate import tplquad\n",
      "import numpy as np\n",
      "\n",
      "# Set up integrals\n",
      "integrandx = lambda x,y,z: x*((x+2)**2 + (y-3)**3 + (z+6)**4)\n",
      "integrandy = lambda x,y,z: y*((x+2)**2 + (y-3)**3 + (z+6)**4)\n",
      "integrandz = lambda x,y,z: z*((x+2)**2 + (y-3)**3 + (z+6)**4)\n",
      "\n",
      "# Set up limits\n",
      "zmin = -0.5\n",
      "xmax = 0.5\n",
      "\n",
      "ymin = lambda y: -0.1\n",
      "ymax = lambda y: 0.1\n",
      "\n",
      "xmin = lambda x,y: -0.1\n",
      "xmax = lambda x,y: 0.1\n",
      "\n",
      "# Integrate\n",
      "integralx, errx = tplquad(integrandx, zmin, zmax, ymin, ymax, xmin, xmax)\n",
      "integraly, erry = tplquad(integrandy, zmin, zmax, ymin, ymax, xmin, xmax)\n",
      "integralz, errz = tplquad(integrandz, zmin, zmax, ymin, ymax, xmin, xmax)\n",
      "\n",
      "print \"Center of mass (crazy density function)\"\n",
      "print \"rx = \",integralx/myM\n",
      "print \"ry = \",integraly/myM\n",
      "print \"rz = \",integralz/myM"
     ],
     "language": "python",
     "metadata": {},
     "outputs": [
      {
       "output_type": "stream",
       "stream": "stdout",
       "text": [
        "Center of mass (crazy density function)\n",
        "rx =  1.03280245136e-05\n",
        "ry =  6.97296575033e-05\n",
        "rz =  0.0560037129248\n"
       ]
      }
     ],
     "prompt_number": 17
    },
    {
     "cell_type": "code",
     "collapsed": false,
     "input": [
      "from scipy.integrate import tplquad\n",
      "\n",
      "# Set up integrals\n",
      "integrand1 = lambda x,y,z: ((y-integraly)**2 + (z-integralz)**2)*((x+2)**2 + (y-3)**3 + (z+6)**4)\n",
      "integrand2 = lambda x,y,z: ((x-integralx)**2 + (z-integralz)**2)*((x+2)**2 + (y-3)**3 + (z+6)**4)\n",
      "integrand3 = lambda x,y,z: ((x-integralx)**2 + (y-integraly)**2)*((x+2)**2 + (y-3)**3 + (z+6)**4)\n",
      "\n",
      "# Set up limits\n",
      "zmin = -0.5\n",
      "zmax = 0.5\n",
      "\n",
      "ymin = lambda y: -0.1\n",
      "ymax = lambda y: 0.1\n",
      "\n",
      "xmin = lambda x,y: -0.1\n",
      "xmax = lambda x,y: 0.1\n",
      "\n",
      "# Integrate\n",
      "integral1, err1 = tplquad(integrand1, zmin, zmax, ymin, ymax, xmin, xmax)\n",
      "integral2, err2 = tplquad(integrand2, zmin, zmax, ymin, ymax, xmin, xmax)\n",
      "integral3, err3 = tplquad(integrand3, zmin, zmax, ymin, ymax, xmin, xmax)\n",
      "\n",
      "print \"Moment of inertia (crazy density function) \"\n",
      "print \"Ixx = \",integral1\n",
      "print \"Iyy = \",integral2\n",
      "print \"Izz = \",integral3"
     ],
     "language": "python",
     "metadata": {},
     "outputs": [
      {
       "output_type": "stream",
       "stream": "stdout",
       "text": [
        "Moment of inertia (crazy density function) \n",
        "Ixx =  419.691647138\n",
        "Iyy =  419.6910212\n",
        "Izz =  0.344917777116\n"
       ]
      }
     ],
     "prompt_number": 18
    },
    {
     "cell_type": "code",
     "collapsed": false,
     "input": [],
     "language": "python",
     "metadata": {},
     "outputs": [],
     "prompt_number": 18
    }
   ],
   "metadata": {}
  }
 ]
}