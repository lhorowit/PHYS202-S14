{
 "metadata": {
  "name": "",
  "signature": "sha256:1b9f32c91ce041a14a8fd505f1bf496c8a19492d008f8008498b3abb525a9a56"
 },
 "nbformat": 3,
 "nbformat_minor": 0,
 "worksheets": [
  {
   "cells": [
    {
     "cell_type": "heading",
     "level": 1,
     "metadata": {},
     "source": [
      "Linear Regression, Optimization and Curve Fitting Exercises"
     ]
    },
    {
     "cell_type": "code",
     "collapsed": false,
     "input": [
      "%pylab inline\n",
      "import numpy as np\n",
      "import matplotlib.pyplot as plt\n",
      "from scipy.optimize import curve_fit"
     ],
     "language": "python",
     "metadata": {},
     "outputs": [
      {
       "output_type": "stream",
       "stream": "stdout",
       "text": [
        "Populating the interactive namespace from numpy and matplotlib\n"
       ]
      }
     ],
     "prompt_number": 26
    },
    {
     "cell_type": "heading",
     "level": 2,
     "metadata": {},
     "source": [
      "Question 1"
     ]
    },
    {
     "cell_type": "markdown",
     "metadata": {},
     "source": [
      "(a) Write a function that can compute the weighted linear least squares (WLSQ) best fit line to a set of data. \n",
      "\n",
      "Your function should test whether there are unequal weights on the data points and return the correctly calculated uncertainties for whichever case is requested.\n",
      "\n",
      "Use the features of numpy arrays rather than loops to take advantage of their superior computational speed."
     ]
    },
    {
     "cell_type": "code",
     "collapsed": false,
     "input": [
      "def WeightedLLSqFit(x,y,w):\n",
      "    \"\"\"Take in arrays representing (x,y) values for a set of linearly varying data and an array of weights w.\n",
      "    Perform a weighted linear least squares regression.  Return the resulting slope and intercept\n",
      "    parameters of the best fit line with their uncertainties.\n",
      "\n",
      "    If the weights are all equal to one, the uncertainties on the parameters are calculated using the \n",
      "    non-weighted least squares equations.\"\"\"\n",
      "\n",
      "    n = len(y)\n",
      "    xave = x.mean()\n",
      "    yave = y.mean()\n",
      "    x2ave = (x*x).mean()\n",
      "    xyave = (x*y).mean()\n",
      "    denom = (x2ave - xave**2)\n",
      "    m = (xyave - xave*yave)/denom\n",
      "    b = (x2ave*yave - xave*xyave)/denom\n",
      "    delta = y - (m*x + b)\n",
      "    delt = 0\n",
      "    yerr = []\n",
      "    \n",
      "    for i in range(0,len(y)-1):\n",
      "        delt = delt + delta[i]\n",
      "        yerr.append(sqrt((1/(n-2))*sum(delt*delt)))\n",
      "        delt = delt + delta[i+1]\n",
      "        yerr.append(sqrt((1/(n-2))*sum(delt*delt)))\n",
      "        if yerr[i] != yerr[i+1]:\n",
      "            w = 1/(yerr*yerr)\n",
      "            m = ((sum(w)*sum(w*x*y))-(sum(w*x)*sum(w*y)))/((sum(w)*sum(w*x**2))-((sum(w*x))**2))\n",
      "            b = ((sum(w*x**2)*sum(w*y))-(sum(w*x)*sum(w*x*y)))/((sum(w)*sum(w*x**2))-((sum(w*x))**2))\n",
      "            merr = sqrt((sum(w))/((sum(w)*sum(w*x**2))-((sum(w*x))**2)))\n",
      "            berr = sqrt((sum(w*x**2))/((sum(w)*sum(w*x**2))-((sum(w*x))**2)))\n",
      "            print \"WLSQ\"\n",
      "            break\n",
      "            \n",
      "    for i in range(0,len(y)):\n",
      "        d2ave = (delta*delta).mean()\n",
      "        if yerr[i] == yerr[i+1]:\n",
      "            merr = sqrt((n-2)**(-1)*d2ave/denom)\n",
      "            berr = sqrt((n-2)**(-1)*d2ave*x2ave/denom)\n",
      "            print \"LSQ\"\n",
      "            break\n",
      "\n",
      "    print \"Slope: \" + str(m) + \" +/- \" + str(merr)\n",
      "    print \"Intercept: \" + str(b) + \" +/- \" + str(berr)\n",
      "    return m,merr,b,berr"
     ],
     "language": "python",
     "metadata": {},
     "outputs": [],
     "prompt_number": 21
    },
    {
     "cell_type": "markdown",
     "metadata": {},
     "source": [
      "\n",
      "(b) For the data below, use the uncertainties on the position values as weights to perform a WLSQ best fit. Print the results of the fit, both the fitted parameter values and their uncertainties.\n",
      "\n",
      "If you did it right you should get m = -0.4510 \u00b1 0.0066 and b = 8.2201 \u00b1 0.0214.\n",
      " "
     ]
    },
    {
     "cell_type": "code",
     "collapsed": false,
     "input": [
      "time = np.array([1.,2.,3.,4.,5.,6.,7.,8.,9.,10.])\n",
      "pos = np.array([7.75, 7.33, 6.89, 6.45, 5.96, 5.55, 5.10, 4.49, 3.93, 3.58])\n",
      "sigp = np.array([0.02, 0.03, 0.03, 0.04, 0.05, 0.06, 0.08, 0.11, 0.14, 0.17])\n",
      "\n",
      "m,merr,b,berr = WeightedLLSqFit(time,pos,sigp)"
     ],
     "language": "python",
     "metadata": {},
     "outputs": [
      {
       "output_type": "stream",
       "stream": "stdout",
       "text": [
        "LSQ\n",
        "Slope: -0.471454545455 +/- 0.00799483304215\n",
        "Intercept: 8.296 +/- 0.0496066344537\n"
       ]
      }
     ],
     "prompt_number": 22
    },
    {
     "cell_type": "markdown",
     "metadata": {},
     "source": [
      "(c) Now make an errorbar plot that shows the (time,position) data with markers and error bars \u03c3p. Also plot lines representing the results from the LSQ and WSLQ fits to these data. Include a legend that shows the fitted line equations with the fit parameters as you did in the tour, with labels indicating which one is the weighted result and which the unweighted result.\n"
     ]
    },
    {
     "cell_type": "code",
     "collapsed": false,
     "input": [],
     "language": "python",
     "metadata": {},
     "outputs": []
    },
    {
     "cell_type": "heading",
     "level": 2,
     "metadata": {},
     "source": [
      "Question 2"
     ]
    },
    {
     "cell_type": "markdown",
     "metadata": {},
     "source": [
      "(a) Download the linked file waveform_2.npy by right-clicking on the link and selecting \"Save Link As\". Read in the data and plot it."
     ]
    },
    {
     "cell_type": "code",
     "collapsed": false,
     "input": [
      "waveform = np.load('waveform_2.npy')\n",
      "t = np.arange(len(waveform))\n",
      "\n",
      "plt.plot(t, waveform)\n",
      "plt.xlabel(\"Time (ns)\",fontsize=20)\n",
      "plt.ylabel(\"Intensity (bins)\",fontsize=20)\n",
      "plt.ylim(0,26)\n",
      "\n",
      "plt.show()"
     ],
     "language": "python",
     "metadata": {},
     "outputs": [
      {
       "metadata": {},
       "output_type": "display_data",
       "png": "[encoded data removed]",
       "text": [
        "<matplotlib.figure.Figure at 0x105dd3f10>"
       ]
      }
     ],
     "prompt_number": 23
    },
    {
     "cell_type": "markdown",
     "metadata": {},
     "source": [
      "(b) This data is more complicated than that in waveform_1.npy from the tour, but not considerably so. It looks like it could be modeled as the sum of a noise floor and three Gaussian peaks with different amplitude, mean, and sigma. Write a function to model this data."
     ]
    },
    {
     "cell_type": "code",
     "collapsed": false,
     "input": [
      "#Gaussian*3 plus offset\n",
      "def model(t, B, A1, mu1, sigma1, A2, mu2, sigma2, A3, mu3, sigma3):\n",
      "    return B + A1 * exp( - ((t-mu1)/sigma1)**2 ) + A2 * exp( - ((t-mu2)/sigma2)**2 ) + A3 * exp( - ((t-mu3)/sigma3)**2 )"
     ],
     "language": "python",
     "metadata": {},
     "outputs": [],
     "prompt_number": 24
    },
    {
     "cell_type": "markdown",
     "metadata": {},
     "source": [
      "(c) By inspecting the graph, come up with a set of initial guesses for the parameters of the fit and fit the data using curve_fit. Print the resulting parameters and their uncertainties."
     ]
    },
    {
     "cell_type": "code",
     "collapsed": false,
     "input": [
      "x0 = array([2.,25.,17.,7.,12.,24.,5.,8.,30.,7.])\n",
      "\n",
      "popt,pcov = curve_fit(model,t,waveform,x0)\n",
      "\n",
      "\n",
      "#Compute the parameter uncertainties from the covariance matrix\n",
      "punc = zeros(len(popt))\n",
      "for i in arange(0,len(popt)):\n",
      "    punc[i] = sqrt(pcov[i,i])\n",
      "\n",
      "#Print the result\n",
      "print \"optimal parameters: \", popt\n",
      "print \"uncertainties of parameters: \", punc"
     ],
     "language": "python",
     "metadata": {},
     "outputs": [
      {
       "output_type": "stream",
       "stream": "stdout",
       "text": [
        "optimal parameters:  [  2.46463289  23.58626914  16.59646967   2.43359747   5.27900484\n",
        "  28.96464147   3.18707314   9.55795739  23.11517412   2.96738889]\n",
        "uncertainties of parameters:  [ 0.08507047  0.46011763  0.05142995  0.07398071  0.47628326  0.519182\n",
        "  0.58987558  0.4858949   0.24342129  0.39311806]\n"
       ]
      }
     ],
     "prompt_number": 30
    },
    {
     "cell_type": "markdown",
     "metadata": {},
     "source": [
      "(d) Plot the data and the fit to see how well the model matches the data."
     ]
    },
    {
     "cell_type": "code",
     "collapsed": false,
     "input": [
      "plt.plot(t, waveform,label=\"data\")\n",
      "plt.plot(t, model(t, popt[0],popt[1],popt[2],popt[3], popt[4],popt[5],popt[6],popt[7], popt[8],popt[9]),\"r-\",label=\"fit\",linewidth=2)\n",
      "plt.legend(loc=\"best\")\n",
      "\n",
      "plt.xlabel(\"Time (ns)\",fontsize=20)\n",
      "plt.ylabel(\"Intensity (bins)\",fontsize=20)\n",
      "\n",
      "plt.show()"
     ],
     "language": "python",
     "metadata": {},
     "outputs": [
      {
       "metadata": {},
       "output_type": "display_data",
       "png": "[encoded data removed]",
       "text": [
        "<matplotlib.figure.Figure at 0x106fa0090>"
       ]
      }
     ],
     "prompt_number": 31
    },
    {
     "cell_type": "code",
     "collapsed": false,
     "input": [],
     "language": "python",
     "metadata": {},
     "outputs": []
    }
   ],
   "metadata": {}
  }
 ]
}