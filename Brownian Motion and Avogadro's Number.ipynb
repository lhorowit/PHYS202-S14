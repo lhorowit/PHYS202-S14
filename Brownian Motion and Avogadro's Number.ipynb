{
 "metadata": {
  "name": "",
  "signature": "sha256:b845439f62f05bd89b21e350dcc635ce940b00c0540dd436eaabc175bec78960"
 },
 "nbformat": 3,
 "nbformat_minor": 0,
 "worksheets": [
  {
   "cells": [
    {
     "cell_type": "code",
     "collapsed": false,
     "input": [],
     "language": "python",
     "metadata": {},
     "outputs": [],
     "prompt_number": 6
    },
    {
     "cell_type": "code",
     "collapsed": false,
     "input": [
      "%%file Blobfinder.py\n",
      "\n",
      "class Blob(object):\n",
      "    \n",
      "    def __init__(self):\n",
      "        self.pixels = []\n",
      "        \n",
      "    def add(self,i,j):\n",
      "        self.pixels.append((i,j))\n",
      "        \n",
      "    def mass(self):\n",
      "        return len(self.pixels) \n",
      "        \n",
      "    def centerofmass(self):\n",
      "        sumX = 0\n",
      "        sumY = 0\n",
      "        for pixel in self.pixels:\n",
      "            sumX += pixel[0]\n",
      "            sumY += pixel[1]\n",
      "            avg = (sumX/len(self.pixels), sumY/len(self.pixels))\n",
      "        return avg\n",
      "            \n",
      "        \n",
      "    def distanceTo(blob):\n",
      "        D = ((self.centerofmass[0] - blob.centerofmass[0])**2 + (self.centerofmass[1] - blob.centerofmass[1])**2)**.5\n",
      "        return round(D, 4)\n",
      "    \n",
      "    \n",
      "def BlobFinder(picture, tau):\n",
      "    black = (0, 0, 0)\n",
      "    white = (255,255,255)\n",
      "    xsize, ysize = picture.size\n",
      "    temp = picture.load()\n",
      "    for x in range(xsize):\n",
      "        for y in range(ysize):\n",
      "            r,g,b = temp[x,y]\n",
      "            if r+g+b <= threshold:\n",
      "                temp[x,y] = black\n",
      "            else:\n",
      "                temp[x,y] = white\n",
      "                \n",
      "                \n",
      "\n",
      "                \n",
      "                \n",
      "def Fill(picture):\n",
      "    queue = [(0,0)]\n",
      "    xsize, ysize = picture.size\n",
      "    while queue:\n",
      "        x,y,queue = queue[0][0], queue[0][1], queue[1:]\n",
      "        r,g,b = picture[x,y]\n",
      "        if (r,g,b) > BLACK:\n",
      "            self.add(x,y)\n",
      "            picture[x,y] = BLACK\n",
      "            if x > 0:\n",
      "                queue.append((x-1,y))\n",
      "            if x < (xsize-1):\n",
      "                queue.append((x+1,y))\n",
      "            if y > 0:\n",
      "                queue.append((x, y-1))\n",
      "            if y < (ysize-1):\n",
      "                queue.append((x, y+1))               \n",
      "                \n",
      "                \n",
      "                \n",
      "                \n",
      "def countBeads(picture, P):\n",
      "    xsize, ysize = picture.size\n",
      "    temp = picture.load()\n",
      "    result = 0\n",
      "    for x in range(xsize):\n",
      "        for y in range(ysize):\n",
      "            if self.mass() >= P:\n",
      "                result += 1\n",
      "                Fill(picture)\n",
      "    return result\n"
     ],
     "language": "python",
     "metadata": {},
     "outputs": [
      {
       "output_type": "stream",
       "stream": "stdout",
       "text": [
        "Overwriting Blobfinder.py\n"
       ]
      }
     ],
     "prompt_number": 44
    },
    {
     "cell_type": "code",
     "collapsed": false,
     "input": [
      "from PIL import Image\n",
      "%pylab inline \n",
      "def Import(File):\n",
      "    from PIL import Image\n",
      "    import os\n",
      "    Im_list = []\n",
      "    for Img in os.listdir(File):\n",
      "        \n",
      "        image = Image.open(Img)\n",
      "        Im_list.append(image)\n",
      "        \n",
      "    return Im_list"
     ],
     "language": "python",
     "metadata": {},
     "outputs": [
      {
       "output_type": "stream",
       "stream": "stdout",
       "text": [
        "Populating the interactive namespace from numpy and matplotlib\n"
       ]
      }
     ],
     "prompt_number": 24
    },
    {
     "cell_type": "code",
     "collapsed": false,
     "input": [
      "%pylab inline\n",
      "Image.open('run7/frame00000.jpg').show()\n",
      "\n"
     ],
     "language": "python",
     "metadata": {},
     "outputs": [
      {
       "output_type": "stream",
       "stream": "stdout",
       "text": [
        "Populating the interactive namespace from numpy and matplotlib\n"
       ]
      }
     ],
     "prompt_number": 38
    },
    {
     "cell_type": "code",
     "collapsed": false,
     "input": [
      "b = Blob()\n",
      "b.add(1,5)\n",
      "b.centerofmass()"
     ],
     "language": "python",
     "metadata": {},
     "outputs": [
      {
       "ename": "TypeError",
       "evalue": "centerofmass() takes no arguments (1 given)",
       "output_type": "pyerr",
       "traceback": [
        "\u001b[0;31m---------------------------------------------------------------------------\u001b[0m\n\u001b[0;31mTypeError\u001b[0m                                 Traceback (most recent call last)",
        "\u001b[0;32m<ipython-input-45-b81559cc60cf>\u001b[0m in \u001b[0;36m<module>\u001b[0;34m()\u001b[0m\n\u001b[1;32m      1\u001b[0m \u001b[0mb\u001b[0m \u001b[0;34m=\u001b[0m \u001b[0mBlob\u001b[0m\u001b[0;34m(\u001b[0m\u001b[0;34m)\u001b[0m\u001b[0;34m\u001b[0m\u001b[0m\n\u001b[1;32m      2\u001b[0m \u001b[0mb\u001b[0m\u001b[0;34m.\u001b[0m\u001b[0madd\u001b[0m\u001b[0;34m(\u001b[0m\u001b[0;36m1\u001b[0m\u001b[0;34m,\u001b[0m\u001b[0;36m5\u001b[0m\u001b[0;34m)\u001b[0m\u001b[0;34m\u001b[0m\u001b[0m\n\u001b[0;32m----> 3\u001b[0;31m \u001b[0mb\u001b[0m\u001b[0;34m.\u001b[0m\u001b[0mcenterofmass\u001b[0m\u001b[0;34m(\u001b[0m\u001b[0;34m)\u001b[0m\u001b[0;34m\u001b[0m\u001b[0m\n\u001b[0m",
        "\u001b[0;31mTypeError\u001b[0m: centerofmass() takes no arguments (1 given)"
       ]
      }
     ],
     "prompt_number": 45
    },
    {
     "cell_type": "code",
     "collapsed": false,
     "input": [],
     "language": "python",
     "metadata": {},
     "outputs": []
    }
   ],
   "metadata": {}
  }
 ]
}