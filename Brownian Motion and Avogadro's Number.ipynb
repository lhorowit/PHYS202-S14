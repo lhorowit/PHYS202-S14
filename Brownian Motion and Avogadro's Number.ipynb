{
 "metadata": {
  "name": "",
  "signature": "sha256:ddd91b343d04eddb3d8915cd0b3e29a6f5e4670a989959ef022680f11723c817"
 },
 "nbformat": 3,
 "nbformat_minor": 0,
 "worksheets": [
  {
   "cells": [
    {
     "cell_type": "heading",
     "level": 1,
     "metadata": {},
     "source": [
      "Particle identification"
     ]
    },
    {
     "cell_type": "code",
     "collapsed": false,
     "input": [
      "BLACK = (0,0,0)\n",
      "WHITE = (255, 255, 255)\n",
      "RED = (255, 0, 0)\n",
      "\n",
      "class Blob(object):\n",
      "    \n",
      "    def __init__(self):\n",
      "        self.pixels = []\n",
      "        \n",
      "    def add(self,i,j):\n",
      "        self.pixels.append((i,j))\n",
      "        \n",
      "    def mass(self):\n",
      "        return len(self.pixels) \n",
      "        \n",
      "    def centerofmass(self):\n",
      "        sumX = 0.0\n",
      "        sumY = 0.0\n",
      "        for pixel in self.pixels:\n",
      "            sumX += pixel[0]\n",
      "            sumY += pixel[1]\n",
      "        avg = ['%.4f' %(sumX/self.mass()), '%.4f' %(sumY/self.mass())]\n",
      "        return avg\n",
      "            \n",
      "        \n",
      "    def distanceTo(self, blob):\n",
      "        D = ((float(self.centerofmass()[0]) - float(blob.centerofmass()[0]))**2 + (float(self.centerofmass()[1]) - float(blob.centerofmass()[1]))**2)**.5\n",
      "        return round(D, 4)\n",
      "    \n",
      "    \n",
      "def monochrome(picture, tau):\n",
      "    black = (0, 0, 0)\n",
      "    white = (255,255,255)\n",
      "    xsize, ysize = picture.size\n",
      "    temp = picture.load()\n",
      "    for x in range(xsize):\n",
      "        for y in range(ysize):\n",
      "            r,g,b = temp[x,y]\n",
      "            if (r+g+b)/3 >= tau:\n",
      "                temp[x,y] = white\n",
      "            else:\n",
      "                temp[x,y] = black\n",
      "                \n",
      "                \n",
      "def BlobFinder(picture, tau):\n",
      "    monochrome(picture, tau)\n",
      "    xsize, ysize = picture.size\n",
      "    temp = picture.load()\n",
      "    blobs = []\n",
      "    for x in range(xsize):\n",
      "        for y in range(ysize):\n",
      "            if temp[x,y] == WHITE:\n",
      "                blob = Fill(picture, x, y, xsize, ysize)\n",
      "                blobs.append(blob)        \n",
      "    return blobs\n",
      "\n",
      "\n",
      "                \n",
      "                \n",
      "def Fill(picture, xstart, ystart, xsize, ysize):\n",
      "    queue = [(xstart, ystart)]\n",
      "    blob = Blob()\n",
      "    blob.add(xstart,ystart)\n",
      "    while queue:\n",
      "        x,y,queue = queue[0][0], queue[0][1], queue[1:]\n",
      "        temp = picture.load()\n",
      "        if temp[x,y] == WHITE:\n",
      "            blob.add(x,y)\n",
      "            temp[x,y] = RED\n",
      "            if x > 0:\n",
      "                queue.append((x-1,y))\n",
      "            if x < (xsize-1):\n",
      "                queue.append((x+1,y))\n",
      "            if y > 0:\n",
      "                queue.append((x, y-1))\n",
      "            if y < (ysize-1):\n",
      "                queue.append((x, y+1))    \n",
      "    return blob\n",
      "                \n",
      "                \n",
      "def countBeads(picture, tau,  P):\n",
      "    result = 0\n",
      "    blobs = BlobFinder(picture, tau)\n",
      "    for blob in blobs:\n",
      "        if blob.mass() >= P:\n",
      "            result += 1\n",
      "    return result\n",
      "\n",
      "def getBeads(picture, tau,  P):\n",
      "    beads = []\n",
      "    blobs = BlobFinder(picture, tau)\n",
      "    for blob in blobs:\n",
      "        if blob.mass() >= P:\n",
      "            beads.append(blob)\n",
      "    return beads"
     ],
     "language": "python",
     "metadata": {},
     "outputs": [],
     "prompt_number": 11
    },
    {
     "cell_type": "code",
     "collapsed": false,
     "input": [
      "from PIL import Image\n",
      "pic = Image.open('run7/frame00001.jpg')\n",
      "count = countBeads(pic, 180, 25)\n",
      "pic = Image.open('run7/frame00001.jpg')\n",
      "beads = getBeads(pic, 180, 25)\n",
      "\n",
      "print count\n",
      "print beads\n",
      "                 "
     ],
     "language": "python",
     "metadata": {},
     "outputs": [
      {
       "output_type": "stream",
       "stream": "stdout",
       "text": [
        "10\n",
        "[<__main__.Blob object at 0x100620f50>, <__main__.Blob object at 0x10691d290>, <__main__.Blob object at 0x1069e6f10>, <__main__.Blob object at 0x1069e6250>, <__main__.Blob object at 0x1069e6810>, <__main__.Blob object at 0x1069e6a50>, <__main__.Blob object at 0x1069e66d0>, <__main__.Blob object at 0x1069e6fd0>, <__main__.Blob object at 0x1069e6e90>, <__main__.Blob object at 0x100657610>]\n"
       ]
      }
     ],
     "prompt_number": 15
    },
    {
     "cell_type": "heading",
     "level": 1,
     "metadata": {},
     "source": [
      "Particle tracking"
     ]
    },
    {
     "cell_type": "code",
     "collapsed": false,
     "input": [
      "imlist = []\n",
      "\n",
      "for i in xrange(200):\n",
      "    if len(str(i)) == 1:\n",
      "        imlist.append('run7/frame'+'0000'+str(i)+'.jpg')\n",
      "    if len(str(i)) == 2:\n",
      "        imlist.append('run7/frame'+'000'+str(i)+'.jpg')\n",
      "    if len(str(i)) == 3:\n",
      "        imlist.append('run7/frame'+'00'+str(i)+'.jpg')        \n",
      "print len(imlist)        \n"
     ],
     "language": "python",
     "metadata": {},
     "outputs": []
    },
    {
     "cell_type": "code",
     "collapsed": false,
     "input": [
      "%pylab inline\n",
      "from PIL import Image\n",
      "Dist_list = []\n",
      "beads_list = []\n",
      "for i in xrange(len(imlist)-1):\n",
      "    pic1 = Image.open(imlist[i])\n",
      "    beads1 = getBeads(pic1, 180, 25)\n",
      "    pic2 = Image.open(imlist[i+1])\n",
      "    beads2 = getBeads(pic2, 180, 25)\n",
      "    \n",
      "    for bead in beads1:\n",
      "        distances = []\n",
      "        for i in xrange(len(beads2)):\n",
      "            distances.append(bead.distanceTo(beads2[i]))\n",
      "        m = min(i for i in distances if i != 0.0)\n",
      "        if m < 20:    \n",
      "            Dist_list.append(m)\n",
      "        \n",
      "   \n",
      "    "
     ],
     "language": "python",
     "metadata": {},
     "outputs": [
      {
       "output_type": "stream",
       "stream": "stdout",
       "text": [
        "Populating the interactive namespace from numpy and matplotlib\n"
       ]
      },
      {
       "output_type": "stream",
       "stream": "stderr",
       "text": [
        "WARNING: pylab import has clobbered these variables: ['dist']\n",
        "`%matplotlib` prevents importing * from pylab and numpy\n"
       ]
      }
     ],
     "prompt_number": 59
    },
    {
     "cell_type": "code",
     "collapsed": false,
     "input": [
      "print len(Dist_list)"
     ],
     "language": "python",
     "metadata": {},
     "outputs": [
      {
       "output_type": "stream",
       "stream": "stdout",
       "text": [
        "1269\n"
       ]
      }
     ],
     "prompt_number": 61
    },
    {
     "cell_type": "code",
     "collapsed": false,
     "input": [
      "pic_list = []\n",
      "for beads in beads_list:\n",
      "    com_list = []\n",
      "    for blob in beads:\n",
      "        com_list.append(blob.centerofmass())\n",
      "    pic_list.append(com_list)    \n",
      "\n"
     ],
     "language": "python",
     "metadata": {},
     "outputs": [],
     "prompt_number": 14
    },
    {
     "cell_type": "code",
     "collapsed": false,
     "input": [],
     "language": "python",
     "metadata": {},
     "outputs": [],
     "prompt_number": 53
    },
    {
     "cell_type": "heading",
     "level": 1,
     "metadata": {},
     "source": [
      "Data analysis"
     ]
    },
    {
     "cell_type": "code",
     "collapsed": false,
     "input": [
      "top = 0.0\n",
      "for dist in Dist_list:\n",
      "    top += (dist * .175e-6) ** 2\n",
      "    \n",
      "print top\n",
      "    \n",
      "bottom = 2 * len(Dist_list)   \n",
      "print len(Dist_list)\n",
      "sigma_squared = top / bottom\n",
      "print sigma_squared\n",
      "T = 297 #Kelvin\n",
      "n = 9.135e-4 # N*s/m^2\n",
      "p = .5e-6 # meters\n",
      "R = 8.31457 # J/(K*mol)\n",
      "\n",
      "D = sigma_squared\n",
      "\n",
      "k = 6 * np.pi * n * p * D / T\n",
      "\n",
      "avagadros_num = R / k\n",
      "\n",
      "print avagadros_num "
     ],
     "language": "python",
     "metadata": {},
     "outputs": [
      {
       "output_type": "stream",
       "stream": "stdout",
       "text": [
        "1.1515927228e-09\n",
        "1269\n",
        "4.53740237509e-13\n",
        "6.32134174952e+23\n"
       ]
      }
     ],
     "prompt_number": 62
    },
    {
     "cell_type": "code",
     "collapsed": false,
     "input": [],
     "language": "python",
     "metadata": {},
     "outputs": []
    }
   ],
   "metadata": {}
  }
 ]
}