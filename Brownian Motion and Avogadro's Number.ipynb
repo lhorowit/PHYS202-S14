{
 "metadata": {
  "name": "",
  "signature": "sha256:71e40b578f08ae79235afaa2ca6b377ee7952dba9e0f86a3fa30b330fc70060e"
 },
 "nbformat": 3,
 "nbformat_minor": 0,
 "worksheets": [
  {
   "cells": [
    {
     "cell_type": "heading",
     "level": 6,
     "metadata": {},
     "source": [
      "Luke Horowitz    |    Physics 202    |    Cal Poly Spring 2014"
     ]
    },
    {
     "cell_type": "heading",
     "level": 1,
     "metadata": {},
     "source": [
      "Particle identification"
     ]
    },
    {
     "cell_type": "code",
     "collapsed": false,
     "input": [
      "BLACK = (0,0,0)\n",
      "WHITE = (255, 255, 255)\n",
      "RED = (255, 0, 0)\n",
      "\n",
      "class Blob(object): # Setting up the 'Blob'\n",
      "    \n",
      "    def __init__(self):\n",
      "        '''Initializes the 'Blob' with an empty array of pixels'''\n",
      "        self.pixels = []   \n",
      "        \n",
      "    def add(self,i,j):\n",
      "        '''adds pixel at (i,j) to the Blob'''\n",
      "        self.pixels.append((i,j)) \n",
      "        \n",
      "    def mass(self):\n",
      "        '''returns the number of pixels in the Blob'''\n",
      "        return len(self.pixels) \n",
      "        \n",
      "    def centerofmass(self):\n",
      "        '''returns the average coordinates in a list'''\n",
      "        sumX = 0.0\n",
      "        sumY = 0.0\n",
      "        for pixel in self.pixels:\n",
      "            sumX += pixel[0]\n",
      "            sumY += pixel[1]\n",
      "        avg = ['%.4f' %(sumX/self.mass()), '%.4f' %(sumY/self.mass())]\n",
      "        return avg\n",
      "            \n",
      "        \n",
      "    def distanceTo(self, blob):\n",
      "        '''returns the center to center distance from this Blob to a different Blob'''\n",
      "        D = ((float(self.centerofmass()[0]) - float(blob.centerofmass()[0]))**2 + (float(self.centerofmass()[1]) - float(blob.centerofmass()[1]))**2)**.5\n",
      "        return round(D, 4)\n",
      "    \n",
      "    \n",
      "def monochrome(picture, tau):\n",
      "    '''Cuts the image, all pixels under a luminsesence value tau turned BLACK, everything else turned WHITE'''\n",
      "    black = (0, 0, 0)\n",
      "    white = (255,255,255)\n",
      "    xsize, ysize = picture.size\n",
      "    temp = picture.load()\n",
      "    for x in range(xsize):\n",
      "        for y in range(ysize):\n",
      "            r,g,b = temp[x,y]\n",
      "            if (r+g+b)/3 >= tau:\n",
      "                temp[x,y] = white\n",
      "            else:\n",
      "                temp[x,y] = black\n",
      "                \n",
      "                \n",
      "                \n",
      "                \n",
      "def Fill(picture, xstart, ystart, xsize, ysize):\n",
      "    '''fills all Blobs connected to a starting Blob RED'''\n",
      "    queue = [(xstart, ystart)]\n",
      "    blob = Blob()\n",
      "    blob.add(xstart,ystart)\n",
      "    while queue:\n",
      "        x,y,queue = queue[0][0], queue[0][1], queue[1:]\n",
      "        temp = picture.load()\n",
      "        if temp[x,y] == WHITE:\n",
      "            blob.add(x,y)\n",
      "            temp[x,y] = RED\n",
      "            if x > 0:\n",
      "                queue.append((x-1,y))\n",
      "            if x < (xsize-1):\n",
      "                queue.append((x+1,y))\n",
      "            if y > 0:\n",
      "                queue.append((x, y-1))\n",
      "            if y < (ysize-1):\n",
      "                queue.append((x, y+1))    \n",
      "    return blob                \n",
      "                \n",
      "    \n",
      "    \n",
      "    \n",
      "def BlobFinder(picture, tau):\n",
      "    '''Cuts image and counts blobs, turning them RED as it counts as to not double-count. Returns a list of Blobs'''\n",
      "    monochrome(picture, tau)\n",
      "    xsize, ysize = picture.size\n",
      "    temp = picture.load()\n",
      "    blobs = []\n",
      "    for x in range(xsize):\n",
      "        for y in range(ysize):\n",
      "            if temp[x,y] == WHITE:\n",
      "                blob = Fill(picture, x, y, xsize, ysize)\n",
      "                blobs.append(blob)        \n",
      "    return blobs\n",
      "\n",
      "\n",
      "                \n",
      "                \n",
      "def countBeads(picture, tau,  P):\n",
      "    '''Counts the number of Beads in a picture above a luminescense value tau and containing at least P pixels.'''\n",
      "    result = 0\n",
      "    blobs = BlobFinder(picture, tau)\n",
      "    for blob in blobs:\n",
      "        if blob.mass() >= P:\n",
      "            result += 1\n",
      "    return result\n",
      "\n",
      "def getBeads(picture, tau,  P):\n",
      "    '''Adds the Beads in a picture above a luminescense value tau and containing at least P pixels to a list and Returns the list.'''\n",
      "    beads = []\n",
      "    blobs = BlobFinder(picture, tau)\n",
      "    for blob in blobs:\n",
      "        if blob.mass() >= P:\n",
      "            beads.append(blob)\n",
      "    return beads"
     ],
     "language": "python",
     "metadata": {},
     "outputs": [],
     "prompt_number": 17
    },
    {
     "cell_type": "code",
     "collapsed": false,
     "input": [
      "# Testing my functions. Each needs a new picture.\n",
      "\n",
      "from PIL import Image\n",
      "pic = Image.open('run7/frame00001.jpg')\n",
      "count = countBeads(pic, 180, 25)\n",
      "pic = Image.open('run7/frame00001.jpg')\n",
      "beads = getBeads(pic, 180, 25)\n",
      "\n",
      "print count\n",
      "print beads\n",
      "                 "
     ],
     "language": "python",
     "metadata": {},
     "outputs": [
      {
       "output_type": "stream",
       "stream": "stdout",
       "text": [
        "10\n",
        "[<__main__.Blob object at 0x10272fe50>, <__main__.Blob object at 0x10272ff10>, <__main__.Blob object at 0x10272fe90>, <__main__.Blob object at 0x1062c9f50>, <__main__.Blob object at 0x1062c9d90>, <__main__.Blob object at 0x1062c9990>, <__main__.Blob object at 0x1062c9e10>, <__main__.Blob object at 0x1062c9e90>, <__main__.Blob object at 0x1062c9790>, <__main__.Blob object at 0x1062c9b10>]\n"
       ]
      }
     ],
     "prompt_number": 8
    },
    {
     "cell_type": "heading",
     "level": 1,
     "metadata": {},
     "source": [
      "Particle tracking"
     ]
    },
    {
     "cell_type": "code",
     "collapsed": false,
     "input": [
      "# The list of image names for easy access\n",
      "\n",
      "imlist = []\n",
      "\n",
      "for i in xrange(200):\n",
      "    if len(str(i)) == 1:\n",
      "        imlist.append('run7/frame'+'0000'+str(i)+'.jpg')\n",
      "    if len(str(i)) == 2:\n",
      "        imlist.append('run7/frame'+'000'+str(i)+'.jpg')\n",
      "    if len(str(i)) == 3:\n",
      "        imlist.append('run7/frame'+'00'+str(i)+'.jpg')        \n",
      "#print imlist\n",
      "print len(imlist)        \n"
     ],
     "language": "python",
     "metadata": {},
     "outputs": [
      {
       "output_type": "stream",
       "stream": "stdout",
       "text": [
        "200\n"
       ]
      }
     ],
     "prompt_number": 9
    },
    {
     "cell_type": "code",
     "collapsed": false,
     "input": [
      "\n",
      "%pylab inline\n",
      "def getDistances(P, tau, deltaP, image_list):\n",
      "    '''takes a list of image names and returns the displacements of each bead through time'''\n",
      "    from PIL import Image\n",
      "    Dist_list = []\n",
      "    beads_list = []\n",
      "    for i in xrange(len(imlist)-1):\n",
      "        pic1 = Image.open(image_list[i])\n",
      "        beads1 = getBeads(pic1, tau, P)\n",
      "        pic2 = Image.open(image_list[i+1])\n",
      "        beads2 = getBeads(pic2, tau, P)\n",
      "        \n",
      "        for bead in beads1:\n",
      "            distances = []\n",
      "            for i in xrange(len(beads2)):\n",
      "                distances.append(bead.distanceTo(beads2[i]))\n",
      "            m = min(i for i in distances if i != 0.0)\n",
      "            if m < deltaP:    \n",
      "                Dist_list.append(m)\n",
      "    return Dist_list     \n",
      "   \n",
      "Dist_list1 = getDistances(25, 180., 20., imlist)    "
     ],
     "language": "python",
     "metadata": {},
     "outputs": [
      {
       "output_type": "stream",
       "stream": "stdout",
       "text": [
        "Populating the interactive namespace from numpy and matplotlib\n"
       ]
      }
     ],
     "prompt_number": 11
    },
    {
     "cell_type": "code",
     "collapsed": false,
     "input": [
      "# looks about right\n",
      "print len(Dist_list1)"
     ],
     "language": "python",
     "metadata": {},
     "outputs": [
      {
       "output_type": "stream",
       "stream": "stdout",
       "text": [
        "1269\n"
       ]
      }
     ],
     "prompt_number": 13
    },
    {
     "cell_type": "heading",
     "level": 1,
     "metadata": {},
     "source": [
      "Data analysis"
     ]
    },
    {
     "cell_type": "code",
     "collapsed": false,
     "input": [
      "# Estimating the self-diffusion constant with the Einstein-Smoluchowski equation.\n",
      "\n",
      "top = 0.0\n",
      "\n",
      "for dist in Dist_list1:\n",
      "    top += (dist * .175e-6) ** 2  #make sure to convert pixels to meters\n",
      "    \n",
      "bottom = 2 * len(Dist_list1)  \n",
      "\n",
      "sigma_squared = top / bottom\n",
      "\n",
      "T = 297 # Kelvin\n",
      "n = 9.135e-4 # N*s/m^2\n",
      "p = .5e-6 # meters\n",
      "R = 8.31457 # J/(K*mol)\n",
      "\n",
      "D = 2*sigma_squared*.5\n",
      " \n",
      "# Solve The Stokes-Einstein relation for the Boltzmann constant.   \n",
      "    \n",
      "k = 6 * np.pi * n * p * D / T\n",
      "\n",
      "# Estimating Avogadro's number with the definition of the Boltzmann constant.\n",
      "\n",
      "avagadros_num = R / k\n",
      "avagadros_exact = 6.03e23\n",
      "print \"Avagadro's Number:\", avagadros_num \n",
      "print \"Percent Error:\", -((avagadros_exact - avagadros_num)/avagadros_exact)*100, '%'"
     ],
     "language": "python",
     "metadata": {},
     "outputs": [
      {
       "output_type": "stream",
       "stream": "stdout",
       "text": [
        "Avagadro's Number: 6.32134174952e+23\n",
        "Percent Error: 4.83153813472 %\n"
       ]
      }
     ],
     "prompt_number": 25
    },
    {
     "cell_type": "code",
     "collapsed": false,
     "input": [],
     "language": "python",
     "metadata": {},
     "outputs": []
    }
   ],
   "metadata": {}
  }
 ]
}