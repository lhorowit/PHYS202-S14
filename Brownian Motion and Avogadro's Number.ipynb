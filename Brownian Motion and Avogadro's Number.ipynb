{
 "metadata": {
  "name": "",
  "signature": "sha256:bd710d892de28056ecfa4e6ef6b3e240a67e006403d66593fe3e21d5c86b055a"
 },
 "nbformat": 3,
 "nbformat_minor": 0,
 "worksheets": [
  {
   "cells": [
    {
     "cell_type": "code",
     "collapsed": false,
     "input": [],
     "language": "python",
     "metadata": {},
     "outputs": [],
     "prompt_number": 2
    },
    {
     "cell_type": "code",
     "collapsed": false,
     "input": [
      "BLACK = (0,0,0)\n",
      "WHITE = (255, 255, 255)\n",
      "RED = (255, 0, 0)\n",
      "\n",
      "class Blob(object):\n",
      "    \n",
      "    def __init__(self):\n",
      "        self.pixels = []\n",
      "        \n",
      "    def add(self,i,j):\n",
      "        self.pixels.append((i,j))\n",
      "        \n",
      "    def mass(self):\n",
      "        return len(self.pixels) \n",
      "        \n",
      "    def centerofmass(self):\n",
      "        sumX = 0.0\n",
      "        sumY = 0.0\n",
      "        for pixel in self.pixels:\n",
      "            sumX += pixel[0]\n",
      "            sumY += pixel[1]\n",
      "        avg = ('%.4f' %(sumX/len(self.pixels)), '%.4f' %(sumY/len(self.pixels)))\n",
      "        return avg\n",
      "            \n",
      "        \n",
      "    def distanceTo(blob):\n",
      "        D = ((self.centerofmass[0] - blob.centerofmass[0])**2 + (self.centerofmass[1] - blob.centerofmass[1])**2)**.5\n",
      "        return round(D, 4)\n",
      "    \n",
      "    \n",
      "def monochrome(picture, tau):\n",
      "    black = (0, 0, 0)\n",
      "    white = (255,255,255)\n",
      "    xsize, ysize = picture.size\n",
      "    temp = picture.load()\n",
      "    for x in range(xsize):\n",
      "        for y in range(ysize):\n",
      "            r,g,b = temp[x,y]\n",
      "            if (r+g+b)/3 >= tau:\n",
      "                temp[x,y] = white\n",
      "            else:\n",
      "                temp[x,y] = black\n",
      "                \n",
      "                \n",
      "def BlobFinder(picture, tau):\n",
      "    monochrome(picture, tau)\n",
      "    xsize, ysize = picture.size\n",
      "    temp = picture.load()\n",
      "    blobs = []\n",
      "    for x in range(xsize):\n",
      "        for y in range(ysize):\n",
      "            if temp[x,y] == WHITE:\n",
      "                blob = Fill(picture, x, y, xsize, ysize)\n",
      "                blobs.append(blob)        \n",
      "    return blobs\n",
      "\n",
      "\n",
      "                \n",
      "                \n",
      "def Fill(picture, xstart, ystart, xsize, ysize):\n",
      "    queue = [(xstart, ystart)]\n",
      "    blob = Blob()\n",
      "    blob.add(xstart,ystart)\n",
      "    while queue:\n",
      "        x,y,queue = queue[0][0], queue[0][1], queue[1:]\n",
      "        temp = picture.load()\n",
      "        if temp[x,y] == WHITE:\n",
      "            blob.add(x,y)\n",
      "            temp[x,y] = RED\n",
      "            if x > 0:\n",
      "                queue.append((x-1,y))\n",
      "            if x < (xsize-1):\n",
      "                queue.append((x+1,y))\n",
      "            if y > 0:\n",
      "                queue.append((x, y-1))\n",
      "            if y < (ysize-1):\n",
      "                queue.append((x, y+1))    \n",
      "    return blob\n",
      "                \n",
      "                \n",
      "def countBeads(picture, tau,  P):\n",
      "    result = 0\n",
      "    blobs = BlobFinder(picture, tau)\n",
      "    for blob in blobs:\n",
      "        if blob.mass() >= P:\n",
      "            result += 1\n",
      "    return result\n",
      "\n",
      "def getBeads(picture, tau,  P):\n",
      "    beads = []\n",
      "    blobs = BlobFinder(picture, tau)\n",
      "    for blob in blobs:\n",
      "        if blob.mass() >= P:\n",
      "            beads.append(blob)\n",
      "    return beads"
     ],
     "language": "python",
     "metadata": {},
     "outputs": [],
     "prompt_number": 23
    },
    {
     "cell_type": "code",
     "collapsed": false,
     "input": [
      "imlist = []\n",
      "\n",
      "for i in xrange(200):\n",
      "    if len(str(i)) == 1:\n",
      "        imlist.append('run7/frame'+'0000'+str(i)+'.jpg')\n",
      "    if len(str(i)) == 2:\n",
      "        imlist.append('run7/frame'+'000'+str(i)+'.jpg')\n",
      "    if len(str(i)) == 3:\n",
      "        imlist.append('run7/frame'+'00'+str(i)+'.jpg')        \n",
      "#print imlist        \n"
     ],
     "language": "python",
     "metadata": {},
     "outputs": [],
     "prompt_number": 30
    },
    {
     "cell_type": "code",
     "collapsed": false,
     "input": [
      "%pylab inline\n",
      "from PIL import Image\n",
      "counts = []\n",
      "beads_list = []\n",
      "for img in imlist:\n",
      "    pic = Image.open(img)\n",
      "    count = countBeads(pic, 180, 25)\n",
      "    counts.append(count)\n",
      "    pic1 = Image.open(img)\n",
      "    beads = getBeads(pic1, 180, 25)\n",
      "    beads_list.append(beads)\n",
      "    \n",
      "print counts    \n",
      "    "
     ],
     "language": "python",
     "metadata": {},
     "outputs": [
      {
       "output_type": "stream",
       "stream": "stdout",
       "text": [
        "Populating the interactive namespace from numpy and matplotlib\n",
        "[15, 10, 13, 13, 13, 13, 12, 12, 10, 9, 9, 11, 9, 8, 9, 11, 10, 10, 9, 11, 11, 9, 11, 13, 10, 8, 10, 10, 12, 11, 12, 10, 10, 12, 10, 10, 10, 8, 9, 8, 9, 8, 8, 8, 9, 10, 8, 9, 9, 10, 9, 10, 8, 8, 9, 9, 10, 10, 8, 9, 10, 9, 8, 9, 10, 11, 9, 10, 10, 12, 11, 9, 12, 11, 11, 12, 11, 12, 10, 11, 8, 8, 7, 8, 6, 6, 6, 7, 8, 6, 9, 8, 8, 8, 10, 8, 5, 5, 4, 5, 4, 4, 3, 5, 6, 6, 4, 5, 5, 7, 6, 3, 3, 3, 6, 8, 6, 5, 6, 6, 6, 4, 7, 5, 7, 5, 6, 6, 7, 6, 6, 8, 6, 6, 7, 7, 6, 6, 4, 4, 7, 7, 7, 7, 7, 7, 7, 6, 7, 7, 5, 7, 6, 8, 7, 4, 4, 4, 3, 4, 4, 5, 4, 5, 5, 5, 5, 5, 4, 4, 6, 5, 5, 4, 4, 6, 7, 5, 4, 3, 3, 3, 2, 3, 2, 2, 4, 5, 4, 4, 3, 5, 3, 3, 4, 3, 3, 3, 3, 3]"
       ]
      },
      {
       "output_type": "stream",
       "stream": "stdout",
       "text": [
        "\n"
       ]
      }
     ],
     "prompt_number": 31
    },
    {
     "cell_type": "code",
     "collapsed": false,
     "input": [
      "pic_list = []\n",
      "for beads in beads_list:\n",
      "    com_list = []\n",
      "    for blob in beads:\n",
      "        com_list.append(blob.centerofmass())\n",
      "    pic_list.append(com_list)    \n",
      "\n"
     ],
     "language": "python",
     "metadata": {},
     "outputs": [],
     "prompt_number": 37
    },
    {
     "cell_type": "code",
     "collapsed": false,
     "input": [
      "from PIL import Image\n",
      "pic = Image.open('run7/frame00001.jpg')\n",
      "count = countBeads(pic, 180, 25)\n",
      "pic = Image.open('run7/frame00001.jpg')\n",
      "beads = getBeads(pic, 180, 25)\n",
      "\n",
      "print count\n",
      "print beads\n",
      "                 "
     ],
     "language": "python",
     "metadata": {},
     "outputs": [
      {
       "output_type": "stream",
       "stream": "stdout",
       "text": [
        "10\n",
        "[<__main__.Blob object at 0x1060251d0>, <__main__.Blob object at 0x106025310>, <__main__.Blob object at 0x106025250>, <__main__.Blob object at 0x1060252d0>, <__main__.Blob object at 0x106025350>, <__main__.Blob object at 0x106025410>, <__main__.Blob object at 0x106025490>, <__main__.Blob object at 0x106025550>, <__main__.Blob object at 0x1060255d0>, <__main__.Blob object at 0x106025610>]\n"
       ]
      }
     ],
     "prompt_number": 24
    },
    {
     "cell_type": "code",
     "collapsed": false,
     "input": [
      "b = Blob()\n",
      "b.add(1,5)\n",
      "b.add(1,6)\n",
      "b.add(2,7)\n",
      "b.add(2,8)\n",
      "print b.mass()\n",
      "b.centerofmass()"
     ],
     "language": "python",
     "metadata": {},
     "outputs": []
    },
    {
     "cell_type": "code",
     "collapsed": false,
     "input": [],
     "language": "python",
     "metadata": {},
     "outputs": []
    }
   ],
   "metadata": {}
  }
 ]
}