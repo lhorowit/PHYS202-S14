{
 "metadata": {
  "name": "",
  "signature": "sha256:0fd9919a48ae239e5113706d85acb8783e7fee7bfa551773b72c4061e9946ff7"
 },
 "nbformat": 3,
 "nbformat_minor": 0,
 "worksheets": [
  {
   "cells": [
    {
     "cell_type": "heading",
     "level": 6,
     "metadata": {},
     "source": [
      "Luke Horowitz    |    Physics 202    |    Cal Poly Spring 2014"
     ]
    },
    {
     "cell_type": "heading",
     "level": 1,
     "metadata": {},
     "source": [
      "Particle identification"
     ]
    },
    {
     "cell_type": "code",
     "collapsed": false,
     "input": [
      "BLACK = (0,0,0)\n",
      "WHITE = (255, 255, 255)\n",
      "RED = (255, 0, 0)\n",
      "\n",
      "class Blob(object): # Setting up the 'Blob'\n",
      "    \n",
      "    def __init__(self):\n",
      "        '''Initializes the 'Blob' with an empty array of pixels'''\n",
      "        self.pixels = []   \n",
      "        \n",
      "    def add(self,i,j):\n",
      "        '''adds pixel at (i,j) to the Blob'''\n",
      "        self.pixels.append((i,j)) \n",
      "        \n",
      "    def mass(self):\n",
      "        '''returns the number of pixels in the Blob'''\n",
      "        return len(self.pixels) \n",
      "        \n",
      "    def centerofmass(self):\n",
      "        '''returns the average coordinates in a list'''\n",
      "        sumX = 0.0\n",
      "        sumY = 0.0\n",
      "        for pixel in self.pixels:\n",
      "            sumX += pixel[0]\n",
      "            sumY += pixel[1]\n",
      "        avg = ['%.4f' %(sumX/self.mass()), '%.4f' %(sumY/self.mass())]\n",
      "        return avg\n",
      "            \n",
      "        \n",
      "    def distanceTo(self, blob):\n",
      "        '''returns the center to center distance from this Blob to a different Blob'''\n",
      "        D = ((float(self.centerofmass()[0]) - float(blob.centerofmass()[0]))**2 + (float(self.centerofmass()[1]) - float(blob.centerofmass()[1]))**2)**.5\n",
      "        return round(D, 4)\n",
      "    \n",
      "    \n",
      "def monochrome(picture, tau):\n",
      "    '''Cuts the image, all pixels under a luminsesence value tau turned BLACK, everything else turned WHITE'''\n",
      "    black = (0, 0, 0)\n",
      "    white = (255,255,255)\n",
      "    xsize, ysize = picture.size\n",
      "    temp = picture.load()\n",
      "    for x in range(xsize):\n",
      "        for y in range(ysize):\n",
      "            r,g,b = temp[x,y]\n",
      "            if (r+g+b)/3 >= tau:\n",
      "                temp[x,y] = white\n",
      "            else:\n",
      "                temp[x,y] = black\n",
      "                \n",
      "                \n",
      "def monochrome1(picture, tau):\n",
      "    '''Cuts the image, all pixels under a luminsesence value tau turned BLACK, everything else turned WHITE'''\n",
      "    black = (0, 0, 0)\n",
      "    white = (255,255,255)\n",
      "    xsize, ysize = picture.size\n",
      "    temp = picture.load()\n",
      "    for x in range(xsize):\n",
      "        for y in range(ysize):\n",
      "            r,g,b = temp[x,y]\n",
      "            if (r+g+b)/3 <= tau:\n",
      "                temp[x,y] = white\n",
      "            else:\n",
      "                temp[x,y] = black\n",
      "                                \n",
      "                \n",
      "def Fill(picture, xstart, ystart, xsize, ysize):\n",
      "    '''fills all Blobs connected to a starting Blob RED'''\n",
      "    queue = [(xstart, ystart)]\n",
      "    blob = Blob()\n",
      "    blob.add(xstart,ystart)\n",
      "    while queue:\n",
      "        x,y,queue = queue[0][0], queue[0][1], queue[1:]\n",
      "        temp = picture.load()\n",
      "        if temp[x,y] == WHITE:\n",
      "            blob.add(x,y)\n",
      "            temp[x,y] = RED\n",
      "            if x > 0:\n",
      "                queue.append((x-1,y))\n",
      "            if x < (xsize-1):\n",
      "                queue.append((x+1,y))\n",
      "            if y > 0:\n",
      "                queue.append((x, y-1))\n",
      "            if y < (ysize-1):\n",
      "                queue.append((x, y+1))    \n",
      "    return blob                \n",
      "                \n",
      "def Fill_1(picture, xstart, ystart, xsize, ysize):\n",
      "    '''fills all Blobs connected to a starting Blob RED'''\n",
      "    queue = [(xstart, ystart)]\n",
      "    blob = Blob()\n",
      "    blob.add(xstart,ystart)\n",
      "    while queue:\n",
      "        x,y,queue = queue[0][0], queue[0][1], queue[1:]\n",
      "        temp = picture.load()\n",
      "        if temp[x,y] == WHITE:\n",
      "            blob.add(x,y)\n",
      "            temp[x,y] = RED\n",
      "            if x > 0:\n",
      "                queue.append((x-1,y))\n",
      "            if x < (xsize-1):\n",
      "                queue.append((x+1,y))\n",
      "            if y > 0:\n",
      "                queue.append((x, y-1))\n",
      "            if y < (ysize-1):\n",
      "                queue.append((x, y+1))    \n",
      "    return blob    \n",
      "    \n",
      "    \n",
      "def BlobFinder(picture, tau):\n",
      "    '''Cuts image and counts blobs, turning them RED as it counts as to not double-count. Returns a list of Blobs'''\n",
      "    monochrome(picture, tau)\n",
      "    xsize, ysize = picture.size\n",
      "    temp = picture.load()\n",
      "    blobs = []\n",
      "    for x in range(xsize):\n",
      "        for y in range(ysize):\n",
      "            if temp[x,y] == WHITE:\n",
      "                blob = Fill(picture, x, y, xsize, ysize)\n",
      "                blobs.append(blob)        \n",
      "    return blobs\n",
      "\n",
      "def BlobFinder1(picture, tau):\n",
      "    '''Cuts image and counts blobs, turning them RED as it counts as to not double-count. Returns a list of Blobs'''\n",
      "    monochrome1(picture, tau)\n",
      "    xsize, ysize = picture.size\n",
      "    temp = picture.load()\n",
      "    blobs = []\n",
      "    for x in range(xsize):\n",
      "        for y in range(ysize):\n",
      "            if temp[x,y] == WHITE:\n",
      "                blob = Fill(picture, x, y, xsize, ysize)\n",
      "                blobs.append(blob)        \n",
      "    return blobs\n",
      "                \n",
      "                \n",
      "def countBeads(picture, tau,  P):\n",
      "    '''Counts the number of Beads in a picture above a luminescense value tau and containing at least P pixels.'''\n",
      "    result = 0\n",
      "    blobs = BlobFinder1(picture, tau)\n",
      "    for blob in blobs:\n",
      "        if blob.mass() >= P:\n",
      "            result += 1\n",
      "    return result\n",
      "\n",
      "def getBeads(picture, tau,  P):\n",
      "    '''Adds the Beads in a picture above a luminescense value tau and containing at least P pixels to a list and Returns the list.'''\n",
      "    beads = []\n",
      "    blobs = BlobFinder1(picture, tau)\n",
      "    for blob in blobs:\n",
      "        if blob.mass() >= P:\n",
      "            beads.append(blob)\n",
      "    return beads"
     ],
     "language": "python",
     "metadata": {},
     "outputs": [],
     "prompt_number": 2
    },
    {
     "cell_type": "code",
     "collapsed": false,
     "input": [
      "# Testing my functions. Each needs a new picture.\n",
      "\n",
      "from PIL import Image\n",
      "pic = Image.open('Horowitz/Horowitz_T0005.jpg')\n",
      "#pic.show()\n",
      "count = countBeads(pic, 186., 1)\n",
      "pic.show()\n",
      "pic = Image.open('Horowitz/Horowitz_T0005.jpg')\n",
      "beads = getBeads(pic, 186., 1)\n",
      "pic.show()\n",
      "print count\n",
      "\n",
      "                 "
     ],
     "language": "python",
     "metadata": {},
     "outputs": [
      {
       "ename": "TypeError",
       "evalue": "'int' object is not iterable",
       "output_type": "pyerr",
       "traceback": [
        "\u001b[0;31m---------------------------------------------------------------------------\u001b[0m\n\u001b[0;31mTypeError\u001b[0m                                 Traceback (most recent call last)",
        "\u001b[0;32m<ipython-input-89-01ea88cca1bb>\u001b[0m in \u001b[0;36m<module>\u001b[0;34m()\u001b[0m\n\u001b[1;32m      4\u001b[0m \u001b[0mpic\u001b[0m \u001b[0;34m=\u001b[0m \u001b[0mImage\u001b[0m\u001b[0;34m.\u001b[0m\u001b[0mopen\u001b[0m\u001b[0;34m(\u001b[0m\u001b[0;34m'Horowitz/Horowitz_T0005.jpg'\u001b[0m\u001b[0;34m)\u001b[0m\u001b[0;34m\u001b[0m\u001b[0m\n\u001b[1;32m      5\u001b[0m \u001b[0;31m#pic.show()\u001b[0m\u001b[0;34m\u001b[0m\u001b[0;34m\u001b[0m\u001b[0m\n\u001b[0;32m----> 6\u001b[0;31m \u001b[0mcount\u001b[0m \u001b[0;34m=\u001b[0m \u001b[0mcountBeads\u001b[0m\u001b[0;34m(\u001b[0m\u001b[0mpic\u001b[0m\u001b[0;34m,\u001b[0m \u001b[0;36m186.\u001b[0m\u001b[0;34m,\u001b[0m \u001b[0;36m1\u001b[0m\u001b[0;34m)\u001b[0m\u001b[0;34m\u001b[0m\u001b[0m\n\u001b[0m\u001b[1;32m      7\u001b[0m \u001b[0mpic\u001b[0m\u001b[0;34m.\u001b[0m\u001b[0mshow\u001b[0m\u001b[0;34m(\u001b[0m\u001b[0;34m)\u001b[0m\u001b[0;34m\u001b[0m\u001b[0m\n\u001b[1;32m      8\u001b[0m \u001b[0mpic\u001b[0m \u001b[0;34m=\u001b[0m \u001b[0mImage\u001b[0m\u001b[0;34m.\u001b[0m\u001b[0mopen\u001b[0m\u001b[0;34m(\u001b[0m\u001b[0;34m'Horowitz/Horowitz_T0005.jpg'\u001b[0m\u001b[0;34m)\u001b[0m\u001b[0;34m\u001b[0m\u001b[0m\n",
        "\u001b[0;32m<ipython-input-2-7c2340fe30e0>\u001b[0m in \u001b[0;36mcountBeads\u001b[0;34m(picture, tau, P)\u001b[0m\n\u001b[1;32m    137\u001b[0m     \u001b[0;34m'''Counts the number of Beads in a picture above a luminescense value tau and containing at least P pixels.'''\u001b[0m\u001b[0;34m\u001b[0m\u001b[0m\n\u001b[1;32m    138\u001b[0m     \u001b[0mresult\u001b[0m \u001b[0;34m=\u001b[0m \u001b[0;36m0\u001b[0m\u001b[0;34m\u001b[0m\u001b[0m\n\u001b[0;32m--> 139\u001b[0;31m     \u001b[0mblobs\u001b[0m \u001b[0;34m=\u001b[0m \u001b[0mBlobFinder1\u001b[0m\u001b[0;34m(\u001b[0m\u001b[0mpicture\u001b[0m\u001b[0;34m,\u001b[0m \u001b[0mtau\u001b[0m\u001b[0;34m)\u001b[0m\u001b[0;34m\u001b[0m\u001b[0m\n\u001b[0m\u001b[1;32m    140\u001b[0m     \u001b[0;32mfor\u001b[0m \u001b[0mblob\u001b[0m \u001b[0;32min\u001b[0m \u001b[0mblobs\u001b[0m\u001b[0;34m:\u001b[0m\u001b[0;34m\u001b[0m\u001b[0m\n\u001b[1;32m    141\u001b[0m         \u001b[0;32mif\u001b[0m \u001b[0mblob\u001b[0m\u001b[0;34m.\u001b[0m\u001b[0mmass\u001b[0m\u001b[0;34m(\u001b[0m\u001b[0;34m)\u001b[0m \u001b[0;34m>=\u001b[0m \u001b[0mP\u001b[0m\u001b[0;34m:\u001b[0m\u001b[0;34m\u001b[0m\u001b[0m\n",
        "\u001b[0;32m<ipython-input-2-7c2340fe30e0>\u001b[0m in \u001b[0;36mBlobFinder1\u001b[0;34m(picture, tau)\u001b[0m\n\u001b[1;32m    122\u001b[0m \u001b[0;32mdef\u001b[0m \u001b[0mBlobFinder1\u001b[0m\u001b[0;34m(\u001b[0m\u001b[0mpicture\u001b[0m\u001b[0;34m,\u001b[0m \u001b[0mtau\u001b[0m\u001b[0;34m)\u001b[0m\u001b[0;34m:\u001b[0m\u001b[0;34m\u001b[0m\u001b[0m\n\u001b[1;32m    123\u001b[0m     \u001b[0;34m'''Cuts image and counts blobs, turning them RED as it counts as to not double-count. Returns a list of Blobs'''\u001b[0m\u001b[0;34m\u001b[0m\u001b[0m\n\u001b[0;32m--> 124\u001b[0;31m     \u001b[0mmonochrome1\u001b[0m\u001b[0;34m(\u001b[0m\u001b[0mpicture\u001b[0m\u001b[0;34m,\u001b[0m \u001b[0mtau\u001b[0m\u001b[0;34m)\u001b[0m\u001b[0;34m\u001b[0m\u001b[0m\n\u001b[0m\u001b[1;32m    125\u001b[0m     \u001b[0mxsize\u001b[0m\u001b[0;34m,\u001b[0m \u001b[0mysize\u001b[0m \u001b[0;34m=\u001b[0m \u001b[0mpicture\u001b[0m\u001b[0;34m.\u001b[0m\u001b[0msize\u001b[0m\u001b[0;34m\u001b[0m\u001b[0m\n\u001b[1;32m    126\u001b[0m     \u001b[0mtemp\u001b[0m \u001b[0;34m=\u001b[0m \u001b[0mpicture\u001b[0m\u001b[0;34m.\u001b[0m\u001b[0mload\u001b[0m\u001b[0;34m(\u001b[0m\u001b[0;34m)\u001b[0m\u001b[0;34m\u001b[0m\u001b[0m\n",
        "\u001b[0;32m<ipython-input-2-7c2340fe30e0>\u001b[0m in \u001b[0;36mmonochrome1\u001b[0;34m(picture, tau)\u001b[0m\n\u001b[1;32m     57\u001b[0m     \u001b[0;32mfor\u001b[0m \u001b[0mx\u001b[0m \u001b[0;32min\u001b[0m \u001b[0mrange\u001b[0m\u001b[0;34m(\u001b[0m\u001b[0mxsize\u001b[0m\u001b[0;34m)\u001b[0m\u001b[0;34m:\u001b[0m\u001b[0;34m\u001b[0m\u001b[0m\n\u001b[1;32m     58\u001b[0m         \u001b[0;32mfor\u001b[0m \u001b[0my\u001b[0m \u001b[0;32min\u001b[0m \u001b[0mrange\u001b[0m\u001b[0;34m(\u001b[0m\u001b[0mysize\u001b[0m\u001b[0;34m)\u001b[0m\u001b[0;34m:\u001b[0m\u001b[0;34m\u001b[0m\u001b[0m\n\u001b[0;32m---> 59\u001b[0;31m             \u001b[0mr\u001b[0m\u001b[0;34m,\u001b[0m\u001b[0mg\u001b[0m\u001b[0;34m,\u001b[0m\u001b[0mb\u001b[0m \u001b[0;34m=\u001b[0m \u001b[0mtemp\u001b[0m\u001b[0;34m[\u001b[0m\u001b[0mx\u001b[0m\u001b[0;34m,\u001b[0m\u001b[0my\u001b[0m\u001b[0;34m]\u001b[0m\u001b[0;34m\u001b[0m\u001b[0m\n\u001b[0m\u001b[1;32m     60\u001b[0m             \u001b[0;32mif\u001b[0m \u001b[0;34m(\u001b[0m\u001b[0mr\u001b[0m\u001b[0;34m+\u001b[0m\u001b[0mg\u001b[0m\u001b[0;34m+\u001b[0m\u001b[0mb\u001b[0m\u001b[0;34m)\u001b[0m\u001b[0;34m/\u001b[0m\u001b[0;36m3\u001b[0m \u001b[0;34m<=\u001b[0m \u001b[0mtau\u001b[0m\u001b[0;34m:\u001b[0m\u001b[0;34m\u001b[0m\u001b[0m\n\u001b[1;32m     61\u001b[0m                 \u001b[0mtemp\u001b[0m\u001b[0;34m[\u001b[0m\u001b[0mx\u001b[0m\u001b[0;34m,\u001b[0m\u001b[0my\u001b[0m\u001b[0;34m]\u001b[0m \u001b[0;34m=\u001b[0m \u001b[0mwhite\u001b[0m\u001b[0;34m\u001b[0m\u001b[0m\n",
        "\u001b[0;31mTypeError\u001b[0m: 'int' object is not iterable"
       ]
      }
     ],
     "prompt_number": 89
    },
    {
     "cell_type": "heading",
     "level": 1,
     "metadata": {},
     "source": [
      "Particle tracking"
     ]
    },
    {
     "cell_type": "code",
     "collapsed": false,
     "input": [
      "# The list of image names for easy access\n",
      "\n",
      "imlist = []\n",
      "\n",
      "for i in xrange(200):\n",
      "    if len(str(i)) == 1:\n",
      "        imlist.append('run7/frame'+'0000'+str(i)+'.jpg')\n",
      "    if len(str(i)) == 2:\n",
      "        imlist.append('run7/frame'+'000'+str(i)+'.jpg')\n",
      "    if len(str(i)) == 3:\n",
      "        imlist.append('run7/frame'+'00'+str(i)+'.jpg')        \n",
      "#print imlist\n",
      "print len(imlist)        \n"
     ],
     "language": "python",
     "metadata": {},
     "outputs": [
      {
       "output_type": "stream",
       "stream": "stdout",
       "text": [
        "200\n"
       ]
      }
     ],
     "prompt_number": 4
    },
    {
     "cell_type": "code",
     "collapsed": false,
     "input": [
      "imlist1 = []\n",
      "\n",
      "for i in [2,3,4,5]:\n",
      "  imlist1.append('Movie_01_T000'+str(i)+'.jpg')\n",
      "print len(imlist1)        \n"
     ],
     "language": "python",
     "metadata": {},
     "outputs": [
      {
       "output_type": "stream",
       "stream": "stdout",
       "text": [
        "4\n"
       ]
      }
     ],
     "prompt_number": 5
    },
    {
     "cell_type": "code",
     "collapsed": false,
     "input": [
      "\n",
      "imlist2 = []\n",
      "\n",
      "for i in xrange(200):\n",
      "    if len(str(i)) == 1:\n",
      "        imlist2.append('Horowitz/Horowitz_T'+'000'+str(i+1)+'.jpg')\n",
      "    if len(str(i)) == 2:\n",
      "        imlist2.append('Horowitz/Horowitz_T'+'00'+str(i+1)+'.jpg')\n",
      "    if len(str(i)) == 3:\n",
      "        imlist2.append('Horowitz/Horowitz_T'+'0'+str(i+1)+'.jpg')       \n",
      "#print imlist2\n",
      "print len(imlist2)        \n",
      "\n"
     ],
     "language": "python",
     "metadata": {},
     "outputs": [
      {
       "output_type": "stream",
       "stream": "stdout",
       "text": [
        "200\n"
       ]
      }
     ],
     "prompt_number": 90
    },
    {
     "cell_type": "code",
     "collapsed": false,
     "input": [
      "\n",
      "%pylab inline\n",
      "def getDistances(P, tau, deltaP, image_list):\n",
      "    '''takes a list of image names and returns the displacements of each bead through time'''\n",
      "    from PIL import Image\n",
      "    Dist_list = []\n",
      "    beads_list = []\n",
      "    for i in xrange(len(image_list)-1):\n",
      "        pic1 = Image.open(image_list[i])\n",
      "        beads1 = getBeads(pic1, tau, P)\n",
      "        pic2 = Image.open(image_list[i+1])\n",
      "        beads2 = getBeads(pic2, tau, P)\n",
      "        \n",
      "        for bead in beads1:\n",
      "            distances = []\n",
      "            for i in xrange(len(beads2)):\n",
      "                distances.append(bead.distanceTo(beads2[i]))\n",
      "            m = min(i for i in distances if i != 0.0)\n",
      "            if m < deltaP:    \n",
      "                Dist_list.append(m)\n",
      "    return Dist_list     \n",
      "   \n",
      "Dist_list1 = getDistances(3, 186., 46, imlist2)    "
     ],
     "language": "python",
     "metadata": {},
     "outputs": [
      {
       "output_type": "stream",
       "stream": "stdout",
       "text": [
        "Populating the interactive namespace from numpy and matplotlib\n"
       ]
      },
      {
       "ename": "TypeError",
       "evalue": "'int' object is not iterable",
       "output_type": "pyerr",
       "traceback": [
        "\u001b[0;31m---------------------------------------------------------------------------\u001b[0m\n\u001b[0;31mTypeError\u001b[0m                                 Traceback (most recent call last)",
        "\u001b[0;32m<ipython-input-83-c34c9245503a>\u001b[0m in \u001b[0;36m<module>\u001b[0;34m()\u001b[0m\n\u001b[1;32m     21\u001b[0m     \u001b[0;32mreturn\u001b[0m \u001b[0mDist_list\u001b[0m\u001b[0;34m\u001b[0m\u001b[0m\n\u001b[1;32m     22\u001b[0m \u001b[0;34m\u001b[0m\u001b[0m\n\u001b[0;32m---> 23\u001b[0;31m \u001b[0mDist_list1\u001b[0m \u001b[0;34m=\u001b[0m \u001b[0mgetDistances\u001b[0m\u001b[0;34m(\u001b[0m\u001b[0;36m3\u001b[0m\u001b[0;34m,\u001b[0m \u001b[0;36m186.\u001b[0m\u001b[0;34m,\u001b[0m \u001b[0;36m46\u001b[0m\u001b[0;34m,\u001b[0m \u001b[0mimlist2\u001b[0m\u001b[0;34m)\u001b[0m\u001b[0;34m\u001b[0m\u001b[0m\n\u001b[0m",
        "\u001b[0;32m<ipython-input-83-c34c9245503a>\u001b[0m in \u001b[0;36mgetDistances\u001b[0;34m(P, tau, deltaP, image_list)\u001b[0m\n\u001b[1;32m      8\u001b[0m     \u001b[0;32mfor\u001b[0m \u001b[0mi\u001b[0m \u001b[0;32min\u001b[0m \u001b[0mxrange\u001b[0m\u001b[0;34m(\u001b[0m\u001b[0mlen\u001b[0m\u001b[0;34m(\u001b[0m\u001b[0mimage_list\u001b[0m\u001b[0;34m)\u001b[0m\u001b[0;34m-\u001b[0m\u001b[0;36m1\u001b[0m\u001b[0;34m)\u001b[0m\u001b[0;34m:\u001b[0m\u001b[0;34m\u001b[0m\u001b[0m\n\u001b[1;32m      9\u001b[0m         \u001b[0mpic1\u001b[0m \u001b[0;34m=\u001b[0m \u001b[0mImage\u001b[0m\u001b[0;34m.\u001b[0m\u001b[0mopen\u001b[0m\u001b[0;34m(\u001b[0m\u001b[0mimage_list\u001b[0m\u001b[0;34m[\u001b[0m\u001b[0mi\u001b[0m\u001b[0;34m]\u001b[0m\u001b[0;34m)\u001b[0m\u001b[0;34m\u001b[0m\u001b[0m\n\u001b[0;32m---> 10\u001b[0;31m         \u001b[0mbeads1\u001b[0m \u001b[0;34m=\u001b[0m \u001b[0mgetBeads\u001b[0m\u001b[0;34m(\u001b[0m\u001b[0mpic1\u001b[0m\u001b[0;34m,\u001b[0m \u001b[0mtau\u001b[0m\u001b[0;34m,\u001b[0m \u001b[0mP\u001b[0m\u001b[0;34m)\u001b[0m\u001b[0;34m\u001b[0m\u001b[0m\n\u001b[0m\u001b[1;32m     11\u001b[0m         \u001b[0mpic2\u001b[0m \u001b[0;34m=\u001b[0m \u001b[0mImage\u001b[0m\u001b[0;34m.\u001b[0m\u001b[0mopen\u001b[0m\u001b[0;34m(\u001b[0m\u001b[0mimage_list\u001b[0m\u001b[0;34m[\u001b[0m\u001b[0mi\u001b[0m\u001b[0;34m+\u001b[0m\u001b[0;36m1\u001b[0m\u001b[0;34m]\u001b[0m\u001b[0;34m)\u001b[0m\u001b[0;34m\u001b[0m\u001b[0m\n\u001b[1;32m     12\u001b[0m         \u001b[0mbeads2\u001b[0m \u001b[0;34m=\u001b[0m \u001b[0mgetBeads\u001b[0m\u001b[0;34m(\u001b[0m\u001b[0mpic2\u001b[0m\u001b[0;34m,\u001b[0m \u001b[0mtau\u001b[0m\u001b[0;34m,\u001b[0m \u001b[0mP\u001b[0m\u001b[0;34m)\u001b[0m\u001b[0;34m\u001b[0m\u001b[0m\n",
        "\u001b[0;32m<ipython-input-2-7c2340fe30e0>\u001b[0m in \u001b[0;36mgetBeads\u001b[0;34m(picture, tau, P)\u001b[0m\n\u001b[1;32m    146\u001b[0m     \u001b[0;34m'''Adds the Beads in a picture above a luminescense value tau and containing at least P pixels to a list and Returns the list.'''\u001b[0m\u001b[0;34m\u001b[0m\u001b[0m\n\u001b[1;32m    147\u001b[0m     \u001b[0mbeads\u001b[0m \u001b[0;34m=\u001b[0m \u001b[0;34m[\u001b[0m\u001b[0;34m]\u001b[0m\u001b[0;34m\u001b[0m\u001b[0m\n\u001b[0;32m--> 148\u001b[0;31m     \u001b[0mblobs\u001b[0m \u001b[0;34m=\u001b[0m \u001b[0mBlobFinder1\u001b[0m\u001b[0;34m(\u001b[0m\u001b[0mpicture\u001b[0m\u001b[0;34m,\u001b[0m \u001b[0mtau\u001b[0m\u001b[0;34m)\u001b[0m\u001b[0;34m\u001b[0m\u001b[0m\n\u001b[0m\u001b[1;32m    149\u001b[0m     \u001b[0;32mfor\u001b[0m \u001b[0mblob\u001b[0m \u001b[0;32min\u001b[0m \u001b[0mblobs\u001b[0m\u001b[0;34m:\u001b[0m\u001b[0;34m\u001b[0m\u001b[0m\n\u001b[1;32m    150\u001b[0m         \u001b[0;32mif\u001b[0m \u001b[0mblob\u001b[0m\u001b[0;34m.\u001b[0m\u001b[0mmass\u001b[0m\u001b[0;34m(\u001b[0m\u001b[0;34m)\u001b[0m \u001b[0;34m>=\u001b[0m \u001b[0mP\u001b[0m\u001b[0;34m:\u001b[0m\u001b[0;34m\u001b[0m\u001b[0m\n",
        "\u001b[0;32m<ipython-input-2-7c2340fe30e0>\u001b[0m in \u001b[0;36mBlobFinder1\u001b[0;34m(picture, tau)\u001b[0m\n\u001b[1;32m    122\u001b[0m \u001b[0;32mdef\u001b[0m \u001b[0mBlobFinder1\u001b[0m\u001b[0;34m(\u001b[0m\u001b[0mpicture\u001b[0m\u001b[0;34m,\u001b[0m \u001b[0mtau\u001b[0m\u001b[0;34m)\u001b[0m\u001b[0;34m:\u001b[0m\u001b[0;34m\u001b[0m\u001b[0m\n\u001b[1;32m    123\u001b[0m     \u001b[0;34m'''Cuts image and counts blobs, turning them RED as it counts as to not double-count. Returns a list of Blobs'''\u001b[0m\u001b[0;34m\u001b[0m\u001b[0m\n\u001b[0;32m--> 124\u001b[0;31m     \u001b[0mmonochrome1\u001b[0m\u001b[0;34m(\u001b[0m\u001b[0mpicture\u001b[0m\u001b[0;34m,\u001b[0m \u001b[0mtau\u001b[0m\u001b[0;34m)\u001b[0m\u001b[0;34m\u001b[0m\u001b[0m\n\u001b[0m\u001b[1;32m    125\u001b[0m     \u001b[0mxsize\u001b[0m\u001b[0;34m,\u001b[0m \u001b[0mysize\u001b[0m \u001b[0;34m=\u001b[0m \u001b[0mpicture\u001b[0m\u001b[0;34m.\u001b[0m\u001b[0msize\u001b[0m\u001b[0;34m\u001b[0m\u001b[0m\n\u001b[1;32m    126\u001b[0m     \u001b[0mtemp\u001b[0m \u001b[0;34m=\u001b[0m \u001b[0mpicture\u001b[0m\u001b[0;34m.\u001b[0m\u001b[0mload\u001b[0m\u001b[0;34m(\u001b[0m\u001b[0;34m)\u001b[0m\u001b[0;34m\u001b[0m\u001b[0m\n",
        "\u001b[0;32m<ipython-input-2-7c2340fe30e0>\u001b[0m in \u001b[0;36mmonochrome1\u001b[0;34m(picture, tau)\u001b[0m\n\u001b[1;32m     57\u001b[0m     \u001b[0;32mfor\u001b[0m \u001b[0mx\u001b[0m \u001b[0;32min\u001b[0m \u001b[0mrange\u001b[0m\u001b[0;34m(\u001b[0m\u001b[0mxsize\u001b[0m\u001b[0;34m)\u001b[0m\u001b[0;34m:\u001b[0m\u001b[0;34m\u001b[0m\u001b[0m\n\u001b[1;32m     58\u001b[0m         \u001b[0;32mfor\u001b[0m \u001b[0my\u001b[0m \u001b[0;32min\u001b[0m \u001b[0mrange\u001b[0m\u001b[0;34m(\u001b[0m\u001b[0mysize\u001b[0m\u001b[0;34m)\u001b[0m\u001b[0;34m:\u001b[0m\u001b[0;34m\u001b[0m\u001b[0m\n\u001b[0;32m---> 59\u001b[0;31m             \u001b[0mr\u001b[0m\u001b[0;34m,\u001b[0m\u001b[0mg\u001b[0m\u001b[0;34m,\u001b[0m\u001b[0mb\u001b[0m \u001b[0;34m=\u001b[0m \u001b[0mtemp\u001b[0m\u001b[0;34m[\u001b[0m\u001b[0mx\u001b[0m\u001b[0;34m,\u001b[0m\u001b[0my\u001b[0m\u001b[0;34m]\u001b[0m\u001b[0;34m\u001b[0m\u001b[0m\n\u001b[0m\u001b[1;32m     60\u001b[0m             \u001b[0;32mif\u001b[0m \u001b[0;34m(\u001b[0m\u001b[0mr\u001b[0m\u001b[0;34m+\u001b[0m\u001b[0mg\u001b[0m\u001b[0;34m+\u001b[0m\u001b[0mb\u001b[0m\u001b[0;34m)\u001b[0m\u001b[0;34m/\u001b[0m\u001b[0;36m3\u001b[0m \u001b[0;34m<=\u001b[0m \u001b[0mtau\u001b[0m\u001b[0;34m:\u001b[0m\u001b[0;34m\u001b[0m\u001b[0m\n\u001b[1;32m     61\u001b[0m                 \u001b[0mtemp\u001b[0m\u001b[0;34m[\u001b[0m\u001b[0mx\u001b[0m\u001b[0;34m,\u001b[0m\u001b[0my\u001b[0m\u001b[0;34m]\u001b[0m \u001b[0;34m=\u001b[0m \u001b[0mwhite\u001b[0m\u001b[0;34m\u001b[0m\u001b[0m\n",
        "\u001b[0;31mTypeError\u001b[0m: 'int' object is not iterable"
       ]
      }
     ],
     "prompt_number": 83
    },
    {
     "cell_type": "code",
     "collapsed": false,
     "input": [
      "# looks about right\n",
      "print len(Dist_list1)"
     ],
     "language": "python",
     "metadata": {},
     "outputs": [
      {
       "output_type": "stream",
       "stream": "stdout",
       "text": [
        "64\n"
       ]
      }
     ],
     "prompt_number": 7
    },
    {
     "cell_type": "heading",
     "level": 1,
     "metadata": {},
     "source": [
      "Data analysis"
     ]
    },
    {
     "cell_type": "code",
     "collapsed": false,
     "input": [
      "# Estimating the self-diffusion constant with the Einstein-Smoluchowski equation.\n",
      "\n",
      "top = 0.0\n",
      "\n",
      "for dist in Dist_list1:\n",
      "    top += (dist * .175e-6) ** 2  #make sure to convert pixels to meters\n",
      "    \n",
      "bottom = 2 * len(Dist_list1)  \n",
      "\n",
      "sigma_squared = top / bottom\n",
      "\n",
      "T = 297 # Kelvin\n",
      "n = 9.135e-4 # N*s/m^2\n",
      "p = .5e-6 # meters\n",
      "R = 8.31457 # J/(K*mol)\n",
      "\n",
      "D = 2*sigma_squared*.25\n",
      " \n",
      "# Solve The Stokes-Einstein relation for the Boltzmann constant.   \n",
      "    \n",
      "k = 6 * np.pi * n * p * D / T\n",
      "\n",
      "# Estimating Avogadro's number with the definition of the Boltzmann constant.\n",
      "\n",
      "avagadros_num = R / k\n",
      "avagadros_exact = 6.03e23\n",
      "print \"Avagadro's Number:\", avagadros_num \n",
      "print \"Percent Error:\", abs((avagadros_exact - avagadros_num)/avagadros_exact)*100, '%'"
     ],
     "language": "python",
     "metadata": {},
     "outputs": [
      {
       "output_type": "stream",
       "stream": "stdout",
       "text": [
        "Avagadro's Number: 5.7883239262e+23\n",
        "Percent Error: 4.00789508795 %\n"
       ]
      }
     ],
     "prompt_number": 66
    },
    {
     "cell_type": "code",
     "collapsed": false,
     "input": [],
     "language": "python",
     "metadata": {},
     "outputs": [],
     "prompt_number": 8
    }
   ],
   "metadata": {}
  }
 ]
}