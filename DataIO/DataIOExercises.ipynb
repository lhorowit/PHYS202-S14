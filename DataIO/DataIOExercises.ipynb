{
 "metadata": {
  "name": "",
  "signature": "sha256:6eb70e03a92d3875b8f87db8c0d0fde3f678c05b627d92756accd6fff5432342"
 },
 "nbformat": 3,
 "nbformat_minor": 0,
 "worksheets": [
  {
   "cells": [
    {
     "cell_type": "heading",
     "level": 1,
     "metadata": {},
     "source": [
      "Data I/O Exercises"
     ]
    },
    {
     "cell_type": "code",
     "collapsed": false,
     "input": [
      "%pylab inline\n",
      "import numpy as np\n",
      "import matplotlib.pyplot as plt"
     ],
     "language": "python",
     "metadata": {},
     "outputs": [
      {
       "output_type": "stream",
       "stream": "stdout",
       "text": [
        "Populating the interactive namespace from numpy and matplotlib\n"
       ]
      }
     ],
     "prompt_number": 49
    },
    {
     "cell_type": "code",
     "collapsed": false,
     "input": [
      "# Don't modify this: it simply writes the example file\n",
      "f = open('messy_data.dat', 'w')\n",
      "import random\n",
      "for i in range(100):\n",
      "    for j in range(5):\n",
      "        f.write(' ' * random.randint(0, 6))\n",
      "        f.write('%0*.*g' % (random.randint(8, 12),\n",
      "                            random.randint(5, 10),\n",
      "                            100 * random.random()))\n",
      "        if j != 4:\n",
      "            f.write(',')\n",
      "    f.write('\\n')\n",
      "f.close()"
     ],
     "language": "python",
     "metadata": {},
     "outputs": [],
     "prompt_number": 50
    },
    {
     "cell_type": "code",
     "collapsed": false,
     "input": [
      "# Look at the first four lines of the file:\n",
      "!head -4 messy_data.dat"
     ],
     "language": "python",
     "metadata": {},
     "outputs": [
      {
       "output_type": "stream",
       "stream": "stdout",
       "text": [
        "     74.78925406,  28.267876,    000048.80871,    33.5762571,   046.522494\r\n",
        "      0060.03345,50.13654,    029.401766,35.32163977,   0049.3929428\r\n",
        "     013.37975916,     098.46421,      009.26973127,     0097.6741052, 030.2503\r\n",
        "   0045.6476577, 00063.683,     067.78126611,  98.86249343,    052.15084\r\n"
       ]
      }
     ],
     "prompt_number": 51
    },
    {
     "cell_type": "markdown",
     "metadata": {},
     "source": [
      "(a) Write a program that reads in the contents of \"messy_data.dat\" and extracts the numbers from each line, using the string manipulations we used in section 1 (remember that float() will convert a suitable string to a floating-point number)."
     ]
    },
    {
     "cell_type": "code",
     "collapsed": false,
     "input": [
      "D = open('messy_data.dat')             \n",
      "\n",
      "for lines in D:\n",
      "    \n",
      "    d = lines.split()\n",
      "    for line in d:\n",
      "        \n",
      "        for string in line:\n",
      "            list1 = string.split(\",\")\n",
      "            string2 = \" \".join(list1)\n",
      "            \n",
      "            if string2.isdigit:\n",
      "                print float(string)\n",
      "                \n",
      "                "
     ],
     "language": "python",
     "metadata": {},
     "outputs": [
      {
       "ename": "ValueError",
       "evalue": "could not convert string to float: .",
       "output_type": "pyerr",
       "traceback": [
        "\u001b[0;31m---------------------------------------------------------------------------\u001b[0m\n\u001b[0;31mValueError\u001b[0m                                Traceback (most recent call last)",
        "\u001b[0;32m<ipython-input-52-98fd4a845d5a>\u001b[0m in \u001b[0;36m<module>\u001b[0;34m()\u001b[0m\n\u001b[1;32m     11\u001b[0m \u001b[0;34m\u001b[0m\u001b[0m\n\u001b[1;32m     12\u001b[0m             \u001b[0;32mif\u001b[0m \u001b[0mstring2\u001b[0m\u001b[0;34m.\u001b[0m\u001b[0misdigit\u001b[0m\u001b[0;34m:\u001b[0m\u001b[0;34m\u001b[0m\u001b[0m\n\u001b[0;32m---> 13\u001b[0;31m                 \u001b[0;32mprint\u001b[0m \u001b[0mfloat\u001b[0m\u001b[0;34m(\u001b[0m\u001b[0mstring\u001b[0m\u001b[0;34m)\u001b[0m\u001b[0;34m\u001b[0m\u001b[0m\n\u001b[0m\u001b[1;32m     14\u001b[0m \u001b[0;34m\u001b[0m\u001b[0m\n\u001b[1;32m     15\u001b[0m \u001b[0;34m\u001b[0m\u001b[0m\n",
        "\u001b[0;31mValueError\u001b[0m: could not convert string to float: ."
       ]
      },
      {
       "output_type": "stream",
       "stream": "stdout",
       "text": [
        "7.0\n",
        "4.0\n"
       ]
      }
     ],
     "prompt_number": 52
    },
    {
     "cell_type": "markdown",
     "metadata": {},
     "source": [
      "(b) Next write out a new file named \"clean_data.dat\". The new file should contain the same data as the old file, but with uniform formatting and aligned columns"
     ]
    },
    {
     "cell_type": "code",
     "collapsed": false,
     "input": [
      "contents1 = open('messy_data.dat').read()\n",
      "out1 = open(\"almost1.dat\", \"w\")\n",
      "out1.write(contents1.replace(',', '\\n'))\n",
      "out1.close()\n",
      "contents2 = open('almost1.dat').read()\n",
      "out2 = open(\"almost2.dat\", \"w\")\n",
      "out2.write(contents2.replace(' ', ''))\n",
      "out2.close()\n",
      "contents3 = open('almost2.dat').read()\n",
      "\n",
      "cleandata = []\n",
      "i = 0\n",
      "for lines in contents3:\n",
      "    for line in line.split():\n",
      "        for i in line:\n",
      "            while i[0] == '0':\n",
      "                i = i[1:]    \n",
      "        cleandata.append(i)\n",
      "            if i[0] != '0':\n",
      "                break\n",
      "\n",
      "\n",
      "out3 = open(\"clean_data.dat\", \"w\")\n",
      "out3.write('\\n'.join(cleandata))\n",
      "out3.close()\n",
      "print cleandata\n",
      "!cat clean_data.dat\n",
      "\n",
      "\n"
     ],
     "language": "python",
     "metadata": {},
     "outputs": [
      {
       "ename": "IndentationError",
       "evalue": "unexpected indent (<ipython-input-64-6b7adeacbb48>, line 19)",
       "output_type": "pyerr",
       "traceback": [
        "\u001b[0;36m  File \u001b[0;32m\"<ipython-input-64-6b7adeacbb48>\"\u001b[0;36m, line \u001b[0;32m19\u001b[0m\n\u001b[0;31m    if i[0] != '0':\u001b[0m\n\u001b[0m    ^\u001b[0m\n\u001b[0;31mIndentationError\u001b[0m\u001b[0;31m:\u001b[0m unexpected indent\n"
       ]
      }
     ],
     "prompt_number": 64
    },
    {
     "cell_type": "code",
     "collapsed": false,
     "input": [
      "print float(0000.001) "
     ],
     "language": "python",
     "metadata": {},
     "outputs": []
    },
    {
     "cell_type": "markdown",
     "metadata": {},
     "source": [
      "(c) Now re-do the same task using NumPy's loadtxt and savetxt functions."
     ]
    },
    {
     "cell_type": "code",
     "collapsed": false,
     "input": [
      "contents1 = open('messy_data.dat').read()\n",
      "np.savetxt('messydata.out', contents1)\n"
     ],
     "language": "python",
     "metadata": {},
     "outputs": []
    },
    {
     "cell_type": "code",
     "collapsed": false,
     "input": [],
     "language": "python",
     "metadata": {},
     "outputs": []
    }
   ],
   "metadata": {}
  }
 ]
}