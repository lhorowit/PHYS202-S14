{
 "metadata": {
  "name": "",
  "signature": "sha256:a866231ff2f8ed9d6abcd17646aee9a1f475f93fc3dd72cf18541d8d7217cced"
 },
 "nbformat": 3,
 "nbformat_minor": 0,
 "worksheets": [
  {
   "cells": [
    {
     "cell_type": "code",
     "collapsed": false,
     "input": [
      "c = 3e5 # km/s\n",
      "lam0 = 6577.5 # Angstroms\n",
      "lst = []\n",
      "lam_list = [6578.62, 6579.03, 6579.27, 6579.51, 6579.57, 6579.65, 6579.69,6579.73,6576.38,6575.97,6575.73,6575.49,6575.43,6575.35,6575.31,6575.27]\n",
      "for lam in lam_list:\n",
      "    v = c*(lam - lam0)/lam0\n",
      "    lst.append(v)\n",
      "for i in xrange(len(lst)):\n",
      "    print lst[i]\n"
     ],
     "language": "python",
     "metadata": {},
     "outputs": [
      {
       "output_type": "stream",
       "stream": "stdout",
       "text": [
        "51.0832383124\n",
        "69.7833523375\n",
        "80.7297605473\n",
        "91.6761687571\n",
        "94.4127708096\n",
        "98.0615735462\n",
        "99.8859749145\n",
        "101.710376283\n",
        "-51.0832383124\n",
        "-69.7833523375\n",
        "-80.7297605473\n",
        "-91.6761687571\n",
        "-94.4127708096\n",
        "-98.0615735462\n",
        "-99.8859749145\n",
        "-101.710376283\n"
       ]
      }
     ],
     "prompt_number": 6
    },
    {
     "cell_type": "code",
     "collapsed": false,
     "input": [],
     "language": "python",
     "metadata": {},
     "outputs": []
    }
   ],
   "metadata": {}
  }
 ]
}